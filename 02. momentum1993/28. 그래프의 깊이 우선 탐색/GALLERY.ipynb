{
 "cells": [
  {
   "cell_type": "markdown",
   "metadata": {},
   "source": [
    "GALLERY"
   ]
  },
  {
   "cell_type": "markdown",
   "metadata": {},
   "source": [
    "[algospot의 GALLERY 링크](https://algospot.com/judge/problem/read/GALLERY)"
   ]
  },
  {
   "cell_type": "markdown",
   "metadata": {},
   "source": [
    "전세계의 유명한 인물화들을 모아 두는 미술관에 괴도 콩의 도전장이 날아들었습니다. 2022년 2월 2일을 기념하여, 미술관에 전시된 인물화 중 하나의 얼굴을 모 프로게이머의 얼굴로 합성하겠다는 것입니다. 미술관의 관장을 맡고 있는 재하는 이와 같은 사태를 방지하기 위해 감시 카메라를 설치하기로 마음먹었습니다. 미술관은 여러 개의 갤러리와 이들을 연결하는 복도로 구성되어 있으며, 한 갤러리에 감시 카메라를 설치하면 이 갤러리와, 복도로 직접 연결된 갤러리들을 감시할 수 있습니다. 모든 갤러리를 감시하기 위해 필요한 최소 감시 카메라의 수는 몇 개일까요?  \n",
    "  \n",
    "미술관은 한 번 관람한 갤러리를 다시 가기 위해서는 이전에 지나왔던 복도를 반드시 한 번 지나야 하는 구조로 설계되어 있으며, 모든 갤러리가 서로 연결되어 있지 않을 수도 있습니다.  "
   ]
  },
  {
   "cell_type": "markdown",
   "metadata": {},
   "source": [
    "solution함수의  \n",
    "g : 미술관에 포함된 갤러리의 수  \n",
    "h_list : 갤러리들을 연결하는 간선 리스트  "
   ]
  },
  {
   "cell_type": "code",
   "execution_count": 166,
   "metadata": {},
   "outputs": [],
   "source": [
    "def solution(g, h_list):\n",
    "    answer = 0 # 답\n",
    "    adj = [[0 for _ in range(g)] for _ in range(g)] # 인접행렬\n",
    "    for x, y in h_list: # 인접행렬 초기화 (갤러리 연결 상태 행렬)\n",
    "        adj[x][y] = 1\n",
    "        adj[y][x] = 1\n",
    "    \n",
    "    visited = [False for _ in range(g)] # 아무것도 방문하지 않은 상황으로 초기화\n",
    "    for i in range(g): \n",
    "        stat = [0,0,0] # unwatched, watched, installed \n",
    "        if not visited[i] : # 방문하지 않은 갤러리에 대해서\n",
    "            answer += dfs(i, adj, g, visited, stat) # 깊이우선탐색 후 답\n",
    "        if stat[0] == 1: # 만약 갤러리를 아직 보지 않은 상황이라면\n",
    "            answer += 1 # 증가\n",
    "    return answer\n",
    "\n",
    "def dfs(here, adj, g, visited, stat):\n",
    "    installed = 0 # 설치된 카메라 갯수\n",
    "    visited[here] = True # 현재 갤러리는 방문했음을 체크\n",
    "    \n",
    "    for i in range(g): \n",
    "        if not visited[i] and adj[here][i] == 1: # 만약 방문하지 않았고, 연결되어 있다면 \n",
    "            stat = [0,0,0] # unwatched, watched, installed\n",
    "            installed += dfs(i, adj, g, visited, stat) # 탐색 후 답 증가\n",
    "            \n",
    "    if stat[0] == 1: # 만약 자손 노드 중에 감시 되지 않은 노드의 경우\n",
    "        stat[0] = 0\n",
    "        stat[2] = 1 # installed\n",
    "        installed += 1 # 카메라 설치\n",
    "    elif stat[2] == 1: # 만약 설치된 노드가 있을 경우\n",
    "        stat[2] = 0\n",
    "        stat[1] = 1  # watched\n",
    "    else: # 그외의 상황일 때\n",
    "        stat[1] = 0\n",
    "        stat[0] = 1 # unwatched\n",
    "    return installed\n",
    "        \n",
    "        "
   ]
  },
  {
   "cell_type": "code",
   "execution_count": 167,
   "metadata": {
    "collapsed": true
   },
   "outputs": [],
   "source": [
    "g = 6\n",
    "h_list = [(0, 1),(1, 2),(1, 3),(2, 5),(0, 4)]"
   ]
  },
  {
   "cell_type": "code",
   "execution_count": 168,
   "metadata": {
    "scrolled": true
   },
   "outputs": [
    {
     "data": {
      "text/plain": [
       "3"
      ]
     },
     "execution_count": 168,
     "metadata": {},
     "output_type": "execute_result"
    }
   ],
   "source": [
    "solution(g, h_list)"
   ]
  },
  {
   "cell_type": "code",
   "execution_count": 169,
   "metadata": {
    "collapsed": true
   },
   "outputs": [],
   "source": [
    "g = 4\n",
    "h_list = [(0, 1),(2, 3)]"
   ]
  },
  {
   "cell_type": "code",
   "execution_count": 170,
   "metadata": {
    "scrolled": true
   },
   "outputs": [
    {
     "data": {
      "text/plain": [
       "2"
      ]
     },
     "execution_count": 170,
     "metadata": {},
     "output_type": "execute_result"
    }
   ],
   "source": [
    "solution(g, h_list)"
   ]
  },
  {
   "cell_type": "code",
   "execution_count": 171,
   "metadata": {
    "collapsed": true
   },
   "outputs": [],
   "source": [
    "g = 1000\n",
    "h_list = [(0, 1)]"
   ]
  },
  {
   "cell_type": "code",
   "execution_count": 172,
   "metadata": {
    "scrolled": false
   },
   "outputs": [
    {
     "data": {
      "text/plain": [
       "999"
      ]
     },
     "execution_count": 172,
     "metadata": {},
     "output_type": "execute_result"
    }
   ],
   "source": [
    "solution(g, h_list)"
   ]
  }
 ],
 "metadata": {
  "kernelspec": {
   "display_name": "Python 3",
   "language": "python",
   "name": "python3"
  },
  "language_info": {
   "codemirror_mode": {
    "name": "ipython",
    "version": 3
   },
   "file_extension": ".py",
   "mimetype": "text/x-python",
   "name": "python",
   "nbconvert_exporter": "python",
   "pygments_lexer": "ipython3",
   "version": "3.6.3"
  }
 },
 "nbformat": 4,
 "nbformat_minor": 2
}
