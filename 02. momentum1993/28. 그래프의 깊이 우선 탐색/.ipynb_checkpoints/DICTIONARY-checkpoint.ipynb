{
 "cells": [
  {
   "cell_type": "markdown",
   "metadata": {},
   "source": [
    "DICTIONARY"
   ]
  },
  {
   "cell_type": "markdown",
   "metadata": {},
   "source": [
    "[algospot의 DICTIONARY 링크](https://algospot.com/judge/problem/read/DICTIONARY)"
   ]
  },
  {
   "cell_type": "markdown",
   "metadata": {},
   "source": [
    "아마추어 고고학자인 일리노이 존스는 시카고 근교에서 고대 문명의 흔적을 찾아냈습니다. 그 흔적 중에는 이 언어의 사전도 포함되어 있었는데, 이 사전에 포함된 단어들은 모두 영어의 소문자 알파벳으로 구성되어 있었지만 사전에 포함된 단어의 순서들이 영어와 서로 달랐습니다. 발굴팀은 단어들이 사전 순이 아닌 다른 순서대로 정렬되어 있는지, 아니면 알파벳들의 순서가 영어와 서로 다른 것인지를 알고 싶어합니다.  \n",
    "  \n",
    "일리노이 존스는 이 언어에서는 알파벳들의 순서가 영어와 서로 다를 뿐, 사전의 단어들은 사전 순서대로 배치되어 있다는 가설을 세웠습니다. 이 가설이 사실이라고 가정하고, 단어의 목록으로부터 알파벳의 순서를 찾아내려고 합니다.  \n",
    "  \n",
    "예를 들어 다섯 개의 단어 gg, kia, lotte, lg, hanhwa 가 사전에 순서대로 적혀 있다고 합시다. gg가 kia보다 앞에 오려면 이 언어에서는 g가 k보다 앞에 와야 합니다. 같은 원리로 k는 l앞에, l은 h앞에 와야 한다는 것을 알 수 있지요. lotte 가 lg 보다 앞에 오려면 o가 g 보다 앞에 와야 한다는 것도 알 수 있습니다. 이들을 종합하면 다섯 개의 알파벳 o, g, k, l, h 의 상대적 순서를 알게 됩니다.  \n",
    "  \n",
    "사전에 포함된 단어들의 목록이 순서대로 주어질 때 이 언어에서 알파벳의 순서를 계산하는 프로그램을 작성하세요.  \n",
    "  \n",
    "#### 출력  \n",
    "각 테스트 케이스마다 한 줄을 출력합니다. 만약 알파벳들의 순서에 모순이 있다면 \"INVALID HYPOTHESIS\"를 출력하고, 모순이 없다면 26개의 소문자로 알파벳들의 순서를 출력합니다. 만약 가능한 순서가 여러 개 있다면 아무 것이나 출력해도 좋습니다.    "
   ]
  },
  {
   "cell_type": "markdown",
   "metadata": {},
   "source": [
    "solution함수의  \n",
    "dic : 사전에 포함된 단어들 리스트  \n",
    "here : 순서를 찾아볼 알파벳의 인덱스 \n",
    "seen : 알파벳의 순서 확인 여부 리스트  \n",
    "mat : 인접 행렬  \n",
    "alphabets : 순서가 바뀐 알파벳 이외의 정렬된 영어 알파벳   "
   ]
  },
  {
   "cell_type": "code",
   "execution_count": 1,
   "metadata": {},
   "outputs": [],
   "source": [
    "def solution(dic, here = 0,seen = None, mat = None, alphabets = \"\"):\n",
    "    changed = True # 나중에 순서가 바뀔 경우를 알려줄 플래그\n",
    "    order = \"\" # 순서가 바뀐 알파벳들을 저장할 변수\n",
    "    if seen is None: # 알파벳의 순서 확인 여부 알려주는 리스트 초기화\n",
    "        seen = [0 for _ in range(26)]\n",
    "    if mat is None: \n",
    "        changed = False\n",
    "        mat = [[0 for _ in range(26)] for _ in range(26)] # 알파벳의 순서에 대한 인접 행렬 초기화\n",
    "        for i in range(len(mat)):\n",
    "            alphabets += chr(i+ord(\"a\")) # a ~ z까지의 정렬된 알파벳 문자열\n",
    "        for i in range(len(dic)-1):\n",
    "            for j in range(min(len(dic[i]),len(dic[i+1]))):\n",
    "                if dic[i][j] != dic[i+1][j]: # 만약 앞의 단어와 뒤의 단어에 다른 알파벳이 있을 때\n",
    "                    mat[ord(dic[i][j]) - ord(\"a\")][ord(dic[i+1][j]) - ord(\"a\")] = 1\n",
    "                    # 앞의 단어의 알파벳 다음 순서가 뒤의 단어 알파벳임을 인접행렬에 표시\n",
    "                    here = ord(dic[i][j]) - ord(\"a\") if here == 0 or here == ord(dic[i+1][j]) - ord(\"a\") else here\n",
    "                    # 이렇게 순서를 정해줄 때 가장 앞 순서에 있는 알파벳의 인덱스를 계속 갱신해줌.\n",
    "                    if ord(dic[i][j]) - ord(\"a\") > ord(dic[i+1][j]) - ord(\"a\"):\n",
    "                    # 만약 우리가 알고있는 알파벳 정렬 순서와 달라진다면\n",
    "                        changed = True\n",
    "                    break\n",
    "\n",
    "    seen[here] = 1 # 현재 알파벳에 대해서 순서 확인함을 체크\n",
    "\n",
    "    if changed: # 우리가 알고 있는 알파벳 정렬 순서와 다르다면\n",
    "        for there in range(len(mat)):\n",
    "            if mat[here][there] == 1 and seen[there] == 0:\n",
    "            # 아까 저장한 가장 앞 순서의 알파벳의 다음 순서로 재귀하여 순서를 구한다.\n",
    "                order += solution(dic, there, seen, mat)\n",
    "                break\n",
    "        order = chr(here + ord(\"a\")) + order # 그리고 앞 순서의 알파벳을 기록\n",
    "        if len(alphabets) == 26:\n",
    "            for i in order: # 그리고 바뀐 순서들을 가지는 알파벳에 대해서는\n",
    "                alphabets = alphabets.replace(i, \"\")\n",
    "                # 아까 a-z까지 갖고있는 문자열에서 빼준다.\n",
    "    \n",
    "    for i in range(len(order)-1, 0, -1):\n",
    "        if mat[ord(order[i]) - ord(\"a\")][ord(order[i-1]) - ord(\"a\")] == 1:\n",
    "        # 만약 그래프가 양방향으로 간선이 있다면 유효하지 않기에 밑의 메세지 출력\n",
    "            return \"INVALID HYPOTHESIS\"\n",
    "    return order + alphabets # 새로 정립된 순서의 알파벳 + 그 외의 원래 알파벳들을 출력"
   ]
  },
  {
   "cell_type": "code",
   "execution_count": 2,
   "metadata": {
    "collapsed": true
   },
   "outputs": [],
   "source": [
    "dic = [\"ba\", \"aa\", \"ab\"]"
   ]
  },
  {
   "cell_type": "code",
   "execution_count": 3,
   "metadata": {},
   "outputs": [
    {
     "data": {
      "text/plain": [
       "'INVALID HYPOTHESIS'"
      ]
     },
     "execution_count": 3,
     "metadata": {},
     "output_type": "execute_result"
    }
   ],
   "source": [
    "solution(dic)"
   ]
  },
  {
   "cell_type": "code",
   "execution_count": 4,
   "metadata": {
    "collapsed": true
   },
   "outputs": [],
   "source": [
    "dic = [\"gg\", \"kia\", \"lotte\", \"lg\", \"hanhwa\"]"
   ]
  },
  {
   "cell_type": "code",
   "execution_count": 5,
   "metadata": {},
   "outputs": [
    {
     "data": {
      "text/plain": [
       "'ogklhabcdefijmnpqrstuvwxyz'"
      ]
     },
     "execution_count": 5,
     "metadata": {},
     "output_type": "execute_result"
    }
   ],
   "source": [
    "solution(dic)"
   ]
  },
  {
   "cell_type": "code",
   "execution_count": 6,
   "metadata": {
    "collapsed": true
   },
   "outputs": [],
   "source": [
    "dic = [\"dictionary\", \"english\", \"is\", \"ordered\", \"ordinary\", \"this\"]"
   ]
  },
  {
   "cell_type": "code",
   "execution_count": 7,
   "metadata": {},
   "outputs": [
    {
     "data": {
      "text/plain": [
       "'abcdefghijklmnopqrstuvwxyz'"
      ]
     },
     "execution_count": 7,
     "metadata": {},
     "output_type": "execute_result"
    }
   ],
   "source": [
    "solution(dic)"
   ]
  }
 ],
 "metadata": {
  "kernelspec": {
   "display_name": "Python 3",
   "language": "python",
   "name": "python3"
  },
  "language_info": {
   "codemirror_mode": {
    "name": "ipython",
    "version": 3
   },
   "file_extension": ".py",
   "mimetype": "text/x-python",
   "name": "python",
   "nbconvert_exporter": "python",
   "pygments_lexer": "ipython3",
   "version": "3.6.3"
  }
 },
 "nbformat": 4,
 "nbformat_minor": 2
}
