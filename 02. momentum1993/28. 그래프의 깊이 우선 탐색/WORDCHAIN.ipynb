{
 "cells": [
  {
   "cell_type": "markdown",
   "metadata": {},
   "source": [
    "WORDCHAIN"
   ]
  },
  {
   "cell_type": "markdown",
   "metadata": {},
   "source": [
    "[algospot의 WORDCHAIN 링크](https://algospot.com/judge/problem/read/WORDCHAIN)"
   ]
  },
  {
   "cell_type": "markdown",
   "metadata": {},
   "source": [
    "#### 문제  \n",
    "끝말잇기는 참가자들이 원을 그리고 앉은 뒤, 시계 방향으로 돌아가면서 단어를 말하는 게임입니다. 이 때 각 사람이 말하는 단어의 첫 글자는 이전 사람이 말한 단어의 마지막 글자와 같아야 합니다. 단어 제한 끝말잇기는 일반적인 끝말잇기와 달리 사용할 수 있는 단어의 종류가 게임 시작 전에 미리 정해져 있으며, 한 단어를 두 번 사용할 수 없습니다. 단어 제한 끝말잇기에서 사용할 수 있는 단어들의 목록이 주어질 때, 단어들을 전부 사용하고 게임이 끝날 수 있는지, 그럴 수 있다면 어떤 순서로 단어를 사용해야 하는지를 계산하는 프로그램을 작성하세요.    \n",
    "  \n",
    "#### 출력  \n",
    "각 테스트 케이스마다 한 줄을 출력합니다. 만약 모든 단어를 사용하고 게임이 끝나는 방법이 없다면 \"IMPOSSIBLE\" 을 출력하고 (따옴표 제외), 방법이 있다면 사용할 단어들을 빈 칸 하나씩을 사이에 두고 순서대로 출력합니다. 방법이 여러 개 있다면 그 중 아무 것이나 출력해도 좋습니다.  "
   ]
  },
  {
   "cell_type": "markdown",
   "metadata": {},
   "source": [
    "solution함수의  \n",
    "words : 끝말잇기 단어들 리스트  \n",
    "\n",
    "checkEuler함수의  \n",
    "outdegree : 하나의 vertex에서 나가는 edge들의 갯수를 저장하는 리스트  \n",
    "indegree : 하나의 vertex로 들어오는 edge들의 갯수를 저장하는 리스트  \n",
    "  \n",
    "getEulerCircuit함수의    \n",
    "adj : 인접행렬 이중 리스트  \n",
    "here : 현재 기준으로 삼은 vertex  \n",
    "circuit : 오일러 서킷을 도는 경로  "
   ]
  },
  {
   "cell_type": "code",
   "execution_count": 1,
   "metadata": {
    "collapsed": true
   },
   "outputs": [],
   "source": [
    "def solution(words):\n",
    "    circuit = [] # 오일러 서킷을 저장할 리스트\n",
    "    \n",
    "    adj = [[0 for _ in range(26)] for _ in range(26)] # 연결되어있는 간선들을 표시할 인접행렬\n",
    "    graph = [[[] for _ in range(26)] for _ in range(26)] # 해당 간선에 해당하는 단어 저장\n",
    "    indegree = [0 for _ in range(26)] # 하나의 vertex로 들어오는 edge들의 갯수를 저장하는 리스트\n",
    "    outdegree = [0 for _ in range(26)] # 하나의 vertex에서 나가는 edge들의 갯수를 저장하는 리스트\n",
    "    \n",
    "    for i in range(len(words)): # 모든 단어에 대해서 반복\n",
    "        apb = words[i][-1] # 단어의 끝 알파벳\n",
    "        graph[ord(words[i][0]) - ord('a')][ord(apb) - ord('a')].append(words[i])\n",
    "        # 단어의 첫 알파벳, 끝 알파벳를 지표로 삼은 단어를 저장 한다.\n",
    "        adj[ord(words[i][0]) - ord('a')][ord(apb) - ord('a')] += 1\n",
    "        # 그리고 인접행렬에도 adj[첫알파벳][끝알파벳]에 경로 하나를 추가 해준다.\n",
    "        indegree[ord(apb) - ord('a')] += 1\n",
    "        # 그리고 첫 알파벳에 대해서 들어오는 에지 갯수 추가\n",
    "        outdegree[ord(words[i][0]) - ord('a')] += 1\n",
    "        # 끝 알파벳에 대해서 나가는 에지 갯수 추가\n",
    "    for i in range(26):\n",
    "        if outdegree[i] == indegree[i]+1: # 만약 나가는 에지가 들어가는 에지보다 1이 더 크다면\n",
    "            getEulerCircuit(adj, i, circuit) # 해당 경로로 오일러 서킷 진행\n",
    "            break\n",
    "    \n",
    "    if circuit == []: # 만약 서킷이 비어 있다면\n",
    "        for i in range(26): \n",
    "            if outdegree[i]: # 밖으로 나가는 엣지가 있는 알파벳에 대해서 먼저 서킷 진행\n",
    "                getEulerCircuit(adj, i, circuit)\n",
    "                break\n",
    "    \n",
    "    if len(circuit) != len(words)+1 or not checkEuler(outdegree, indegree):\n",
    "    # 만약 오일러서킷이 완성되지 않거나(모두 순회 안될 경우 이외의 경우는 밑에서 설명)\n",
    "        return \"IMPOSSIBLE\" # IMPOSSIBLE 반환\n",
    "    \n",
    "    answer = \"\" # 답을 저장할 변수\n",
    "    for i in range(len(circuit)-1, 0, -1): # 저장된 서킷을 거꾸로 순회\n",
    "        a, b = circuit[i], circuit[i-1] # 해당 알파벳에 대한 번호를 a,b에 저장\n",
    "        answer += graph[a][b][-1] + \" \" # 그리고 해당하는 단어를 답에 저장 \n",
    "        graph[a][b].pop(-1) # 그리고 저장해놨던 단어를 pop해준다.\n",
    "    return answer # 그리고 답 반환\n",
    "            \n",
    "def checkEuler(outdegree=[], indegree=[]): \n",
    "    plus1, minus1 = 0,0\n",
    "    for i in range(26):\n",
    "        delta = outdegree[i] - indegree[i] # 밖으로 나가는 간선 - 안으로 들어오는 간선\n",
    "        if delta < -1 or delta > 1: # 만약 이 차이가 2 이상이라면 오일러 서킷 성립 X\n",
    "            return False\n",
    "        if delta == 1: plus1 += 1 # 밖으로 나가는 간선이 1개 더 많다면 plus1 1증가\n",
    "        if delta == -1: minus1 += 1 # 안으로 들어오는 간선이 1개 더 많다면 minus1 1증가\n",
    "    return (plus1 == 1 and minus1 == 1) or (plus1 == 0 and minus1 == 0)\n",
    "    # 간선의 갯수가 균형이 맞다면 True 아니라면 False\n",
    "    \n",
    "def getEulerCircuit(adj, here, circuit): \n",
    "    for i in range(len(adj)): # 인접행렬에 대해서\n",
    "        while adj[here][i] > 0: # 해당 경로에서 i로 가는 경로가 있을 때까지\n",
    "            adj[here][i] -= 1 # 해당 경로 갯수 1씩 줄이고,\n",
    "            getEulerCircuit(adj, i, circuit) # 해당 경로로 만들어지는 오일러 서킷 진행\n",
    "    circuit.append(here) # 그리고 해당 경로를 서킷에 추가\n",
    "\n",
    "    \n",
    "            "
   ]
  },
  {
   "cell_type": "code",
   "execution_count": 2,
   "metadata": {
    "collapsed": true
   },
   "outputs": [],
   "source": [
    "words = [\"dog\", \"god\", \"dragon\", \"need\"]"
   ]
  },
  {
   "cell_type": "code",
   "execution_count": 3,
   "metadata": {},
   "outputs": [
    {
     "data": {
      "text/plain": [
       "'dog god dragon need '"
      ]
     },
     "execution_count": 3,
     "metadata": {},
     "output_type": "execute_result"
    }
   ],
   "source": [
    "solution(words)"
   ]
  },
  {
   "cell_type": "code",
   "execution_count": 4,
   "metadata": {
    "collapsed": true
   },
   "outputs": [],
   "source": [
    "words = [\"aa\", \"ab\", \"bb\"]"
   ]
  },
  {
   "cell_type": "code",
   "execution_count": 5,
   "metadata": {},
   "outputs": [
    {
     "data": {
      "text/plain": [
       "'aa ab bb '"
      ]
     },
     "execution_count": 5,
     "metadata": {},
     "output_type": "execute_result"
    }
   ],
   "source": [
    "solution(words)"
   ]
  },
  {
   "cell_type": "code",
   "execution_count": 6,
   "metadata": {
    "collapsed": true
   },
   "outputs": [],
   "source": [
    "words = [\"ab\", \"cd\"]"
   ]
  },
  {
   "cell_type": "code",
   "execution_count": 7,
   "metadata": {},
   "outputs": [
    {
     "data": {
      "text/plain": [
       "'IMPOSSIBLE'"
      ]
     },
     "execution_count": 7,
     "metadata": {},
     "output_type": "execute_result"
    }
   ],
   "source": [
    "solution(words)"
   ]
  }
 ],
 "metadata": {
  "kernelspec": {
   "display_name": "Python 3",
   "language": "python",
   "name": "python3"
  },
  "language_info": {
   "codemirror_mode": {
    "name": "ipython",
    "version": 3
   },
   "file_extension": ".py",
   "mimetype": "text/x-python",
   "name": "python",
   "nbconvert_exporter": "python",
   "pygments_lexer": "ipython3",
   "version": "3.6.3"
  }
 },
 "nbformat": 4,
 "nbformat_minor": 2
}
