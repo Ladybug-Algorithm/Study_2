{
 "cells": [
  {
   "cell_type": "markdown",
   "metadata": {},
   "source": [
    "HABIT"
   ]
  },
  {
   "cell_type": "markdown",
   "metadata": {},
   "source": [
    "[algospot의 HABIT 링크](https://algospot.com/judge/problem/read/HABIT)  \n",
    "  \n",
    "### 문제  \n",
    "대중 앞에서 연설이나 강의를 하는 사람들은 말 중간중간에 습관적으로 들어가는 말버릇들을 없애기 위해 많은 노력을 합니다. 강의를 하는 사람이 한 마디 할 때마다 \"음\\~\" 혹은 \"그래서요\\~\" 같은 말을 반복하면 잘 신뢰가 가지 않기 때문이지요.  \n",
    "  \n",
    "다음 학기에 처음으로 학부 강의를 맡게 된 정박사는 자신의 버릇을 고치기 위해 알고스팟 웅변 학원에 찾아왔습니다. 알고스팟 웅변 학원에서는 수강생들이 과거에 한 발표 자료들을 자동화된 프로그램으로 분석해 고쳐야 할 말버릇들을 정확히 짚어냅니다.  \n",
    "  \n",
    "정박사가 지금까지 했던 발표들과 강의들에서 했던 말을 모두 음성 인식을 통해 대본으로 만들었습니다. 이 때 대본 중 K 번 이상 등장하는 부분 문자열을 \"말버릇\" 이라고 합시다. 우선 가장 티가 많이 나는 것부터 고치기 위해 가장 긴 말버릇을 찾으려 합니다.  \n",
    "  \n",
    "대본이 주어질 때 가장 긴 말버릇의 길이를 찾는 프로그램을 작성하세요.  \n",
    "  \n",
    "### 출력  \n",
    "K 번 이상 등장하는 부분 문자열의 최대 길이를 출력합니다. 어떤 부분 문자열도 K 번 이상 등장하지 않는다면 0 을 출력합니다.  \n",
    "  "
   ]
  },
  {
   "cell_type": "markdown",
   "metadata": {},
   "source": [
    "solution의  \n",
    "s : (알파벳 소문자로만 구성된) 문자열 $(1 \\leq s \\leq 10)$  \n",
    "  \n",
    "  "
   ]
  },
  {
   "cell_type": "code",
   "execution_count": 1,
   "metadata": {},
   "outputs": [],
   "source": [
    "from collections import Counter\n",
    "\n",
    "def solution(k, string):\n",
    "    dic = {}\n",
    "    for i in range(len(string), 0, -1): # 부분문자열의 크기\n",
    "        for j in range(len(string)-i+1): # 부분문자열이 시작하는 문자의 인덱스\n",
    "            val = dic.get(string[j:j+i], 0)\n",
    "            # 해당 부분 문자열을 이미 탐색 중이라면 이미 나온 횟수 반환\n",
    "            # 처음 탐색하는 부분 문자열이라면 0 반환\n",
    "            dic[string[j:j+i]] = val+1\n",
    "            # 해당 부분 문자열 등장횟수 1 증가\n",
    "    \n",
    "            if val+1 == k: # 만약 k번 등장할 경우\n",
    "                return i # 해당 부분 문자열의 길이 반환\n",
    "    return 0 # 만약 k번 이상 등장하는 부분 문자열이 없다면 0 반환\n",
    "\n",
    "# 위의 방법 외에도\n",
    "# 접미사 배열을 만들어내는 '맨버-마이어스의 알고리즘'을 참고할 수 있도록"
   ]
  },
  {
   "cell_type": "code",
   "execution_count": 2,
   "metadata": {},
   "outputs": [],
   "source": [
    "k = 2 \n",
    "string = 'uhmhellouhmmynameislibe'"
   ]
  },
  {
   "cell_type": "code",
   "execution_count": 3,
   "metadata": {},
   "outputs": [
    {
     "data": {
      "text/plain": [
       "3"
      ]
     },
     "execution_count": 3,
     "metadata": {},
     "output_type": "execute_result"
    }
   ],
   "source": [
    "solution(k, string)"
   ]
  },
  {
   "cell_type": "code",
   "execution_count": 4,
   "metadata": {},
   "outputs": [],
   "source": [
    "k = 3\n",
    "string = 'banana'"
   ]
  },
  {
   "cell_type": "code",
   "execution_count": 5,
   "metadata": {},
   "outputs": [
    {
     "data": {
      "text/plain": [
       "1"
      ]
     },
     "execution_count": 5,
     "metadata": {},
     "output_type": "execute_result"
    }
   ],
   "source": [
    "solution(k, string)"
   ]
  },
  {
   "cell_type": "code",
   "execution_count": 6,
   "metadata": {},
   "outputs": [],
   "source": [
    "k = 1 \n",
    "string = 'thatsagoodquestion' "
   ]
  },
  {
   "cell_type": "code",
   "execution_count": 7,
   "metadata": {},
   "outputs": [
    {
     "data": {
      "text/plain": [
       "18"
      ]
     },
     "execution_count": 7,
     "metadata": {},
     "output_type": "execute_result"
    }
   ],
   "source": [
    "solution(k, string)"
   ]
  },
  {
   "cell_type": "code",
   "execution_count": 8,
   "metadata": {},
   "outputs": [],
   "source": [
    "k = 3\n",
    "string = 'hello'"
   ]
  },
  {
   "cell_type": "code",
   "execution_count": 9,
   "metadata": {},
   "outputs": [
    {
     "data": {
      "text/plain": [
       "0"
      ]
     },
     "execution_count": 9,
     "metadata": {},
     "output_type": "execute_result"
    }
   ],
   "source": [
    "solution(k, string)"
   ]
  }
 ],
 "metadata": {
  "kernelspec": {
   "display_name": "Python 3",
   "language": "python",
   "name": "python3"
  },
  "language_info": {
   "codemirror_mode": {
    "name": "ipython",
    "version": 3
   },
   "file_extension": ".py",
   "mimetype": "text/x-python",
   "name": "python",
   "nbconvert_exporter": "python",
   "pygments_lexer": "ipython3",
   "version": "3.6.9"
  }
 },
 "nbformat": 4,
 "nbformat_minor": 2
}
