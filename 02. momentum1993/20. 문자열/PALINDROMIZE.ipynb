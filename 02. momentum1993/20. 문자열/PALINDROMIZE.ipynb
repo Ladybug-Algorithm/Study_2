{
 "cells": [
  {
   "cell_type": "markdown",
   "metadata": {},
   "source": [
    "PALINDROMIZE"
   ]
  },
  {
   "cell_type": "markdown",
   "metadata": {},
   "source": [
    "[algospot의 PALINDROMIZE 링크](https://algospot.com/judge/problem/read/PALINDROMIZE)  \n",
    "### 문제  \n",
    "앞에서부터 읽었을 때와 뒤로부터 읽었을 때 똑같은 문자열을 팰린드롬(palindrome)이라고 합니다. 예를 들면 “noon”이나 “stats” 같은 단어들이 팰린드롬입니다. 주어진 문자열 S 뒤에 적절히 문자열을 붙여서 S 를 팰린드롬으로 만들려고 합니다. 예를 들어 S = “anon”이면 뒤에 “ona”를 붙여서 “anonona”를 만들 수도 있고, “a”를 붙여서 “anona”를 만들 수도 있지요. 물론 S를 뒤집은 문자열을 S 뒤에 붙이면 항상 팰린드롬이 되므로, 결과 팰린드롬이 가능한 한 짧았으면 합니다.  \n",
    "  \n",
    "S가 주어질 때 S에서 만들 수 있는 가장 짧은 팰린드롬의 길이를 출력하는 프로그램을 작성하세요.    \n",
    "  \n",
    "### 출력  \n",
    "한 줄에 S를 이용해 만들 수 있는 가장 짧은 팰린드롬의 길이를 출력합니다.  "
   ]
  },
  {
   "cell_type": "markdown",
   "metadata": {},
   "source": [
    "solution의  \n",
    "s : (알파벳 소문자로만 구성된) 문자열 $(1 \\leq s \\leq 10)$  \n",
    "  \n",
    "  "
   ]
  },
  {
   "cell_type": "code",
   "execution_count": 19,
   "metadata": {},
   "outputs": [],
   "source": [
    "def getPartialMatchNaive(N):\n",
    "    pi = [0 for _ in range(len(N))] \n",
    "    # pi[i]는 N[:i+1]까지의 문자열의 접두사와 접미사가 같은 부분 문자열의 길이\n",
    "    \n",
    "    for begin in range(1, len(N)):\n",
    "        for i in range(len(N)-begin):\n",
    "            # N[: begin + i]에서의 접두사와 접미사가 같은 문자열에 대해 탐색        \n",
    "            if N[begin+i] != N[i]: break # 문자 하나씩 비교\n",
    "            pi[begin + i] = max(pi[begin+i], i+1)\n",
    "            # 이전 pi값과 중복될 수 있기 때문에 최대값으로 갱신\n",
    "            # 맞을 경우 \n",
    "    return pi\n",
    "\n",
    "def getPartialMatch(N):\n",
    "    pi = [0 for _ in range(len(N))]\n",
    "    # pi[i]는 N[:i+1]까지의 문자열의 접두사와 접미사가 같은 부분 문자열의 길이\n",
    "    begin = 1\n",
    "    matched = 0\n",
    "    \n",
    "    while(begin + matched < len(N)):\n",
    "        if N[begin + matched] == N[matched]: # 만약 비교하는 문자가 동일할 경우\n",
    "            matched += 1 # 접두사와 접미사가 맞는 문자열 길이 1 증가\n",
    "            pi[begin+matched-1] = matched\n",
    "            # N[: begin + i]에서의 접두사와 접미사가 같은 문자열 갱신\n",
    "        else: # 문자가 다를 경우\n",
    "            if matched == 0: # 맞는 문자열이 없을 때\n",
    "                begin += 1 # 탐색 시작 부분을 1만 증가\n",
    "            else: # 맞는 문자열이 있을 때\n",
    "                begin += matched - pi[matched - 1]\n",
    "                # 접미사가 시작하는 부분으로 갱신\n",
    "                matched = pi[matched - 1]\n",
    "                # 그리고 접두사 접미사가 동일한 길이 만큼 matched 갱신\n",
    "    return pi\n",
    "\n",
    "def kmpSearch(H,N): # KMP 알고리즘 (커누스-모리스-프랫)\n",
    "    answer = []\n",
    "    pi = getPartialMatch(N)\n",
    "    # pi[i]는 N[:i+1]까지의 문자열의 접두사와 접미사가 같은 부분 문자열의 길이\n",
    "    begin = 0\n",
    "    matched = 0\n",
    "    \n",
    "    # begin + matched\n",
    "    #  ↓\n",
    "    #string\n",
    "    #  string\n",
    "    # ↑\n",
    "    # matched\n",
    "\n",
    "    while begin < len(H):\n",
    "        if begin + matched < len(H) and H[begin + matched] == N[matched]:\n",
    "        # 현재 비교하는 인덱스가 문자열을 넘어가지 않고, 문자가 동일할 경우 \n",
    "            matched +=1 # matched 증가\n",
    "            if matched + begin == len(N): # 만약 끝까지 탐색했을 때까지 match되었다면\n",
    "                answer.append(begin)\n",
    "                # 문자열에서 접두사와 접미사가 같은 부분만큼 제외하고 저장\n",
    "        else: # 문자가 매칭되지 않을 경우\n",
    "            if matched == 0: # 여태까지 매칭된 부분이 없을 경우\n",
    "                begin += 1 # 비교 인덱스를 1 추가(새로운 비교)\n",
    "            else: # 매칭된 부분이 있다면\n",
    "                begin += matched - pi[matched - 1]\n",
    "                # 매칭된 부분의 문자열에서 다시 매칭된 부분을 빼고 다시 시작\n",
    "                matched = pi[matched - 1] # 매칭이 되는 부분까지 매칭 초기화\n",
    "    return min(answer) \n",
    "# 바로 위의 함수와 동일한 KMP 알고리즘 적용.\n",
    "\n",
    "def solution(s):\n",
    "    answer = len(s) \n",
    "    reversed_s = '' \n",
    "    for i in range(len(s)-1, -1, -1):\n",
    "        reversed_s += s[i]\n",
    "    # 문자열을 뒤에서 뒤집은 문자열\n",
    "    # ex ) string -> gnirts\n",
    "    answer += kmpSearch(s, reversed_s)\n",
    "    # 문자열과 뒤집은 문자열에 대해서 KMP 알고리즘 적용해서 서로 비교한 다음\n",
    "    # 문자열 길이 + (문자열 길이 - palindrome이 적용되는 부분)\n",
    "    return answer\n",
    "        "
   ]
  },
  {
   "cell_type": "code",
   "execution_count": 20,
   "metadata": {},
   "outputs": [],
   "source": [
    "s = 'there'"
   ]
  },
  {
   "cell_type": "code",
   "execution_count": 21,
   "metadata": {},
   "outputs": [
    {
     "data": {
      "text/plain": [
       "7"
      ]
     },
     "execution_count": 21,
     "metadata": {},
     "output_type": "execute_result"
    }
   ],
   "source": [
    "solution(s)"
   ]
  },
  {
   "cell_type": "code",
   "execution_count": 22,
   "metadata": {},
   "outputs": [],
   "source": [
    "s = 'amanaplanacanal'"
   ]
  },
  {
   "cell_type": "code",
   "execution_count": 23,
   "metadata": {},
   "outputs": [
    {
     "data": {
      "text/plain": [
       "21"
      ]
     },
     "execution_count": 23,
     "metadata": {},
     "output_type": "execute_result"
    }
   ],
   "source": [
    "solution(s)"
   ]
  },
  {
   "cell_type": "code",
   "execution_count": 24,
   "metadata": {},
   "outputs": [],
   "source": [
    "s = 'xyz'"
   ]
  },
  {
   "cell_type": "code",
   "execution_count": 25,
   "metadata": {},
   "outputs": [
    {
     "data": {
      "text/plain": [
       "5"
      ]
     },
     "execution_count": 25,
     "metadata": {},
     "output_type": "execute_result"
    }
   ],
   "source": [
    "solution(s)"
   ]
  },
  {
   "cell_type": "code",
   "execution_count": 26,
   "metadata": {},
   "outputs": [],
   "source": [
    "s = 'ana'"
   ]
  },
  {
   "cell_type": "code",
   "execution_count": 27,
   "metadata": {},
   "outputs": [
    {
     "data": {
      "text/plain": [
       "3"
      ]
     },
     "execution_count": 27,
     "metadata": {},
     "output_type": "execute_result"
    }
   ],
   "source": [
    "solution(s)"
   ]
  }
 ],
 "metadata": {
  "kernelspec": {
   "display_name": "Python 3",
   "language": "python",
   "name": "python3"
  },
  "language_info": {
   "codemirror_mode": {
    "name": "ipython",
    "version": 3
   },
   "file_extension": ".py",
   "mimetype": "text/x-python",
   "name": "python",
   "nbconvert_exporter": "python",
   "pygments_lexer": "ipython3",
   "version": "3.6.9"
  }
 },
 "nbformat": 4,
 "nbformat_minor": 2
}
