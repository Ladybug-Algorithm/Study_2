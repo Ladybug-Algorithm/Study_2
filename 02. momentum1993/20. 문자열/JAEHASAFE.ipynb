{
 "cells": [
  {
   "cell_type": "markdown",
   "metadata": {},
   "source": [
    "JAEHASAFE"
   ]
  },
  {
   "cell_type": "markdown",
   "metadata": {},
   "source": [
    "[algospot의 JAEHASAFE 링크](https://algospot.com/judge/problem/read/JAEHASAFE)  \n",
    "### 문제  \n",
    "![](./jaeha_dial.jpg)\n",
    "일곱 살 재하는 이번에 소중한 물건들을 보관하기 위해 어린이용 금고를 샀습니다. 재하의 취향에 맞춰 다이얼의 둘레에는 숫자가 아닌 여러 가지 동물들이 그려져 있습니다. 금고를 열기 위해서는 다이얼을 방향을 번갈아 가며 정해진 위치까지 돌려야 합니다. 위 그림의 예에서 세 다이얼은 각각 다이얼의 현재 상태, 시계 방향으로 돌려서 나와야 하는 상태, 시계 반대 방향으로 나와야 하는 상태를 가리킵니다. 따라서 시계 방향으로 네 칸, 시계 반대 방향으로 여섯 칸을 돌리면 이 금고를 열 수 있습니다.  \n",
    "재하는 아빠를 닮아서 성격이 급합니다. 다이얼의 현재 상태와 금고를 여는 방법이 주어졌을 때, 금고를 열기 위해서는 다이얼을 최소 몇 칸 돌려야 할까요?  \n",
    "  \n",
    "### 출력  \n",
    "다이얼을 최소 몇 칸이나 돌려야 금고를 열 수 있는지를 출력합니다. 금고를 열 수 없는 경우는 존재하지 않습니다.  "
   ]
  },
  {
   "cell_type": "markdown",
   "metadata": {},
   "source": [
    "solution의  \n",
    "states : 맨 위부터 시계방향으로 다이얼의 그림이어떻게 그려져 있는지 상태들을 가지는 리스트  $(1 \\leq len(states[i]) \\leq 10000)$  \n",
    "  \n",
    "주어지는 상태 중에 연속적으로 같은 상태는 없으며, \n",
    "다이얼을 돌려야하는 방향은 시계방향 -> 반시계방향 -> 시계방향 -> 반시계방향 -> ...\n",
    "이렇게 번갈아 가면서 돌린다.  \n",
    "\n",
    "인덱스 0인 상태는 현재 상태이며, 마지막으로 주어진 상태에 도달할 경우 금고가 열린다.  \n",
    "  "
   ]
  },
  {
   "cell_type": "code",
   "execution_count": 19,
   "metadata": {},
   "outputs": [],
   "source": [
    "def getPartialMatch(N):\n",
    "    pi = [0 for _ in range(len(N))]\n",
    "    begin = 1\n",
    "    matched = 0\n",
    "    \n",
    "    while(begin + matched < len(N)):\n",
    "        if N[begin + matched] == N[matched]: # 만약 비교하는 문자가 동일할 경우\n",
    "            matched += 1 # 접두사와 접미사가 맞는 문자열 길이 1 증가\n",
    "            pi[begin+matched-1] = matched\n",
    "            # N[: begin + i]에서의 접두사와 접미사가 같은 문자열 갱신\n",
    "        else: # 문자가 다를 경우\n",
    "            if matched == 0: # 맞는 문자열이 없을 때\n",
    "                begin += 1 # 탐색 시작 부분을 1만 증가\n",
    "            else: # 맞는 문자열이 있을 때\n",
    "                begin += matched - pi[matched - 1]\n",
    "                # 접미사가 시작하는 부분으로 갱신\n",
    "                matched = pi[matched - 1]\n",
    "                # 그리고 접두사 접미사가 동일한 길이 만큼 matched 갱신\n",
    "    return pi\n",
    "\n",
    "def kmpSearch(H,N): # KMP 알고리즘 (커누스-모리스-프랫)\n",
    "    pi = getPartialMatch(N);\n",
    "    begin = 0\n",
    "    matched = 0\n",
    "    \n",
    "    while begin <= len(H) - len(N) :\n",
    "        if matched < len(N) and H[begin + matched] == N[matched]:\n",
    "            matched+=1\n",
    "            if matched == len(N):\n",
    "                return begin\n",
    "        else:\n",
    "            if matched == 0:\n",
    "                begin += 1\n",
    "            else:\n",
    "                begin += matched - pi[matched - 1]\n",
    "                matched = pi[matched - 1]\n",
    "    return -1\n",
    "# 바로 위의 함수와 동일한 KMP 알고리즘 적용.\n",
    "    \n",
    "def shift(H, N): # H를 반시계반향으로 몇칸 돌렸을 경우 N이 되는지 반환\n",
    "    return kmpSearch(H+H, N)\n",
    "\n",
    "# abbab + abbab 와 babab 비교\n",
    "# ab'bab/ab'bab\n",
    "#   'bab ab'\n",
    "\n",
    "    \n",
    "def solution(states):\n",
    "    answer = 0\n",
    "    for i in range(len(states)-1):\n",
    "        if i % 2 == 1: # 홀수번째(1, 3, 5...번째 비교) -> 시계방향\n",
    "            answer += shift(states[i], states[i+1])\n",
    "        else: # 짝수번째(2, 4, 6...번째 비교) -> 반시계방향\n",
    "            answer += shift(states[i+1], states[i])\n",
    "    return answer"
   ]
  },
  {
   "cell_type": "code",
   "execution_count": 20,
   "metadata": {},
   "outputs": [],
   "source": [
    "states = ['abbab','babab','ababb','bbaba']"
   ]
  },
  {
   "cell_type": "code",
   "execution_count": 21,
   "metadata": {},
   "outputs": [
    {
     "data": {
      "text/plain": [
       "6"
      ]
     },
     "execution_count": 21,
     "metadata": {},
     "output_type": "execute_result"
    }
   ],
   "source": [
    "solution(states)"
   ]
  },
  {
   "cell_type": "code",
   "execution_count": 22,
   "metadata": {},
   "outputs": [],
   "source": [
    "states = ['RMDCMRCD', 'MRCDRMDC', 'DCMRCDRM']"
   ]
  },
  {
   "cell_type": "code",
   "execution_count": 23,
   "metadata": {},
   "outputs": [
    {
     "data": {
      "text/plain": [
       "10"
      ]
     },
     "execution_count": 23,
     "metadata": {},
     "output_type": "execute_result"
    }
   ],
   "source": [
    "solution(states)"
   ]
  }
 ],
 "metadata": {
  "kernelspec": {
   "display_name": "Python 3",
   "language": "python",
   "name": "python3"
  },
  "language_info": {
   "codemirror_mode": {
    "name": "ipython",
    "version": 3
   },
   "file_extension": ".py",
   "mimetype": "text/x-python",
   "name": "python",
   "nbconvert_exporter": "python",
   "pygments_lexer": "ipython3",
   "version": "3.6.9"
  }
 },
 "nbformat": 4,
 "nbformat_minor": 2
}
