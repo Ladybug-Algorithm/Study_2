{
 "cells": [
  {
   "cell_type": "markdown",
   "metadata": {},
   "source": [
    "NAMING"
   ]
  },
  {
   "cell_type": "markdown",
   "metadata": {},
   "source": [
    "[algospot의 NAMING 링크](https://algospot.com/judge/problem/read/NAMING)  \n",
    "  \n",
    "### 문제  \n",
    "아주대에 사는 외수는 작명에 능하기로 유명해서 많은 부부들이 아주대로 몰려와서 태어나는 아이들의 이름을 지어달라고 한다. 부부들은 이름은 잘 짓는게 출세에 영향을 미친다고 생각을 하고 있으며, 따라서 좋은 이름을 지어 출세하기를 기원한다. 허나 게으른 외수에게 작명은 지루한 작업이다. 효율적으로 일을 하고자 궁리하던 차에 쉽지만 기가 막힌 알고리즘을 고안하게 되었다.  \n",
    "  \n",
    "외수가 개발한 작명 알고리즘은 다음과 같다.  \n",
    "  \n",
    "아버지의 이름 뒤에 어머니의 이름을 덧붙여서 하나의 새로운 문자열 S로 만든다.  \n",
    "이 문자열 S의 접두사(prefix)도 되고 접미사(suffix)도 되는 문자열을 찾는다.  \n",
    "예를 들어 아버지의 이름이 'ala'고 어머니의 이름이 'la' 일 경우 S = 'ala' + 'la' = alala다. 그리고 이 문자열의 접두사이기도 하고 접미사이기도 한 문자열은 다음 세가지다.  \n",
    "  \n",
    "- a  \n",
    "- ala  \n",
    "- alala  \n",
    "  \n",
    "아버지와 어머니의 이름이 주어질 때, 외수의 규칙을 이용해 지어줄 수 있는 이름들을 모두 찾는 프로그램을 작성하라. 문제에서는 편의상 모든 문자열 대신, 가능한 모든 문자열의 길이를 찾는다.  \n",
    "  \n",
    "### 출력  \n",
    "외수가 주어질 수 있는 이름들의 길이들을 한 줄에 출력한다.  \n",
    "출력되는 숫자 사이에는 정확히 공백이 하나 포함되어야 하며, 길이는 오름차순으로 출력되어야 한다.  "
   ]
  },
  {
   "cell_type": "markdown",
   "metadata": {},
   "source": [
    "solution의  \n",
    "f_name : 아버지 이름  \n",
    "m_name : 어머니 이름  \n",
    "$(2 \\leq$ m_name + f_name  $\\leq 400000)$   \n",
    "  "
   ]
  },
  {
   "cell_type": "code",
   "execution_count": 1,
   "metadata": {},
   "outputs": [],
   "source": [
    "def getPartialMatchNaive(N):\n",
    "    pi = [0 for _ in range(len(N))] \n",
    "    # pi[i]는 N[:i+1]까지의 문자열의 접두사와 접미사가 같은 부분 문자열의 길이\n",
    "    \n",
    "    for begin in range(1, len(N)):\n",
    "        for i in range(len(N)-begin):\n",
    "            # N[: begin + i]에서의 접두사와 접미사가 같은 문자열에 대해 탐색        \n",
    "            if N[begin+i] != N[i]: break # 문자 하나씩 비교\n",
    "            pi[begin + i] = max(pi[begin+i], i+1)\n",
    "            # 이전 pi값과 중복될 수 있기 때문에 최대값으로 갱신\n",
    "            # 맞을 경우 \n",
    "    return pi\n",
    "\n",
    "def getPartialMatch(N):\n",
    "    pi = [0 for _ in range(len(N))]\n",
    "    begin = 1\n",
    "    matched = 0\n",
    "    \n",
    "    while(begin + matched < len(N)):\n",
    "        if N[begin + matched] == N[matched]: # 만약 비교하는 문자가 동일할 경우\n",
    "            matched += 1 # 접두사와 접미사가 맞는 문자열 길이 1 증가\n",
    "            pi[begin+matched-1] = matched\n",
    "            # N[: begin + i]에서의 접두사와 접미사가 같은 문자열 갱신\n",
    "        else: # 문자가 다를 경우\n",
    "            if matched == 0: # 맞는 문자열이 없을 때\n",
    "                begin += 1 # 탐색 시작 부분을 1만 증가\n",
    "            else: # 맞는 문자열이 있을 때\n",
    "                begin += matched - pi[matched - 1]\n",
    "                # 접미사가 시작하는 부분으로 갱신\n",
    "                matched = pi[matched - 1]\n",
    "                # 그리고 접두사 접미사가 동일한 길이 만큼 matched 갱신\n",
    "    return pi\n",
    "\n",
    "def kmpSearch(H,N): # KMP 알고리즘 (커누스-모리스-프랫)\n",
    "    answer = []\n",
    "    pi = getPartialMatch(N);\n",
    "    begin = 0\n",
    "    matched = 0\n",
    "    \n",
    "    while begin <= len(H) - len(N) :\n",
    "        if matched < len(N) and H[begin + matched] == N[matched]:\n",
    "            matched+=1\n",
    "            if matched == len(N):\n",
    "                answer.append(begin)\n",
    "        else:\n",
    "            if matched == 0:\n",
    "                begin += 1\n",
    "            else:\n",
    "                begin += matched - pi[matched - 1]\n",
    "                matched = pi[matched - 1]\n",
    "    return answer\n",
    "# 바로 위의 함수와 동일한 KMP 알고리즘 적용.\n",
    "\n",
    "def solution(f_name, m_name):\n",
    "    answer = []\n",
    "    name = f_name + m_name\n",
    "    pi = getPartialMatch(name)\n",
    "    # i번째 문자열을 비교해서 접두사와 접미사가 동일한 최대 문자열의 길이\n",
    "    \n",
    "    answer.append(len(name))\n",
    "    # 문자열 그 자체는 접두사와 접미사 모두 될 수 있다.\n",
    "    \n",
    "    k = len(name) # 이름의 길이\n",
    "    while pi[k-1] > 0:\n",
    "        answer.append(pi[k-1]) \n",
    "        k = pi[k-1]\n",
    "        # 접두사와 접미사가 모두 같은 최대 길이의 문자열에 대해서\n",
    "        # 똑같은 연산을 진행할 경우, 더 작은 길이의 접두사.접미사가 동일한 문자열을 찾을 수 있다.\n",
    "    return sorted(answer) # 오름차순 정렬\n",
    "        "
   ]
  },
  {
   "cell_type": "code",
   "execution_count": 2,
   "metadata": {},
   "outputs": [],
   "source": [
    "f_name = 'ababcabababa'\n",
    "m_name = 'bcabab'"
   ]
  },
  {
   "cell_type": "code",
   "execution_count": 3,
   "metadata": {},
   "outputs": [
    {
     "data": {
      "text/plain": [
       "[2, 4, 9, 18]"
      ]
     },
     "execution_count": 3,
     "metadata": {},
     "output_type": "execute_result"
    }
   ],
   "source": [
    "solution(f_name, m_name)"
   ]
  }
 ],
 "metadata": {
  "kernelspec": {
   "display_name": "Python 3",
   "language": "python",
   "name": "python3"
  },
  "language_info": {
   "codemirror_mode": {
    "name": "ipython",
    "version": 3
   },
   "file_extension": ".py",
   "mimetype": "text/x-python",
   "name": "python",
   "nbconvert_exporter": "python",
   "pygments_lexer": "ipython3",
   "version": "3.6.9"
  }
 },
 "nbformat": 4,
 "nbformat_minor": 2
}
