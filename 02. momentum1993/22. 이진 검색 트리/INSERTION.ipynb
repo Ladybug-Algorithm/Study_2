{
 "cells": [
  {
   "cell_type": "markdown",
   "metadata": {},
   "source": [
    "INSERTION"
   ]
  },
  {
   "cell_type": "markdown",
   "metadata": {},
   "source": [
    "[algospot의 INSERTION 링크](https://algospot.com/judge/problem/read/INSERTION)"
   ]
  },
  {
   "cell_type": "markdown",
   "metadata": {},
   "source": [
    "유명한 정렬 알고리즘인 삽입 정렬은 정렬된 부분 배열을 유지하며 이 배열에 새 원소를 삽입해 나가는 식으로 동작합니다. 주어진 정수 배열 A를 정렬하는 삽입 정렬의 구현은 다음과 같습니다.\n",
    "\n",
    "~~~\n",
    "void insertionSort(vector<int>& A) {  \n",
    "  for(int i = 0; i < A.size(); ++i) {  \n",
    "    // A[0..i-1] 에 A[i] 를 끼워넣는다  \n",
    "    int j = i;  \n",
    "    while(j > 0 && A[j-1] > A[j]) {  \n",
    "      // 불변식 a: A[j+1..i] 의 모든 원소는 A[j] 보다 크다.  \n",
    "      // 불변식 b: A[0..i] 구간은 A[j] 를 제외하면 정렬되어 있다.  \n",
    "      swap(A[j-1], A[j]);  \n",
    "      --j;  \n",
    "    }  \n",
    "  }  \n",
    "} \n",
    "~~~  \n",
    "  \n",
    "삽입 정렬은 A[0..i-1] 이 정렬된 배열일 때, A[i] 를 적절한 위치를 만날 때까지 왼쪽으로 한칸씩 움직입니다. 예를 들어 A={5,1,4,3,2} 의 삽입 정렬은 다음과 같이 이루어집니다.  \n",
    "  \n",
    "|A|비고|\n",
    "|--|:--:|\n",
    "|5 1 4 3 2\t|초기 상태|\n",
    "|1 5 4 3 2\t|1을 왼쪽으로 1칸 옮김|\n",
    "|1 4 5 3 2\t|4를 왼쪽으로 1칸 옮김|\n",
    "|1 3 4 5 2\t|3을 왼쪽으로 2칸 옮김|\n",
    "|1 2 3 4 5\t|2를 왼쪽으로 3칸 옮김|   \n",
    "  \n",
    "1부터 N까지의 자연수가 한 번씩 포함된 길이 N 인 수열 A[] 를 삽입 정렬했습니다. 원래 수열은 알 수 없지만, 그 과정에서 각 원소가 왼쪽으로 몇 칸이나 이동했는지를 알고 있습니다. 예를 들어, 위 예제에서 각 위치에 있는 값들이 움직인 칸수를 표현하면 {0,1,1,2,3} 이 됩니다. 이 때 원래 수열을 찾아내는 프로그램을 작성하세요.    "
   ]
  },
  {
   "cell_type": "markdown",
   "metadata": {},
   "source": [
    "solution함수의  \n",
    "  "
   ]
  },
  {
   "cell_type": "code",
   "execution_count": 175,
   "metadata": {},
   "outputs": [],
   "source": [
    "import random\n",
    "\n",
    "random_box = [i for i in range(1,50001)]\n",
    "\n",
    "class Tree(): # Tree 클래스\n",
    "    value = None # node value\n",
    "    priority = None # 우선순위\n",
    "    left = None # 좌측 자식노드\n",
    "    right = None # 우측 자식노드\n",
    "    size = None # 객체를 루트로 하는 서브트리 사이즈\n",
    "    \n",
    "    def __init__(self, value): # 클래스 생성자\n",
    "        self.value = value\n",
    "        self.priority = random.choice(random_box)\n",
    "        self.size = 1\n",
    "        random_box.remove(self.priority)\n",
    "        \n",
    "    def calcSize(self): # 현재 노드를 포함한 서브트리 사이즈 계산\n",
    "        size = 1\n",
    "        if(self.left): size += self.left.size\n",
    "        if(self.right): size += self.right.size\n",
    "        self.size = size\n",
    "    \n",
    "    def setLeft(self, left): # 왼쪽 자손 설정\n",
    "        self.left = left\n",
    "        self.calcSize()\n",
    "    \n",
    "    def setRight(self, right): # 오른쪽 자손 설정\n",
    "        self.right = right\n",
    "        self.calcSize()\n",
    "    \n",
    "    \n",
    "    \n",
    "def split(root, value):\n",
    "    if root is None: # root가 비었을 때 None 반환\n",
    "        return None, None\n",
    "    if root.value < value: # 만약 root값보다 큰 값을 기준으로 나눈다면\n",
    "        left_tree, right_tree = split(root.right, value) # 루트의 오른쪽 자식노드로 옮겨가며 기준값에 대해 나눌 수 있도록한다.\n",
    "        # 그래서 기준값을 루트로 잡고 왼편 트리, 오른쪽 트리 반환\n",
    "        root.setRight(left_tree) # 루트의 오른쪽 자손에는 루트값 보단 크지만, 기준값보단 작은 값을 가진 subtree를 설정\n",
    "        return root, right_tree # 그리고 root와 기준값보다 큰 값을 가진 subtree 반환\n",
    "    # 만약 root값보다 더 작은 값을 기준으로 나눈다면\n",
    "    left_tree, right_tree = split(root.left, value) # 루트의 왼쪽 자식노드로 옮겨가며 기준값에 대해 나눌 수 있도록 한다.\n",
    "    root.setLeft(right_tree) # 루트의 왼쪽 자손에는 기준값보단 크지만 루트값보다 작은 값들을 지니는 subtree를 설정\n",
    "    return left_tree, root # 그리고 기준값보다 작은 값을 가진 subtree와 root를 반환\n",
    "\n",
    "def insert(root, node):\n",
    "    if root is None: return node # root가 비었을 때 None 반환\n",
    "    if root.priority < node.priority: # root보다 node의 priority가 높을 때(root가 node의 자식이 되어야한다.)\n",
    "        left_tree, right_tree = split(root, node.value) # node의 value 기준으로 트리를 나눈다.\n",
    "        node.setLeft(left_tree) # 노드의 왼쪽 자손 설정\n",
    "        node.setRight(right_tree) # 노드의 오른쪽 자손 설정\n",
    "        return node # 그리고 노드 반환\n",
    "    elif node.value < root.value: # root를 그대로 유지하고, root가 node보다 큰 값을 지닐 때\n",
    "        root.setLeft(insert(root.left, node)) # 루트의 왼쪽 서브트리에 노드를 넣는다.\n",
    "    else: # root를 그대로 유지하고, root가 node보다 작은 값을 지닐 때\n",
    "        root.setRight(insert(root.right, node)) # 루트의 오른쪽 서브트리에 노드를 넣는다.\n",
    "    return root # 루트 반환\n",
    "        \n",
    "def merge(node_a, node_b): # 합병하는 함수로 기본적으로 a의 값 < b의 값인 상태이다.\n",
    "    if node_a is None : return node_b\n",
    "    if node_b is None : return node_a # 각자 비었을 경우 다른 노드를 반환 \n",
    "    if node_a.priority < node_b.priority: # 만약 b의 우선순위가 a보다 높다면\n",
    "        node_b.setLeft(merge(node_a, node_b.left)) # a와 b의 왼쪽 서브트리를 합친 서브트리를 b의 왼쪽 자손으로 설정\n",
    "        return node_b # b노드를 루트로 반환\n",
    "    # a의 우선순위가 b보다 높다면\n",
    "    node_a.setRight(merge(node_a.right, node_b)) # a의 오른쪽 서브트리와 b를 합친 서브트리를 a의 오른쪽 자손으로 설정\n",
    "    return node_a # a노드를 루트로 반환\n",
    "\n",
    "def erase(root, value):\n",
    "    if root is None : return root # 루트가 비었을 때 그대로 반환\n",
    "    if root.value == value : # 만약 루트를 지울 때는\n",
    "        ret = merge(root.left, root.right) # 루트의 왼쪽 서브트리와 오른쪽 서브트리를 합병하고\n",
    "        root = None # 루트만 지운다.\n",
    "        return ret\n",
    "    if value < root.value: # 만약 지우려는 값이 루트의 왼쪽 서브트리에 있다면\n",
    "        root.setLeft(erase(root.left, value)) # 재귀로 루트의 왼쪽 자손에 erase 함수 호출\n",
    "    else: # 만약 지우려는 값이 루트의 오른쪽 서브트리에 있다면\n",
    "        root.setRight(erase(root.right, value)) # 재귀로 루트의 오른쪽 자손에 erase 함수 호출\n",
    "    return root # 루트 반환\n",
    "\n",
    "def kth(root, k):\n",
    "    leftSize = 0 \n",
    "    if root.left is not None: # 루트의 왼쪽 자손이 존재한다면\n",
    "        leftSize = root.left.size # 왼쪽 자손 서브트리의 사이즈\n",
    "    if k <= leftSize: # 만약 k가 leftSize 이하라면\n",
    "        return kth(root.left, k) # 루트의 왼쪽자손에 대해 재귀\n",
    "    if k == leftSize + 1: # 만약 k == leftSize + 1\n",
    "        return root # 루트 반환\n",
    "    return kth(root.right, k-leftSize-1) # 나머지는 루트의 오른쪽 자손에 대해 재귀\n",
    "\n",
    "def countLessThan(root, value):\n",
    "    if root is None: return 0 # 루트가 비었다면 0 반환\n",
    "    if root.value >= value: # 만약 루트의 값이 찾는 값 이상이면\n",
    "        return countLessThan(root.left, value) # 루트의 왼쪽 자손에 대해 재귀해서 반환\n",
    "    ls = root.left.size if root.left else 0 \n",
    "    return ls + 1 + countLessThan(root.right, value) # root 왼쪽 자손의 사이즈 + 1(루트) + 오른쪽 자손에 재귀한 값을 반환  \n",
    "    \n",
    "def solution(moves):\n",
    "    answer = [0 for _ in range(len(moves))] # 정답을 담을 리스트\n",
    "    root = None # 트리의 루트\n",
    "    for i in range(len(moves)): \n",
    "        root = insert(root, Tree(i+1)) # 트리 구성\n",
    "    for i in range(len(moves)-1, -1, -1): # 움직인 횟수를 거꾸로 순회\n",
    "        larger = moves[i]\n",
    "        k = kth(root, i+ 1-larger) # 현재 index + 1에서 움직인 횟수를 빼면 해당 값이 나온다.\n",
    "        answer[i] = k.value # 해당 값을 저장\n",
    "        root = erase(root, k.value) # 그리고 구한 값은 뺀다.\n",
    "    return answer\n",
    "        "
   ]
  },
  {
   "cell_type": "code",
   "execution_count": 177,
   "metadata": {},
   "outputs": [
    {
     "data": {
      "text/plain": [
       "[5, 1, 4, 3, 2]"
      ]
     },
     "execution_count": 177,
     "metadata": {},
     "output_type": "execute_result"
    }
   ],
   "source": [
    "solution([0,1,1,2,3])"
   ]
  },
  {
   "cell_type": "code",
   "execution_count": 178,
   "metadata": {},
   "outputs": [
    {
     "data": {
      "text/plain": [
       "[4, 3, 2, 1]"
      ]
     },
     "execution_count": 178,
     "metadata": {},
     "output_type": "execute_result"
    }
   ],
   "source": [
    "solution([0, 1, 2, 3])"
   ]
  }
 ],
 "metadata": {
  "kernelspec": {
   "display_name": "Python 3",
   "language": "python",
   "name": "python3"
  },
  "language_info": {
   "codemirror_mode": {
    "name": "ipython",
    "version": 3
   },
   "file_extension": ".py",
   "mimetype": "text/x-python",
   "name": "python",
   "nbconvert_exporter": "python",
   "pygments_lexer": "ipython3",
   "version": "3.6.3"
  }
 },
 "nbformat": 4,
 "nbformat_minor": 2
}
