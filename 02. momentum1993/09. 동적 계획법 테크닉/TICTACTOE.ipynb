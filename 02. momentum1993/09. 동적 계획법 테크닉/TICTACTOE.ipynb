{
 "cells": [
  {
   "cell_type": "markdown",
   "metadata": {},
   "source": [
    "TICTACTOE"
   ]
  },
  {
   "cell_type": "markdown",
   "metadata": {},
   "source": [
    "[algospot의 TICTACTOE 링크](https://algospot.com/judge/problem/read/TICTACTOE)\n",
    "  \n",
    "### 문제  \n",
    "틱택토는 3x3 크기의 게임판에서 하는 3목 게임입니다. 두 명이 번갈아가며 o와 x를 게임판의 빈 칸에 쓰되, 먼저 같은 글자를 가로, 세로 혹은 대각선으로 3개 쓰이도록 하는 쪽이 이깁니다. 예를 들어, 다음 게임판은 x가 이긴 게임판입니다.  \n",
    "  \n",
    "xoo  \n",
    ". x .   \n",
    ". . x  \n",
    "게임은 항상 x부터 시작합니다.  \n",
    "  \n",
    "틱택토 게임판의 현재 상태가 주어집니다. 두 사람 모두 최선을 다한다고 가정할 때, 어느쪽이 이길지 판단하는 프로그램을 작성하세요.  \n",
    "   \n",
    "### 출력   \n",
    "두 사람이 모두 최선을 다할 경우 비긴다면 TIE를, 아닌 경우 이기는 사람의 글자를 출력합니다.      "
   ]
  },
  {
   "cell_type": "markdown",
   "metadata": {},
   "source": [
    "solution의  \n",
    "t_map : 현재의 틱택토 판 상태"
   ]
  },
  {
   "cell_type": "code",
   "execution_count": 1,
   "metadata": {},
   "outputs": [],
   "source": [
    "from copy import deepcopy\n",
    "\n",
    "def solution(t_map): \n",
    "    num = 0\n",
    "    for i in t_map:\n",
    "        for j in i:\n",
    "            if j == 'x':\n",
    "                num += 1\n",
    "            elif j == 'o':\n",
    "                num -= 1\n",
    "    first, second = '',''\n",
    "    if num > 0: \n",
    "        first = 'o'\n",
    "        second = 'x'\n",
    "    else:\n",
    "        first = 'x'\n",
    "        second = 'o'\n",
    "    # 처음 와야 하는 단어를 정한다.\n",
    "    answer = get_state(t_map, first) # 처음 와야하는 단어에 대해서 진행\n",
    "    if answer == -1: # 만약 현재 입력해야하는 턴이 졌다면\n",
    "        return second # 승자로 다음에 입력해야하는 사람이 승리\n",
    "    elif answer == 0: # 0일 경우 \n",
    "        return 'TIE' # TIE\n",
    "    else: # 그것도 아니라면\n",
    "        return first # 현재 턴이 승리\n",
    "\n",
    "def bijection(t_map): \n",
    "    val = 0\n",
    "    for i in range(len(t_map)):\n",
    "        for j in range(len(t_map[i])):\n",
    "            val *= 3\n",
    "            if t_map[i][j] == 'x':\n",
    "                val += 2\n",
    "            elif t_map[i][j] == 'o':\n",
    "                val += 1\n",
    "    return val # 3진수 9개로 현재 tictactoe의 상태를 나타낸다.\n",
    "\n",
    "def is_finished(t_map, turn): \n",
    "    finish = len(t_map) \n",
    "    col = [0 for _ in range(len(t_map[0]))]\n",
    "    row = [0 for _ in range(len(t_map))]\n",
    "    if t_map[0][0] == turn and t_map[0][0] == t_map[1][1] == t_map[2][2]:\n",
    "        return True \n",
    "    elif t_map[2][0] == turn and t_map[2][0] == t_map[1][1] == t_map[0][2]:\n",
    "        return True\n",
    "    # 대각선이 그어졌을 경우 True 리턴\n",
    "    for i in range(len(t_map)):\n",
    "        for j in range(len(t_map[i])):\n",
    "            if (i == 0 or j == 0) and t_map[i][j] == turn:\n",
    "                if i == 0 and col[j] == 0:\n",
    "                    col[j] = 1\n",
    "                if j == 0 and row[i] == 0:\n",
    "                    row[i] = 1\n",
    "            if i > 0 and t_map[i][j] == t_map[i-1][j] and t_map[i][j] == turn:\n",
    "                col[j] += 1\n",
    "            else:\n",
    "                col[j] = 1\n",
    "            if j > 0 and t_map[i][j] == t_map[i][j-1] and t_map[i][j] == turn:\n",
    "                row[i] += 1\n",
    "            else:\n",
    "                row[i] = 1\n",
    "    # 각 row와 column에 대해서 쭉 값을 비교해서 1줄이 그어졌는지 판별\n",
    "    if finish in row or finish in col:\n",
    "        return True # 한 줄이 그어졌다면 True 반환\n",
    "    return False # 아니라면 False 반환\n",
    "                    \n",
    "def get_state(t_map, turn='x', mem=None): \n",
    "    if mem is None:\n",
    "        mem = [-2 for _ in range(pow(3,9))] # 메모이재이션 초기화\n",
    "    \n",
    "    next_turn = 'x' if turn == 'o' else 'o' # 다음 턴에 올 사람\n",
    "    if is_finished(t_map, next_turn): return -1\n",
    "    # 만약 이전 턴의 사람이 이미 이겼다면 -1을 반환\n",
    "    \n",
    "    now_state = bijection(t_map) # 현재의 state를 9자리의 3진수로 표현\n",
    "    if mem[now_state] != -2: return mem[now_state]\n",
    "    # 만약 저장해둔 값이 있다면 불러옴\n",
    "     \n",
    "    min_value = 2 \n",
    "    # 현재 턴 사람이 이길 경우 : 1, 비길 경우: 0, 졌을 경우: -1\n",
    "    for i in range(len(t_map)):\n",
    "        for j in range(len(t_map[0])):\n",
    "            if t_map[i][j] == '.': # 현재 비어있는 칸이라면\n",
    "                t_map[i][j] = turn # 현재 턴의 문자를 넣는다.\n",
    "                min_value = min(min_value, get_state(t_map, next_turn, mem))\n",
    "                # 그리고 최솟값을 받는 이유는\n",
    "                # 다음 턴의 사람이 졌을 경우 -1을 리턴하기 때문에 \n",
    "                # 값이 최소일수록 현재 턴의 사람에게 유리하다.\n",
    "                t_map[i][j] = '.' # 다른 경우를 보기 위해 원상복구시킨다.\n",
    "    if min_value == 2 or min_value == 0 : # 만약 누구라도 이기지 못했다면\n",
    "        mem[now_state] = 0 # 비겼다.\n",
    "    else: # 누군가가 이겼다면\n",
    "        mem[now_state] = -min_value #위에서 반환한 값을 반대로 하면 된다.\n",
    "        # 상대편이 이기면 1 -> 즉, 현 상태의 사람은 졌으므로 -1을 반환해야한다.\n",
    "    return mem[now_state] # 게임의 승패 결과 반환"
   ]
  },
  {
   "cell_type": "code",
   "execution_count": 2,
   "metadata": {
    "collapsed": true
   },
   "outputs": [],
   "source": [
    "t_map = [[\".\",\".\",\".\"],[\".\",\".\",\".\"],[\".\",\".\",\".\"]]"
   ]
  },
  {
   "cell_type": "code",
   "execution_count": 3,
   "metadata": {},
   "outputs": [
    {
     "data": {
      "text/plain": [
       "'TIE'"
      ]
     },
     "execution_count": 3,
     "metadata": {},
     "output_type": "execute_result"
    }
   ],
   "source": [
    "solution(t_map)"
   ]
  },
  {
   "cell_type": "code",
   "execution_count": 4,
   "metadata": {
    "collapsed": true
   },
   "outputs": [],
   "source": [
    "t_map = [[\"x\",\"x\",\".\"],[\"o\",\"o\",\".\"],[\".\",\".\",\".\"]]"
   ]
  },
  {
   "cell_type": "code",
   "execution_count": 5,
   "metadata": {},
   "outputs": [
    {
     "data": {
      "text/plain": [
       "'x'"
      ]
     },
     "execution_count": 5,
     "metadata": {},
     "output_type": "execute_result"
    }
   ],
   "source": [
    "solution(t_map)"
   ]
  },
  {
   "cell_type": "code",
   "execution_count": 6,
   "metadata": {
    "collapsed": true
   },
   "outputs": [],
   "source": [
    "t_map = [[\"x\",\"o\",\"x\"],[\"o\",\"o\",\".\"],[\"x\",\".\",\"x\"]]"
   ]
  },
  {
   "cell_type": "code",
   "execution_count": 7,
   "metadata": {},
   "outputs": [
    {
     "data": {
      "text/plain": [
       "'o'"
      ]
     },
     "execution_count": 7,
     "metadata": {},
     "output_type": "execute_result"
    }
   ],
   "source": [
    "solution(t_map)"
   ]
  }
 ],
 "metadata": {
  "kernelspec": {
   "display_name": "Python 3",
   "language": "python",
   "name": "python3"
  },
  "language_info": {
   "codemirror_mode": {
    "name": "ipython",
    "version": 3
   },
   "file_extension": ".py",
   "mimetype": "text/x-python",
   "name": "python",
   "nbconvert_exporter": "python",
   "pygments_lexer": "ipython3",
   "version": "3.6.3"
  }
 },
 "nbformat": 4,
 "nbformat_minor": 2
}
