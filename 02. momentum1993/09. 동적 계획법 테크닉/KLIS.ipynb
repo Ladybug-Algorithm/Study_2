{
 "cells": [
  {
   "cell_type": "markdown",
   "metadata": {},
   "source": [
    "KLIS"
   ]
  },
  {
   "cell_type": "markdown",
   "metadata": {},
   "source": [
    "[algospot의 KLIS 링크](https://algospot.com/judge/problem/read/KLIS)\n",
    "  \n",
    "### 문제  \n",
    "어떤 정수 수열에서 0개 이상의 숫자를 지우면 이 수열의 부분 수열 (subsequence) 를 얻을 수 있다. 예를 들어 10 7 4 9 의 부분 수열에는 7 4 9, 10 4, 10 9 등이 있다. 단, 10 4 7 은 원래 수열의 순서와 다르므로 10 7 4 9 의 부분 수열이 아니다.  \n",
    "  \n",
    "어떤 부분 수열이 _단조 증가_할 때 이 부분 수열을 증가 부분 수열 (increasing subsequence) 라고 하며, 이 중 가장 긴 것을 최대 증가 부분 수열 (LIS, longest increasing subsequence) 라고 한다. 예를 들어, 5 20 21 22 8 9 10 의 최대 증가 부분 수열은 5 8 9 10 이다.  \n",
    "  \n",
    "어떤 수열에는 LIS 가 두 개 이상 있을 수 있다. 예를 들어, 4 5 6 1 2 3 의 LIS 는 두 개가 있다.  \n",
    "  \n",
    "모든 숫자가 서로 다른 (중복 숫자가 없는) 수열이 주어질 때, 이 수열의 LIS 중 사전 순서대로 맨 앞에서 k번째 있는 LIS 를 출력하는 프로그램을 작성하시오.    \n",
    "  \n",
    "### 출력   \n",
    "두 줄을 출력한다. 첫 줄에는 LIS 의 길이 L 을 출력하고, 그 다음 줄에 L 개의 정수로 K번째 LIS 를 출력한다.  "
   ]
  },
  {
   "cell_type": "markdown",
   "metadata": {},
   "source": [
    "solution의      \n",
    "K : 최대 증가 부분 수열들 중 찾아야할 K번째 수열  \n",
    "sequence : LIS를 탐색해야할 수열  "
   ]
  },
  {
   "cell_type": "code",
   "execution_count": 1,
   "metadata": {
    "collapsed": true
   },
   "outputs": [],
   "source": [
    "from queue import Queue\n",
    "\n",
    "def solution(K, sequence):\n",
    "    q = Queue() # 수열의 경우의 수를 저장할 큐\n",
    "    q.put((0, [])) # 처음 아무것도 없는 수열부터 시작\n",
    "    index = 0 # 시작 인덱스\n",
    "    while index < len(sequence): # 전체 수열 인덱스를 다 확인 할 때까지\n",
    "        for i in range(len(q.queue)): # 큐 안의 모든 항목들에 대해서\n",
    "            seq_len, seq = q.get() # 항목 pop\n",
    "            q.put((seq_len, seq)) # 아무것도 수정 안한 항목 다시 push\n",
    "            if len(seq) == 0 or seq[-1] < sequence[index]:\n",
    "            # 현재 인덱스에 대해 현재 값이 이전의 큐의 마지막 숫자보다 클 경우\n",
    "                q.put((seq_len + 1, seq+[sequence[index]]))\n",
    "                # 현재 값을 뒤에 붙인 수열을 다시 큐에 push\n",
    "        index += 1 # 인덱스 증가\n",
    "    \n",
    "    answer_len = 0 # 답의 길이\n",
    "    turn = 1 # K번째 답을 얻기 위해 필요한 변수\n",
    "    answer = [] # 답을 저장할 변수\n",
    "    while not q.empty(): # 큐의 전체 항목에 대해서\n",
    "        temp_len, seq = q.get() # 항목을 얻어온다.\n",
    "        if answer_len < temp_len: # 만약 최대 길이 수열이 나타난다면\n",
    "            answer_len = temp_len # 최대 길이 수정\n",
    "            turn = 1 # 답의 개수 초기화\n",
    "        elif answer_len == temp_len: # 만약 길이가 같은 값이 나온다면\n",
    "            turn +=1 # 답의 개수 증가시킴 \n",
    "        else:\n",
    "            continue \n",
    "            \n",
    "        if turn == K: # 만약 K번째 답일 경우\n",
    "            answer = seq # 답 갱신해준다.\n",
    "    return answer_len, answer # 답의 길이와, 답 수열 반환"
   ]
  },
  {
   "cell_type": "code",
   "execution_count": 2,
   "metadata": {
    "collapsed": true
   },
   "outputs": [],
   "source": [
    "K = 2\n",
    "sequence = [1, 9, 7, 4, 2, 6, 3, 11, 10]"
   ]
  },
  {
   "cell_type": "code",
   "execution_count": 3,
   "metadata": {},
   "outputs": [
    {
     "data": {
      "text/plain": [
       "(4, [1, 2, 3, 11])"
      ]
     },
     "execution_count": 3,
     "metadata": {},
     "output_type": "execute_result"
    }
   ],
   "source": [
    "solution(K, sequence)"
   ]
  },
  {
   "cell_type": "code",
   "execution_count": 4,
   "metadata": {
    "collapsed": true
   },
   "outputs": [],
   "source": [
    "K = 4\n",
    "sequence = [2, 1, 4, 3, 6, 5, 8, 7]"
   ]
  },
  {
   "cell_type": "code",
   "execution_count": 5,
   "metadata": {},
   "outputs": [
    {
     "data": {
      "text/plain": [
       "(4, [1, 3, 6, 8])"
      ]
     },
     "execution_count": 5,
     "metadata": {},
     "output_type": "execute_result"
    }
   ],
   "source": [
    "solution(K, sequence)"
   ]
  },
  {
   "cell_type": "code",
   "execution_count": 6,
   "metadata": {
    "collapsed": true
   },
   "outputs": [],
   "source": [
    "K = 2\n",
    "sequence = [5, 6, 7, 8, 1, 2, 3, 4]"
   ]
  },
  {
   "cell_type": "code",
   "execution_count": 7,
   "metadata": {},
   "outputs": [
    {
     "data": {
      "text/plain": [
       "(4, [5, 6, 7, 8])"
      ]
     },
     "execution_count": 7,
     "metadata": {},
     "output_type": "execute_result"
    }
   ],
   "source": [
    "solution(K, sequence)"
   ]
  }
 ],
 "metadata": {
  "kernelspec": {
   "display_name": "Python 3",
   "language": "python",
   "name": "python3"
  },
  "language_info": {
   "codemirror_mode": {
    "name": "ipython",
    "version": 3
   },
   "file_extension": ".py",
   "mimetype": "text/x-python",
   "name": "python",
   "nbconvert_exporter": "python",
   "pygments_lexer": "ipython3",
   "version": "3.6.3"
  }
 },
 "nbformat": 4,
 "nbformat_minor": 2
}
