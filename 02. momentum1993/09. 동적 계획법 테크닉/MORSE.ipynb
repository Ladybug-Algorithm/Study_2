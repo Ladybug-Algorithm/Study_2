{
 "cells": [
  {
   "cell_type": "markdown",
   "metadata": {},
   "source": [
    "MORSE"
   ]
  },
  {
   "cell_type": "markdown",
   "metadata": {},
   "source": [
    "[algospot의 MORSE 링크](https://algospot.com/judge/problem/read/MORSE)\n",
    "  \n",
    "### 문제  \n",
    "모스 부호(Morse code)는 전화가 없던 시절 무선 전신에 주로 사용하던 코드로, 짧은 신호(단점, o)와 긴 신호(장점, -)를 섞어 글자를 표현하는 표현방식입니다. 예를 들어 알파벳 J는 모스 부호 o---로 표현되고, M은 --로 표현됩니다.  \n",
    "  \n",
    "n개의 장점과 m개의 단점으로 구성된 모든 신호들을 담고 있는 사전이 있다고 합시다.   예를 들어 n = m = 2라면 다음과 같은 신호들이 포함되어 있는 것이죠.  \n",
    "  \n",
    "--oo  \n",
    "-o-o  \n",
    "-oo-  \n",
    "o--o  \n",
    "o-o-  \n",
    "oo--  \n",
    "  \n",
    "이 신호들은 사전순서대로 정렬되어 있습니다. -의 아스키 코드는 45이고, o의 아스키 코드는 111이기 때문에 -가 먼저 오게 되죠. n과 m이 주어질 때 이 사전의 k번째 신호를 출력하는 프로그램을 작성해 봅시다. 예를 들어 위 사전에서 네 번째 신호는 o--o입니다.  \n",
    "  \n",
    "### 출력   \n",
    "한 줄에 해당 신호를 출력    "
   ]
  },
  {
   "cell_type": "markdown",
   "metadata": {},
   "source": [
    "solution의    \n",
    "n : 장점, -의 개수  \n",
    "m : 단점, o의 개수  \n",
    "k : 찾아야 될 k번째 신호  "
   ]
  },
  {
   "cell_type": "code",
   "execution_count": 1,
   "metadata": {
    "collapsed": true
   },
   "outputs": [],
   "source": [
    "# 풀이 1: print로 답 출력\n",
    "\n",
    "def solution(n, m, k, answer = \"\"):\n",
    "    if n == m == 0: # base case: 모든 모스부호를 다썼을 경우\n",
    "        k -= 1\n",
    "        if k == 0: # 만약 해당하는 k번 차례의 경우\n",
    "            print(answer) # 답을 출력\n",
    "        return k # 남은 순서를 반환\n",
    "    if n > 0: # 장점 모스부호가 남았을 때\n",
    "        k = solution(n-1, m, k, answer + '-') # '-' 장점 부호 추가\n",
    "        if k == 0: # 만약 현재 원하는 순서일 때\n",
    "            return k # 반환\n",
    "    if m > 0: # 단점 모스부호가 남았을 때\n",
    "        k = solution(n, m-1, k, answer + 'o') # 'o' 단점 부호 추가\n",
    "        if k == 0: # 만약 현재 원하는 순서일 때\n",
    "            return k # 반환\n",
    "    return k # 반환"
   ]
  },
  {
   "cell_type": "code",
   "execution_count": 2,
   "metadata": {
    "collapsed": true
   },
   "outputs": [],
   "source": [
    "# 풀이 2: 함수 값으로 반환\n",
    "\n",
    "def solution(n, m, k):\n",
    "    answer, _ = make_morse(n, m, k)\n",
    "    return answer #답 반환\n",
    "\n",
    "def make_morse(n, m, k):\n",
    "    if n == m == 0: # base case: 모든 모스부호를 다썼을 경우\n",
    "        k -= 1 # 순서 1개 차감\n",
    "        return \"\", k # 남은 순서 및 순서를 반환\n",
    "    if n > 0: # 장점 모스부호가 남았을 때\n",
    "        answer = \"-\" # 장점 모스부호 추가\n",
    "        temp_answer, k = make_morse(n-1, m, k) # 재귀로 뒤의 모스부호 생성\n",
    "        answer += temp_answer\n",
    "        if k == 0: # 만약 현재 원하는 순서일 때\n",
    "            return answer, k # 반환\n",
    "    if m > 0: # 단점 모스부호가 남았을 때\n",
    "        answer = \"o\" # 단점 모스부호 추가\n",
    "        temp_answer, k = make_morse(n, m-1, k) # 재귀로 뒤의 모스부호 생성\n",
    "        answer += temp_answer \n",
    "        if k == 0: # 만약 현재 원하는 순서일 때\n",
    "            return answer, k # 반환\n",
    "    return answer, k # 답 및 남은 순서 반환"
   ]
  },
  {
   "cell_type": "code",
   "execution_count": 3,
   "metadata": {
    "collapsed": true
   },
   "outputs": [],
   "source": [
    "n = 2\n",
    "m = 2\n",
    "k = 4"
   ]
  },
  {
   "cell_type": "code",
   "execution_count": 4,
   "metadata": {},
   "outputs": [
    {
     "data": {
      "text/plain": [
       "'o--o'"
      ]
     },
     "execution_count": 4,
     "metadata": {},
     "output_type": "execute_result"
    }
   ],
   "source": [
    "solution(n, m, k)"
   ]
  },
  {
   "cell_type": "code",
   "execution_count": 5,
   "metadata": {
    "collapsed": true
   },
   "outputs": [],
   "source": [
    "n = 4\n",
    "m = 8\n",
    "k = 13"
   ]
  },
  {
   "cell_type": "code",
   "execution_count": 6,
   "metadata": {},
   "outputs": [
    {
     "data": {
      "text/plain": [
       "'--o-ooo-oooo'"
      ]
     },
     "execution_count": 6,
     "metadata": {},
     "output_type": "execute_result"
    }
   ],
   "source": [
    "solution(n, m, k)"
   ]
  },
  {
   "cell_type": "code",
   "execution_count": 7,
   "metadata": {
    "collapsed": true
   },
   "outputs": [],
   "source": [
    "n = 6\n",
    "m = 4\n",
    "k = 1"
   ]
  },
  {
   "cell_type": "code",
   "execution_count": 8,
   "metadata": {},
   "outputs": [
    {
     "data": {
      "text/plain": [
       "'------oooo'"
      ]
     },
     "execution_count": 8,
     "metadata": {},
     "output_type": "execute_result"
    }
   ],
   "source": [
    "solution(n, m, k)"
   ]
  }
 ],
 "metadata": {
  "kernelspec": {
   "display_name": "Python 3",
   "language": "python",
   "name": "python3"
  },
  "language_info": {
   "codemirror_mode": {
    "name": "ipython",
    "version": 3
   },
   "file_extension": ".py",
   "mimetype": "text/x-python",
   "name": "python",
   "nbconvert_exporter": "python",
   "pygments_lexer": "ipython3",
   "version": "3.6.3"
  }
 },
 "nbformat": 4,
 "nbformat_minor": 2
}
