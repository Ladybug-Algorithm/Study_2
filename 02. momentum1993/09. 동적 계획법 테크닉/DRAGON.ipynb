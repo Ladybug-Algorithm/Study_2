{
 "cells": [
  {
   "cell_type": "markdown",
   "metadata": {},
   "source": [
    "DRAGON"
   ]
  },
  {
   "cell_type": "markdown",
   "metadata": {},
   "source": [
    "[algospot의 DRAGON 링크](https://algospot.com/judge/problem/read/DRAGON)\n",
    "  \n",
    "### 문제  \n",
    "![](http://algospot.com/media/judge-attachments/a36791bf9ce9c0a34c9a3d013384e8da/dragon10b.png)  \n",
    "드래곤 커브(Dragon curve)는 간단한 수학 규칙으로 그릴 수 있는 그림으로, 위 그림같은 형태를 지닙니다. 드래곤 커브는 선분 하나에서 시작해서 간단한 규칙으로 이 선분을 변형해서 만들어지며, 변형이 한 번 이루어져 세대가 변할 때마다 더욱 복잡한 모양으로 진화합니다. 이 도형같이 일부를 확대했을 때 전체와 비슷한 형태로 구성된 도형들을 프랙탈(fractal) 이라고 하지요.  \n",
    "  \n",
    "드래곤 커브를 그리는 방법을 드래곤 커브 문자열이라고 부릅시다. 드래곤 커브 문자열은 X, Y, F, +, -로 구성된 문자열인데, 우리는 한 점에서 시작해 다음과 같이 커브를 그리면 됩니다.  \n",
    "  \n",
    "F: 앞으로 한 칸 전진하며 선을 긋습니다.  \n",
    "+: 왼쪽으로 90도 회전합니다.  \n",
    "-: 오른쪽으로 90도 회전합니다.  \n",
    "X, Y: 무시합니다.  \n",
    "  \n",
    "0세대 드래곤 커브를 그리는 문자열은 선분 하나인 FX 입니다. 그리고 그 이후의 다음 세대는 이전 세대 문자열의 각 글자를 다음과 같이 치환해서 만들어집니다.  \n",
    "  \n",
    "X => X+YF  \n",
    "Y => FX-Y  \n",
    "따라서 1, 2세대 드래곤 커브 문자열은 다음과 같습니다.  \n",
    "  \n",
    "1세대: FX+YF  \n",
    "2세대: FX+YF+FX-YF  \n",
    "  \n",
    "n세대 드래곤 커브 문자열을 구하고 싶습니다. 이 때 문자열 전체를 구하면 너무 기니, 문자열 중 p번째 글자부터 l글자만을 계산하는 프로그램을 작성하세요.  \n",
    "  \n",
    "### 출력   \n",
    "한 줄에 n세대 드래곤 커브 문자열의 p번째 글자부터 l글자를 출력합니다.  "
   ]
  },
  {
   "cell_type": "markdown",
   "metadata": {},
   "source": [
    "solution의  \n",
    "n : 드래곤 커브의 세대 n (0 <= n <= 50)  \n",
    "p : 출력을 시작할 p번째 글자  \n",
    "l : 출력 시작 부분인 p부터 l개의 글자를 출력할 것임.  "
   ]
  },
  {
   "cell_type": "code",
   "execution_count": 129,
   "metadata": {},
   "outputs": [],
   "source": [
    "def solution(n,p,l):\n",
    "    return make_curve(n,p,l)[p-1:p-1+l] # 해당 p번째 부터 l개의 글자 출력\n",
    "\n",
    "def make_curve(n,p,l, answer='FX'): # 커브 계산\n",
    "    if n == 0: # 만약 모든 세대 다 돌았을 경우\n",
    "        return answer # 답 반환\n",
    "    i = 0 # 확인할 answer의 인덱스\n",
    "    while i < len(answer): # answer의 모든 인덱스에 대해서\n",
    "        if answer[i] == 'X': # 만약 X 가 있다면\n",
    "            answer = answer[:i] + 'X+YF' + answer[i+1:] # X -> X+YF로 치환\n",
    "            i += 3 # 문자열이 늘어난 만큼 인덱스 추가\n",
    "        elif answer[i] == 'Y': # 만약 Y 가 있다면\n",
    "            answer = answer[:i] + 'FX-Y' + answer[i+1:] # Y -> FX-Y로 치환\n",
    "            i += 3 # 문자열이 늘어난 만큼 인덱스 추가\n",
    "        i += 1 # 인덱스 증가\n",
    "        if len(answer) >= p-1+l: # 세대가 늘어난다 해도 이전 세대의 커브는 그대로 존재하므로\n",
    "            return answer # 원하는 문자열 길이만큼 나왔을 경우 그냥 답을 반환\n",
    "    return make_curve(n-1,p,l, answer) # 다음 세대에 대해서 재귀로 구해서 반환 "
   ]
  },
  {
   "cell_type": "code",
   "execution_count": 130,
   "metadata": {
    "collapsed": true
   },
   "outputs": [],
   "source": [
    "n = 0\n",
    "p = 1\n",
    "l = 2"
   ]
  },
  {
   "cell_type": "code",
   "execution_count": 131,
   "metadata": {},
   "outputs": [
    {
     "data": {
      "text/plain": [
       "'FX'"
      ]
     },
     "execution_count": 131,
     "metadata": {},
     "output_type": "execute_result"
    }
   ],
   "source": [
    "solution(n,p,l)"
   ]
  },
  {
   "cell_type": "code",
   "execution_count": 132,
   "metadata": {
    "collapsed": true
   },
   "outputs": [],
   "source": [
    "n = 1\n",
    "p = 1\n",
    "l = 5"
   ]
  },
  {
   "cell_type": "code",
   "execution_count": 133,
   "metadata": {},
   "outputs": [
    {
     "data": {
      "text/plain": [
       "'FX+YF'"
      ]
     },
     "execution_count": 133,
     "metadata": {},
     "output_type": "execute_result"
    }
   ],
   "source": [
    "solution(n,p,l)"
   ]
  },
  {
   "cell_type": "code",
   "execution_count": 134,
   "metadata": {
    "collapsed": true
   },
   "outputs": [],
   "source": [
    "n = 2\n",
    "p = 6\n",
    "l = 5"
   ]
  },
  {
   "cell_type": "code",
   "execution_count": 135,
   "metadata": {},
   "outputs": [
    {
     "data": {
      "text/plain": [
       "'+FX-Y'"
      ]
     },
     "execution_count": 135,
     "metadata": {},
     "output_type": "execute_result"
    }
   ],
   "source": [
    "solution(n,p,l)"
   ]
  },
  {
   "cell_type": "code",
   "execution_count": 136,
   "metadata": {
    "collapsed": true
   },
   "outputs": [],
   "source": [
    "n = 42\n",
    "p = 764853475\n",
    "l = 30"
   ]
  },
  {
   "cell_type": "code",
   "execution_count": null,
   "metadata": {
    "scrolled": true
   },
   "outputs": [],
   "source": [
    "solution(n,p,l) # 효율성에 대해서 더 생각해볼것..."
   ]
  }
 ],
 "metadata": {
  "kernelspec": {
   "display_name": "Python 3",
   "language": "python",
   "name": "python3"
  },
  "language_info": {
   "codemirror_mode": {
    "name": "ipython",
    "version": 3
   },
   "file_extension": ".py",
   "mimetype": "text/x-python",
   "name": "python",
   "nbconvert_exporter": "python",
   "pygments_lexer": "ipython3",
   "version": "3.6.3"
  }
 },
 "nbformat": 4,
 "nbformat_minor": 2
}
