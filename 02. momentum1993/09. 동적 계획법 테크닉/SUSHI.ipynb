{
 "cells": [
  {
   "cell_type": "markdown",
   "metadata": {},
   "source": [
    "SUSHI"
   ]
  },
  {
   "cell_type": "markdown",
   "metadata": {},
   "source": [
    "[algospot의 SUSHI 링크](https://algospot.com/judge/problem/read/SUSHI)\n",
    "  \n",
    "### 문제  \n",
    "문제 풀이 내기에서 모인 벌금이 많이 쌓여서 알고스팟 운영진들은 회식을 하러 회전초밥집에 갔습니다. 회전초밥집에 들어선 운영진들은 초밥은 먹지 않고 전략 회의를 시작했습니다. 회전초밥집에는 n종류의 메뉴가 있는데, 운영진들은 각 메뉴에 대해 선호도를 매겼습니다.  \n",
    "\n",
    "|초밥|계란|연어|장어|대뱃살|스테이크|후라이드 치킨|  \n",
    "|:---:|:---:|:---:|:---:|:---:|:---:|:---:|  \n",
    "|**가격**|2500|3000|4000|5000|10000|15000|\n",
    "|**선호도**|7|9|10|12|20|1|\n",
    "\n",
    "운영진들은 주어진 예산 안에서 선호도의 합을 최대한으로 하도록 초밥을 먹고 싶습니다. 각 종류의 초밥은 무한정으로 공급된다고 가정합시다. 이 때 얻을 수 있는 최대한의 선호도는 얼마일까요?  \n",
    "     \n",
    "### 출력   \n",
    "한 줄에 가능한 선호도의 최대 합을 출력합니다.  "
   ]
  },
  {
   "cell_type": "markdown",
   "metadata": {},
   "source": [
    "solution의  \n",
    "n : 초밥의 종류 (1 <= n <= 20)  \n",
    "m : 운영진들의 예산 (1 <= m <= 2,147,483,647)  \n",
    "price : 초밥의 가격 (20000 이하의 자연수로 항상 100의 배수)   \n",
    "preference : 초밥의 선호도 (20이하의 자연수)  "
   ]
  },
  {
   "cell_type": "code",
   "execution_count": 15,
   "metadata": {
    "collapsed": true
   },
   "outputs": [],
   "source": [
    "# n, m = map(int, input().split())\n",
    "# price = []\n",
    "# preference = []\n",
    "\n",
    "# for i in range(n):\n",
    "#     pric, pref = map(int, input().split())\n",
    "#     price.append(pric)\n",
    "#     preference.append(pref)\n",
    "\n",
    "\n",
    "def solution(n, m, price, preference, mem=None):\n",
    "    m //= 100 # 가격이 항상 100의 배수로 끊기기 때문에 예산또한 100으로 나눈 몫으로 설정\n",
    "    for i in range(n): \n",
    "        price[i] //= 100 # 가격에 대해서도 100으로 나눈 몫으로 설정\n",
    "    mem = [-1 for _ in range(201)] \n",
    "    # 메모이재이션할 배열에 대해서도 가격이 100단위로 20000까지 가질 수 있으므로 \n",
    "    # 0 ~ 20000까지 100의 단위로 끊어서 200가지의 경우가 나온다.\n",
    "    answer = 0 # 답을 저장할 변수\n",
    "    \n",
    "    for budget in range(1, m): # 1부터 예산을 다 채워나간다.\n",
    "        if mem[budget%201] == -1: \n",
    "            mem[budget%201] = 0 # 먼저 현재 상황에 대한 메모이재이션 초기화\n",
    "        for i in range(n): # 모든 초밥 종류에 대해서\n",
    "            if budget-price[i] < 0: # 현재 예산에 대해서 초밥을 못살경우\n",
    "                continue # 다음으로 넘어감\n",
    "            mem[budget%201] = max(mem[budget%201], mem[(budget-price[i])%201] + preference[i])\n",
    "            # 현재 메모이재이션 배열에 선호도의 최댓값 저장\n",
    "            answer = max(answer, mem[budget%201])\n",
    "            # 현재까지의 최대 선호도값 저장\n",
    "    return answer # 값 반환\n",
    "    "
   ]
  },
  {
   "cell_type": "code",
   "execution_count": 16,
   "metadata": {
    "collapsed": true
   },
   "outputs": [],
   "source": [
    "n = 6\n",
    "m = 10000\n",
    "price = [2500, 3000, 4000, 5000, 10000 ,15000]\n",
    "priority = [7, 9, 10, 12, 20, 1]"
   ]
  },
  {
   "cell_type": "code",
   "execution_count": 17,
   "metadata": {},
   "outputs": [
    {
     "data": {
      "text/plain": [
       "27"
      ]
     },
     "execution_count": 17,
     "metadata": {},
     "output_type": "execute_result"
    }
   ],
   "source": [
    "solution(n, m, price, priority)"
   ]
  },
  {
   "cell_type": "code",
   "execution_count": 18,
   "metadata": {
    "collapsed": true
   },
   "outputs": [],
   "source": [
    "n = 6\n",
    "m = 543975612\n",
    "price = [2500, 3000, 4000, 5000, 10000 ,15000]\n",
    "priority = [7, 9, 10, 12, 20, 1]"
   ]
  },
  {
   "cell_type": "code",
   "execution_count": 19,
   "metadata": {},
   "outputs": [
    {
     "data": {
      "text/plain": [
       "1631925"
      ]
     },
     "execution_count": 19,
     "metadata": {},
     "output_type": "execute_result"
    }
   ],
   "source": [
    "solution(n, m, price, priority)"
   ]
  }
 ],
 "metadata": {
  "kernelspec": {
   "display_name": "Python 3",
   "language": "python",
   "name": "python3"
  },
  "language_info": {
   "codemirror_mode": {
    "name": "ipython",
    "version": 3
   },
   "file_extension": ".py",
   "mimetype": "text/x-python",
   "name": "python",
   "nbconvert_exporter": "python",
   "pygments_lexer": "ipython3",
   "version": "3.6.3"
  }
 },
 "nbformat": 4,
 "nbformat_minor": 2
}
