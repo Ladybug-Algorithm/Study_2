{
 "cells": [
  {
   "cell_type": "markdown",
   "metadata": {},
   "source": [
    "GENIUS"
   ]
  },
  {
   "cell_type": "markdown",
   "metadata": {},
   "source": [
    "[algospot의 GENIUS 링크](https://algospot.com/judge/problem/read/GENIUS)\n",
    "  \n",
    "### 문제  \n",
    "MP3 플레이어에 들어 있는 곡들을 전부 셔플 모드로 들을 때 최대의 문제점은 서로 어울리지 않는 노래들이 갑자기 나올 수 있다는 것입니다. 끈적한 애시드 재즈를 듣고 있다가 갑자기 시끄러운 데스 메탈이 나오는 것만큼 분위기를 깨는 것도 없지요. 때문에 전세계에서 가장 잘 나가는 MP3 플레이어를 생산하는 오렌지 사에서는 이번에 지니어스라는 기능을 출시했습니다. 지니어스는 MP3 플레이어에 들어 있는 곡들을 셔플 모드로 들을 때 잘 어울리는 것끼리 순서대로 재생되도록 해 줍니다.\n",
    "\n",
    "태윤이는 오렌지 사의 새 MP3 플레이어를 산 뒤 재미로 지니어스의 동작 원리를 분석해 보았습니다. 지니어스를 사용하면 한 곡 다음에 다음 곡이 재생될 확률은 두 곡의 유사도에 따라 결정됩니다. 태윤이는 MP3 플레이어에 담긴 음악들 간의 유사도를 조사해, i 번 곡 다음에 j 번 곡이 재생될 확률을 나타내는 확률 행렬 T 를 만들었습니다.\n",
    "\n",
    "태윤이는 방금 재생 버튼을 눌러 0번 곡을 듣기 시작했습니다. K 분 30초가 지난 후 태윤이가 좋아하는 곡이 재생되고 있을 확률은 얼마일까요? MP3 플레이어에 들어 있는 곡들의 길이는 모두 1분, 2분, 3분 혹은 4분입니다.  \n",
    "     \n",
    "### 출력   \n",
    "한 줄로 태윤이가 좋아하는 M 개의 곡에 대해 각 곡이 재생되고 있을 확률을 출력합니다. 10^-7 이하의 절대/상대 오차가 있는 답은 정답으로 인정됩니다.  "
   ]
  },
  {
   "cell_type": "markdown",
   "metadata": {},
   "source": [
    "solution의  \n",
    "N : MP3 플레이어에 들어 있는 곡의 수 (1 <= N <= 50)  \n",
    "K : 태윤이가 노래를 듣기 시작한 K분 30초 (1 <= K <= 1,000,000)  \n",
    "M : 태윤이가 좋아하는 곡의 수 (1 <= M <= 10)  \n",
    "music_length : 각 음악의 길이  \n",
    "prob_matrix : 이전 음악에 다음 음악이 올 확률을 가지는 행렬  \n",
    "like_music : 태윤이가 좋아하는 곡의 번호 리스트  \n"
   ]
  },
  {
   "cell_type": "code",
   "execution_count": 1,
   "metadata": {},
   "outputs": [],
   "source": [
    "def solution(N, K, M, music_length, prob_matrix, like_music):\n",
    "    memo = [[0 for _ in range(N)] for _ in range(5)] #메모이재이션\n",
    "    answer = [0 for _ in range(len(like_music))] # 답을 저장할 리스트\n",
    "    memo[0][0] = 1 # 0초에 0번 인덱스 음악을 들을 확률은 1\n",
    "    for time in range(1, K+1): # 1초부터 K초까지\n",
    "        for song in range(N): # 0번 음악부터 N-1번 음악까지\n",
    "            memo[time % 5][song] = 0 # 음악의 길이가 1~4분까지이므로 이에 대해 메모리 줄이기 위해\n",
    "            # 시간을 5의 나머지로 1~4에 대해서 적용\n",
    "            for last in range(N): # 이전의 음악에 대해서\n",
    "                memo[time % 5][song] += memo[(time - music_length[last] + 5) % 5][last] * prob_matrix[last][song]\n",
    "                # 이전에 들었던 음악에 대한 확률을 더해준다.\n",
    "                # 즉, ( 이전에 들었던 음악까지의 확률 * 이전음악에서 현재음악을 들을 확률 )을 더해줌.\n",
    "    for song in range(N): # 모든 음악에 대해서\n",
    "        for start in range(K-music_length[song]+1, K+1): \n",
    "        # song번 노래가 시작했을 시간을 모두 찾아 더함.\n",
    "        # 즉, song번 노래가 마지막일 때의 이미 구해놓은 확률값들에 대해 모두 더해줌.\n",
    "            answer[like_music.index(song)] += memo[start % 5][song]\n",
    "            # 좋아하는 음악순으로 답 반환\n",
    "    return answer\n"
   ]
  },
  {
   "cell_type": "code",
   "execution_count": 2,
   "metadata": {
    "collapsed": true
   },
   "outputs": [],
   "source": [
    "N = 3\n",
    "K = 6\n",
    "M = 3\n",
    "music_length = [4,4,2] \n",
    "prob_matrix = [[0.18, 0.40, 0.42],[0.15, 0.46, 0.39],[0.58, 0.23, 0.19]]\n",
    "like_music = [0, 1, 2]"
   ]
  },
  {
   "cell_type": "code",
   "execution_count": 3,
   "metadata": {},
   "outputs": [
    {
     "data": {
      "text/plain": [
       "[0.4236, 0.49660000000000004, 0.0798]"
      ]
     },
     "execution_count": 3,
     "metadata": {},
     "output_type": "execute_result"
    }
   ],
   "source": [
    "solution(N, K, M, music_length, prob_matrix, like_music)"
   ]
  },
  {
   "cell_type": "code",
   "execution_count": 4,
   "metadata": {
    "collapsed": true
   },
   "outputs": [],
   "source": [
    "N = 4\n",
    "K = 10\n",
    "M = 4\n",
    "music_length = [1,3,2,4]\n",
    "prob_matrix = [[0.26, 0.07, 0.49, 0.18],\n",
    "               [0.21, 0.33, 0.15, 0.31],\n",
    "               [0.41, 0.20, 0.38, 0.01],\n",
    "               [0.28, 0.31, 0.18, 0.23]]\n",
    "like_music = [2, 0, 3, 1]"
   ]
  },
  {
   "cell_type": "code",
   "execution_count": 5,
   "metadata": {
    "scrolled": true
   },
   "outputs": [
    {
     "data": {
      "text/plain": [
       "[0.31060928985266434,\n",
       " 0.13791634896619484,\n",
       " 0.2675604795536036,\n",
       " 0.2839138816275373]"
      ]
     },
     "execution_count": 5,
     "metadata": {},
     "output_type": "execute_result"
    }
   ],
   "source": [
    "solution(N, K, M, music_length, prob_matrix, like_music)"
   ]
  },
  {
   "cell_type": "code",
   "execution_count": 6,
   "metadata": {
    "collapsed": true
   },
   "outputs": [],
   "source": [
    "N = 4\n",
    "K = 1000\n",
    "M = 4\n",
    "music_length = [4, 3, 4, 4]\n",
    "prob_matrix = [[0.08, 0.47, 0.12, 0.33],\n",
    "               [0.10, 0.02, 0.39, 0.49],\n",
    "               [0.08, 0.33, 0.35, 0.24],\n",
    "               [0.14, 0.19, 0.58, 0.09]]\n",
    "like_music = [1, 3, 2, 0]"
   ]
  },
  {
   "cell_type": "code",
   "execution_count": 7,
   "metadata": {},
   "outputs": [
    {
     "data": {
      "text/plain": [
       "[0.1864800415874771,\n",
       " 0.28409358849301913,\n",
       " 0.42243515239192114,\n",
       " 0.1069912175275797]"
      ]
     },
     "execution_count": 7,
     "metadata": {},
     "output_type": "execute_result"
    }
   ],
   "source": [
    "solution(N, K, M, music_length, prob_matrix, like_music)"
   ]
  }
 ],
 "metadata": {
  "kernelspec": {
   "display_name": "Python 3",
   "language": "python",
   "name": "python3"
  },
  "language_info": {
   "codemirror_mode": {
    "name": "ipython",
    "version": 3
   },
   "file_extension": ".py",
   "mimetype": "text/x-python",
   "name": "python",
   "nbconvert_exporter": "python",
   "pygments_lexer": "ipython3",
   "version": "3.6.3"
  }
 },
 "nbformat": 4,
 "nbformat_minor": 2
}
