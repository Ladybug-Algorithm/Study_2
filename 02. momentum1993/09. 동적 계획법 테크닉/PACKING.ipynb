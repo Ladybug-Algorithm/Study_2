{
 "cells": [
  {
   "cell_type": "markdown",
   "metadata": {},
   "source": [
    "PACKING"
   ]
  },
  {
   "cell_type": "markdown",
   "metadata": {},
   "source": [
    "[algospot의 PACKING 링크](https://algospot.com/judge/problem/read/PACKING)\n",
    "  \n",
    "### 문제  \n",
    "여행을 떠나기 전날까지 절대 짐을 싸지 않는 버릇이 있는 재훈이는 오늘도 비행기 타기 전날에야 가방을 싸기 위해 자리에 앉았습니다. 비행기 규정상 재훈이는 캐리어를 하나만 가지고 갈 수 있는데, 아무래도 가져가고 싶은 물건들이 캐리어 안에 다 들어가지 않을 것 같습니다. 재훈이는 가져가고 싶은 각 물건들의 부피와 얼마나 필요한지를 나타내는 절박도를 조사해 다음과 같은 목록을 만들었습니다.  \n",
    "\n",
    "\n",
    "|물건|\t노트북|\t카메라|\tXBOX365|\t커피그라인더|\t아령|\t백과사전|\n",
    "|:--:|:--:|:--:|:--:|:--:|:--:|:--:|\n",
    "|부피|\t4|\t2|\t6|\t4|\t2|\t10|\n",
    "|절박도|\t7|\t10|\t6|\t7|\t5|\t4|  \n",
    "캐리어의 용량이 정해져 있기 때문에 가져갈 수 있는 물건들의 부피 합은 캐리어의 용량 w 이하여야 합니다. 이때 절박도를 최대화할 수 있는 물건들의 목록을 계산하는 프로그램을 작성하세요.  \n",
    "  \n",
    "### 출력  \n",
    "첫 줄에는 가져갈 수 있는 물건들의 최대 절박도 합과 가져갈 물건들의 개수를 출력합니다. 이후 한 줄에 하나씩 각 물건들의 이름을 출력합니다. 만약 절박도를 최대화하는 물건들의 조합이 여럿일 경우 아무 것이나 출력해도 좋습니다.  "
   ]
  },
  {
   "cell_type": "markdown",
   "metadata": {},
   "source": [
    "solution의   \n",
    "W : 캐리어의 용량  \n",
    "stuff_list : [물건이름, 부피, 절박도]를 가지는 가져가고 싶은 물건의 리스트  "
   ]
  },
  {
   "cell_type": "code",
   "execution_count": 1,
   "metadata": {
    "collapsed": true
   },
   "outputs": [],
   "source": [
    "from copy import deepcopy\n",
    "\n",
    "def solution(W, stuff_list):\n",
    "    max_weight = 0 # 최대 절박도\n",
    "    num_of_stuff = 0 # 캐리어 안의 물건 개수\n",
    "    stuffs = [] # 캐리어 안에 있는 물건들\n",
    "    for i in range(len(stuff_list)): # 가져가고 싶은 물건들에 대해서 반복\n",
    "        if W - stuff_list[i][1] >= 0: # 만약 i번째 물건을 캐리어에 넣을 수 있을 경우\n",
    "            temp_stuff_list = deepcopy(stuff_list)\n",
    "            temp_stuff_list.pop(i) # i 번째 물건을 제외한 리스트에서\n",
    "            weight_temp, num_stuff_temp, stuffs_temp = solution(W - stuff_list[i][1], temp_stuff_list)\n",
    "            # 재귀로써 i번 물건의 무게, i번 물건을 뺀 리스트에서 가져갈 수 있는 최대 절박도의 물품들\n",
    "            weight_temp += stuff_list[i][2]\n",
    "            if weight_temp > max_weight: # 만약 이번에 구한 절박도가 더 많을 때\n",
    "                stuffs = [stuff_list[i][0]] + stuffs_temp # 캐리어에 i물건을 포함한 물품 리스트 저장\n",
    "                max_weight = weight_temp # 최대 절박도 저장\n",
    "                num_of_stuff = 1+num_stuff_temp # 물품 수 1 증가\n",
    "    return max_weight, num_of_stuff, stuffs # 캐리어 가용 능력 하에 최대 절박도의 물품들을 반환"
   ]
  },
  {
   "cell_type": "code",
   "execution_count": 2,
   "metadata": {
    "collapsed": true
   },
   "outputs": [],
   "source": [
    "W = 10\n",
    "stuff_list = [[\"laptop\", 4, 7],\n",
    "[\"camera\", 2, 10],\n",
    "[\"xbox\", 6, 6],\n",
    "[\"grinder\", 4, 7],\n",
    "[\"dumbell\", 2, 5],\n",
    "[\"encyclopedia\", 10, 4]]"
   ]
  },
  {
   "cell_type": "code",
   "execution_count": 3,
   "metadata": {},
   "outputs": [
    {
     "data": {
      "text/plain": [
       "(24, 3, ['laptop', 'camera', 'grinder'])"
      ]
     },
     "execution_count": 3,
     "metadata": {},
     "output_type": "execute_result"
    }
   ],
   "source": [
    "solution(W, stuff_list)"
   ]
  },
  {
   "cell_type": "code",
   "execution_count": 4,
   "metadata": {
    "collapsed": true
   },
   "outputs": [],
   "source": [
    "W = 17\n",
    "stuff_list = [[\"laptop\", 4, 7],\n",
    "[\"camera\", 2, 10],\n",
    "[\"xbox\", 6, 6],\n",
    "[\"grinder\", 4, 7],\n",
    "[\"dumbell\", 2, 5],\n",
    "[\"encyclopedia\", 10, 4]]"
   ]
  },
  {
   "cell_type": "code",
   "execution_count": 5,
   "metadata": {},
   "outputs": [
    {
     "data": {
      "text/plain": [
       "(30, 4, ['laptop', 'camera', 'xbox', 'grinder'])"
      ]
     },
     "execution_count": 5,
     "metadata": {},
     "output_type": "execute_result"
    }
   ],
   "source": [
    "solution(W, stuff_list)"
   ]
  }
 ],
 "metadata": {
  "kernelspec": {
   "display_name": "Python 3",
   "language": "python",
   "name": "python3"
  },
  "language_info": {
   "codemirror_mode": {
    "name": "ipython",
    "version": 3
   },
   "file_extension": ".py",
   "mimetype": "text/x-python",
   "name": "python",
   "nbconvert_exporter": "python",
   "pygments_lexer": "ipython3",
   "version": "3.6.3"
  }
 },
 "nbformat": 4,
 "nbformat_minor": 2
}
