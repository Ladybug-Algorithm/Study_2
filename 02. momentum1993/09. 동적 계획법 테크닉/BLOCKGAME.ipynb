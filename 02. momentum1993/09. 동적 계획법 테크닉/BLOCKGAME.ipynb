{
 "cells": [
  {
   "cell_type": "markdown",
   "metadata": {},
   "source": [
    "BLOCKGAME"
   ]
  },
  {
   "cell_type": "markdown",
   "metadata": {},
   "source": [
    "[algospot의 BLOCKGAME 링크](https://algospot.com/judge/problem/read/BLOCKGAME)\n",
    "  \n",
    "### 문제  \n",
    "시티빌과 비주얼드에 지친 진호와 현환이는 집에 굴러다니는 블럭들을 모아 새로운 게임을 하기로 했습니다. 5×5 크기의 게임판에서 시작해, 둘이 번갈아 가며 블럭을 하나씩 게임판에 내려놓습니다. 블럭은 L 모양으로 구성된 3칸짜리 블럭과 2칸짜리 블럭이 있으며, 항상 게임판에 있는 줄에 맞춰 내려놓아야 합니다. 블럭들은 서로 겹칠 수 없습니다. 다음 그림은 진행중인 게임판의 모습을 보여줍니다.  \n",
    "![](http://algospot.com/media/judge-attachments/065ff270c832fbe7dbc54af1227ddd5b/midgame.png)  \n",
    "그림에서 보이는 바와 같이 각 블록은 자유롭게 뒤집거나 회전해서 올려놓을 수 있습니다. 두 사람이 번갈아가며 블록을 올려놓다가 더 올려놓을 수 없게 되면 마지막에 올려놓은 사람이 승리합니다. 진행 중인 게임판이 주어질 때 이번 차례인 사람이 승리할 수 있는 방법이 있는지를 판단하는 프로그램을 작성하세요.  \n",
    "     \n",
    "### 출력   \n",
    "이번 차례인 사람이 항상 이길 수 있는 방법이 있다면 WINNING을, 항상 질 수밖에 없다면 LOSING을 출력합니다.  "
   ]
  },
  {
   "cell_type": "markdown",
   "metadata": {},
   "source": [
    "solution의  \n",
    "game_map : 5X5 크기 게임판  "
   ]
  },
  {
   "cell_type": "code",
   "execution_count": 1,
   "metadata": {},
   "outputs": [],
   "source": [
    "def solution(game_map):\n",
    "    return \"WINNING\" if block_game(game_map) == 1 else \"LOSING\"\n",
    "    # 1을 반환시 이기고, -1의 경우 지는 것이다.\n",
    "\n",
    "def block_game(game_map, mem=None, state=None, num_of_dot= 0):\n",
    "    if mem is None: # 메모이재이션 및 인덱스 초기화\n",
    "        mem = [0 for _ in range(1 << 25)]\n",
    "        state = ''\n",
    "        for i in game_map:\n",
    "            for j in i:\n",
    "                if j == '#':\n",
    "                    state += '1'\n",
    "                else:\n",
    "                    state += '0'\n",
    "                    num_of_dot += 1\n",
    "        # '.'의 경우 0, '#'의 경우 1을 마킹해서 25자리의 2진수로 맵을 표현한다.\n",
    "        state = int(state, 2) # 이진표현 state의 10진수 정수화\n",
    "    if mem[state] != 0: # 해당 상태가 이미 계산된 경우\n",
    "        return mem[state] # 계산된 값을 반환\n",
    "    if num_of_dot < 2: # 만약 남은 칸 수가 2 이하라면\n",
    "        mem[state] = -1 # 현재 턴의 사람이 진것이다.\n",
    "        return mem[state] # 졌다는 -1값을 반환\n",
    "    \n",
    "    answer = -1 # 일단 질 경우로 답을 초기화\n",
    "    for i in range(5):\n",
    "        if answer == 1: break # 만약 이길 수 있는 방법이 있다면 바로 for문을 나간다.\n",
    "        for j in range(5):\n",
    "            if i>0 and j<4 and check_null(state, i-1, j) and check_null(state, i, j) and check_null(state, i, j+1):\n",
    "                new_state = state | ((1 << (i-1)*5+j) + (1 << (i)*5+j) + (1 << (i)*5+(j+1)))\n",
    "                answer = max(answer, -block_game(game_map, mem, new_state, num_of_dot-3))\n",
    "                if answer == 1: break\n",
    "            if j<4 and i<4 and check_null(state, i, j+1) and check_null(state, i, j) and check_null(state, i+1, j):\n",
    "                new_state = state | ((1 << (i)*5+(j+1)) + (1 << (i)*5+j) + (1 << (i+1)*5+(j)))\n",
    "                answer = max(answer, -block_game(game_map, mem, new_state, num_of_dot-3))\n",
    "                if answer == 1: break\n",
    "            if i<4 and j>0 and check_null(state, i+1, j) and check_null(state, i, j) and check_null(state, i, j-1):\n",
    "                new_state = state | ((1 << (i+1)*5+(j)) + (1 << (i)*5+j) + (1 << (i)*5+(j-1)))\n",
    "                answer = max(answer, -block_game(game_map, mem, new_state, num_of_dot-3))\n",
    "                if answer == 1: break\n",
    "            if j>0 and i>0 and check_null(state, i, j-1) and check_null(state, i, j) and check_null(state, i-1, j):\n",
    "                new_state = state | ((1 << (i)*5+(j-1)) + (1 << (i)*5+j) + (1 << (i-1)*5+(j)))\n",
    "                answer = max(answer, -block_game(game_map, mem, new_state, num_of_dot-3))\n",
    "                if answer == 1: break\n",
    "            # L자의 3칸을 차지하는 블록에 대해서는 4가지 경우가 나오며, 해당 경우에 대해 재귀\n",
    "            if i<4 and check_null(state, i, j) and check_null(state, i+1, j):\n",
    "                new_state = state | ((1 << (i)*5+j) + (1 << (i+1)*5+(j)))\n",
    "                answer = max(answer, -block_game(game_map, mem, new_state, num_of_dot-2))\n",
    "                if answer == 1: break\n",
    "            if j<4 and check_null(state, i, j) and check_null(state, i, j+1):\n",
    "                new_state = state | ((1 << (i)*5+j) + (1 << (i)*5+(j+1)))\n",
    "                answer = max(answer, -block_game(game_map, mem, new_state, num_of_dot-2))\n",
    "                if answer == 1: break\n",
    "            # ㅡ자의 2칸을 차지하는 블록에 대해서는 2가지 경우가 나오며, 해당 경우에 대해 재귀\n",
    "    mem[state] = answer # 답을 메모이재이션 리스트에 저장\n",
    "    return answer # 그리고 답 반환\n",
    "\n",
    "def check_null(state, i, j): # 해당 상태의 맵에서, (i,j) 좌표가 비어져있는지 체크\n",
    "    if state - (state & (1 << (i*5+j))) == state: # 비트 연산을 통해서 해당 좌표 비었는지 체크\n",
    "        return True # 비었다면 True\n",
    "    else:\n",
    "        return False # 차있다면 False"
   ]
  },
  {
   "cell_type": "code",
   "execution_count": 2,
   "metadata": {
    "collapsed": true
   },
   "outputs": [],
   "source": [
    "game_map = [[\".\",\".\",\".\",\".\",\".\"],\n",
    "            [\".\",\"#\",\"#\",\".\",\".\"],\n",
    "            [\"#\",\"#\",\".\",\".\",\"#\"],\n",
    "            [\"#\",\".\",\"#\",\"#\",\"#\"],\n",
    "            [\".\",\".\",\"#\",\".\",\".\"]]"
   ]
  },
  {
   "cell_type": "code",
   "execution_count": 3,
   "metadata": {},
   "outputs": [
    {
     "data": {
      "text/plain": [
       "'WINNING'"
      ]
     },
     "execution_count": 3,
     "metadata": {},
     "output_type": "execute_result"
    }
   ],
   "source": [
    "solution(game_map)"
   ]
  },
  {
   "cell_type": "code",
   "execution_count": 4,
   "metadata": {
    "collapsed": true
   },
   "outputs": [],
   "source": [
    "game_map = [[\"#\",\".\",\".\",\"#\",\"#\"],\n",
    "            [\"#\",\"#\",\".\",\"#\",\"#\"],\n",
    "            [\"#\",\"#\",\".\",\"#\",\"#\"],\n",
    "            [\"#\",\".\",\".\",\".\",\"#\"],\n",
    "            [\"#\",\"#\",\".\",\"#\",\"#\"]]"
   ]
  },
  {
   "cell_type": "code",
   "execution_count": 5,
   "metadata": {
    "scrolled": true
   },
   "outputs": [
    {
     "data": {
      "text/plain": [
       "'WINNING'"
      ]
     },
     "execution_count": 5,
     "metadata": {},
     "output_type": "execute_result"
    }
   ],
   "source": [
    "solution(game_map)"
   ]
  },
  {
   "cell_type": "code",
   "execution_count": 6,
   "metadata": {
    "collapsed": true
   },
   "outputs": [],
   "source": [
    "game_map = [[\".\",\".\",\".\",\".\",\".\"],\n",
    "            [\".\",\".\",\".\",\".\",\".\"],\n",
    "            [\".\",\".\",\".\",\".\",\".\"],\n",
    "            [\".\",\".\",\".\",\".\",\".\"],\n",
    "            [\".\",\".\",\".\",\".\",\".\"]]"
   ]
  },
  {
   "cell_type": "code",
   "execution_count": 7,
   "metadata": {},
   "outputs": [
    {
     "data": {
      "text/plain": [
       "'LOSING'"
      ]
     },
     "execution_count": 7,
     "metadata": {},
     "output_type": "execute_result"
    }
   ],
   "source": [
    "solution(game_map) # 굉장히 오래 걸린다. -> 복잡도 더 줄일 것"
   ]
  }
 ],
 "metadata": {
  "kernelspec": {
   "display_name": "Python 3",
   "language": "python",
   "name": "python3"
  },
  "language_info": {
   "codemirror_mode": {
    "name": "ipython",
    "version": 3
   },
   "file_extension": ".py",
   "mimetype": "text/x-python",
   "name": "python",
   "nbconvert_exporter": "python",
   "pygments_lexer": "ipython3",
   "version": "3.6.3"
  }
 },
 "nbformat": 4,
 "nbformat_minor": 2
}
