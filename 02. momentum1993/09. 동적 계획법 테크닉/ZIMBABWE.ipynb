{
 "cells": [
  {
   "cell_type": "markdown",
   "metadata": {},
   "source": [
    "ZIMBABWE"
   ]
  },
  {
   "cell_type": "markdown",
   "metadata": {},
   "source": [
    "[algospot의 ZIMBABWE 링크](https://algospot.com/judge/problem/read/ZIMBABWE)\n",
    "  \n",
    "### 문제  \n",
    "계란 한 개에 _ _ _ _ _ _ _ _ _ _ _ _ _ 웨브바짐 달러!  \n",
    "계획 경제의 실패로 세계 최고의 인플레이션을 자랑하게 된 공산 국가 웨브바짐에서는 하루 중에도 물가가 계속 오르기 때문에 물건의 가격을 실시간으로 바꿔야 합니다. 웨브바짐에서 가장 큰 무가베 마트에서는 그래서 위와 같이 빈 칸만 쓰여 있는 광고판을 붙여놓고 계란 가격이 오름에 따라 (정확히는 웨브바짐 달러의 가치가 추락함에 따라) 실시간으로 숫자가 크게 적힌 플라스틱 판을 빈 칸에 갈아 끼웁니다. 예를 들어 계란 한 개에 35억 웨브바짐 달러라고 하면, 3이 쓰인 판 한 개, 5가 쓰인 판 한 개, 0이 쓰인 판 여덟 개를 빈칸에 순서대로 끼우는 것이죠.  \n",
    "  \n",
    "무가베 마트에서 아르바이트를 하는 종욱이는 어느 날 곤란한 손님을 맞았습니다. 이 손님은 아까 사 갔던 계란을 환불하겠다고 돌아왔는데, 영수증을 잃어버린데다 계란을 얼마에 샀는지를 기억하지도 못한다고 하는군요. 계란 값은 그 사이 한 번 또 올랐기 때문에 광고판에 적힌 가격은 이미 바뀐 뒤입니다. 다행히 종욱이는 두 가지를 기억합니다.  \n",
    "  \n",
    "마지막에 계란 가격이 올랐을 때, 종욱이는 광고판에 꽂힌 플라스틱 판의 순서만 바꿨습니다. 다른 플라스틱 판을 가져오거나 있던 플라스틱 판을 뺄 일은 없었다는 것이죠.\n",
    "마지막 계란 가격을 보면서 '와 이거면 정확히 사탕 m개를 살 수 있구나' 라고 생각했습니다. 따라서 마지막 계란 가격은 m의 배수였습니다. (사탕 가격도 이미 올랐기 때문에 이걸 가지고 계란 가격을 계산할 수는 없습니다)  \n",
    "지금 계란 가격 e와 m이 주어질 때 가능한 이전 계란 가격이 몇 가지나 있는지 계산하는 프로그램을 작성하세요. 이전 계란 가격은 e 보다 항상 작아야 합니다.  \n",
    "   \n",
    "### 출력   \n",
    "한 줄에 가능한 가격의 수를 1,000,000,007 로 나눈 나머지를 출력하세요.    "
   ]
  },
  {
   "cell_type": "markdown",
   "metadata": {},
   "source": [
    "solution의  \n",
    "e : 현재 오른 계란 가격  \n",
    "m : 과거 계란 가격으로 살 수 있었던 캔디의 수 m  \n",
    "e와 m (1 <= e <= 10^14, 2 <= m <= 20)    "
   ]
  },
  {
   "cell_type": "code",
   "execution_count": 349,
   "metadata": {
    "collapsed": true
   },
   "outputs": [],
   "source": [
    "def solution(e, m):\n",
    "    remain = '' # 이진수로 해당 인덱스에 대해서 사용된 자리수를 표현할 것임 (0일 경우 사용됨. 1일 경우 남음)\n",
    "    for i in range(len(str(e))):\n",
    "        remain += '1' # e의 자리수만큼 '1'을 더해줌\n",
    "    mem = [[[-1 for _ in range(2)] for _ in range(m)] for _ in range(1 << len(str(e)))]\n",
    "    # mem[이진수로 표현된 사용된 자리수값을 십진수화][현재 보고 있는 값을 m으로 나눈 나머지 값][현재 만들고 있는 값이 기준값보다 작은지 여부]\n",
    "    # 메모이재이션\n",
    "    answer = cost_before(str(e), m, 0, remain, mem) # 답 구하기\n",
    "    return answer\n",
    "    \n",
    "def cost_before(e, m, price, remain, mem, less = 0, index = 0):\n",
    "    if mem[int(remain, base=2)][price][less] != -1: # 만약 이미 계산한 값이라면\n",
    "        return mem[int(remain, base=2)][price][less] # 계산해놓은 값 반환\n",
    "    \n",
    "    if index == len(e): # 만약 끝까지 모두 탐색했다면\n",
    "        if less == 1 and price == 0: # 기준값보다 작고, 나머지가 0일 경우\n",
    "            mem[int(remain, base=2)][price][less] = 1 # 1을 반환\n",
    "            return 1\n",
    "        else: # 아니라면\n",
    "            mem[int(remain, base=2)][price][less] = 0 # 0을 반환\n",
    "            return 0\n",
    "        \n",
    "    mem[int(remain, base=2)][price][less] = 0 # 일단 메모이재이션 값을 0으로 초기화\n",
    "    digit_list = [] # 중복 확인할 리스트\n",
    "    for i in range(len(remain)):\n",
    "        if remain[i] == '1': # 만약 현재 선택할 수 있는 수라면\n",
    "            if e[i] in digit_list: # 중복일 경우 continue\n",
    "                continue\n",
    "            digit_list.append(e[i]) # 아니라면 후에 중복 판별 위해 리스트에 넣어놓는다.\n",
    "            if less == 0 and int(e[index]) < int(e[i]): # 만약 기준 값보다 크다면 continue\n",
    "                continue\n",
    "            less_temp = 0\n",
    "            if (int(e[index]) > int(e[i]) or less == 1): #  기준 값보다 작다면 작다고 체크해줌\n",
    "                less_temp = 1\n",
    "            next_price = ((price * 10) + int(e[i])) % m # 값에 대해서 다음 자리 수를 갖고와서 다시 나머지를 구해준다.\n",
    "            remain_temp = remain[: i] + '0' + remain[i+1:] # 선택한 수에 대해서는 해당 자리를 0으로 바꿔줌\n",
    "            mem[int(remain, base=2)][price][less] += cost_before(e, m, next_price, remain_temp, mem, less_temp, index + 1)\n",
    "            # 재귀로 현재 자리 수에 대해서 가능한 숫자를 뒤에 붙여서 계산을 이어나감\n",
    "            mem[int(remain, base=2)][price][less] %= 1000000007 # 문제 조건대로 해당 숫자의 나머지를 계산함\n",
    "    return mem[int(remain, base=2)][price][less] # 답 반환"
   ]
  },
  {
   "cell_type": "code",
   "execution_count": 350,
   "metadata": {
    "collapsed": true
   },
   "outputs": [],
   "source": [
    "e = 321\n",
    "m = 3"
   ]
  },
  {
   "cell_type": "code",
   "execution_count": 351,
   "metadata": {
    "scrolled": true
   },
   "outputs": [
    {
     "data": {
      "text/plain": [
       "5"
      ]
     },
     "execution_count": 351,
     "metadata": {},
     "output_type": "execute_result"
    }
   ],
   "source": [
    "solution(e, m)"
   ]
  },
  {
   "cell_type": "code",
   "execution_count": 352,
   "metadata": {
    "collapsed": true
   },
   "outputs": [],
   "source": [
    "e = 123\n",
    "m = 3"
   ]
  },
  {
   "cell_type": "code",
   "execution_count": 353,
   "metadata": {},
   "outputs": [
    {
     "data": {
      "text/plain": [
       "0"
      ]
     },
     "execution_count": 353,
     "metadata": {},
     "output_type": "execute_result"
    }
   ],
   "source": [
    "solution(e, m)"
   ]
  },
  {
   "cell_type": "code",
   "execution_count": 354,
   "metadata": {
    "collapsed": true
   },
   "outputs": [],
   "source": [
    "e = 422\n",
    "m = 2"
   ]
  },
  {
   "cell_type": "code",
   "execution_count": 355,
   "metadata": {},
   "outputs": [
    {
     "data": {
      "text/plain": [
       "2"
      ]
     },
     "execution_count": 355,
     "metadata": {},
     "output_type": "execute_result"
    }
   ],
   "source": [
    "solution(e, m)"
   ]
  },
  {
   "cell_type": "code",
   "execution_count": 356,
   "metadata": {
    "collapsed": true
   },
   "outputs": [],
   "source": [
    "e = 12738173912\n",
    "m = 7"
   ]
  },
  {
   "cell_type": "code",
   "execution_count": 357,
   "metadata": {},
   "outputs": [
    {
     "data": {
      "text/plain": [
       "11033"
      ]
     },
     "execution_count": 357,
     "metadata": {},
     "output_type": "execute_result"
    }
   ],
   "source": [
    "solution(e, m)"
   ]
  }
 ],
 "metadata": {
  "kernelspec": {
   "display_name": "Python 3",
   "language": "python",
   "name": "python3"
  },
  "language_info": {
   "codemirror_mode": {
    "name": "ipython",
    "version": 3
   },
   "file_extension": ".py",
   "mimetype": "text/x-python",
   "name": "python",
   "nbconvert_exporter": "python",
   "pygments_lexer": "ipython3",
   "version": "3.6.3"
  }
 },
 "nbformat": 4,
 "nbformat_minor": 2
}
