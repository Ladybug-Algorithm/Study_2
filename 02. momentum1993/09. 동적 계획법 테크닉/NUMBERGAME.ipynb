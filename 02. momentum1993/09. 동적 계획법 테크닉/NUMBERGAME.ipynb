{
 "cells": [
  {
   "cell_type": "markdown",
   "metadata": {},
   "source": [
    "NUMBERGAME"
   ]
  },
  {
   "cell_type": "markdown",
   "metadata": {},
   "source": [
    "[algospot의 NUMBERGAME 링크](https://algospot.com/judge/problem/read/NUMBERGAME)\n",
    "  \n",
    "### 문제  \n",
    "n개의 정수를 일렬로 늘어놓은 게임판을 가지고 현우와 서하가 게임을 합니다. 게임은 현우부터 시작해서 번갈아가며 진행하며, 각 참가자는 자기 차례마다 두 가지 일 중 하나를 할 수 있습니다.  \n",
    "  \n",
    "게임판의 왼쪽 끝에 있는 숫자나 오른쪽 끝에 있는 숫자 중 하나를 택해 가져갑니다. 가져간 숫자는 게임판에서 지워집니다.  \n",
    "게임판에 두 개 이상의 숫자가 있을 경우, 왼쪽 끝에서 2개, 혹은 오른쪽 끝에서 2개를 지웁니다.  \n",
    "게임은 모든 숫자가 다 없어졌을 때 끝나며, 각 사람의 점수는 자신이 가져간 숫자들의 합입니다. 현우와 서하는 점수가 더 낮은 쪽이 점수 높은 쪽에 한 점 차이마다 백 원씩 주기로 내기를 했습니다. 두 사람 모두 최선을 다할 때, 두 사람의 최종 점수 차이는 얼마일까요?   \n",
    "   \n",
    "### 출력   \n",
    "두 사람이 최선을 다했을 때 현우가 서하보다 몇 점 더 얻을 수 있는지를 출력합니다.  "
   ]
  },
  {
   "cell_type": "markdown",
   "metadata": {},
   "source": [
    "solution의  \n",
    "game_map : 게임판  \n",
    "left : 현재 봐야하는 게임판의 왼쪽 끝 인덱스  \n",
    "right : 현재 봐야하는 게임판의 오른쪽 끝 인덱스  \n",
    "mem : 메모이재이션  "
   ]
  },
  {
   "cell_type": "code",
   "execution_count": 1,
   "metadata": {},
   "outputs": [],
   "source": [
    "import sys\n",
    "\n",
    "def solution(game_map, left=None, right=None, mem=None):\n",
    "    if mem is None: # 메모이재이션 및 인덱스 초기화\n",
    "        left = 0 # 왼쪽 인덱스 0\n",
    "        right = len(game_map)-1 # 오른쪽 인덱스는 \n",
    "        mem = [[-sys.maxsize for _ in range(len(game_map))] for _ in range(len(game_map))]\n",
    "        # 모두 최소값으로 초기화\n",
    "    if game_map[left:right+1] == []: # 만약 끝까지 다 봤다면 (base case)\n",
    "        return 0 # 0을 반환\n",
    "    if mem[left][right] != -sys.maxsize : #만약 이미 캐시된 데이터가 있으면\n",
    "        return mem[left][right] #그 데이터를 반환\n",
    "    \n",
    "    mem[left][right] = max(game_map[left] - solution(game_map, left+1, right, mem),\n",
    "                           game_map[right] - solution(game_map, left, right-1, mem))\n",
    "    # 왼쪽이나 오른쪽 중 하나의 숫자를 골라 합쳐준다.\n",
    "    # 다음턴에서 오는 재귀함수의 값은 turn이 바뀌기 때문에 상대편의 점수는 -해서 받는다.\n",
    "    \n",
    "    if left <= right-2: # 만약 남은 칸이 2칸 이상이라면\n",
    "        mem[left][right] = max(mem[left][right],\n",
    "                               -solution(game_map, left+2, right, mem),\n",
    "                               -solution(game_map, left, right-2, mem))\n",
    "        # 왼쪽이나 오른쪽 중 2개의 숫자를 지우는 경우도 포함한다.\n",
    "    #그래서 이러한 것들 중 최대값을 받아 반환한다.\n",
    "    return mem[left][right]\n",
    "    "
   ]
  },
  {
   "cell_type": "code",
   "execution_count": 2,
   "metadata": {
    "collapsed": true
   },
   "outputs": [],
   "source": [
    "game_map = [-1000, -1000, -3, -1000, -1000]"
   ]
  },
  {
   "cell_type": "code",
   "execution_count": 3,
   "metadata": {},
   "outputs": [
    {
     "data": {
      "text/plain": [
       "-1000"
      ]
     },
     "execution_count": 3,
     "metadata": {},
     "output_type": "execute_result"
    }
   ],
   "source": [
    "solution(game_map)"
   ]
  },
  {
   "cell_type": "code",
   "execution_count": 4,
   "metadata": {
    "collapsed": true
   },
   "outputs": [],
   "source": [
    "game_map = [100, -1000, -1000, 100, -1000, -1000]"
   ]
  },
  {
   "cell_type": "code",
   "execution_count": 5,
   "metadata": {},
   "outputs": [
    {
     "data": {
      "text/plain": [
       "1100"
      ]
     },
     "execution_count": 5,
     "metadata": {},
     "output_type": "execute_result"
    }
   ],
   "source": [
    "solution(game_map)"
   ]
  },
  {
   "cell_type": "code",
   "execution_count": 6,
   "metadata": {
    "collapsed": true
   },
   "outputs": [],
   "source": [
    "game_map = [7, -5, 8, 5, 1, -4, -8, 6, 7, 9]"
   ]
  },
  {
   "cell_type": "code",
   "execution_count": 7,
   "metadata": {},
   "outputs": [
    {
     "data": {
      "text/plain": [
       "7"
      ]
     },
     "execution_count": 7,
     "metadata": {},
     "output_type": "execute_result"
    }
   ],
   "source": [
    "solution(game_map)"
   ]
  }
 ],
 "metadata": {
  "kernelspec": {
   "display_name": "Python 3",
   "language": "python",
   "name": "python3"
  },
  "language_info": {
   "codemirror_mode": {
    "name": "ipython",
    "version": 3
   },
   "file_extension": ".py",
   "mimetype": "text/x-python",
   "name": "python",
   "nbconvert_exporter": "python",
   "pygments_lexer": "ipython3",
   "version": "3.6.3"
  }
 },
 "nbformat": 4,
 "nbformat_minor": 2
}
