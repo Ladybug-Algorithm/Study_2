{
 "cells": [
  {
   "cell_type": "markdown",
   "metadata": {},
   "source": [
    "RESTORE"
   ]
  },
  {
   "cell_type": "markdown",
   "metadata": {},
   "source": [
    "[algospot의 RESTORE 링크](https://algospot.com/judge/problem/read/RESTORE)\n",
    "  \n",
    "### 문제  \n",
    "토요일에 출근해서 연구실에서 놀고 있던 대학원생 진호는 실수로 실험에 사용하던 데이터를 삭제하고 말았습니다. 복사본도 없는 터라 이대로라면 교수님의 진노를 한 몸에 받을 것은 자명한 일, 따라서 진호는 그럴 듯해 보이는 데이터를 위조하여 교수님의 분노를 피해 가기로 합니다. 우리가 데이터에 대해 알고있는 것은, 데이터가 k개의 문자열 조각을 부분 문자열로 포함하며, 모두 알파벳 소문자로 구성된다는 사실 밖에 없습니다. (어떤 문자열의 부분 문자열은 해당 문자열의 연속된 일부분입니다.)  \n",
    "  \n",
    "주어진 문자열 조각들을 모두 부분 문자열로 포함하는 문자열 중 가장 짧은 것을 계산하는 프로그램을 작성하세요. 만약 이와 같은 문자열이 여럿이라면 아무 문자열이나 출력하면 됩니다.  \n",
    "   \n",
    "### 출력   \n",
    "한 줄로, 해당 문자열을 모두 포함하는 가장 짧은 문자열 중 하나를 출력합니다.      "
   ]
  },
  {
   "cell_type": "markdown",
   "metadata": {},
   "source": [
    "solution의  \n",
    "pieces : 문자열 조각의 리스트"
   ]
  },
  {
   "cell_type": "code",
   "execution_count": 1,
   "metadata": {},
   "outputs": [],
   "source": [
    "from copy import deepcopy\n",
    "\n",
    "def solution(pieces, mem = None, overlap=None):\n",
    "    if mem is None : # 메모이재이션 초기화\n",
    "        remove_list = []\n",
    "        for i in range(len(pieces)):\n",
    "            for j in range(len(pieces)):\n",
    "                if i != j and pieces[j] in pieces[i]:\n",
    "                    remove_list.append(pieces[j])\n",
    "        for i in remove_list: \n",
    "            pieces.remove(i) # 포함되는 단어들은 제거\n",
    "\n",
    "        mem = [[-1 for _ in range(1 << len(pieces))] for _ in range(len(pieces))] # 메모이재이션 리스트\n",
    "        overlap = [[0 for _ in range(len(pieces))] for _ in range(len(pieces))] # overlap[단어1][단어2] = 단어1과 2 사이에 겹치는 글자수\n",
    "        for i in range(len(pieces)):\n",
    "            for j in range(len(pieces)):\n",
    "                if i == j:\n",
    "                    continue\n",
    "                else:\n",
    "                    index = len(pieces[i])-1\n",
    "                    for k in range(len(pieces[j])-1, -1, -1):\n",
    "                        if pieces[j][k] == pieces[i][index]:\n",
    "                            overlap[i][j] += 1\n",
    "                            index -= 1\n",
    "                        else:\n",
    "                            overlap[i][j] = 0\n",
    "        # overlap되는 단어 수를 저장해줌.\n",
    "    answer = pieces[0] + reconstruct(len(pieces), pieces, 0, 1 << 0, mem, overlap)\n",
    "    for i in range(1, len(pieces)):\n",
    "        temp_answer = pieces[1] + reconstruct(len(pieces), pieces, i, 1 << i, mem, overlap) \n",
    "        if len(answer) > len(temp_answer):\n",
    "            answer = temp_answer # 첫번째부터 끝까지 최소 길이 단어를 찾음\n",
    "    return answer # 최소 길이 단어 반환\n",
    "        \n",
    "def restore(pieces_num, last, used, mem, overlap):\n",
    "    if used == (1 << pieces_num)-1 : return 0 # 만약 모든 부분단어를 모두 사용했을 경우 ex) 부분단어 3개 -> 111 일경우 모두 사용한것임\n",
    "    if mem[last][used] != -1: \n",
    "        return mem[last][used] # 메모이재이션으로 이미 저장한 것은 바로 리턴\n",
    "    mem[last][used] = 0 # 메모이재이션 초기화\n",
    "    for next_one in range(pieces_num):\n",
    "        if used & (1<< next_one) == 0: # 만약 next_one 번째 단어가 아직 쓰이지 않았다면\n",
    "            mem[last][used] = max(mem[last][used], overlap[last][next_one] + restore(pieces_num ,next_one, used + (1 << next_one), mem, overlap)\n",
    "            ) # 쓰이지 않은 단어들 중에 가장 많은 overlap을 반환해주는 것을 사용\n",
    "    return mem[last][used] # 그리고 반환해줌\n",
    "\n",
    "def reconstruct(pieces_num, pieces, last, used, mem, overlap):\n",
    "    if used == (1 << pieces_num) -1: # 만약 모든 단어가 사용된 상태라면 리턴 (base case)\n",
    "        return \"\"\n",
    "    for next_one in range(pieces_num): # 모든 부분 단어에 대해서\n",
    "        if used & (1 << next_one): continue # 쓰인 부분단어라면 다음 단어로 넘김\n",
    "        ifUsed = restore(pieces_num, next_one, used + (1<<next_one), mem, overlap) + overlap[last][next_one]\n",
    "        if restore(pieces_num, last, used, mem, overlap) == ifUsed: # 만약 최적해와 같은 답이 나온다면 나중에 나온 답으로 바꿔줌\n",
    "            return pieces[next_one][overlap[last][next_one]:] + reconstruct(pieces_num, pieces, next_one, used+(1<<next_one), mem, overlap)\n",
    "    return \"Error!!!\" # 이쪽으로 나오면 에러"
   ]
  },
  {
   "cell_type": "code",
   "execution_count": 2,
   "metadata": {
    "collapsed": true
   },
   "outputs": [],
   "source": [
    "pieces = ['geo','oji','jing']"
   ]
  },
  {
   "cell_type": "code",
   "execution_count": 3,
   "metadata": {},
   "outputs": [
    {
     "data": {
      "text/plain": [
       "'geojing'"
      ]
     },
     "execution_count": 3,
     "metadata": {},
     "output_type": "execute_result"
    }
   ],
   "source": [
    "solution(pieces)"
   ]
  },
  {
   "cell_type": "code",
   "execution_count": 4,
   "metadata": {
    "collapsed": true
   },
   "outputs": [],
   "source": [
    "pieces = ['world','hello']"
   ]
  },
  {
   "cell_type": "code",
   "execution_count": 5,
   "metadata": {},
   "outputs": [
    {
     "data": {
      "text/plain": [
       "'worldhello'"
      ]
     },
     "execution_count": 5,
     "metadata": {},
     "output_type": "execute_result"
    }
   ],
   "source": [
    "solution(pieces)"
   ]
  },
  {
   "cell_type": "code",
   "execution_count": 6,
   "metadata": {
    "collapsed": true
   },
   "outputs": [],
   "source": [
    "pieces = ['abrac', 'cadabra', 'dabr']"
   ]
  },
  {
   "cell_type": "code",
   "execution_count": 7,
   "metadata": {},
   "outputs": [
    {
     "data": {
      "text/plain": [
       "'cadabrac'"
      ]
     },
     "execution_count": 7,
     "metadata": {},
     "output_type": "execute_result"
    }
   ],
   "source": [
    "solution(pieces)"
   ]
  }
 ],
 "metadata": {
  "kernelspec": {
   "display_name": "Python 3",
   "language": "python",
   "name": "python3"
  },
  "language_info": {
   "codemirror_mode": {
    "name": "ipython",
    "version": 3
   },
   "file_extension": ".py",
   "mimetype": "text/x-python",
   "name": "python",
   "nbconvert_exporter": "python",
   "pygments_lexer": "ipython3",
   "version": "3.6.3"
  }
 },
 "nbformat": 4,
 "nbformat_minor": 2
}
