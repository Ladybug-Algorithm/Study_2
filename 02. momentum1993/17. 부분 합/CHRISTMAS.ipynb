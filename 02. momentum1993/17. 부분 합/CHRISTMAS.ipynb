{
 "cells": [
  {
   "cell_type": "markdown",
   "metadata": {},
   "source": [
    "CHRISTMAS"
   ]
  },
  {
   "cell_type": "markdown",
   "metadata": {},
   "source": [
    "[algospot의 CHRISTMAS 링크](https://algospot.com/judge/problem/read/CHRISTMAS)  \n",
    "  \n",
    "### 문제  \n",
    "크리스마스를 맞이하여 산타 할아버지는 전세계의 착한 어린이 K명에게 인형을 사주려고 한다. 산타 할아버지는 인형을 구입하기 위해서 유명한 인형가게인 \"놀이터\"에 찾아갔다. 놀이터에는 N개의 인형 상자가 한 줄로 진열되어 있고, 각 인형 상자에는 한 개 이상의 인형이 들어 있다. 그리고 놀이터에서는 주문의 편의성을 위해 각 상자에 번호를 붙여 놓았고, 주문은 \"H번 상자부터 T번 상자까지 다 주세요.\"라고만 할 수 있다. (H ≤ T)  \n",
    "  \n",
    "산타 할아버지는 한 번 주문할 때마다, 주문한 상자에 있는 인형들을 모두 꺼내서 각각을 K명에게 정확히 같은 수만큼 나누어 주고, 남는 인형이 없도록 한다.  \n",
    "  \n",
    "1. 한 번 주문할 수 있다면, 가능한 주문 방법은 몇 가지인가?  \n",
    "2. 여러 번 주문할 수 있다면, 주문이 겹치지 않게 최대 몇 번 주문할 수 있는가?  \n",
    "    (주문이 겹친다는 것은 어떤 두 주문에 같은 번호의 인형 상자가 포함되는 것을 말한다.)  \n",
    "  \n",
    "### 출력  \n",
    "1번에 대한 답과 2번에 대한 답을 한 줄에 하나의 빈칸으로 나누어 출력한다. 1번 답은 매우 클 수 있으므로 20091101로 나눈 나머지를 출력한다.    "
   ]
  },
  {
   "cell_type": "markdown",
   "metadata": {},
   "source": [
    "solution의  \n",
    "n : 인형 상자의 수 $(1 \\leq n \\leq 100000)$   \n",
    "k : 어린이의 수 $(1 \\leq k \\leq 100000)$   \n",
    "doll_n : 1번 인형 상자부터 N번 인형 상자까지 각 인형 상자에 들어 있는 인형의 개수  \n",
    "$(1 \\leq doll$_$n_i \\leq 100000)$   \n",
    "  "
   ]
  },
  {
   "cell_type": "code",
   "execution_count": 1,
   "metadata": {},
   "outputs": [],
   "source": [
    "def how_many_ways(p_sum, k): # 1번 주문 시에 할 수 있는 주문 방법 횟수 반환\n",
    "    ways = 0 \n",
    "    count = [0 for _ in range(k)]\n",
    "    for i in p_sum: # k로 나눈 나머지가 같은 항목끼리 모아둔다.\n",
    "        count[i] += 1\n",
    "    \n",
    "    for i in range(k): # k로 나눈 나머지가 같은 항목들에 대해서\n",
    "        ways += (count[i] * (count[i] - 1)) / 2\n",
    "        # 같은 값을 가지는 항목들을 2개로 이루어진 쌍으로 만들 수 있는 개수 \n",
    "        # (2개의 쌍 -> 구간 성립)\n",
    "        ways %= 20091101\n",
    "        # 값이 커질 경우 20091101으로 나눈 나머지 저장\n",
    "    return ways\n",
    "\n",
    "def max_ways(p_sum, length): # 겹치지 않게 최대 주문 횟수 반환\n",
    "    answer = 0\n",
    "    if p_sum[length] == 0: # 0 ~ length 범위의 선물상자 주문이 가능할 때\n",
    "        answer = 1 \n",
    "    for i in range(1, length+1):\n",
    "        if p_sum[length] - p_sum[length-i] == 0:\n",
    "        # length-i+1 ~ length 범위의 선물상자 주문이 가능할 때\n",
    "            answer = max(answer, 1+max_ways(p_sum, length-i))\n",
    "            # 1 + (0 ~ length-i 범위의 선물상자 주문이 가능한 최대 횟수)\n",
    "            # answer\n",
    "            # 위의 2개의 값 중 최대값이 정답이 된다.\n",
    "    return answer\n",
    "\n",
    "def solution(n, k, doll_n):\n",
    "    answer_1, answer_2 = 0, 0\n",
    "    \n",
    "    #p_sum = [sum(doll_n[:i+1]) for i in range(n)]\n",
    "    p_sum = [] \n",
    "    temp = 0\n",
    "    for i in doll_n:\n",
    "        temp += i\n",
    "        p_sum.append(temp % k)\n",
    "    # p_sum[i]는 0 ~ i번째 상자까지의 선물들을 k명의 아이들에게 똑같이 나누어 준 후 남는 인형의 개수\n",
    "    # 즉, p_sum[j] - p_sum[i] == 0일 경우 i+1 ~ j번째 상자까지의 선물들을 아이들에게 똑같이 배분할 수 있다.\n",
    "    \n",
    "    answer_1 = how_many_ways(p_sum, k) # 1번 주문시 가능한 주문 방법 횟수\n",
    "    answer_2 = max_ways(p_sum, len(p_sum)-1) # 최대로 주문 가능한 횟수\n",
    "    return answer_1, answer_2\n",
    "            "
   ]
  },
  {
   "cell_type": "code",
   "execution_count": 2,
   "metadata": {},
   "outputs": [],
   "source": [
    "n = 6\n",
    "k = 4\n",
    "doll_n = [1, 2, 3, 4, 5, 6]"
   ]
  },
  {
   "cell_type": "code",
   "execution_count": 3,
   "metadata": {},
   "outputs": [
    {
     "data": {
      "text/plain": [
       "(3.0, 1)"
      ]
     },
     "execution_count": 3,
     "metadata": {},
     "output_type": "execute_result"
    }
   ],
   "source": [
    "solution(n, k, doll_n)"
   ]
  }
 ],
 "metadata": {
  "kernelspec": {
   "display_name": "Python 3",
   "language": "python",
   "name": "python3"
  },
  "language_info": {
   "codemirror_mode": {
    "name": "ipython",
    "version": 3
   },
   "file_extension": ".py",
   "mimetype": "text/x-python",
   "name": "python",
   "nbconvert_exporter": "python",
   "pygments_lexer": "ipython3",
   "version": "3.6.9"
  }
 },
 "nbformat": 4,
 "nbformat_minor": 2
}
