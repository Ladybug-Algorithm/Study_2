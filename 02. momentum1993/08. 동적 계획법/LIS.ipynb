{
 "cells": [
  {
   "cell_type": "markdown",
   "metadata": {},
   "source": [
    "LIS(Longest Increasing Sequence)"
   ]
  },
  {
   "cell_type": "markdown",
   "metadata": {},
   "source": [
    "[algospot의 LIS 링크](https://algospot.com/judge/problem/read/LIS)"
   ]
  },
  {
   "cell_type": "markdown",
   "metadata": {},
   "source": [
    "어떤 정수 수열에서 0개 이상의 숫자를 지우면 이 수열의 부분 수열 (subsequence) 를 얻을 수 있다. 예를 들어 10 7 4 9 의 부분 수열에는 7 4 9, 10 4, 10 9 등이 있다. 단, 10 4 7 은 원래 수열의 순서와 다르므로 10 7 4 9 의 부분 수열이 아니다.\n",
    "\n",
    "어떤 부분 수열이 순증가할 때 이 부분 수열을 증가 부분 수열 (increasing subsequence) 라고 한다. 주어진 수열의 증가 부분 수열 중 가장 긴 것의 길이를 계산하는 프로그램을 작성하라.\n",
    "\n",
    "어떤 수열의 각 수가 이전의 수보다 클 때, 이 수열을 순증가 한다고 한다."
   ]
  },
  {
   "cell_type": "markdown",
   "metadata": {},
   "source": [
    "solution함수의  \n",
    "seq : 증가 부분 배열을 확인할 배열을 가진 리스트  \n",
    "index : 현재 확인할 수열의 인덱스   "
   ]
  },
  {
   "cell_type": "code",
   "execution_count": 24,
   "metadata": {
    "collapsed": true
   },
   "outputs": [],
   "source": [
    "def solution(seq, memo=None, index = 0):\n",
    "    prev_seq_len = 0 # 다음 인덱스에서 만들어진 부분수열의 길이\n",
    "    if memo == None:  # 메모이재이션 적용할 리스트 초기화\n",
    "        memo = [0 for _ in range(len(seq))]\n",
    "    memo[index] = 1 # 부분수열의 길이는 1로 초기화\n",
    "    if index == len(seq) - 1: # 만약 수열의 끝에 도달했다면 수열 길이 1로 반환\n",
    "        return memo[index]\n",
    "    for next in range(1, len(seq)-index): # 다음 인덱스부터 끝인덱스의 수열까지 확인\n",
    "        prev_seq_len = solution(seq, memo, index+next) # 다음 인덱스에서부터 연결된 수열의 길이\n",
    "        memo[index] = max(memo[index], 1 + prev_seq_len) if seq[index+next] > seq[index] else memo[index]\n",
    "        # 현재 인덱스에서 연결되는 수열이며,\n",
    "        # 만약 수열의 다음 인덱스와 증가수열을 이룰 수 있다면 다음 인덱스 수열의 길이에 + 1 \n",
    "    if index == 0:\n",
    "        return max(memo) # 만약 수열을 모두 확인했다면 부분수열의 최대값 반환\n",
    "    else:\n",
    "        return memo[index] # 그렇지 않다면 현재 인덱스에서 만들어진 부분수열의 길이 반환"
   ]
  },
  {
   "cell_type": "code",
   "execution_count": 25,
   "metadata": {
    "collapsed": true
   },
   "outputs": [],
   "source": [
    "seq = [5, 4, 3, 2, 1, 6, 7, 8]\n",
    "seq = [5, 6, 7, 8, 1, 2, 3, 4]\n",
    "seq = [5, 6, 1, 2, 7, 8, 3, 4]"
   ]
  },
  {
   "cell_type": "code",
   "execution_count": 26,
   "metadata": {},
   "outputs": [
    {
     "data": {
      "text/plain": [
       "4"
      ]
     },
     "execution_count": 26,
     "metadata": {},
     "output_type": "execute_result"
    }
   ],
   "source": [
    "solution(seq)"
   ]
  }
 ],
 "metadata": {
  "kernelspec": {
   "display_name": "Python 3",
   "language": "python",
   "name": "python3"
  },
  "language_info": {
   "codemirror_mode": {
    "name": "ipython",
    "version": 3
   },
   "file_extension": ".py",
   "mimetype": "text/x-python",
   "name": "python",
   "nbconvert_exporter": "python",
   "pygments_lexer": "ipython3",
   "version": "3.6.3"
  }
 },
 "nbformat": 4,
 "nbformat_minor": 2
}
