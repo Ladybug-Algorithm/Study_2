{
 "cells": [
  {
   "cell_type": "markdown",
   "metadata": {},
   "source": [
    "SNAIL"
   ]
  },
  {
   "cell_type": "markdown",
   "metadata": {},
   "source": [
    "[algospot의 SNAIL 링크](https://www.algospot.com/judge/problem/read/SNAIL)"
   ]
  },
  {
   "cell_type": "markdown",
   "metadata": {},
   "source": [
    "깊이가 n 미터인 우물의 맨 밑바닥에 달팽이가 있습니다. 이 달팽이는 우물의 맨 위까지 기어올라가고 싶어하는데, 달팽이의 움직임은 그 날의 날씨에 좌우됩니다. 만약 비가 내리면 달팽이는 하루에 2미터를 기어올라갈 수 있지만, 날이 맑으면 1미터밖에 올라가지 못합니다.\n",
    "\n",
    "여름 장마가 찾아와, 앞으로 m 일간 각 날짜에 비가 올 확률이 정확히 75%일 전망입니다. m 일 안에 달팽이가 우물 끝까지 올라갈 확률을 계산하는 프로그램을 작성하세요."
   ]
  },
  {
   "cell_type": "markdown",
   "metadata": {},
   "source": [
    "solution함수의  \n",
    "  n : 우물의 맨 위까지 남은 미터 수  \n",
    "  m : 남은 날짜  \n",
    "  memo : 메모이재이션 적용할 이중 리스트  \n",
    "  plus : 날짜가 끝나기 전에 이미 우물 끝에 도달할 경우에는 계속 진행하면, n이 음수가 되어, 리스트에 넣지 못하기 때문에 메모이재이션 적용할 리스트 인덱스에 미리 plus를 더해 놓는다.  "
   ]
  },
  {
   "cell_type": "code",
   "execution_count": 1,
   "metadata": {
    "collapsed": true
   },
   "outputs": [],
   "source": [
    "def solution(n, m, memo=None, plus = 0):\n",
    "    if memo == None: # 메모이재이션 리스트 초기화\n",
    "        memo = [[-1 for _ in range(m+1)] for _ in range(2*n+1)]\n",
    "        plus = n # n에 대한 인덱스에 미리 n을 더해준다.\n",
    "     \n",
    "    if m == 0: # 만약 날짜 기한에 도달했을 경우\n",
    "        if n <= 0: # 달팽이가 우물 끝에 도달 했을 때\n",
    "            memo[n+plus][m] = 1 # 성공\n",
    "            return memo[n+plus][m]\n",
    "        else: # 달팽이가 우물 끝에 도달하지 못했을 때\n",
    "            memo[n+plus][m] = 0 # 실패\n",
    "            return memo[n+plus][m]\n",
    "    \n",
    "    rainy = 0.75 * memo[n+plus-2][m-1] if memo[n+plus-2][m-1] != -1 else 0.75 * solution(n-2, m-1, memo, plus)\n",
    "    # 75%로 비가 올 경우 하루에 2m씩 올라간다.\n",
    "    N_rainy = 0.25 * memo[n+plus-1][m-1] if memo[n+plus-1][m-1] != -1 else 0.25 * solution(n-1, m-1, memo, plus) \n",
    "    # 25%로 비가 오지 않을 경우 하루에 1m씩 올라간다.\n",
    "    memo[n+plus][m] = N_rainy + rainy # m일, n미터 남은 상황에서의 성공확률\n",
    "    return memo[n+plus][m]"
   ]
  },
  {
   "cell_type": "code",
   "execution_count": 2,
   "metadata": {},
   "outputs": [
    {
     "data": {
      "text/plain": [
       "0.99609375"
      ]
     },
     "execution_count": 2,
     "metadata": {},
     "output_type": "execute_result"
    }
   ],
   "source": [
    "solution(5,4)"
   ]
  },
  {
   "cell_type": "code",
   "execution_count": 3,
   "metadata": {},
   "outputs": [
    {
     "data": {
      "text/plain": [
       "0.84375"
      ]
     },
     "execution_count": 3,
     "metadata": {},
     "output_type": "execute_result"
    }
   ],
   "source": [
    "solution(5,3)"
   ]
  },
  {
   "cell_type": "code",
   "execution_count": 4,
   "metadata": {},
   "outputs": [
    {
     "data": {
      "text/plain": [
       "0.5625"
      ]
     },
     "execution_count": 4,
     "metadata": {},
     "output_type": "execute_result"
    }
   ],
   "source": [
    "solution(4,2)"
   ]
  },
  {
   "cell_type": "code",
   "execution_count": 5,
   "metadata": {},
   "outputs": [
    {
     "data": {
      "text/plain": [
       "0.9375"
      ]
     },
     "execution_count": 5,
     "metadata": {},
     "output_type": "execute_result"
    }
   ],
   "source": [
    "solution(3,2)"
   ]
  }
 ],
 "metadata": {
  "kernelspec": {
   "display_name": "Python 3",
   "language": "python",
   "name": "python3"
  },
  "language_info": {
   "codemirror_mode": {
    "name": "ipython",
    "version": 3
   },
   "file_extension": ".py",
   "mimetype": "text/x-python",
   "name": "python",
   "nbconvert_exporter": "python",
   "pygments_lexer": "ipython3",
   "version": "3.6.3"
  }
 },
 "nbformat": 4,
 "nbformat_minor": 2
}
