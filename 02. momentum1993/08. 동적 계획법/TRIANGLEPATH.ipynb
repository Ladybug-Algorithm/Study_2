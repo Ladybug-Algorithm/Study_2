{
 "cells": [
  {
   "cell_type": "markdown",
   "metadata": {},
   "source": [
    "TRIANGLEPATH"
   ]
  },
  {
   "cell_type": "markdown",
   "metadata": {},
   "source": [
    "[algospot의 TRIANGLEPATH 링크](https://algospot.com/judge/problem/read/TRIANGLEPATH)"
   ]
  },
  {
   "cell_type": "markdown",
   "metadata": {},
   "source": [
    "6  \n",
    "1  2  \n",
    "3  7  4  \n",
    "9  4  1  7  \n",
    "2  7  5  9  4  \n",
    "  \n",
    "위 형태와 같이 삼각형 모양으로 배치된 자연수들이 있습니다. 맨 위의 숫자에서 시작해, 한 번에 한 칸씩 아래로 내려가 맨 아래 줄로 내려가는 경로를 만들려고 합니다. 경로는 아래 줄로 내려갈 때마다 바로 아래 숫자, 혹은 오른쪽 아래 숫자로 내려갈 수 있습니다. 이 때 모든 경로 중 포함된 숫자의 최대 합을 찾는 프로그램을 작성하세요."
   ]
  },
  {
   "cell_type": "markdown",
   "metadata": {},
   "source": [
    "solution함수의  \n",
    "map_list : 삼각형 모양의 자연수들을 나타낸 이중 리스트"
   ]
  },
  {
   "cell_type": "code",
   "execution_count": 1,
   "metadata": {},
   "outputs": [],
   "source": [
    "def solution(map_list, memo=None, y=0, x=0):\n",
    "    if memo is None: # 처음에 메모이재이션을 할 리스트 초기화\n",
    "        memo = [[0 for _ in range(i)] for i in range(1, len(map_list)+1)]\n",
    "    if y == len(map_list) - 1: # basecase: 맨 마지막 줄에서는 자신의 값을 저장\n",
    "        memo[y][x] = map_list[y][x]\n",
    "        return memo[y][x]\n",
    "    if y+1 < len(map_list): # 맨 밑의 줄을 제외한 모든 줄에 대해서\n",
    "        if x+1 <= len(map_list[y]): # 가로로 갈 수 있는 인덱스에 대해서 \n",
    "            if memo[y+1][x] == 0: # 값이 없다면 재귀\n",
    "                memo[y+1][x] = solution(map_list, memo ,y+1, x)\n",
    "            if memo[y+1][x+1] == 0: # 값이 없다면 재귀\n",
    "                memo[y+1][x+1] = solution(map_list, memo, y+1, x+1)\n",
    "            memo[y][x] = map_list[y][x] + max(memo[y+1][x], memo[y+1][x+1])\n",
    "            # 바로 밑의 값과, 밑의 우측에 있는 값 중 최대값과 현재 값을 더한다.\n",
    "    return memo[y][x]\n",
    "            "
   ]
  },
  {
   "cell_type": "code",
   "execution_count": 2,
   "metadata": {},
   "outputs": [],
   "source": [
    "map_list = [[6],\n",
    "            [1, 2],\n",
    "            [3, 7, 4],\n",
    "            [9, 4, 1, 7],\n",
    "            [2, 7, 5, 9, 4]]\n",
    "\n",
    "map_list = [[1],\n",
    "            [2, 4],\n",
    "            [8, 16, 8],\n",
    "            [32, 64, 32, 64],\n",
    "            [128, 256, 128, 256, 128]]"
   ]
  },
  {
   "cell_type": "code",
   "execution_count": 3,
   "metadata": {},
   "outputs": [
    {
     "data": {
      "text/plain": [
       "341"
      ]
     },
     "execution_count": 3,
     "metadata": {},
     "output_type": "execute_result"
    }
   ],
   "source": [
    "solution(map_list)"
   ]
  }
 ],
 "metadata": {
  "kernelspec": {
   "display_name": "Python 3",
   "language": "python",
   "name": "python3"
  },
  "language_info": {
   "codemirror_mode": {
    "name": "ipython",
    "version": 3
   },
   "file_extension": ".py",
   "mimetype": "text/x-python",
   "name": "python",
   "nbconvert_exporter": "python",
   "pygments_lexer": "ipython3",
   "version": "3.6.3"
  }
 },
 "nbformat": 4,
 "nbformat_minor": 2
}
