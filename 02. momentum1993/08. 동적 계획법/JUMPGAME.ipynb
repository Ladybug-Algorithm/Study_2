{
 "cells": [
  {
   "cell_type": "markdown",
   "metadata": {},
   "source": [
    "JUMPGAME"
   ]
  },
  {
   "cell_type": "markdown",
   "metadata": {},
   "source": [
    "[algospot의 JUMPGAME 링크](https://algospot.com/judge/problem/read/JUMPGAME)\n",
    "\n",
    "![](http://algospot.com/media/judge-attachments/3a3560eb4194bc927e325514b88468df/jumpgame.png)  \n",
    "땅따먹기를 하다 질린 재하와 영훈이는 땅따먹기의 변종인 새로운 게임을 하기로 했습니다. 이 게임은 그림과 같이 n*n 크기의 격자에 각 1부터 9 사이의 정수를 쓴 상태로 시작합니다. 각 차례인 사람은 맨 왼쪽 윗 칸에서 시작해 외발로 뛰어서 오른쪽 아래 칸으로 내려가야 합니다. 이 때 각 칸에 적혀 있는 숫자만큼 오른쪽이나 아래 칸으로 움직일 수 있으며, 중간에 게임판 밖으로 벗어나면 안 됩니다.\n",
    "\n",
    "균형을 잃어서 다른 발로 서거나 넘어져도 게임에서 집니다만, 재하와 영훈이는 젊고 활기차기 때문에 외발로 뛰어다니는 것은 아무것도 아닙니다. 다만 걱정되는 것은 주어진 게임판에 시작점에서 끝점으로 가는 방법이 존재하지 않을 수도 있다는 것입니다. 예를 들어 그림 (a)의 게임판에서는 사각형으로 표시된 칸들을 통해 끝에 도달할 수 있지만, 숫자가 하나 바뀐 그림 (b)에서는 그럴 수가 없습니다.\n",
    "\n",
    "게임판이 주어질 때 왼쪽 위의 시작점에서 오른쪽 아래의 시작점에 도달할 수 있는 방법이 있는지 확인하는 프로그램을 작성하세요.  "
   ]
  },
  {
   "cell_type": "markdown",
   "metadata": {},
   "source": [
    "solution함수의  \n",
    "matrix : 게임 맵을 나타내는 이중 리스트  \n",
    "y : 시작하는 y좌표  \n",
    "x : 시작하는 x좌표  "
   ]
  },
  {
   "cell_type": "code",
   "execution_count": 17,
   "metadata": {
    "collapsed": true
   },
   "outputs": [],
   "source": [
    "# 먼저 재귀적인 풀이로 한 번 풀어보았다.\n",
    "\n",
    "def solution(matrix, y=0, x=0):\n",
    "    answer = False\n",
    "    if y == len(matrix) - 1 and x == len(matrix[0]) - 1: \n",
    "        # base case : 오른쪽 끝에 도달 할 경우 \"True\" 반환\n",
    "        return True\n",
    "    if y+matrix[y][x] >= 0 and y+matrix[y][x] < len(matrix): # y좌표 더한 경우(아래쪽 진행)\n",
    "        answer = solution(matrix, y+matrix[y][x], x) if answer == False else True\n",
    "    if x+matrix[y][x] >= 0 and x+matrix[y][x] < len(matrix[0]): # x좌표 더한 경우(우측 진행)\n",
    "        answer = solution(matrix, y, x+matrix[y][x]) if answer == False else True\n",
    "    return answer\n",
    "    "
   ]
  },
  {
   "cell_type": "code",
   "execution_count": 18,
   "metadata": {
    "collapsed": true
   },
   "outputs": [],
   "source": [
    "matrix = [[2, 5, 1, 6, 1, 4, 1],\n",
    "          [6, 1, 1, 2, 2, 9, 3],\n",
    "          [7, 2, 3, 2, 1, 3, 1],\n",
    "          [1, 1, 3, 1, 7, 1, 2],\n",
    "          [4, 1, 2, 3, 4, 1, 2],\n",
    "          [3, 3, 1, 2, 3, 4, 1],\n",
    "          [1, 5, 2, 9, 4, 7, 0]]"
   ]
  },
  {
   "cell_type": "code",
   "execution_count": 19,
   "metadata": {},
   "outputs": [
    {
     "data": {
      "text/plain": [
       "True"
      ]
     },
     "execution_count": 19,
     "metadata": {},
     "output_type": "execute_result"
    }
   ],
   "source": [
    "solution(matrix)"
   ]
  },
  {
   "cell_type": "code",
   "execution_count": 25,
   "metadata": {},
   "outputs": [],
   "source": [
    "# Memoization을 활용한 Dynamic Programming\n",
    "def solution(matrix, memo=None, y=0, x=0):\n",
    "    answer1, answer2 = False, False # 답을 담을 변수들\n",
    "    if memo is None: # 먼저 메모이재이션할 리스트 초기화\n",
    "        memo = [[None for _ in range(len(matrix[0]))] for _ in range(len(matrix))]\n",
    "    \n",
    "    if y == len(matrix) - 1 and x == len(matrix[0]) - 1: \n",
    "        # base case : 오른쪽 끝에 도달 할 경우 \"True\" 반환\n",
    "        memo[y][x] = True\n",
    "        return memo[y][x]\n",
    "    if memo[y][x] == None: # 만약 memo 상에 아직 값이 계산되지 않았다면\n",
    "        if y+matrix[y][x] >= 0 and y+matrix[y][x] < len(matrix): # y좌표 더한 경우(아래쪽 진행)\n",
    "            answer1 |= solution(matrix, memo, y+matrix[y][x], x)\n",
    "        if x+matrix[y][x] >= 0 and x+matrix[y][x] < len(matrix[0]): # x좌표 더한 경우(우측 진행)\n",
    "            answer2 |= solution(matrix, memo, y, x+matrix[y][x])   \n",
    "    memo[y][x] = answer1 or answer2 # 만약 하나라도 True라면 길이있기 때문에 or연산해준다.\n",
    "    return memo[y][x]"
   ]
  },
  {
   "cell_type": "code",
   "execution_count": 26,
   "metadata": {},
   "outputs": [
    {
     "data": {
      "text/plain": [
       "True"
      ]
     },
     "execution_count": 26,
     "metadata": {},
     "output_type": "execute_result"
    }
   ],
   "source": [
    "solution(matrix)"
   ]
  }
 ],
 "metadata": {
  "kernelspec": {
   "display_name": "Python 3",
   "language": "python",
   "name": "python3"
  },
  "language_info": {
   "codemirror_mode": {
    "name": "ipython",
    "version": 3
   },
   "file_extension": ".py",
   "mimetype": "text/x-python",
   "name": "python",
   "nbconvert_exporter": "python",
   "pygments_lexer": "ipython3",
   "version": "3.6.3"
  }
 },
 "nbformat": 4,
 "nbformat_minor": 2
}
