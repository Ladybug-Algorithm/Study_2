{
 "cells": [
  {
   "cell_type": "markdown",
   "metadata": {},
   "source": [
    "POLY"
   ]
  },
  {
   "cell_type": "markdown",
   "metadata": {},
   "source": [
    "[algospot의 POLY 링크](https://algospot.com/judge/problem/read/POLY)"
   ]
  },
  {
   "cell_type": "markdown",
   "metadata": {},
   "source": [
    "정사각형들의 변들을 서로 완전하게 붙여 만든 도형들을 폴리오미노(Polyomino)라고 부릅니다. n개의 정사각형으로 구성된 폴리오미노들을 만들려고하는데, 이 중 세로로 단조(monotone)인 폴리오미노의 수가 몇 개나 되는지 세고 싶습니다. 세로로 단조라는 말은 어떤 가로줄도 폴리오미노를 두 번 이상 교차하지 않는다는 뜻입니다.  \n",
    "  \n",
    "![](http://algospot.com/media/judge-attachments/1f80fe48fcd9234b6a70d2bf940c934c/poly.png)  \n",
    "  \n",
    "예를 들어 그림 (a)는 정상적인 세로 단조 폴리오미노입니다. 그러나 (b)는 점선이 폴리오미노를 두 번 교차하기 때문에 세로 단조 폴리오미노가 아닙니다. (c)는 맨 오른쪽 아래 있는 정사각형이 다른 정사각형과 변을 완전히 맞대고 있지 않기 때문에 폴리오미노가 아닙니다.\n",
    "\n",
    "n개의 정사각형으로 구성된 세로 단조 폴리오미노의 개수를 세는 프로그램을 작성하세요.  "
   ]
  },
  {
   "cell_type": "markdown",
   "metadata": {},
   "source": [
    "solution함수의  \n",
    "n : 남은 정사각형의 갯수  \n",
    "first : 현재 상태에서 맨 윗줄에 폴리오미노를 구성할 정사각형의 갯수  \n",
    "memo : 메모이재이션할 리스트"
   ]
  },
  {
   "cell_type": "code",
   "execution_count": 18,
   "metadata": {},
   "outputs": [],
   "source": [
    "def solution(n, first=0, memo=None):\n",
    "    MOD = 10000000 # 폴리오미노의 수가 10,000,000 이상일 경우 10,000,000으로 나눈 나머지를 출력\n",
    "    if memo == None: # 메모이재이션 초기화\n",
    "        memo = [[-1 for _ in range(n+1)] for _ in range(n+1)]\n",
    "    \n",
    "    if first == n: # 만약 남은 정사각형과 현재 줄에 채울 정사각형 갯수 같을 경우\n",
    "        memo[n][first] = 1 # 1 반환\n",
    "        return memo[n][first]\n",
    "    \n",
    "    memo[n][first] = 0 # 일단 0으로 초기화\n",
    "    for i in range(1, n-first+1): # 현재 보고 있는 줄의 정사각형 빼고 for문 반복\n",
    "        add = (first + i - 1) if first != 0 else 1 # 윗줄과 아랫줄을 연결 시킬 때 붙일 수있는 경우의수\n",
    "        add *= solution(n-first, i, memo) if memo[n-first][i] == -1 else memo[n-first][i]\n",
    "        # 윗줄 아랫줄 연결시킬 수 있는 경우의 수 * 아랫줄 밑으로 만들어질 수 있는 폴리오미노 갯수 \n",
    "        add %= MOD # 만약 출력 제한 범위 넘어갈 때 나머지를 구해줌.\n",
    "        memo[n][first] += add # 현재의 줄이 정사각형 1~n개로 구성되어 있는 폴리오미노의 갯수 모두 더함\n",
    "        memo[n][first] %= MOD # 만약 출력 제한 범위 넘어갈 때 나머지를 구해줌.\n",
    "    return memo[n][first]"
   ]
  },
  {
   "cell_type": "code",
   "execution_count": 19,
   "metadata": {},
   "outputs": [
    {
     "data": {
      "text/plain": [
       "2"
      ]
     },
     "execution_count": 19,
     "metadata": {},
     "output_type": "execute_result"
    }
   ],
   "source": [
    "solution(2)"
   ]
  },
  {
   "cell_type": "code",
   "execution_count": 20,
   "metadata": {},
   "outputs": [
    {
     "data": {
      "text/plain": [
       "19"
      ]
     },
     "execution_count": 20,
     "metadata": {},
     "output_type": "execute_result"
    }
   ],
   "source": [
    "solution(4)"
   ]
  },
  {
   "cell_type": "code",
   "execution_count": 21,
   "metadata": {},
   "outputs": [
    {
     "data": {
      "text/plain": [
       "4841817"
      ]
     },
     "execution_count": 21,
     "metadata": {},
     "output_type": "execute_result"
    }
   ],
   "source": [
    "solution(92)"
   ]
  }
 ],
 "metadata": {
  "kernelspec": {
   "display_name": "Python 3",
   "language": "python",
   "name": "python3"
  },
  "language_info": {
   "codemirror_mode": {
    "name": "ipython",
    "version": 3
   },
   "file_extension": ".py",
   "mimetype": "text/x-python",
   "name": "python",
   "nbconvert_exporter": "python",
   "pygments_lexer": "ipython3",
   "version": "3.6.3"
  }
 },
 "nbformat": 4,
 "nbformat_minor": 2
}
