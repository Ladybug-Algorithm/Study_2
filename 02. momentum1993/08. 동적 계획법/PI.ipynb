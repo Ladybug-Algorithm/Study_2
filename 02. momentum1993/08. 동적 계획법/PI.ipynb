{
 "cells": [
  {
   "cell_type": "markdown",
   "metadata": {},
   "source": [
    "PI"
   ]
  },
  {
   "cell_type": "markdown",
   "metadata": {},
   "source": [
    "(주의: 이 문제는 TopCoder 의 번역 문제입니다.)\n",
    "\n",
    "가끔 TV 에 보면 원주율을 몇만 자리까지 줄줄 외우는 신동들이 등장하곤 합니다. 이들이 이 수를 외우기 위해 사용하는 방법 중 하나로, 숫자를 몇 자리 이상 끊어 외우는 것이 있습니다. 이들은 숫자를 세 자리에서 다섯 자리까지로 끊어서 외우는데, 가능하면 55555 나 123 같이 외우기 쉬운 조각들이 많이 등장하는 방법을 택하곤 합니다.\n",
    "\n",
    "이 때, 각 조각들의 난이도는 다음과 같이 정해집니다:\n",
    "\n",
    "모든 숫자가 같을 때 (예: 333, 5555) 난이도: 1  \n",
    "숫자가 1씩 단조 증가하거나 단조 감소할 때 (예: 23456, 3210) 난이도: 2  \n",
    "두 개의 숫자가 번갈아 가며 출현할 때 (예: 323, 54545) 난이도: 4  \n",
    "숫자가 등차 수열을 이룰 때 (예: 147, 8642) 난이도: 5  \n",
    "그 외의 경우 난이도: 10   \n",
    "     \n",
    "원주율의 일부가 입력으로 주어질 때, 난이도의 합을 최소화하도록 숫자들을 3자리에서 5자리까지 끊어 읽고 싶습니다. 최소의 난이도를 계산하는 프로그램을 작성하세요."
   ]
  },
  {
   "cell_type": "markdown",
   "metadata": {},
   "source": [
    "[algospot의 PI 문제 링크](https://algospot.com/judge/problem/read/PI)"
   ]
  },
  {
   "cell_type": "markdown",
   "metadata": {},
   "source": [
    "difficulty 함수의  \n",
    "numbers : 난이도 숫자를 비교할 조각난 숫자\n",
    "    \n",
    "solution 함수의  \n",
    "numbers : 난이도 계산할 숫자  \n",
    "memo : 각각의 인덱스에서부터 끝까지의 최소 난이도의 합  \n",
    "start : 비교 시작할 인덱스  "
   ]
  },
  {
   "cell_type": "code",
   "execution_count": 1,
   "metadata": {},
   "outputs": [],
   "source": [
    "def difficulty(numbers):\n",
    "    diff = [1,2,4,5,10] # 난이도\n",
    "    diff_flag = [True for _ in range(5)] # 난이도 설정 도울 플래그\n",
    "    interval = int(numbers[1]) - int(numbers[0]) # 두 값 사이의 차이값\n",
    "    prev = int(numbers[1])  # 비교할 두 값 중에 앞에 있는 값\n",
    "    for i in numbers[2:]:\n",
    "        num = int(i)\n",
    "        if interval != 0: # 만약 두 값의 차이가 0이 아니라면\n",
    "            diff_flag[0] = False # 모든 숫자가 같을 경우 False\n",
    "            if interval == num - prev: # 만약 이전 비교 차이값과 동일할 때\n",
    "                diff_flag[2] = False  # 숫자가 번갈아 가며 출현할 경우 False\n",
    "                if abs(interval) > 1: #만약 차이값이 동일하고, 1이상 차이날 때\n",
    "                    diff_flag[1] = False  # 1씩 단조 증가 및 단조 감소의 경우 False\n",
    "            elif interval == -(num - prev): # 만약 두 숫자가 번갈아 가며 출현시\n",
    "                diff_flag[1] = False # 1씩 단조 증가 및 단조 감소의 경우 False\n",
    "                diff_flag[3] = False # 등차 수열의 경우 False\n",
    "            else:\n",
    "                return 10 #모든 경우 불포함시 난이도 10 반환\n",
    "                \n",
    "        interval = num - prev\n",
    "        prev = num \n",
    "    return diff[diff_flag.index(True)] # True를 가지는 첫번째값 반환\n",
    "\n",
    "def solution(numbers, memo = None, start=0):\n",
    "    numbers = str(numbers) if type(numbers) == int else numbers # 만약 정수형으로 들어오면 문자열 타입으로 바꿈\n",
    "    if memo == None:\n",
    "        memo = [0 for _ in range(len(numbers))] # 메모이재이션 리스트 초기화\n",
    "        \n",
    "    if (len(numbers) - start) <= 5: # 만약 남은 숫자 길이가 5 이하이면\n",
    "        memo[start] = difficulty(numbers[start:]) # 난이도를 구해서 반환\n",
    "        return memo[start]\n",
    "            \n",
    "    \n",
    "    if start+3 < len(numbers) and len(numbers) - (start+3) >= 3: # 숫자 3개를 잘라서 난이도 계산\n",
    "        difficulty1 = difficulty(numbers[start:start+3]) + solution(numbers, memo, start+3) if memo[start+3] == 0 else difficulty(numbers[start:start+3]) + memo[start+3]\n",
    "    if start+4 < len(numbers) and len(numbers) - (start+4) >= 3: # 숫자 4개를 잘라서 난이도 계산\n",
    "        difficulty2 = difficulty(numbers[start:start+4]) + solution(numbers, memo, start+4) if memo[start+4] == 0 else difficulty(numbers[start:start+4]) + memo[start+4]\n",
    "    if start+5 < len(numbers) and len(numbers) - (start+5) >= 3: # 숫자 5개를 잘라서 난이도 계산\n",
    "        difficulty3 = difficulty(numbers[start:start+5]) + solution(numbers, memo, start+5) if memo[start+5] == 0 else difficulty(numbers[start:start+5]) + memo[start+5]\n",
    "    memo[start] = min(difficulty1, difficulty2, difficulty3) #그리고 계산한 난이도 중에 최소값 반환\n",
    "    return memo[start]"
   ]
  },
  {
   "cell_type": "code",
   "execution_count": 2,
   "metadata": {},
   "outputs": [
    {
     "data": {
      "text/plain": [
       "4"
      ]
     },
     "execution_count": 2,
     "metadata": {},
     "output_type": "execute_result"
    }
   ],
   "source": [
    "solution(12341234)"
   ]
  },
  {
   "cell_type": "code",
   "execution_count": 3,
   "metadata": {},
   "outputs": [
    {
     "data": {
      "text/plain": [
       "2"
      ]
     },
     "execution_count": 3,
     "metadata": {},
     "output_type": "execute_result"
    }
   ],
   "source": [
    "solution(11111222)"
   ]
  },
  {
   "cell_type": "code",
   "execution_count": 4,
   "metadata": {},
   "outputs": [
    {
     "data": {
      "text/plain": [
       "5"
      ]
     },
     "execution_count": 4,
     "metadata": {},
     "output_type": "execute_result"
    }
   ],
   "source": [
    "solution(12122222)"
   ]
  },
  {
   "cell_type": "code",
   "execution_count": 5,
   "metadata": {},
   "outputs": [
    {
     "data": {
      "text/plain": [
       "2"
      ]
     },
     "execution_count": 5,
     "metadata": {},
     "output_type": "execute_result"
    }
   ],
   "source": [
    "solution(22222222)"
   ]
  },
  {
   "cell_type": "code",
   "execution_count": 6,
   "metadata": {},
   "outputs": [
    {
     "data": {
      "text/plain": [
       "14"
      ]
     },
     "execution_count": 6,
     "metadata": {},
     "output_type": "execute_result"
    }
   ],
   "source": [
    "solution(12673939)"
   ]
  }
 ],
 "metadata": {
  "kernelspec": {
   "display_name": "Python 3",
   "language": "python",
   "name": "python3"
  },
  "language_info": {
   "codemirror_mode": {
    "name": "ipython",
    "version": 3
   },
   "file_extension": ".py",
   "mimetype": "text/x-python",
   "name": "python",
   "nbconvert_exporter": "python",
   "pygments_lexer": "ipython3",
   "version": "3.6.3"
  }
 },
 "nbformat": 4,
 "nbformat_minor": 2
}
