{
 "cells": [
  {
   "cell_type": "markdown",
   "metadata": {},
   "source": [
    "TILING2"
   ]
  },
  {
   "cell_type": "markdown",
   "metadata": {},
   "source": [
    "2xn 크기의 사각형을 2x1 크기의 사각형으로 빈틈없이 채우는 경우의 수를 구하는 프로그램을 작성하세요.\n",
    "\n",
    "예를 들어 n=5라고 하면 다음 그림과 같이 여덟 가지의 방법이 있습니다.\n",
    "\n",
    "경우의 수는 n이 커지면 아주 커질 수 있으므로, 1000000007으로 나눈 값을 대신 출력하세요."
   ]
  },
  {
   "cell_type": "markdown",
   "metadata": {},
   "source": [
    "[algospot의 TILING2 링크](https://www.algospot.com/judge/problem/read/TILING2)"
   ]
  },
  {
   "cell_type": "markdown",
   "metadata": {},
   "source": [
    "solution함수의  \n",
    "n : 2xn 크기의 사각형의 n  \n",
    "memo : 메모이재이션 적용할 리스트  "
   ]
  },
  {
   "cell_type": "code",
   "execution_count": 1,
   "metadata": {
    "collapsed": true
   },
   "outputs": [],
   "source": [
    "def solution(n, memo=None): \n",
    "    MOD = 1000000007 # 값이 오버플로 될 수 있어서 중간에 나눠줌\n",
    "    if memo == None: # 메모이재이션 리스트 초기화\n",
    "        memo = [0 for _ in range(n+1)]\n",
    "        \n",
    "    if n == 1: # 만약 남은 칸이 2X1일 때는 1가지 방법이 있으므로 반환\n",
    "        memo[n] = 1\n",
    "        return memo[n]\n",
    "    elif n == 2: # 만약 남은 칸이 2X2일 때는 2가지 방법이 있으므로 반환\n",
    "        memo[n] = 2\n",
    "        return memo[n]\n",
    "    \n",
    "    if memo[n-1] > 0 and memo[n-2] > 0 : # 둘 다 이미 구해진 경우\n",
    "        memo[n] = memo[n-1] + memo[n-2]\n",
    "    elif memo[n-1] > 0: # 1칸 진행된 경우에만 구해진 경우\n",
    "        memo[n] = memo[n-1] + solution(n-2, memo)\n",
    "    elif memo[n-2] > 0: # 2칸 진행된 경우에만 구해진 경우\n",
    "        memo[n] = memo[n-2] + solution(n-1, memo)\n",
    "    else: # 아무것도 진행되지 않은 경우\n",
    "        memo[n] = solution(n-1, memo) + solution(n-2, memo)\n",
    "    return memo[n] % MOD # 마지막에 값을 나누어서 반환"
   ]
  },
  {
   "cell_type": "code",
   "execution_count": 2,
   "metadata": {},
   "outputs": [
    {
     "data": {
      "text/plain": [
       "782204094"
      ]
     },
     "execution_count": 2,
     "metadata": {},
     "output_type": "execute_result"
    }
   ],
   "source": [
    "solution(100)"
   ]
  }
 ],
 "metadata": {
  "kernelspec": {
   "display_name": "Python 3",
   "language": "python",
   "name": "python3"
  },
  "language_info": {
   "codemirror_mode": {
    "name": "ipython",
    "version": 3
   },
   "file_extension": ".py",
   "mimetype": "text/x-python",
   "name": "python",
   "nbconvert_exporter": "python",
   "pygments_lexer": "ipython3",
   "version": "3.6.3"
  }
 },
 "nbformat": 4,
 "nbformat_minor": 2
}
