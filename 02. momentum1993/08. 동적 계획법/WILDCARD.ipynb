{
 "cells": [
  {
   "cell_type": "markdown",
   "metadata": {},
   "source": [
    "WILDCARD"
   ]
  },
  {
   "cell_type": "markdown",
   "metadata": {},
   "source": [
    "[algospot의 WILDCARD 링크](https://algospot.com/judge/problem/read/WILDCARD)\n",
    "  \n",
    "와일드카드는 다양한 운영체제에서 파일 이름의 일부만으로 파일 이름을 지정하는 방법이다. 와일드카드 문자열은 일반적인 파일명과 같지만, * 나 ? 와 같은 특수 문자를 포함한다.\n",
    "\n",
    "와일드카드 문자열을 앞에서 한 글자씩 파일명과 비교해서, 모든 글자가 일치했을 때 해당 와일드카드 문자열이 파일명과 매치된다고 하자. 단, 와일드카드 문자열에 포함된 ? 는 어떤 글자와 비교해도 일치한다고 가정하며, * 는 0 글자 이상의 어떤 문자열에도 일치한다고 본다.\n",
    "\n",
    "예를 들어 와일드 카드 he?p 는 파일명 help 에도, heap 에도 매치되지만, helpp 에는 매치되지 않는다. 와일드 카드 *p* 는 파일명 help 에도, papa 에도 매치되지만, hello 에는 매치되지 않는다.\n",
    "\n",
    "와일드카드 문자열과 함께 파일명의 집합이 주어질 때, 그 중 매치되는 파일명들을 찾아내는 프로그램을 작성하시오."
   ]
  },
  {
   "cell_type": "markdown",
   "metadata": {},
   "source": [
    "match의  \n",
    "memo : 메모이재이션을 진행할 이중 리스트  \n",
    "index_c : 비교할 파일이름 문자열 인덱스  \n",
    "index_w : 비교할 와일드카드 문자열 인덱스  \n",
    "\n",
    "solution의  \n",
    "wildcard : 와일드카드 문자열   \n",
    "compare_list : 비교할 파일들의 이름들을 저장한 리스트  "
   ]
  },
  {
   "cell_type": "code",
   "execution_count": 1,
   "metadata": {
    "collapsed": true
   },
   "outputs": [],
   "source": [
    "def match(memo, index_w, index_c, compare, wildcard):\n",
    "    initial_w, initial_c = index_w, index_c\n",
    "    if memo[index_w][index_c] != None: # 이전에 계산된 예가 있다면 그 값을 반환\n",
    "        return memo[index_w][index_c]\n",
    "    while(index_w < len(wildcard) and index_c < len(compare) and (wildcard[index_w] == '?' or wildcard[index_w] == compare[index_c])):\n",
    "        # 현재 보고 있는 문자가 문법에 일치할 때(문자가 동일 or ?와 한 문자 매칭)\n",
    "        index_c += 1\n",
    "        index_w += 1\n",
    "    if index_w == len(wildcard): # 끝까지 잘 매칭되었을 때 True, 아니라면 False\n",
    "        memo[initial_w][initial_c] = (index_w == len(wildcard))\n",
    "        return memo[initial_w][initial_c]\n",
    "    elif (index_c == len(compare) or index_w == len(wildcard)) and wildcard[index_w] != '*': # 제대로 매칭 안 되었을 때\n",
    "        memo[initial_w][initial_c] = False\n",
    "    elif wildcard[index_w] == '*': # 현재 보고 있는 문자가 '*'일 때\n",
    "        memo[initial_w][initial_c] = False\n",
    "        if index_w == len(wildcard) - 1:\n",
    "            memo[initial_w][initial_c] = True\n",
    "            return memo[initial_w][initial_c]\n",
    "        for c in range(index_c, len(compare)):\n",
    "            if match(memo, index_w+1, c, compare, wildcard):\n",
    "                memo[initial_w][initial_c] = True\n",
    "                break\n",
    "    else: # 잘 매칭 되지 않았을 때\n",
    "        memo[initial_w][initial_c] = False\n",
    "    return memo[initial_w][initial_c]\n",
    "    \n",
    "\n",
    "def solution(wildcard, compare_list):\n",
    "    answer = []\n",
    "    for compare in compare_list: # 비교할 파일 이름들을 각각 확인\n",
    "        memo = [[None for _ in range(len(compare))] for _ in range(len(wildcard))]\n",
    "        if match(memo, 0, 0, compare, wildcard): # 문법과 매칭된다면\n",
    "            answer.append(compare) # 답에 추가\n",
    "    return answer"
   ]
  },
  {
   "cell_type": "code",
   "execution_count": 2,
   "metadata": {
    "collapsed": true
   },
   "outputs": [],
   "source": [
    "wildcard = \"he?p\"\n",
    "compare_list = [\"help\",\"heap\",\"helpp\"]\n",
    "\n",
    "wildcard = \"*p*\"\n",
    "compare_list = [\"help\",\"papa\",\"hello\"]"
   ]
  },
  {
   "cell_type": "code",
   "execution_count": 3,
   "metadata": {
    "scrolled": true
   },
   "outputs": [
    {
     "data": {
      "text/plain": [
       "['help', 'papa']"
      ]
     },
     "execution_count": 3,
     "metadata": {},
     "output_type": "execute_result"
    }
   ],
   "source": [
    "solution(wildcard, compare_list)"
   ]
  }
 ],
 "metadata": {
  "kernelspec": {
   "display_name": "Python 3",
   "language": "python",
   "name": "python3"
  },
  "language_info": {
   "codemirror_mode": {
    "name": "ipython",
    "version": 3
   },
   "file_extension": ".py",
   "mimetype": "text/x-python",
   "name": "python",
   "nbconvert_exporter": "python",
   "pygments_lexer": "ipython3",
   "version": "3.6.3"
  }
 },
 "nbformat": 4,
 "nbformat_minor": 2
}
