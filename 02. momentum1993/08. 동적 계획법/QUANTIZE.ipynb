{
 "cells": [
  {
   "cell_type": "markdown",
   "metadata": {},
   "source": [
    "QUANTIZE"
   ]
  },
  {
   "cell_type": "markdown",
   "metadata": {},
   "source": [
    "Quantization (양자화) 과정은, 더 넓은 범위를 갖는 값들을 작은 범위를 갖는 값들로 근사해 표현함으로써 자료를 손실 압축하는 과정을 말한다. 예를 들어 16비트 JPG 파일을 4컬러 GIF 파일로 변환하는 것은 RGB 색 공간의 색들을 4컬러 중의 하나로 양자화하는 것이고, 키가 161, 164, 170, 178 인 학생 넷을 '160대 둘, 170대 둘' 이라고 축약해 표현하는 것 또한 양자화라고 할 수 있다.\n",
    "\n",
    "1000 이하의 자연수들로 구성된 수열을 최대 S종류 의 값만을 사용하도록 양자화하고 싶다. 이 때 양자화된 숫자는 원래 수열에 없는 숫자일 수도 있다. 양자화를 하는 방법은 여러 가지가 있다. 수열 1 2 3 4 5 6 7 8 9 10 을 2개의 숫자만을 써서 표현하려면, 3 3 3 3 3 7 7 7 7 7 과 같이 할 수도 있고, 1 1 1 1 1 10 10 10 10 10 으로 할 수도 있다. 우리는 이 중, 각 숫자별 오차 제곱의 합을 최소화하는 양자화 결과를 알고 싶다.\n",
    "\n",
    "예를 들어, 수열 1 2 3 4 5 를 1 1 3 3 3 으로 양자화하면 오차 제곱의 합은 0+1+0+1+4=6 이 되고, 2 2 2 4 4 로 양자화하면 오차 제곱의 합은 1+0+1+0+1=3 이 된다.\n",
    "\n",
    "수열과 S 가 주어질 때, 가능한 오차 제곱의 합의 최소값을 구하는 프로그램을 작성하시오."
   ]
  },
  {
   "cell_type": "markdown",
   "metadata": {},
   "source": [
    "[algospot의 QUANTIZE 링크](https://algospot.com/judge/problem/read/QUANTIZE)"
   ]
  },
  {
   "cell_type": "markdown",
   "metadata": {},
   "source": [
    "minerror함수의  \n",
    "numbers : 양자화할 숫자열  \n",
    "start : 오차 제곱의 합을 시작할 인덱스  \n",
    "end : 오차 제곱의 합을 끝낼 인덱스 + 1  \n",
    "  \n",
    "solution함수의  \n",
    "numbers : 양자화할 숫자열  \n",
    "s : 조각 숫자  \n",
    "memo : 메모이재이션할 이중 리스트  \n",
    "index : 양자화 시작할 인덱스  "
   ]
  },
  {
   "cell_type": "code",
   "execution_count": 1,
   "metadata": {},
   "outputs": [],
   "source": [
    "import sys # sys.maxsize로 숫자 최댓값 갖고 오기 위해 씀\n",
    "\n",
    "def minerror(numbers, start, end): # 오차 제곱의 합을 구할 함수\n",
    "    # ∑[a,b] (A[i] - m)^2 (단, A는 양자화할 숫자열, m은 오차 제곱의 합을 최소화할 수 있는 값)  \n",
    "    # ∑[a,b] (A[i] - m)^2  = ∑[a,b](A[i]^2) - 2ㆍmㆍ∑[a,b]A[i] + m^2ㆍ(b-a+1)\n",
    "    \n",
    "    m2_sum = end-1-start+1 #③ + m^2ㆍ(b-a+1)\n",
    "    m_sum = 0 #② - 2ㆍmㆍ∑[a,b]A[i]\n",
    "    c_sum = 0  #① ∑[a,b](A[i]^2)\n",
    "    \n",
    "    min_value = 0\n",
    "    \n",
    "    for i in numbers[start:end]: \n",
    "        m_sum += i # ∑[a,b]A[i]\n",
    "        c_sum += i*i # ∑[a,b](A[i]^2)\n",
    "    m = int((m_sum / m2_sum) + 0.5) # m = ∑[a,b]A[i] / b - a + 1\n",
    "    min_value = c_sum - (m_sum * 2 * m) + (m2_sum * m * m) # 위의 오차 제곱합의 식\n",
    "    return min_value\n",
    "           \n",
    "def solution(numbers, s, memo=None, index=0):\n",
    "    if memo == None: # 메모이제이션할 이중 리스트 초기화\n",
    "        numbers.sort() # 그리고 배열도 오름차순으로 정렬\n",
    "        memo = [[0 for _ in range(s+1)] for _ in range(len(numbers))] \n",
    "    \n",
    "    if s == 1: # base case : 조각 1개가 남았다면 나머지를 모두 한 조각에 넣어서 진행\n",
    "        memo[index][s] = minerror(numbers, index, len(numbers))\n",
    "        return memo[index][s]\n",
    "    \n",
    "    if memo[index][s] == 0: # 최솟값을 구하기 위해 가질수 있는 숫자의 최댓값으로 초기화\n",
    "        memo[index][s] = sys.maxsize\n",
    "\n",
    "    for i in range(index+1, len(numbers) - s):\n",
    "        memo[index][s] = min(minerror(numbers, index, i) + solution(numbers, s-1, memo, i), memo[index][s])  if memo[i][s-1] == 0 or memo[i][s-1] == sys.maxsize else minerror(numbers, index, i) + memo[i][s-1]\n",
    "        # 각 조각이 가지는 숫자의 갯수를 달리하여 최솟값을 구한다.\n",
    "    return memo[index][s] # 최솟값 반환\n",
    "            \n",
    "    "
   ]
  },
  {
   "cell_type": "code",
   "execution_count": 2,
   "metadata": {
    "scrolled": true
   },
   "outputs": [
    {
     "data": {
      "text/plain": [
       "651"
      ]
     },
     "execution_count": 2,
     "metadata": {},
     "output_type": "execute_result"
    }
   ],
   "source": [
    "solution([1, 744, 755, 4, 897, 902, 890, 6, 777], 3)"
   ]
  }
 ],
 "metadata": {
  "kernelspec": {
   "display_name": "Python 3",
   "language": "python",
   "name": "python3"
  },
  "language_info": {
   "codemirror_mode": {
    "name": "ipython",
    "version": 3
   },
   "file_extension": ".py",
   "mimetype": "text/x-python",
   "name": "python",
   "nbconvert_exporter": "python",
   "pygments_lexer": "ipython3",
   "version": "3.6.3"
  }
 },
 "nbformat": 4,
 "nbformat_minor": 2
}
