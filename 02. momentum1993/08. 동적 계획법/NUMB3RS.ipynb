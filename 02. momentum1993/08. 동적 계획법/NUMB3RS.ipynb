{
 "cells": [
  {
   "cell_type": "markdown",
   "metadata": {},
   "source": [
    "NUMB3RS"
   ]
  },
  {
   "cell_type": "markdown",
   "metadata": {},
   "source": [
    "[algospot의 NUMB3RS 링크](https://algospot.com/judge/problem/read/NUMB3RS)"
   ]
  },
  {
   "cell_type": "markdown",
   "metadata": {},
   "source": [
    "위험한 살인마 두니발 박사가 감옥에서 탈출했습니다. 수배지를 붙이고 군경이 24시간 그를 추적하고 있지만 용의주도한 두니발 박사는 쉽사리 잡히지 않았습니다. d일이 지난 후에야 경찰은 프로그래밍의 천재인 찰리 교수를 찾아왔습니다. 찰리 교수는 두니발 박사가 감옥에 남겨둔 노트를 분석해 다음과 같은 가설을 세웠습니다.\n",
    "\n",
    "- 두니발 박사는 검문을 피해 산길로만 이동한다.\n",
    "- 두니발 박사는 교도소를 탈출한 당일, 교도소와 인접한 마을 하나로 도망쳐 은신한다.\n",
    "- 두니발 박사는 수색을 피하기 위해 그 후 매일 인접한 마을로 움직여 은신한다.  \n",
    "  \n",
    "![](http://algospot.com/media/judge-attachments/298903b8a37b6938ae6915ce1cab80fd/dunibal.png)  \n",
    "  \n",
    "이 가설을 검증하기 위해 교도소로부터 산길로 연결된 n 개 마을들의 지도를 위 그림과 같이 구했습니다. 두니발 박사가 이 가설에 맞춰 행동하고, 움직일 수 있는 마을이 여러 개 있을 경우 그 중의 하나를 임의로 선택한다고 합시다. d 일 후에 두니발 교수가 각 마을에 있을 확률을 계산하는 프로그램을 작성하세요.\n",
    "\n",
    "예를 들어 위 지도에서 3번 마을에 교도소가 있다고 합시다. 탈옥 직후 두니발 교수는 0번, 1번, 2번, 4번, 5번 중의 한 도시를 임의로 골라 도망칩니다. 따라서 1일 후에 두니발 교수가 0번 마을에 숨어 있을 확률은 1/5이고, 2일 후에 1번 마을에 숨어 있을 확률은 1/15입니다."
   ]
  },
  {
   "cell_type": "markdown",
   "metadata": {},
   "source": [
    "cal\\_prob함수의  \n",
    "먼저 n(2 <= n <= 50)을 마을의 갯수라고 할 때,  \n",
    "d : 현재까지 지난 일 수 (1 <= d <= 100)  \n",
    "p : 교도소가 위치한 마을의 번호 (0 <= loc < n)  \n",
    "matrix : 그래프 간에 연결 여부를 알려주는 n x n 행렬       \n",
    "here : 현재 두니발 박사가 있다고 가정한 마을의 번호 (0 <= here < n)    \n",
    "memo : 메모이재이션 적용할 리스트  \n",
    "degree : 각 마을에서 다른 마을로 연결되는 통로의 수  \n",
    "  \n",
    "solution함수의  \n",
    "d : 현재까지 지난 일 수 (1 <= d <= 100)  \n",
    "p : 교도소가 위치한 마을의 번호 (0 <= p < n)  \n",
    "matrix : 그래프 간에 연결 여부를 알려주는 n x n 행렬       \n",
    "q : 확률을 계산할 마을의 번호 (0 <= p < n)를 가지는 리스트   "
   ]
  },
  {
   "cell_type": "code",
   "execution_count": 1,
   "metadata": {},
   "outputs": [],
   "source": [
    "from collections import Counter # 각 노드 별 degree 수 측정위해 Counter 사용\n",
    "\n",
    "def cal_prob(d, p, matrix, here, memo, degree):\n",
    "    if d == 0: # 두니발 박사 탈옥날 \n",
    "        memo[here][d] = 1.0 if here == p else 0.\n",
    "        # 탈옥날 현재 위치라고 지정해둔 곳이 교도소라면 맞는 가정이기에 1을 반환\n",
    "        return memo[here][d]\n",
    "    \n",
    "    memo[here][d] = 0. # 메모이재이션 0으로 초기화\n",
    "    \n",
    "    for i in range(len(matrix[here])):\n",
    "        prob = 0 # 확률을 저장할 변수\n",
    "        if matrix[here][i] == 1: # 현재 위치에서 연결될 수 있는 마을의 경우\n",
    "            prob += cal_prob(d-1, p, matrix, i, memo, degree) if memo[i][d-1] == -1 else memo[i][d-1]\n",
    "            prob /= degree[i]\n",
    "            # 탈옥 d-1일째 i번 마을에 있을 확률 / i번째 마을에서 나아갈수 있는 방법\n",
    "            # 으로 확률을 구한다\n",
    "        memo[here][d] += prob # 그리고 확률 더해줌.\n",
    "    return memo[here][d] # 확률 반환\n",
    "\n",
    "def solution(d, p, matrix, q):\n",
    "    answer = [0 for _ in range(len(q))] # 정답 리스트\n",
    "    degree = [Counter(i)[1] for i in matrix] # 각 마을의 degree\n",
    "    memo = [[-1 for _ in range(d+1)] for _ in range(len(matrix)+1)] # 메모이재이션\n",
    "    for i in range(len(q)): \n",
    "        answer[i] = round(cal_prob(d, p, matrix, q[i], memo, degree), 8)\n",
    "        # 탈옥 d일째날, q[i]번 마을에 두니발 박사가 있을 확률  \n",
    "        # 소수 8째자리까지의 확률을 저장\n",
    "    return answer    "
   ]
  },
  {
   "cell_type": "code",
   "execution_count": 2,
   "metadata": {
    "collapsed": true
   },
   "outputs": [],
   "source": [
    "matrix = [[0, 1, 1, 1, 0],\n",
    "          [1, 0, 0, 0, 1],\n",
    "          [1, 0, 0, 0, 0],\n",
    "          [1, 0, 0, 0, 0],\n",
    "          [0, 1, 0, 0, 0]]\n",
    "q = [0, 2, 4]"
   ]
  },
  {
   "cell_type": "code",
   "execution_count": 3,
   "metadata": {},
   "outputs": [
    {
     "data": {
      "text/plain": [
       "[0.83333333, 0.0, 0.16666667]"
      ]
     },
     "execution_count": 3,
     "metadata": {},
     "output_type": "execute_result"
    }
   ],
   "source": [
    "solution(2, 0, matrix, q)"
   ]
  },
  {
   "cell_type": "code",
   "execution_count": 4,
   "metadata": {},
   "outputs": [],
   "source": [
    "matrix = [[0, 1, 1, 1, 0, 0, 0, 0],\n",
    "          [1, 0, 0, 1, 0, 0, 0, 0],\n",
    "          [1, 0, 0, 1, 0, 0, 0, 0],\n",
    "          [1, 1, 1, 0, 1, 1, 0, 0],\n",
    "          [0, 0, 0, 1, 0, 0, 1, 1],\n",
    "          [0, 0, 0, 1, 0, 0, 0, 1],\n",
    "          [0, 0, 0, 0, 1, 0, 0, 0],\n",
    "          [0, 0, 0, 0, 1, 1, 0, 0]]\n",
    "q = [3, 1, 2, 6]"
   ]
  },
  {
   "cell_type": "code",
   "execution_count": 5,
   "metadata": {},
   "outputs": [
    {
     "data": {
      "text/plain": [
       "[0.43333333, 0.06666667, 0.06666667, 0.06666667]"
      ]
     },
     "execution_count": 5,
     "metadata": {},
     "output_type": "execute_result"
    }
   ],
   "source": [
    "solution(2, 3, matrix, q)"
   ]
  }
 ],
 "metadata": {
  "kernelspec": {
   "display_name": "Python 3",
   "language": "python",
   "name": "python3"
  },
  "language_info": {
   "codemirror_mode": {
    "name": "ipython",
    "version": 3
   },
   "file_extension": ".py",
   "mimetype": "text/x-python",
   "name": "python",
   "nbconvert_exporter": "python",
   "pygments_lexer": "ipython3",
   "version": "3.6.3"
  }
 },
 "nbformat": 4,
 "nbformat_minor": 2
}
