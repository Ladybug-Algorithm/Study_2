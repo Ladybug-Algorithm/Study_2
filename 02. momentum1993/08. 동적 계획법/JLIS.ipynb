{
 "cells": [
  {
   "cell_type": "markdown",
   "metadata": {},
   "source": [
    "JLIS(Joined Longest Increasing Sequence)"
   ]
  },
  {
   "cell_type": "markdown",
   "metadata": {},
   "source": [
    "[algospot의 JLIS 링크](https://algospot.com/judge/problem/read/JLIS)"
   ]
  },
  {
   "cell_type": "markdown",
   "metadata": {},
   "source": [
    "어떤 수열에서 0개 이상의 숫자를 지운 결과를 원 수열의 부분 수열이라고 부릅니다. 예를 들어 '4 7 6'은 '4 3 7 6 9'의 부분 수열입니다. 중복된 숫자가 없고 오름 차순으로 정렬되어 있는 부분 수열들을 가리켜 증가 부분 수열이라고 부르지요. 예를 들어 '3 6 9'는 앞의 수열의 증가 부분 수열입니다.\n",
    "\n",
    "두 개의 정수 수열 A 와 B 에서 각각 증가 부분 수열을 얻은 뒤 이들을 크기 순서대로 합친 것을 합친 증가 부분 수열이라고 부르기로 합시다. 이 중 가장 긴 수열을 합친 LIS(JLIS, Joined Longest Increasing Subsequence)이라고 부릅시다. 예를 들어 '1 3 4 7 9' 은 '1 9 4' 와 '3 4 7' 의 JLIS입니다. '1 9' 와 '3 4 7' 을 합쳐 '1 3 4 7 9'를 얻을 수 있기 때문이지요.\n",
    "\n",
    "A 와 B 가 주어질 때, JLIS의 길이를 계산하는 프로그램을 작성하세요."
   ]
  },
  {
   "cell_type": "markdown",
   "metadata": {},
   "source": [
    "solution함수의  \n",
    "seq : 증가 부분 배열을 확인할 배열 A,B를 가진 리스트  \n",
    "index_A : 현재 확인할 A수열의 인덱스\n",
    "index_B : 현재 확인할 B수열의 인덱스"
   ]
  },
  {
   "cell_type": "code",
   "execution_count": 4,
   "metadata": {},
   "outputs": [],
   "source": [
    "import sys\n",
    "\n",
    "def solution(seq, memo=None, index_A = 0, index_B = 0):\n",
    "    prev_seq_len = 0 # 수열의 다음 인덱스에서 만들어진 부분수열의 길이\n",
    "    if memo == None:  # 메모이재이션 적용할 리스트 초기화\n",
    "        temp = -(sys.maxsize - max(seq[0]+seq[1]))\n",
    "        seq[0] = [temp] + seq[0]\n",
    "        seq[1] = [temp] + seq[1]\n",
    "        memo = [[-1 for _ in range(len(seq[1]))] for _ in range(len(seq[0]))]\n",
    "        \n",
    "    if index_A == len(seq[0]) - 1 and index_B == len(seq[1]) - 1:\n",
    "        # 만약 두 수열 모두 끝에 도달했다면 수열 길이 반환\n",
    "        memo[index_A][index_B] = 1\n",
    "        return memo[index_A][index_B]\n",
    "    memo[index_A][index_B] = 1\n",
    "    # 현재 인덱스에서 A,B 합친 부분수열 길이\n",
    "    # 부분수열의 길이는 2로 초기화(값이 같다면 1로 초기화)\n",
    "\n",
    "    if seq[0][index_A] == seq[1][index_B] : # 만약 같은 값을 볼 때\n",
    "        nxt_A, nxt_B = 0,0\n",
    "        if index_A < len(seq[0])-1 and seq[0][index_A+1] >= seq[0][index_A]: # A배열 진행\n",
    "            nxt_A = solution(seq, memo, index_A+1, index_B) if memo[index_A+1][index_B] == -1 else memo[index_A+1][index_B]\n",
    "        if index_B < len(seq[1])-1 and seq[1][index_B+1] >= seq[1][index_B]: # B배열 진행\n",
    "            nxt_B = solution(seq, memo, index_A, index_B+1) if memo[index_A][index_B+1] == -1 else memo[index_A][index_B+1]\n",
    "        plus_nxt = max(nxt_A, nxt_B) # A배열, B배열을 진행했을 때 더 값이 큰 쪽\n",
    "        if seq[0][index_A] < 0:\n",
    "            memo[index_A][index_B] -= 1 # 만약 임의로 넣어둔 음수값을 포함했을 경우에는 0 저장\n",
    "        memo[index_A][index_B] += plus_nxt # A배열, B배열 중 최댓값으로 진행\n",
    "    \n",
    "    else:\n",
    "        max_AB = seq[0][index_A] if seq[0][index_A] > seq[1][index_B] else seq[1][index_B]\n",
    "        # A,B 배열의 현재 인덱스에서의 값 중에 최대값\n",
    "        \n",
    "        for nxt in range(index_A+1, len(seq[0])) : # A수열의 다음 인덱스부터 끝인덱스의 수열까지 확인\n",
    "            prev_seq_len = solution(seq, memo, nxt, index_B) if memo[nxt][index_B] == -1 else memo[nxt][index_B]# 다음 인덱스에서부터 연결된 수열의 길이\n",
    "            memo[index_A][index_B] = max(memo[index_A][index_B], prev_seq_len+1) if seq[0][nxt] > max_AB else memo[index_A][index_B]\n",
    "            # 만약 오름차순이면 수열에 추가\n",
    "            if max_AB < 0 and memo[index_A][index_B] > 0: #만약 음수 값이 들어왔다면 1빼준다.\n",
    "                memo[index_A][index_B] -= 1\n",
    "            # 현재 인덱스에서 연결되는 수열이며,\n",
    "            # 만약 수열의 다음 인덱스와 증가수열을 이룰 수 있다면 다음 인덱스 수열의 길이에 + 1 \n",
    "        for nxt in range(index_B+1, len(seq[1])): # B수열의 다음 인덱스부터 끝인덱스의 수열까지 확인\n",
    "            prev_seq_len = solution(seq, memo, index_A, nxt) if memo[index_A][nxt] == -1 else memo[index_A][nxt]# 다음 인덱스에서부터 연결된 수열의 길이\n",
    "            memo[index_A][index_B] = max(memo[index_A][index_B], 1+prev_seq_len) if seq[1][nxt] > max_AB else memo[index_A][index_B]\n",
    "            # 만약 오름차순이면 수열에 추가\n",
    "            if max_AB < 0 and memo[index_A][index_B] > 0: #만약 음수 값이 들어왔다면 1빼준다.\n",
    "                memo[index_A][index_B] -= 1\n",
    "            # 현재 인덱스에서 연결되는 수열이며,\n",
    "            # 만약 수열의 다음 인덱스와 증가수열을 이룰 수 있다면 다음 인덱스 수열의 길이에 + 1 \n",
    "            \n",
    "    if index_A == 0 and index_B == 0:\n",
    "#         print(\"memo[{0}][{1}] : {2}, seq A:{3}, seq B:{4}\".format(index_A, index_B, memo[index_A][index_B], seq[0][index_A], seq[1][index_B])) \n",
    "        max_value = -1\n",
    "        for i in range(len(memo)):\n",
    "            for j in range(len(memo[0])):\n",
    "                max_value = max(memo[i][j], max_value)\n",
    "        return max_value # 만약 수열을 모두 확인했다면 부분수열의 최대값 반환\n",
    "    else:\n",
    "#         print(\"memo[{0}][{1}] : {2}, seq A:{3}, seq B:{4}\".format(index_A, index_B, memo[index_A][index_B], seq[0][index_A], seq[1][index_B]))\n",
    "        return memo[index_A][index_B] # 그렇지 않다면 현재 인덱스에서 만들어진 부분수열의 길이 반환"
   ]
  },
  {
   "cell_type": "code",
   "execution_count": 5,
   "metadata": {},
   "outputs": [],
   "source": [
    "# seq = [[1,2,4],[3,4,7]]\n",
    "# seq = [[1,2,3],[4,5,6]]\n",
    "seq = [[10,20,30,1,2],[10,20,30]]"
   ]
  },
  {
   "cell_type": "code",
   "execution_count": 6,
   "metadata": {
    "scrolled": false
   },
   "outputs": [
    {
     "data": {
      "text/plain": [
       "5"
      ]
     },
     "execution_count": 6,
     "metadata": {},
     "output_type": "execute_result"
    }
   ],
   "source": [
    "solution(seq)"
   ]
  }
 ],
 "metadata": {
  "kernelspec": {
   "display_name": "Python 3",
   "language": "python",
   "name": "python3"
  },
  "language_info": {
   "codemirror_mode": {
    "name": "ipython",
    "version": 3
   },
   "file_extension": ".py",
   "mimetype": "text/x-python",
   "name": "python",
   "nbconvert_exporter": "python",
   "pygments_lexer": "ipython3",
   "version": "3.6.3"
  }
 },
 "nbformat": 4,
 "nbformat_minor": 2
}
