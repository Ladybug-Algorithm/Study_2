{
 "cells": [
  {
   "cell_type": "markdown",
   "metadata": {},
   "source": [
    "TRIPATHCNT"
   ]
  },
  {
   "cell_type": "markdown",
   "metadata": {},
   "source": [
    "9  \n",
    "5 7  \n",
    "1 3 2  \n",
    "3 5 5 6  \n",
    "  \n",
    "위 형태와 같이 삼각형 모양으로 배치된 자연수들이 있습니다. 맨 위의 숫자에서 시작해, 한 번에 한 칸씩 아래로 내려가 맨 아래 줄로 내려가는 경로를 만들려고 합니다. 경로는 아래 줄로 내려갈 때마다 바로 아래 숫자, 혹은 오른쪽 아래 숫자로 내려갈 수 있습니다.\n",
    "\n",
    "이 때 숫자의 합이 가장 큰 경로는 하나가 아니라 여러 개일 수 있습니다. 예를 들어 위 삼각형에서는 {9, 7, 2, 6}과 {9, 7, 3, 5}의 합이 모두 최대인 24이고, {9, 7, 3, 5}는 두 번 등장하거든요.\n",
    "\n",
    "삼각형이 주어질 때 최대 경로의 수를 세는 프로그램을 작성하세요."
   ]
  },
  {
   "cell_type": "markdown",
   "metadata": {},
   "source": [
    "[algospot의 TRIPATHCNT 링크](https://www.algospot.com/judge/problem/read/TRIPATHCNT)"
   ]
  },
  {
   "cell_type": "markdown",
   "metadata": {},
   "source": [
    "solution함수의  \n",
    "map_list : 삼각형 모양의 자연수들을 나타낸 이중 리스트  \n",
    "memo : 메모이재이션  \n",
    "path : 각 (y,x) 좌표에서 시작해서 얻어낼 수 있는 최대값 저장  \n",
    "y : y좌표  \n",
    "x : x좌표  "
   ]
  },
  {
   "cell_type": "code",
   "execution_count": 20,
   "metadata": {},
   "outputs": [],
   "source": [
    "def triangle_path(map_list, memo=None, y=0, x=0):\n",
    "    if memo is None: # 처음에 메모이재이션을 할 리스트 초기화\n",
    "        memo = [[0 for _ in range(i)] for i in range(1, len(map_list)+1)]\n",
    "    if y == len(map_list) - 1: # basecase: 맨 마지막 줄에서는 자신의 값을 저장\n",
    "        memo[y][x] = map_list[y][x]\n",
    "        return memo[y][x]\n",
    "    if y+1 < len(map_list): # 맨 밑의 줄을 제외한 모든 줄에 대해서\n",
    "        if x+1 <= len(map_list[y]): # 가로로 갈 수 있는 인덱스에 대해서 \n",
    "            if memo[y+1][x] == 0: # 값이 없다면 재귀\n",
    "                memo[y+1][x] = triangle_path(map_list, memo ,y+1, x)\n",
    "            if memo[y+1][x+1] == 0: # 값이 없다면 재귀\n",
    "                memo[y+1][x+1] = triangle_path(map_list, memo, y+1, x+1)\n",
    "            memo[y][x] = map_list[y][x] + max(memo[y+1][x], memo[y+1][x+1])\n",
    "            # 바로 밑의 값과, 밑의 우측에 있는 값 중 최대값과 현재 값을 더한다.\n",
    "    if y == 0 and x == 0: \n",
    "        return memo # 각 좌표상에서의 값들의 최대값을 지니는 리스트 반환\n",
    "    return memo[y][x]\n",
    "\n",
    "def solution(map_list, memo=None, path=None, y=0, x=0):\n",
    "    if memo is None and path is None: # 메모이재이션 및 좌표당 최대값 초기화\n",
    "        memo = [[0 for _ in range(i)] for i in range(1, len(map_list)+1)]\n",
    "        path = triangle_path(map_list) # 각 좌표상에서의 값들의 최대값을 지니는 리스트\n",
    "        \n",
    "    if y == len(map_list) - 1: # 가장 마지막 줄에 도달했을 때\n",
    "        memo[y][x] = 1 # 1 반환\n",
    "        return memo[y][x]\n",
    "    \n",
    "    # 최대값을 지니는 쪽으로 함수를 진행시킨다.\n",
    "    # 만약 크기가 같을 경우에는 둘 다 진행시킨다.\n",
    "    if path[y+1][x] >= path[y+1][x+1]:\n",
    "        memo[y][x] += solution(map_list, memo, path, y+1, x) if memo[y+1][x] == 0 else memo[y+1][x]\n",
    "    if path[y+1][x] <= path[y+1][x+1]:\n",
    "        memo[y][x] += solution(map_list, memo, path, y+1, x+1) if memo[y+1][x+1] == 0 else memo[y+1][x+1]\n",
    "        \n",
    "    return memo[y][x]"
   ]
  },
  {
   "cell_type": "code",
   "execution_count": 25,
   "metadata": {
    "collapsed": true
   },
   "outputs": [],
   "source": [
    "# map_list = [[6],\n",
    "#             [1, 2],\n",
    "#             [3, 7, 4],\n",
    "#             [9, 4, 1, 7],\n",
    "#             [2, 7, 5, 9, 4]]\n",
    "\n",
    "# map_list = [[1],\n",
    "#             [2, 4],\n",
    "#             [8, 16, 8],\n",
    "#             [32, 64, 32, 64],\n",
    "#             [128, 256, 128, 256, 128]]\n",
    "\n",
    "map_list = [[1],[1,1],[1,1,1],[1,1,1,1]]\n",
    "# map_list = [[9],[5,7],[1,3,2],[3,5,5,6]]"
   ]
  },
  {
   "cell_type": "code",
   "execution_count": 26,
   "metadata": {},
   "outputs": [
    {
     "data": {
      "text/plain": [
       "8"
      ]
     },
     "execution_count": 26,
     "metadata": {},
     "output_type": "execute_result"
    }
   ],
   "source": [
    "solution(map_list)"
   ]
  }
 ],
 "metadata": {
  "kernelspec": {
   "display_name": "Python 3",
   "language": "python",
   "name": "python3"
  },
  "language_info": {
   "codemirror_mode": {
    "name": "ipython",
    "version": 3
   },
   "file_extension": ".py",
   "mimetype": "text/x-python",
   "name": "python",
   "nbconvert_exporter": "python",
   "pygments_lexer": "ipython3",
   "version": "3.6.3"
  }
 },
 "nbformat": 4,
 "nbformat_minor": 2
}
