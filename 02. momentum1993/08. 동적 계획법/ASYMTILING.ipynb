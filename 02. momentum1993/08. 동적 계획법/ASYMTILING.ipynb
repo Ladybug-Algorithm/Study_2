{
 "cells": [
  {
   "cell_type": "markdown",
   "metadata": {},
   "source": [
    "ASYMTILING"
   ]
  },
  {
   "cell_type": "markdown",
   "metadata": {},
   "source": [
    "[algospot의 ASYMTILING 링크](https://algospot.com/judge/problem/read/ASYMTILING)"
   ]
  },
  {
   "cell_type": "markdown",
   "metadata": {},
   "source": [
    "![](http://algospot.com/media/judge-attachments/99b44b86e82ea246a21867a6970aedfb/13.png)  \n",
    "![](http://algospot.com/media/judge-attachments/eabd9fdeb757541289354b1dde1357f0/12.png)\n",
    "![](http://algospot.com/media/judge-attachments/56f26d8f5217e108489083aa594fca16/11.png)\n",
    "![](http://algospot.com/media/judge-attachments/b60ba1f71aaa61dde733d5088c75b82b/10.png)\n",
    "![](http://algospot.com/media/judge-attachments/03beebe7a6a34a588d0742a71e6d63e4/09.png)\n",
    "![](http://algospot.com/media/judge-attachments/71701ba4f30e767b1894c86b216a5daa/07.png)\n",
    "  \n",
    "그림과 같이 2 \\* n 크기의 직사각형을 2 \\* 1 크기의 타일로 채우려고 합니다. 타일들은 서로 겹쳐서는 안 되고, 90도로 회전해서 쓸 수 있습니다. 단 이 타일링 방법은 좌우 대칭이어서는 안 됩니다. 위 그림은 2 \\* 5 크기의 직사각형을 채우는 비대칭 타일링 방법 6가지를 보여줍니다. 다음의 2가지는 좌우대칭이기 때문에 세지 않습니다.  \n",
    "  \n",
    "![](http://algospot.com/media/judge-attachments/25c64a7a37ecfc8c5b2691d24c237510/14.png)  \n",
    "![](http://algospot.com/media/judge-attachments/c9dec0372bcc0b198a30305af57364fa/08.png)\n",
    "  \n",
    "n 이 주어질 때 가능한 비대칭 타일링 방법의 수를 계산하는 프로그램을 작성하세요. 방법의 수는 매우 클 수 있으므로, 1,000,000,007 로 나눈 나머지를 출력합니다.  "
   ]
  },
  {
   "cell_type": "markdown",
   "metadata": {},
   "source": [
    "solution함수의  \n",
    "n : 주어진 2 x n 칸의 n    "
   ]
  },
  {
   "cell_type": "code",
   "execution_count": 1,
   "metadata": {
    "collapsed": true
   },
   "outputs": [],
   "source": [
    "def tiling(n, memo=None): \n",
    "    if memo == None: # 메모이재이션 리스트 초기화\n",
    "        memo = [0 for _ in range(n+1)]\n",
    "        \n",
    "    if n == 1: # 만약 남은 칸이 2X1일 때는 1가지 방법이 있으므로 반환\n",
    "        memo[n] = 1\n",
    "        return memo[n]\n",
    "    elif n == 2: # 만약 남은 칸이 2X2일 때는 2가지 방법이 있으므로 반환\n",
    "        memo[n] = 2\n",
    "        return memo[n]\n",
    "    elif n == 0:\n",
    "        return 0\n",
    "    \n",
    "    if memo[n-1] > 0 and memo[n-2] > 0 : # 둘 다 이미 구해진 경우\n",
    "        memo[n] = memo[n-1] + memo[n-2]\n",
    "    elif memo[n-1] > 0: # 1칸 진행된 경우에만 구해진 경우\n",
    "        memo[n] = memo[n-1] + tiling(n-2, memo)\n",
    "    elif memo[n-2] > 0: # 2칸 진행된 경우에만 구해진 경우\n",
    "        memo[n] = memo[n-2] + tiling(n-1, memo)\n",
    "    else: # 아무것도 진행되지 않은 경우\n",
    "        memo[n] = tiling(n-1, memo) + tiling(n-2, memo)\n",
    "    return memo[n] # 마지막에 값을 나누어서 반환\n",
    "\n",
    "def solution(n):\n",
    "    MOD = 1000000007 # 값이 오버플로 될 수 있어서 중간에 나눠줌\n",
    "    symmetry = 0 # 대칭되는 경우의 수\n",
    "    if n <= 2: # 만약 너비가 2 이하 일 때\n",
    "        return 0 # 비대칭의 경우의 수가 0\n",
    "    \n",
    "    if n % 2 == 0: # 만약 너비가 짝수 일 때\n",
    "        m = int(n / 2) # 너비가 n/2일 때의 경우의수 + (n/2) -1 일 때의 경우의 수\n",
    "        symmetry += tiling(m-1) #즉, 중간 2칸이 二자로 채워질 경우 + 반으로 나눠질 경우\n",
    "    else: # 너비가 홀 수 일 때\n",
    "        m = n // 2 # 가장 중간 칸이 세로로 채워질 경우\n",
    "    symmetry += tiling(m)\n",
    "    return (tiling(n) - symmetry) % MOD # 마지막에는 모든 경우의 수 - 대칭 경우의 수"
   ]
  },
  {
   "cell_type": "code",
   "execution_count": 3,
   "metadata": {},
   "outputs": [
    {
     "data": {
      "text/plain": [
       "0"
      ]
     },
     "execution_count": 3,
     "metadata": {},
     "output_type": "execute_result"
    }
   ],
   "source": [
    "solution(2)"
   ]
  },
  {
   "cell_type": "code",
   "execution_count": 4,
   "metadata": {},
   "outputs": [
    {
     "data": {
      "text/plain": [
       "2"
      ]
     },
     "execution_count": 4,
     "metadata": {},
     "output_type": "execute_result"
    }
   ],
   "source": [
    "solution(4)"
   ]
  },
  {
   "cell_type": "code",
   "execution_count": 5,
   "metadata": {},
   "outputs": [
    {
     "data": {
      "text/plain": [
       "913227494"
      ]
     },
     "execution_count": 5,
     "metadata": {},
     "output_type": "execute_result"
    }
   ],
   "source": [
    "solution(92)"
   ]
  }
 ],
 "metadata": {
  "kernelspec": {
   "display_name": "Python 3",
   "language": "python",
   "name": "python3"
  },
  "language_info": {
   "codemirror_mode": {
    "name": "ipython",
    "version": 3
   },
   "file_extension": ".py",
   "mimetype": "text/x-python",
   "name": "python",
   "nbconvert_exporter": "python",
   "pygments_lexer": "ipython3",
   "version": "3.6.3"
  }
 },
 "nbformat": 4,
 "nbformat_minor": 2
}
