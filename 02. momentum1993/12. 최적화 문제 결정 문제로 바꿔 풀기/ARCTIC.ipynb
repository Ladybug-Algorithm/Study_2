{
 "cells": [
  {
   "cell_type": "markdown",
   "metadata": {},
   "source": [
    "ARCTIC"
   ]
  },
  {
   "cell_type": "markdown",
   "metadata": {},
   "source": [
    "[algospot의 ARCTIC 링크](https://algospot.com/judge/problem/read/ARCTIC)  \n",
    "  \n",
    "### 문제  \n",
    "![](http://algospot.com/media/judge-attachments/c32422238dae9e7dcb7c3d878c5f1c15/arctic.png)\n",
    "남극에는 N 개의 탐사 기지가 있습니다. 남극의 겨울은 혹독하기 때문에, 남극의 겨울이 찾아오면 탐사 기지들간의 왕래가 중단됩니다. 겨울에도 서로 통신하며 연구를 지속하기 위해, N 개의 무전기를 구입해 각 탐사 기지에 배치하려 합니다. 이 때, 두 탐사 기지 사이의 거리가 D 라고 하면, 무전기의 출력이 D 이상이어야만 통신이 가능합니다. 모든 탐사 기지에는 똑같은 무전기가 지급됩니다. 탐사 본부가 다른 모든 기지에 연락을 할 수 있기 위해 필요한 무전기의 최소 출력은 얼마일까요?  \n",
    "  \n",
    "탐사 본부는 다른 기지를 통해 간접적으로 연락할 수 있다고 가정합니다.  \n",
    "  \n",
    "### 출력   \n",
    "탐사 본부가 다른 모든 기지에 연락을 할 수 있기 위해 필요한 최소 무전기의 출력을 소숫점 밑 셋째 자리에서 반올림해 출력합니다.  "
   ]
  },
  {
   "cell_type": "markdown",
   "metadata": {},
   "source": [
    "solution의  \n",
    "location : 기지의 좌표를 가지는 리스트  \n",
    "searched : 현재 해당 좌표 기지 탐색 여부를 알 수 있는 리스트(True, False)  \n",
    "idx : 현재 탐색 중인 기지 인덱스  "
   ]
  },
  {
   "cell_type": "code",
   "execution_count": 1,
   "metadata": {},
   "outputs": [],
   "source": [
    "import math\n",
    "import sys\n",
    "\n",
    "def solution(location, searched=None, idx=0):\n",
    "    if searched is None: \n",
    "        searched = [False for _ in range(len(location))]\n",
    "        # False이면 아직 탐색하지 않은 기지, True이면 이미 탐색한 기지\n",
    "        searched[idx] = True # 현재 인덱스 기지는 탐색했다는 것을 표시\n",
    "    if False not in searched: # 만약 모두 탐색 되었다면\n",
    "        return 0 # 0 반환\n",
    "    y, x = location[idx] # 현재 탐색중인 기지의 좌표\n",
    "    answer = sys.maxsize # 정답을 저장할 변수\n",
    "    for i in range(len(location)): # 모든 기지에 대해서\n",
    "        if searched[i]: continue # 탐색한 기지를 제외하고\n",
    "        temp_y, temp_x = location[i] # 탐색할 기지의 좌표\n",
    "        searched[i] = True\n",
    "        length = max(round(math.sqrt(pow(y - temp_y, 2) + pow(x - temp_x, 2)), 2),\n",
    "                     round(solution(location, searched, i), 2))\n",
    "        # 기지 사이를 연결해가면서 측정한 거리 중 최대 거리\n",
    "        searched[i] = False\n",
    "        answer = min(length, answer)\n",
    "        # 여태껏 무전기 최소 출력 중에 가장 최소 출력\n",
    "    return answer\n",
    "        \n",
    "        \n",
    "    "
   ]
  },
  {
   "cell_type": "code",
   "execution_count": 2,
   "metadata": {},
   "outputs": [],
   "source": [
    "location = [(0, 0),(1, 0),(1, 1),(1, 2),(0, 2)]"
   ]
  },
  {
   "cell_type": "code",
   "execution_count": 3,
   "metadata": {},
   "outputs": [
    {
     "data": {
      "text/plain": [
       "1.0"
      ]
     },
     "execution_count": 3,
     "metadata": {},
     "output_type": "execute_result"
    }
   ],
   "source": [
    "solution(location)"
   ]
  },
  {
   "cell_type": "code",
   "execution_count": 4,
   "metadata": {},
   "outputs": [],
   "source": [
    "location = [(1.0, 1.0),(30.91, 8),(4.0, 7.64),(21.12, 6.0),(11.39, 3.0),(5.31, 11.0)]"
   ]
  },
  {
   "cell_type": "code",
   "execution_count": 5,
   "metadata": {
    "scrolled": true
   },
   "outputs": [
    {
     "data": {
      "text/plain": [
       "10.18"
      ]
     },
     "execution_count": 5,
     "metadata": {},
     "output_type": "execute_result"
    }
   ],
   "source": [
    "solution(location)"
   ]
  }
 ],
 "metadata": {
  "kernelspec": {
   "display_name": "Python 3",
   "language": "python",
   "name": "python3"
  },
  "language_info": {
   "codemirror_mode": {
    "name": "ipython",
    "version": 3
   },
   "file_extension": ".py",
   "mimetype": "text/x-python",
   "name": "python",
   "nbconvert_exporter": "python",
   "pygments_lexer": "ipython3",
   "version": "3.6.9"
  }
 },
 "nbformat": 4,
 "nbformat_minor": 2
}
