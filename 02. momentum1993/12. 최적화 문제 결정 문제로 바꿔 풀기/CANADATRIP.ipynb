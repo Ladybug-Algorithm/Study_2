{
 "cells": [
  {
   "cell_type": "markdown",
   "metadata": {},
   "source": [
    "CANADATRIP"
   ]
  },
  {
   "cell_type": "markdown",
   "metadata": {},
   "source": [
    "[algospot의 CANADATRIP 링크](https://algospot.com/judge/problem/read/CANADATRIP)  \n",
    "  \n",
    "### 문제  \n",
    "동건이는 여름 방학을 맞아 자동차를 끌고 캐나다 횡단 여행을 떠나기로 했습니다. 캐나다의 1번 고속도로는 세계에서 가장 긴 고속도로 중 하나로, 캐나다의 동쪽 끝에서 서쪽 끝까지 있는 모든 주요 도시를 연결합니다. 동건이는 이 고속도로를 타고 캐나다의 서쪽 끝 빅토리아에서 동쪽 끝 세인트 존까지 8,030km 를 달리기로 마음먹었습니다.  \n",
    "  \n",
    "이 고속도로는 굉장히 많은 표지판이 있기로도 유명합니다(이 문장부터는 사실이 아닙니다..). 이 고속도로는 N개의 주요 도시를 지나치는데, 각 도시까지의 남은 거리를 나타내는 표지판이 많기 때문입니다. i번째 도시까지의 거리를 나타내는 표지판은 도시에 도착하기 $M_i$미터 전부터 시작해서 도시에 도착할 때까지 $G_i$미터 간격으로 설치되어 있습니다. 예를 들어 $M_0$=500이고 $G_0$=50이라고 하면 여행자는 다음과 같은 11개의 표지판을 순서대로 보게 됩니다.  \n",
    "  \n",
    "- \"0번 도시 500미터 전\"  \n",
    "- \"0번 도시 450미터 전\"  \n",
    "- ...  \n",
    "- \"0번 도시 50미터 전\"  \n",
    "- \"0번 도시: 환영합니다\"  \n",
    "  \n",
    "시작점으로부터 각 도시까지의 거리 $L_i$와 $M_i$, $G_i$가 주어질 때, 시작점으로부터 여행하면서 동건이가 보게 되는 $K$번째 표지판의 위치를 계산하는 프로그램을 작성하세요. 한 위치에 표지판이 여러 개 있을 경우에도 각각의 표지판을 따로 세기로 합니다.  \n",
    "  \n",
    "### 출력   \n",
    "한 줄에 $K$번째 표지판의 위치를 출력합니다.  "
   ]
  },
  {
   "cell_type": "markdown",
   "metadata": {},
   "source": [
    "solution의  \n",
    "signs : [시작점으로 부터의 도시i의 위치, 표지판 시작하는 곳에서 도시i까지 거리, 표지판 간격]$([L_i,M_i,G_i])$의 정보를 가지는 표시판에 대한 정보 리스트  $(1 \\leq G_i \\leq M_i \\leq L_i \\leq 8,030,000)$  \n",
    "K : 찾아야 하는 K번째 표지판 $(1 \\leq K \\leq 2^{31}-1)$  "
   ]
  },
  {
   "cell_type": "code",
   "execution_count": 1,
   "metadata": {},
   "outputs": [],
   "source": [
    "# 두 번째 testcase에서 시간초과\n",
    "# def solution(signs, K):\n",
    "#     curr_loc = 8030000\n",
    "#     idx = -1\n",
    "#     for i in range(len(signs)):\n",
    "#         if signs[i][1] >= 0 and curr_loc > (signs[i][0] - signs[i][1]):\n",
    "#             curr_loc = (signs[i][0] - signs[i][1])\n",
    "#             idx = i\n",
    "#     signs[idx][1] -= signs[idx][2]\n",
    "    \n",
    "#     if K == 1:\n",
    "#         return curr_loc\n",
    "#     return solution(signs, K-1)\n",
    "\n",
    "# 이분법 알고리즘을 통한 풀이\n",
    "\n",
    "def decision(signs, curr_loc, K): # curr_loc위치까지 K번째 표지판을 포함하는지 여부\n",
    "    sign_num = 0 # 표지판 개수\n",
    "    for i in signs: # 도시와 표지판의 정보에 대해서\n",
    "        if i[0] - i[1] <= curr_loc: # 만약 현재 도시 표지판이 시작하는 위치가 현재 위치보다 앞에 있을 때\n",
    "            sign_num += int((min(curr_loc, i[0]) - (i[0] - i[1])) / i[2]) + 1 \n",
    "            # 현재 거리까지 존재하는 현재 도시의 표지판 개수 추가\n",
    "    if sign_num >= K: # 만약 표지판 개수가 K개 이상일 때 True\n",
    "        return True\n",
    "    return False # 아니라면 False\n",
    "\n",
    "def solution(signs, K):\n",
    "    lo = 0 # 최소 위치\n",
    "    hi = 8030000 # 최대 위치\n",
    "    while lo+1 < hi:\n",
    "        mid = int((lo + hi) / 2) # 위치를 2등분한 지점\n",
    "        if decision(signs, mid, K): # 만약 2등분한 지점에 K개 이상의 표지판이 존재하면\n",
    "            hi = mid # 최대 위치를 중간 지점으로 갱신\n",
    "        else: # 그렇지 않다면\n",
    "            lo = mid # 최소 위치를 중간 지점으로 갱신\n",
    "    return hi\n"
   ]
  },
  {
   "cell_type": "code",
   "execution_count": 2,
   "metadata": {},
   "outputs": [],
   "source": [
    "signs = [[500, 100, 10],\n",
    "         [504, 16, 4],\n",
    "         [510, 60, 6]]\n",
    "K = 15"
   ]
  },
  {
   "cell_type": "code",
   "execution_count": 3,
   "metadata": {
    "scrolled": true
   },
   "outputs": [
    {
     "data": {
      "text/plain": [
       "480"
      ]
     },
     "execution_count": 3,
     "metadata": {},
     "output_type": "execute_result"
    }
   ],
   "source": [
    "solution(signs, K)"
   ]
  },
  {
   "cell_type": "code",
   "execution_count": 4,
   "metadata": {},
   "outputs": [],
   "source": [
    "signs = [[8030000, 8030000, 1],\n",
    "         [2, 2, 1]]\n",
    "K = 1234567"
   ]
  },
  {
   "cell_type": "code",
   "execution_count": 5,
   "metadata": {
    "scrolled": false
   },
   "outputs": [
    {
     "data": {
      "text/plain": [
       "1234563"
      ]
     },
     "execution_count": 5,
     "metadata": {},
     "output_type": "execute_result"
    }
   ],
   "source": [
    "solution(signs, K)"
   ]
  }
 ],
 "metadata": {
  "kernelspec": {
   "display_name": "Python 3",
   "language": "python",
   "name": "python3"
  },
  "language_info": {
   "codemirror_mode": {
    "name": "ipython",
    "version": 3
   },
   "file_extension": ".py",
   "mimetype": "text/x-python",
   "name": "python",
   "nbconvert_exporter": "python",
   "pygments_lexer": "ipython3",
   "version": "3.6.9"
  }
 },
 "nbformat": 4,
 "nbformat_minor": 2
}
