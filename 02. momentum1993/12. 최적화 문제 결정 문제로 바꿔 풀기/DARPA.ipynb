{
 "cells": [
  {
   "cell_type": "markdown",
   "metadata": {},
   "source": [
    "DARPA"
   ]
  },
  {
   "cell_type": "markdown",
   "metadata": {},
   "source": [
    "[algospot의 DARPA 링크](https://algospot.com/judge/problem/read/DARPA)  \n",
    "  \n",
    "### 문제  \n",
    "DARPA Grand Challenge 는 운전자 없는 차들을 컴퓨터 인공지능으로 조작해 누가 먼저 결승점에 도달하느냐를 가지고 겨루는 인공지능 대회입니다. 2004년 DARPA Grand Challenge 의 과제는 사막을 가로지르는 240km 도로를 완주하는 것이었습니다.  \n",
    "  \n",
    "우리는 이 경기를 N 개의 카메라로 중계하려고 합니다. 이 도로에는 카메라를 설치할 수 있는 곳이 M 군데 있습니다. 여기에 카메라를 배치하여, 가장 가까운 두 카메라 간의 간격을 최대화하고 싶습니다. 이와 같은 배치를 찾아내는 프로그램을 작성하세요.  \n",
    "  \n",
    "### 출력   \n",
    "가장 가까운 두 카메라 간의 최대 간격을 소수점 셋째 자리에서 반올림해 출력합니다.  "
   ]
  },
  {
   "cell_type": "markdown",
   "metadata": {},
   "source": [
    "solution의  \n",
    "N : 카메라의 개수 (2 <= N <= 100)  \n",
    "M : 설치 가능한 중계소의 수  (N <= M <= 200)  \n",
    "cam_location : 카메라를 설치 가능한 곳의 위치가 오름차순으로 주어진 리스트  \n",
    "(각 위치는 시작점에서부터의 거리로, 240 이하의 실수이며 소숫점 둘째 자리까지 주어질 수 있습니다.)  "
   ]
  },
  {
   "cell_type": "code",
   "execution_count": 1,
   "metadata": {},
   "outputs": [],
   "source": [
    "def calculate(N, M, cam_location, index):\n",
    "    if N == 0 or  M - index - 1 < N or index == M-1: \n",
    "    # 만약 남은 카메라가 없거나, 남은 중계소의 수보다 카메라가 많거나, 중계소 끝까지 탐색한 경우\n",
    "    # 240 반환\n",
    "        return 240\n",
    "    answer = 0 # 답\n",
    "    for i in range(index+1, M - N + 1): \n",
    "        # 현재 선택한 중계소 위치 이후부터, 남은 카메라를 계산 했을 때 놓을 수 있는 중계소까지\n",
    "        temp_answer = cam_location[i] - cam_location[index] \n",
    "        # 현재 선택한 중계소와 선택할 중계소 사이의 거리\n",
    "        answer = max(answer, min(temp_answer, calculate(N-1, M, cam_location, i)))\n",
    "        # 선택한 중계소들 사이의 거리 중에 가장 가까운 거리들 중에 가장 최대 거리인 것을 고른다\n",
    "    return answer # 답 반환\n",
    "\n",
    "def solution(N, M, cam_location):\n",
    "    answer = 0 # 답\n",
    "    for i in range(M-N+1): # 카메라를 놓기 시작하는 중계소 i\n",
    "        answer = max(answer, calculate(N-1, M, cam_location, i))\n",
    "        # 그 중에 가장 최대값을 찾아 반환\n",
    "    return answer"
   ]
  },
  {
   "cell_type": "code",
   "execution_count": 2,
   "metadata": {},
   "outputs": [],
   "source": [
    "N = 2\n",
    "M = 4\n",
    "cam_location = [80, 100, 120, 140]"
   ]
  },
  {
   "cell_type": "code",
   "execution_count": 3,
   "metadata": {},
   "outputs": [
    {
     "data": {
      "text/plain": [
       "60"
      ]
     },
     "execution_count": 3,
     "metadata": {},
     "output_type": "execute_result"
    }
   ],
   "source": [
    "solution(N, M, cam_location)"
   ]
  },
  {
   "cell_type": "code",
   "execution_count": 4,
   "metadata": {},
   "outputs": [],
   "source": [
    "N = 4\n",
    "M = 4\n",
    "cam_location = [80, 100, 120, 140.00]"
   ]
  },
  {
   "cell_type": "code",
   "execution_count": 5,
   "metadata": {},
   "outputs": [
    {
     "data": {
      "text/plain": [
       "20"
      ]
     },
     "execution_count": 5,
     "metadata": {},
     "output_type": "execute_result"
    }
   ],
   "source": [
    "solution(N, M, cam_location)"
   ]
  },
  {
   "cell_type": "code",
   "execution_count": 6,
   "metadata": {},
   "outputs": [],
   "source": [
    "N = 4\n",
    "M = 7\n",
    "cam_location = [0, 70, 90, 120, 200, 210, 220]"
   ]
  },
  {
   "cell_type": "code",
   "execution_count": 7,
   "metadata": {},
   "outputs": [
    {
     "data": {
      "text/plain": [
       "50"
      ]
     },
     "execution_count": 7,
     "metadata": {},
     "output_type": "execute_result"
    }
   ],
   "source": [
    "solution(N, M, cam_location)"
   ]
  }
 ],
 "metadata": {
  "kernelspec": {
   "display_name": "Python 3",
   "language": "python",
   "name": "python3"
  },
  "language_info": {
   "codemirror_mode": {
    "name": "ipython",
    "version": 3
   },
   "file_extension": ".py",
   "mimetype": "text/x-python",
   "name": "python",
   "nbconvert_exporter": "python",
   "pygments_lexer": "ipython3",
   "version": "3.6.9"
  }
 },
 "nbformat": 4,
 "nbformat_minor": 2
}
