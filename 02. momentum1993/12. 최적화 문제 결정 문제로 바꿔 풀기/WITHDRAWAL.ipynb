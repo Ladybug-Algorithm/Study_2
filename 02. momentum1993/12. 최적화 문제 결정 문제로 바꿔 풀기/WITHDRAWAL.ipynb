{
 "cells": [
  {
   "cell_type": "markdown",
   "metadata": {},
   "source": [
    "WITHDRAWAL"
   ]
  },
  {
   "cell_type": "markdown",
   "metadata": {},
   "source": [
    "[algospot의 WITHDRAWAL 링크](https://algospot.com/judge/problem/read/WITHDRAWAL)  \n",
    "  \n",
    "### 문제  \n",
    "이번 학기에 욕심을 부려 학점 초과신청을 한 백준이는 중간고사 성적을 보고 한숨을 토할 수밖에 없었습니다. 다음 학기 장학금을 받을 만큼 성적이 잘 나오지 않았기 때문입니다. 이제 백준이에게 남은 희망은 다음 주의 수강 철회 기간 뿐입니다.  \n",
    "  \n",
    "백준이네 학교에서는 장학금을 학생의 중간고사 등수와 기말고사 등수에 따라 배정합니다. 어떤 학생이 듣는 i번째 과목의 수강생 수가 $c_i$라고 합시다. 그리고 이 학생의 i번째 과목 중간 고사 등수가 $r_i$라고 하면, 이 학생의 중간 고사 누적 등수 cumulativeRank 는 다음과 같이 정의됩니다.  \n",
    "  \n",
    "cumulativeRank = sum($r_i$) / sum($c_i$)  \n",
    "  \n",
    "예를 들어 백준이가 수강생이 각각 150, 200, 15명인 3개의 과목을 듣는데, 각각 100, 10, 5등을 했다면 백준이의 누적 등수를 다음과 같이 계산할 수 있지요.  \n",
    "  \n",
    "(100 + 10 + 5) / (150 + 200 + 15) = 115 / 365 = 0.315..  \n",
    "  \n",
    "수강 철회를 하면 철회한 과목은 중간 고사의 누적 등수 계산에 들어가지 않게 됩니다. 다행히 백준이네 학교에서는 수강 철회를 해도 남은 과목이 k 개 이상이라면 장학금을 받을 수 있습니다. 백준이가 적절히 과목을 철회했을 때 얻을 수 있는 최소 누적 등수를 계산하는 프로그램을 작성하세요.  \n",
    "  \n",
    "### 출력   \n",
    "각 줄마다 백준이가 얻을 수 있는 최소의 누적 등수를 출력합니다. 정답과 $10^{-7}$ 이하의 오차가 있는 답은 정답으로 인정됩니다.  "
   ]
  },
  {
   "cell_type": "markdown",
   "metadata": {},
   "source": [
    "solution의  \n",
    "n : 총 듣는 과목 수 $(1 \\leq n \\leq 1000)$  \n",
    "k :  남겨둬야 할 과목의 수 k $(1 \\leq k \\leq n)$  \n",
    "rank_per_lecture : [등수, 수강인원] 을 가지는 리스트 $(1 \\leq r_i \\leq c_i \\leq 1,000)$  "
   ]
  },
  {
   "cell_type": "code",
   "execution_count": 4,
   "metadata": {},
   "outputs": [],
   "source": [
    "sum_rank = 0 # 등수의 합\n",
    "sum_personnel = 0 # 수강인원 수의 합\n",
    "\n",
    "def solution(n, k, rank_per_lecture, flag = None):\n",
    "    global sum_rank\n",
    "    global sum_personnel\n",
    "    if flag is None: # flag 초기화\n",
    "        flag  = [True for _ in range(n)] # 현재 확인된 수업인지 알려줄 플래그\n",
    "    answer = 1 # 답\n",
    "    if k == 0: # k개의 수업에 대해서 누적 등수를 확인\n",
    "        return sum_rank/sum_personnel\n",
    "\n",
    "    for i in range(n):\n",
    "        if flag[i]:\n",
    "            flag[i] = False # i번째 수업에 대해서 확인하였음\n",
    "            sum_rank += rank_per_lecture[i][0] # 누적 등수 합\n",
    "            sum_personnel += rank_per_lecture[i][1] # 누적 인원수 합\n",
    "            answer = min(answer,solution(n, k-1, rank_per_lecture, flag))\n",
    "            # 최소 누적등수 저장\n",
    "            # 다시 다른 경우의 수를 구하기 위해 플래그 및 피연산자를 원상복구시킴\n",
    "            flag[i] = True\n",
    "            sum_rank -= rank_per_lecture[i][0]\n",
    "            sum_personnel -= rank_per_lecture[i][1]\n",
    "    return answer # 답 반환"
   ]
  },
  {
   "cell_type": "code",
   "execution_count": 5,
   "metadata": {},
   "outputs": [],
   "source": [
    "n = 3 \n",
    "k = 2\n",
    "rank_per_lecture = [(1, 4), (6, 10), (10, 17)]"
   ]
  },
  {
   "cell_type": "code",
   "execution_count": 6,
   "metadata": {},
   "outputs": [
    {
     "data": {
      "text/plain": [
       "0.5"
      ]
     },
     "execution_count": 6,
     "metadata": {},
     "output_type": "execute_result"
    }
   ],
   "source": [
    "solution(n, k, rank_per_lecture)"
   ]
  },
  {
   "cell_type": "code",
   "execution_count": 7,
   "metadata": {},
   "outputs": [],
   "source": [
    "n = 4 \n",
    "k = 2\n",
    "rank_per_lecture = [(4, 8), (9, 12), (3, 10), (2, 5)]"
   ]
  },
  {
   "cell_type": "code",
   "execution_count": 8,
   "metadata": {},
   "outputs": [
    {
     "data": {
      "text/plain": [
       "0.3333333333333333"
      ]
     },
     "execution_count": 8,
     "metadata": {},
     "output_type": "execute_result"
    }
   ],
   "source": [
    "solution(n, k, rank_per_lecture)"
   ]
  },
  {
   "cell_type": "code",
   "execution_count": 9,
   "metadata": {},
   "outputs": [],
   "source": [
    "n = 10 \n",
    "k = 5\n",
    "rank_per_lecture = [(70, 180), (192, 192), (1, 20), (10, 200), (6, 102), (60, 1000), (4, 9), (1, 12), (8, 127), (100, 700)]"
   ]
  },
  {
   "cell_type": "code",
   "execution_count": 10,
   "metadata": {},
   "outputs": [
    {
     "data": {
      "text/plain": [
       "0.05639913232104121"
      ]
     },
     "execution_count": 10,
     "metadata": {},
     "output_type": "execute_result"
    }
   ],
   "source": [
    "solution(n, k, rank_per_lecture)"
   ]
  }
 ],
 "metadata": {
  "kernelspec": {
   "display_name": "Python 3",
   "language": "python",
   "name": "python3"
  },
  "language_info": {
   "codemirror_mode": {
    "name": "ipython",
    "version": 3
   },
   "file_extension": ".py",
   "mimetype": "text/x-python",
   "name": "python",
   "nbconvert_exporter": "python",
   "pygments_lexer": "ipython3",
   "version": "3.6.9"
  }
 },
 "nbformat": 4,
 "nbformat_minor": 2
}
