{
 "cells": [
  {
   "cell_type": "markdown",
   "metadata": {},
   "source": [
    "MEASURETIME"
   ]
  },
  {
   "cell_type": "markdown",
   "metadata": {},
   "source": [
    "[algospot의 MEASURETIME 링크](https://algospot.com/judge/problem/read/MEASURETIME)  \n",
    "  \n",
    "### 문제  \n",
    "유명한 정렬 알고리즘인 삽입 정렬은 정렬된 부분 배열을 유지하며 이 배열에 새 원소를 삽입해 나가는 식으로 동작합니다. 주어진 정수 배열 A를 정렬하는 삽입 정렬의 구현은 다음과 같습니다.  \n",
    "  \n",
    "~~~\n",
    "void insertionSort(vector<int>& A) {\n",
    "  for(int i = 0; i < A.size(); ++i) {\n",
    "    // A[0..i-1] 에 A[i] 를 끼워넣는다\n",
    "    int j = i;\n",
    "    while(j > 0 && A[j-1] > A[j]) {\n",
    "      // 불변식 a: A[j+1..i] 의 모든 원소는 A[j] 보다 크다.\n",
    "      // 불변식 b: A[0..i] 구간은 A[j] 를 제외하면 정렬되어 있다.\n",
    "      swap(A[j-1], A[j]);\n",
    "      --j;\n",
    "    }\n",
    "  }\n",
    "}\n",
    "~~~\n",
    "삽입 정렬은 A[0..i-1] 이 정렬된 배열일 때, A[i] 를 적절한 위치를 만날 때까지 왼쪽으로 한칸씩 움직입니다. 예를 들어 A={5,1,4,3,2} 의 삽입 정렬은 다음과 같이 이루어집니다.  \n",
    "  \n",
    "|A|비고|  \n",
    "|:---:|:---:|  \n",
    "|5 1 4 3 2 |\t초기 상태 |\n",
    "|1 5 4 3 2 |\t1을 왼쪽으로 1칸 옮김 |\n",
    "|1 4 5 3 2 |\t4를 왼쪽으로 1칸 옮김 |\n",
    "|1 3 4 5 2 |\t3을 왼쪽으로 2칸 옮김 |\n",
    "|1 2 3 4 5 |\t2를 왼쪽으로 3칸 옮김 |  \n",
    "  \n",
    "길이 N 인 수열 A[] 가 주어집니다. 이 정렬 과정에서 숫자들을 총 몇 번이나 옮기는지를 계산하는 프로그램을 작성하세요. 예를 들어 위 배열의 경우 총 1+1+2+3=7 번 숫자를 옮기게 됩니다.  \n",
    "  \n",
    "### 출력  \n",
    "한 줄에 A를 삽입정렬하는 과정에서 숫자를 옮기는 총 횟수를 출력합니다.  "
   ]
  },
  {
   "cell_type": "markdown",
   "metadata": {},
   "source": [
    "solution의  \n",
    "A : 정렬을 시행할 배열 $(0 \\leq A_i < 1000000)$  \n",
    "$(1 \\leq len(A) \\leq 50000)$  "
   ]
  },
  {
   "cell_type": "code",
   "execution_count": 1,
   "metadata": {},
   "outputs": [],
   "source": [
    "# Fenwick Tree(펜윅 트리)  \n",
    "# 가상의 배열 A[]의 부분 합을 빠르게 구현할 수 있도록 한다.\n",
    "\n",
    "class FenwickTree:\n",
    "    tree = []\n",
    "    \n",
    "    def __init__(self, n):\n",
    "        self.tree = [0 for _ in range(n+1)]\n",
    "        # 처음에는 배열을 0으로 초기화\n",
    "    \n",
    "    # 부분합을 구할 때 이용\n",
    "    def sum(self, pos):\n",
    "        pos += 1\n",
    "        ret = 0 \n",
    "        while pos > 0 :\n",
    "            ret += self.tree[pos] # 부분합을 더해준다. \n",
    "            pos &= (pos - 1) # 가장 오른쪽에 있는 1을 가지는 비트를 빼준다.\n",
    "        return ret\n",
    "    \n",
    "    # 펜윅 트리 갱신 시에 이용\n",
    "    def add(self, pos, val): # A[pos]에 val만큼의 값이 더해질 경우\n",
    "        pos += 1\n",
    "        while pos < len(self.tree): # 해당 A[pos] 값을 지니고 있는 구간 펜윅트리에 값 더해줌.\n",
    "            self.tree[pos] += val # 해당 펜윅트리 노드에 값을 더함\n",
    "            pos += (pos & -pos) # 가장 오른쪽의 1을 가지는 수 만큼 더함\n",
    "        "
   ]
  },
  {
   "cell_type": "code",
   "execution_count": 2,
   "metadata": {},
   "outputs": [],
   "source": [
    "def solution(A):\n",
    "    answer = 0\n",
    "    fw = FenwickTree(1000000) # 원소의 최댓값까지에 대해서 Fenwick Tree 객체 생성\n",
    "    for i in range(len(A)): # A에 대해서\n",
    "        answer += fw.sum(999999) - fw.sum(A[i])\n",
    "        # 현재 A[i]보다 더 큰 값이 앞에 있을 경우 그만큼 더한다.\n",
    "        fw.add(A[i], 1)\n",
    "        # 그리고 현재 A[i]에 대해서 펜윅 트리에 더해준다.\n",
    "    return answer"
   ]
  },
  {
   "cell_type": "code",
   "execution_count": 3,
   "metadata": {},
   "outputs": [],
   "source": [
    "A = [5, 1, 4, 3, 2]"
   ]
  },
  {
   "cell_type": "code",
   "execution_count": 4,
   "metadata": {},
   "outputs": [
    {
     "data": {
      "text/plain": [
       "7"
      ]
     },
     "execution_count": 4,
     "metadata": {},
     "output_type": "execute_result"
    }
   ],
   "source": [
    "solution(A)"
   ]
  },
  {
   "cell_type": "code",
   "execution_count": 5,
   "metadata": {},
   "outputs": [],
   "source": [
    "A = [7, 8, 6, 6, 1, 9, 4, 4, 3, 10]"
   ]
  },
  {
   "cell_type": "code",
   "execution_count": 6,
   "metadata": {},
   "outputs": [
    {
     "data": {
      "text/plain": [
       "25"
      ]
     },
     "execution_count": 6,
     "metadata": {},
     "output_type": "execute_result"
    }
   ],
   "source": [
    "solution(A)"
   ]
  }
 ],
 "metadata": {
  "kernelspec": {
   "display_name": "Python 3",
   "language": "python",
   "name": "python3"
  },
  "language_info": {
   "codemirror_mode": {
    "name": "ipython",
    "version": 3
   },
   "file_extension": ".py",
   "mimetype": "text/x-python",
   "name": "python",
   "nbconvert_exporter": "python",
   "pygments_lexer": "ipython3",
   "version": "3.6.9"
  }
 },
 "nbformat": 4,
 "nbformat_minor": 2
}
