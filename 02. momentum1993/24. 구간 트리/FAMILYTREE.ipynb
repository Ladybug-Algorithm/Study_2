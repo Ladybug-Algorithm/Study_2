{
 "cells": [
  {
   "cell_type": "markdown",
   "metadata": {},
   "source": [
    "FAMILYTREE"
   ]
  },
  {
   "cell_type": "markdown",
   "metadata": {},
   "source": [
    "[algospot의 FAMILYTREE 링크](https://algospot.com/judge/problem/read/FAMILYTREE)  \n",
    "  \n",
    "### 문제  \n",
    "촌수는 혈연관계의 멀고 가까움을 의미하는 숫자로, 고려 말에 들어와 조선 시대에 정착된 것으로 알려져 있습니다. 촌수를 세는 계촌법은 부모와 자식간이 1촌이 되는 것을 기본으로 합니다. 두 사람의 촌수는 이 두 사람이 부모 자식 관계를 몇 번이나 따라가야 서로 연결되는가를 나타내지요. 예를 들어 형제자매는 같은 부모를 공유하기 때문에 2촌입니다. 조부모의 자식, 즉 부모의 형제자매는 이와 같은 원리로 3촌이지요.  \n",
    "  \n",
    "어떤 가문의 족보가 시조부터 시작해 쭉 주어질 때, 두 사람의 촌수를 계산하는 프로그램을 작성하세요.  \n",
    "  \n",
    "### 출력  \n",
    "각 사람의 쌍마다 한 줄에 두 사람의 촌수를 출력합니다.  \n",
    "  "
   ]
  },
  {
   "cell_type": "markdown",
   "metadata": {},
   "source": [
    "solution의  \n",
    "family_tree : 각 사람에 대한 아버지의 번호를 가지는 리스트 $(1 \\leq i \\leq 100000)$  \n",
    "targets : 서로간의 촌수를 구해야하는 대상 번호 사람 (a,b)를 가지는 리스트  \n",
    "$(1 \\leq len(targets) \\leq 10000, 0 \\leq a,b < len(family_tree))$  \n",
    "  \n",
    "족보에는 시조의 후손이 아닌 사람은 주어지지 않으며, 자기 자신의 조상이 되는 등의 모순된 입력 또한 주어지지 않습니다.  "
   ]
  },
  {
   "cell_type": "code",
   "execution_count": 35,
   "metadata": {},
   "outputs": [],
   "source": [
    "def make_tree(tree, family_tree, parent= 0, depth = 0): # 족보 트리 생성\n",
    "    children = [] # 자손노드\n",
    "    for i in range(len(family_tree)):\n",
    "        if family_tree[i] == parent:\n",
    "            children.append(i+1) # 자손 노드\n",
    "    if children == []: # 자손이 없다면 리턴\n",
    "        return\n",
    "    \n",
    "    for i in children: # 자손들에 대해서\n",
    "        if tree[i]: # 이미 초기화된 경우 넘어간다.\n",
    "            continue\n",
    "        tree[i] = (parent, depth+1) # (부모노드인덱스, 해당 노드의 깊이)\n",
    "        make_tree(tree, family_tree, i, depth+1) # 그리고 자손 노드에 대해 다시 트리 생성\n",
    "    return\n",
    "\n",
    "def query(tree, first, second): # 질의 연산\n",
    "    num = 0 # 촌수\n",
    "    if first == second: # 같은 노드끼리의 촌수는 0\n",
    "        return 0\n",
    "    first_parent, first_depth = tree[first] # 첫번째 노드의 부모, 깊이\n",
    "    second_parent, second_depth = tree[second] # 두번째 노드의 부모, 깊이\n",
    "    if first == 0: # 만약 첫번째 노드가 루트 노드면 촌수는 두번째 노드의 깊이\n",
    "        return second_depth\n",
    "    if second == 0: # 만약 두번째 노드가 루트 노드면 촌수는 첫번째 노드의 깊이\n",
    "        return first_depth\n",
    "    if first_parent == second or second_parent == first:\n",
    "    # 첫번째 노드와 두번째 노드가 부자관계라면 촌수는 1\n",
    "        return 1\n",
    "    num += 2 + query(tree, first_parent, second_parent)\n",
    "    # 촌수는 2 + 각 노드의 부모 노드 사이의 촌수\n",
    "    return num\n",
    "\n",
    "def solution(family_tree, targets):\n",
    "    answer = [] \n",
    "    tree = [None for _ in range(len(family_tree) + 1)] # 족보 트리\n",
    "    tree[0] = (0, 0) # 루트 노드는 부모는 자기 자신으로 두고, 깊이는 0으로 둔다.\n",
    "    make_tree(tree, family_tree) # 족보 트리 생성\n",
    "    for a,b in targets:\n",
    "        answer.append(query(tree, a, b))\n",
    "        # 각 번호 노드에 대해서 서로 간의 촌수를 구한다.\n",
    "    return answer # 촌수 반환\n",
    "        \n",
    "# 도서 내에서는 각 노드에 대해서 전위(preorder) 순회를 통해서 전부 탐색하는 노드의 번호를 저장한뒤\n",
    "# (이전 노드로 돌아오는 path포함) 기록한다.\n",
    "\n",
    "# 대상 노드 a,b 사이의 path안에는 최상위 공통 조상(LCA(a,b))가 포함되어 있게 된다.\n",
    "# 이를 이용하여 a,b 사이의 촌수를 구할 수 있다.\n",
    "\n",
    "# a,b 사이의 촌수는 \n",
    "# (a와 (a,b)의 최상위 공통 조상 과의 거리) + (b와 (a,b)의 최상위 공통 조상 과의 거리)가 되며, \n",
    "# 이는 depth[a] + depth[b] - depth[LCA(a,b)]"
   ]
  },
  {
   "cell_type": "code",
   "execution_count": 36,
   "metadata": {},
   "outputs": [],
   "source": [
    "family_tree = [0, 1, 1, 3, 3, 0, 6, 0, 8, 9, 9, 8]\n",
    "targets = [(2, 7), (10, 11), (4, 11), (7, 7), (10, 0)]  "
   ]
  },
  {
   "cell_type": "code",
   "execution_count": 37,
   "metadata": {
    "scrolled": true
   },
   "outputs": [
    {
     "data": {
      "text/plain": [
       "[4, 2, 6, 0, 3]"
      ]
     },
     "execution_count": 37,
     "metadata": {},
     "output_type": "execute_result"
    }
   ],
   "source": [
    "solution(family_tree, targets)"
   ]
  }
 ],
 "metadata": {
  "kernelspec": {
   "display_name": "Python 3",
   "language": "python",
   "name": "python3"
  },
  "language_info": {
   "codemirror_mode": {
    "name": "ipython",
    "version": 3
   },
   "file_extension": ".py",
   "mimetype": "text/x-python",
   "name": "python",
   "nbconvert_exporter": "python",
   "pygments_lexer": "ipython3",
   "version": "3.6.9"
  }
 },
 "nbformat": 4,
 "nbformat_minor": 2
}
