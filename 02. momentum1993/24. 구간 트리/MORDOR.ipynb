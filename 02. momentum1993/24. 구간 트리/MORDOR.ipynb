{
 "cells": [
  {
   "cell_type": "markdown",
   "metadata": {},
   "source": [
    "MORDOR"
   ]
  },
  {
   "cell_type": "code",
   "execution_count": 1,
   "metadata": {},
   "outputs": [],
   "source": [
    "# 구간 트리\n",
    "\n",
    "import sys\n",
    "\n",
    "class RMQ: \n",
    "# 구간 최소 쿼리 (RMQ, Range Minimum Query) \n",
    "#: 구간 내에서의 최소값을 지니는 노드로 구성된 트리\n",
    "    n = 0 # 기준 배열 크기\n",
    "    rangeMin = [] # 구간 트리 배열\n",
    "\n",
    "    def __init__(self, arr):\n",
    "        self.n = len(arr) # 구간 트리 구성의 기준 배열\n",
    "        self.rangeMin = [None for _ in range(4*self.n)]\n",
    "        # 구간 트리 배열의 크기를 4n으로 두었다.\n",
    "        self.make_tree(arr, 0, self.n-1, 1)\n",
    "        # 해당 배열 arr에 대해서 0 ~ n-1 인덱스간의 구간트리 생성 (root node는 1)\n",
    "    \n",
    "    def make_tree(self, arr, left, right, node): # 구간 트리를 생성하는 모듈\n",
    "        if left == right: # 만약 구간이 인덱스 1개라면\n",
    "            self.rangeMin[node] = arr[left] # 해당 인덱스의 배열값을 노드에 저장\n",
    "            return self.rangeMin[node] # 해당 배열값 반환\n",
    "        \n",
    "        mid = int((left+right)/2) # 구간을 자를 중간값\n",
    "        leftMin = self.make_tree(arr, left, mid, node*2)\n",
    "        # 왼쪽 구간의 최솟값(=노드 값)\n",
    "        rightMin = self.make_tree(arr, mid+1, right, (node*2)+1)\n",
    "        # 오른쪽 구간의 최솟값(=노드 값)\n",
    "        self.rangeMin[node] = min(leftMin, rightMin)\n",
    "        # 왼쪽, 오른쪽 노드의 부모 노드는 두 노드의 최솟값을 지니게 된다.\n",
    "        return self.rangeMin[node] # 노드값(=구간 내의 최솟값) 반환\n",
    "    \n",
    "    def in_query(self, left, right, node, nodeLeft, nodeRight): \n",
    "        # 임의의 구간의 최소치를 구하는 질의(query) 연산 \n",
    "        # array[nodeLeft : nodeRight +1] 이 주어졌을 때,\n",
    "        # [left:right+1] 범위에서의 최솟값을 반환하는 모듈\n",
    "        if right < nodeLeft or nodeRight < left: # 구간이 겹치지 않을 경우\n",
    "            return sys.maxsize # int max값 반환\n",
    "        if left <= nodeLeft and nodeRight <= right: \n",
    "            # 만약 질의하는 구간이 기준 배열 구간을 포개어버리는 경우 \n",
    "            return self.rangeMin[node] # 바로 [nodeLeft: nodeRight+1] 구간의 최솟값 반환\n",
    "        mid = int((nodeLeft+nodeRight)/ 2) # 주어진 구간의 중간값\n",
    "        return min(self.in_query(left, right, node*2, nodeLeft, mid), self.in_query(left, right, node*2+1, mid+1, nodeRight))\n",
    "        # 2분할한 구간의 왼쪽 최솟값과 오른쪽 최솟값 중에 최솟값을 반환\n",
    "    \n",
    "    def query(self, left, right):\n",
    "        return self.in_query(left, right, 1, 0, self.n-1)\n",
    "    \n",
    "    def in_update(self, index, newValue, node, nodeLeft, nodeRight): \n",
    "        # 기준 배열의 값이 바뀌었을 때, 구간 트리를 갱신해주는 모듈\n",
    "\n",
    "        if index < nodeLeft or nodeRight < index: # 기준 배열의 바뀐 부분이 구간 트리와 겹치지 않을 때\n",
    "            return self.rangeMin[node] # 그대로 반환\n",
    "        if nodeLeft == nodeRight: # 구간 트리의 리프에 도달했을 때\n",
    "            self.rangeMin[node] = newValue # 새로운 값을 노드에 저장\n",
    "            return self.rangeMin[node] # 해당 배열값 반환\n",
    "        \n",
    "        mid = int((nodeLeft+nodeRight)/ 2) # 주어진 구간의 중간값\n",
    "        return min(self.in_update(index, newValue, node*2, nodeLeft, mid), self.in_update(index, newValue, node*2+1, mid+1, nodeRight))\n",
    "        # 2분할한 구간의 왼쪽 최솟값과 오른쪽 최솟값 중에 최솟값을 반환\n",
    "    \n",
    "    def update(self, index, newValue):\n",
    "        return self.in_update(index, newValue, 1, 0, self.n-1)"
   ]
  },
  {
   "cell_type": "code",
   "execution_count": 2,
   "metadata": {},
   "outputs": [],
   "source": [
    "arr = [1,2,4,3]"
   ]
  },
  {
   "cell_type": "code",
   "execution_count": 3,
   "metadata": {},
   "outputs": [],
   "source": [
    "rmq = RMQ(arr)"
   ]
  },
  {
   "cell_type": "code",
   "execution_count": 4,
   "metadata": {},
   "outputs": [
    {
     "data": {
      "text/plain": [
       "1"
      ]
     },
     "execution_count": 4,
     "metadata": {},
     "output_type": "execute_result"
    }
   ],
   "source": [
    "rmq.query(0, 3)"
   ]
  },
  {
   "cell_type": "code",
   "execution_count": 5,
   "metadata": {},
   "outputs": [],
   "source": [
    "arr[0] = 5"
   ]
  },
  {
   "cell_type": "code",
   "execution_count": 6,
   "metadata": {},
   "outputs": [
    {
     "data": {
      "text/plain": [
       "[5, 2, 4, 3]"
      ]
     },
     "execution_count": 6,
     "metadata": {},
     "output_type": "execute_result"
    }
   ],
   "source": [
    "arr"
   ]
  },
  {
   "cell_type": "code",
   "execution_count": 7,
   "metadata": {},
   "outputs": [
    {
     "data": {
      "text/plain": [
       "2"
      ]
     },
     "execution_count": 7,
     "metadata": {},
     "output_type": "execute_result"
    }
   ],
   "source": [
    "rmq.update(0, 5)"
   ]
  },
  {
   "cell_type": "markdown",
   "metadata": {},
   "source": [
    "[algospot의 MORDOR 링크](https://algospot.com/judge/problem/read/MORDOR)  \n",
    "  \n",
    "### 문제  \n",
    "모르도르 지방의 아름다운 경치를 한 눈에 볼 수 있는 명산 오로드루인에는 길기로 유명한 등산로가 있습니다. 이 등산로는 산등성이를 따라 오르락내리락하며 구성되어 있지요. 이 등산로는 너무 길기 때문에 특수 장비(예를 들면, 절대반지 등)를 갖춘 사람이 아니라면 처음부터 끝까지 정복하기가 힘이 듭니다. 관광 자원 개척을 위해 이 등산로 중 몇 군데를 별도의 등산로로 개방하려고 합니다.\n",
    "\n",
    "등산로에는 100미터 간격으로 표지판이 있는데, 각 표지판의 해발 고도를 측정한 자료가 있습니다. 이 때 등산로의 난이도는 등산로를 가다 만나는 표지판 중 최대 해발 고도와 최저 해발 고도의 차이입니다. 개방을 검토하고 있는 등산로의 일부가 주어질 때, 각 부분의 난이도를 계산하는 프로그램을 작성하세요.  \n",
    "  \n",
    "### 출력  \n",
    "한 줄에 하나씩 개방을 고려하고 있는 각 등산로의 난이도를 출력합니다.  \n",
    "  "
   ]
  },
  {
   "cell_type": "markdown",
   "metadata": {},
   "source": [
    "solution의  \n",
    "signs : 각 표지판의 해발 고도 리스트 $(1 \\leq i \\leq 100000, 0 \\leq signs[i] \\leq 20000)$  \n",
    "road_ranges : 등산로의 범위 (시작위치,마지막위치)를 가지는 리스트 \n",
    "$(1 \\leq i \\leq 10000, 0 \\leq 시작위치 \\leq 마지막위치 < len(signs) )$\n",
    "  \n",
    "  "
   ]
  },
  {
   "cell_type": "code",
   "execution_count": 8,
   "metadata": {},
   "outputs": [],
   "source": [
    "def make_tree(signs, tree, node=0, lo=-1 , hi=-1): # 구간 트리 생성\n",
    "    if node == 0: # 처음에 초기화\n",
    "        lo = 0 # 구간 시작\n",
    "        hi = len(signs)-1 # 구간 끝\n",
    "        node = 1 # 노드의 번호\n",
    "    if lo == hi: # 구간길이가 1일 때\n",
    "        tree[node-1] = (signs[lo], signs[lo]) # 해당 인덱스값을 반환\n",
    "        return tree[node-1]\n",
    "    mid = int((lo+hi)/2) # 중간값\n",
    "    left_min, left_max = make_tree(signs, tree, 2*node, lo, mid) # 왼쪽 구간\n",
    "    right_min, right_max = make_tree(signs, tree, 2*node+1, mid+1, hi) # 오른쪽 구간\n",
    "    node_min = min(left_min, right_min)\n",
    "    node_max = max(left_max, right_max)\n",
    "    tree[node-1] = (node_min, node_max) # 합쳐진 구간 중 (최소,최대)\n",
    "    return tree[node-1]\n",
    "\n",
    "def query(signs, tree, start, end, node=0, lo=-1, hi=-1): # 질의 연산\n",
    "    if node == 0: # 초기과\n",
    "        lo = 0 # 구간 시작\n",
    "        hi = len(signs)-1 # 구간 끝\n",
    "        node = 1 # 노드 번호\n",
    "    if end < lo or start > hi: # 표지판의 범위를 벗어날 때\n",
    "        return (20001, -1)\n",
    "    if start == end: # 구간 길이가 1일 때\n",
    "        return signs[start], signs[start] # 해당 인덱스값 반환\n",
    "    if start <= lo and end >= hi: # 구간을 포함할 때\n",
    "        return tree[node-1] # 구간 값 바로 반환\n",
    "    mid = int((lo+hi)/2) # 중간값\n",
    "    left_min, left_max = query(signs, tree, start, end, 2*node, lo, mid) # 왼쪽 구간\n",
    "    right_min, right_max = query(signs, tree, start, end, 2*node+1, mid+1, hi) # 오른쪽 구간\n",
    "    node_min = min(left_min, right_min) \n",
    "    node_max = max(left_max, right_max)\n",
    "    return node_min, node_max # 구간의 (최소, 최대) 값 반환\n",
    "        \n",
    "def solution(signs, road_ranges):\n",
    "    tree = [None for _ in range(len(signs)*4)] # 구간 트리\n",
    "    answer = [] # 답\n",
    "    make_tree(signs, tree) # 구간 트리 생성\n",
    "    for start,end in road_ranges: \n",
    "        min_val, max_val = query(signs, tree, start, end)\n",
    "        answer.append(max_val - min_val)\n",
    "        # 각 구간에 대한 난이도\n",
    "    return answer"
   ]
  },
  {
   "cell_type": "code",
   "execution_count": 9,
   "metadata": {},
   "outputs": [],
   "source": [
    "signs = [1, 2, 3]\n",
    "road_ranges = [(0, 2)]"
   ]
  },
  {
   "cell_type": "code",
   "execution_count": 10,
   "metadata": {},
   "outputs": [
    {
     "data": {
      "text/plain": [
       "[2]"
      ]
     },
     "execution_count": 10,
     "metadata": {},
     "output_type": "execute_result"
    }
   ],
   "source": [
    "solution(signs, road_ranges)"
   ]
  },
  {
   "cell_type": "code",
   "execution_count": 11,
   "metadata": {},
   "outputs": [],
   "source": [
    "signs = [3, 9, 5, 6, 10, 8, 7, 1, 2, 4]\n",
    "road_ranges = [(1, 6), (4, 7), (9, 9), (5, 8)]"
   ]
  },
  {
   "cell_type": "code",
   "execution_count": 12,
   "metadata": {},
   "outputs": [
    {
     "data": {
      "text/plain": [
       "[5, 9, 0, 7]"
      ]
     },
     "execution_count": 12,
     "metadata": {},
     "output_type": "execute_result"
    }
   ],
   "source": [
    "solution(signs, road_ranges)"
   ]
  }
 ],
 "metadata": {
  "kernelspec": {
   "display_name": "Python 3",
   "language": "python",
   "name": "python3"
  },
  "language_info": {
   "codemirror_mode": {
    "name": "ipython",
    "version": 3
   },
   "file_extension": ".py",
   "mimetype": "text/x-python",
   "name": "python",
   "nbconvert_exporter": "python",
   "pygments_lexer": "ipython3",
   "version": "3.6.9"
  }
 },
 "nbformat": 4,
 "nbformat_minor": 2
}
