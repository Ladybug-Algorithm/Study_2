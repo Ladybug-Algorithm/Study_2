{
 "cells": [
  {
   "cell_type": "markdown",
   "metadata": {},
   "source": [
    "MATCHFIX\n"
   ]
  },
  {
   "cell_type": "code",
   "execution_count": 1,
   "metadata": {},
   "outputs": [
    {
     "data": {
      "text/plain": [
       "3"
      ]
     },
     "execution_count": 1,
     "metadata": {},
     "output_type": "execute_result"
    }
   ],
   "source": [
    "# 포트 - 풀커슨(Ford - Fulkerson) 알고리즘\n",
    "\n",
    "import sys\n",
    "from queue import Queue\n",
    "\n",
    "V = 4 # 노드의 개수\n",
    "capacity = [[0 for _ in range(V)] for _ in range(V)]\n",
    "# capacity[u][v] : u에서 v로 보낼 수 있는 유량\n",
    "flow = [[0 for _ in range(V)] for _ in range(V)]\n",
    "# flow[u][v] : u에서 v로 보내고 있는 유량 (처음엔 0으로 초기화)\n",
    "\n",
    "capacity = [[0,1,2,0],[0,0,1,3],[0,1,0,1],[0,0,0,0]]\n",
    "\n",
    "def networkFlow(source, sink):\n",
    "# 네트워크를 따라 source에서 sink로 보낼 수 있는 최대 유량 반환\n",
    "    global V\n",
    "    global capacity\n",
    "    global flow\n",
    "    \n",
    "    totalFlow = 0 # 최대 유량\n",
    "    while True: \n",
    "        parent = [-1 for _ in range(V)] # parent[u] : u번 노드의 parent\n",
    "        q = Queue() # 너비 우선 탐색\n",
    "        parent[source] = source; # 출발점의 부모는 자기 자신\n",
    "        q.put(source) \n",
    "        while (not q.empty()) and parent[sink] == -1:\n",
    "        # 큐가 비지 않고, 새로 탐색하는 노드에 대해서\n",
    "            here = q.get() # 현재 노드\n",
    "            for there in range(V): # 모든 노드에 대해서\n",
    "                if capacity[here][there] - flow[here][there] > 0 and parent[there] == -1:\n",
    "                # 잔여 용량이 있고, 현재노드의 자식인 노드에 대해서\n",
    "                    q.put(there) # 다시 큐에 넣어서 탐색\n",
    "                    parent[there] = here # 해당 노드의 부모는 지금 현재 탐색하던 노드\n",
    "        if parent[sink] == -1: break # 증가하는 경로가 없다면 종료\n",
    "        \n",
    "        amount = sys.maxsize \n",
    "        p = sink # 도착지 노드부터 시작해서 다시 탐색\n",
    "        while p != source: \n",
    "            amount = min(amount, capacity[parent[p]][p] - flow[parent[p]][p])\n",
    "            p = parent[p]\n",
    "        # 증가경로에서 얼마나 많은 유량을 보낼 수 있는지 탐색\n",
    "        \n",
    "        p = sink # 도착지 노드부터 시작해서 탐색\n",
    "        while p != source:\n",
    "            flow[parent[p]][p] += amount\n",
    "            flow[p][parent[p]] -= amount\n",
    "            p = parent[p]\n",
    "        # 증가경로에서 보낸 유량 만큼 흐르는 유량을 갱신해줌.\n",
    "        totalFlow += amount # 보내는 유량을 더함\n",
    "    return totalFlow # 답 반환\n",
    "\n",
    "networkFlow(0, V-1)"
   ]
  },
  {
   "cell_type": "markdown",
   "metadata": {},
   "source": [
    "[algospot의 MATCHFIX 링크](https://algospot.com/judge/problem/read/MATCHFIX)  \n",
    "  \n",
    "### 문제  \n",
    "한때 세계대회 준우승까지 하며 최강의 프로그래머로 칭송 받았던 J씨는 성적이 떨어진 이후 유혹을 이기지 못하고 승부 조작의 세계에 손을 댔습니다. 프로그래밍 대회의 마당발로 알려졌던 J씨인만큼 승부 조작의 규모는 상당해서, 알고스팟 컵 결승 리그에 진출한 N명의 선수 모두를 승부 조작에 참여시켰습니다.  \n",
    "  \n",
    "결승 리그는 여러 번의 1:1 경기로 이루어집니다. 경기를 하면 무승부 없이 항상 승부가 나며, 모든 경기가 끝난 후 승수가 가장 많은 선수가 우승합니다. 만약 가장 승수가 많은 선수가 둘 이상 있을 경우 공동 우승을 하게 됩니다. J씨는 대부분이 우승하지 못할 것으로 점쳤던 선수 X를 단독 우승하도록 해서 도박 사이트에서 부당 이득을 챙기려 합니다. 물론 너무 노골적으로 승부를 조작하면 의심을 피하기 어렵기 때문에, 가능한 X가 적은 승수로 우승하도록 하고 싶습니다.  \n",
    "  \n",
    "현재 각 선수의 승수와 남아 있는 경기의 목록이 주어질 때, 승부를 적절히 조작해 X가 우승하도록 할 수 있는지 여부를 계산하고, 우승할 수 있다면 필요한 X의 최소 승수는 얼마인지 계산하는 프로그램을 작성하세요.    \n",
    "  \n",
    "### 출력  \n",
    "한 줄에 X가 리그를 단독 우승하기 위해 필요한 최소 승수를 출력합니다. 만약 이것이 불가능하다면 -1 을 출력합니다.  "
   ]
  },
  {
   "cell_type": "markdown",
   "metadata": {},
   "source": [
    "solution의  \n",
    "wins : 각 선수별 현재 승리 횟수 $(2 \\leq len(wins) \\leq 12)$  \n",
    "matches : (선수1, 선수2)끼리 가질 매치를 저장하는 리스트 $(0 \\leq len(matches) \\leq 100)$  \n",
    "  \n",
    "모든 선수의 현재 승수는 1000 이하입니다.  \n",
    "  \n",
    "선수 X의 번호는 0번입니다. 결승 리그에서 모든 선수가 같은 수의 경기를 치르도록 되어 있다는 보장은 없습니다. "
   ]
  },
  {
   "cell_type": "code",
   "execution_count": 2,
   "metadata": {},
   "outputs": [],
   "source": [
    "def cal_winning(wins, matches, num = 0):\n",
    "    answer = 1101 # 답\n",
    "    if num == len(matches): # 모든 경기결과가 나왔을 때\n",
    "        if wins[0] > max(wins[1:]): # 선수 X가 우승할 경우\n",
    "            answer = wins[0] # 선수 X의 승리횟수\n",
    "        return answer\n",
    "    a, b = matches[num] # num 번 경기를 치르는 두 명의 선수 a,b\n",
    "    wins[a] += 1 \n",
    "    answer = min(answer, cal_winning(wins, matches, num+1))\n",
    "    # a 선수가 이겼을 경우 탐색\n",
    "    wins[a] -= 1\n",
    "    wins[b] += 1\n",
    "    answer = min(answer, cal_winning(wins, matches, num+1))\n",
    "    # b 선수가 이겼을 경우 탐색\n",
    "    wins[b] -= 1\n",
    "    return answer # 답 반환\n",
    "\n",
    "def solution(wins, matches):\n",
    "    answer = cal_winning(wins, matches)\n",
    "    if answer == 1101: # X 선수가 승리할 수 없는 경우\n",
    "        return -1 # -1 반환\n",
    "    return answer # 이외에는 선수 X의 승리횟수 반환"
   ]
  },
  {
   "cell_type": "code",
   "execution_count": 3,
   "metadata": {},
   "outputs": [],
   "source": [
    "def networkFlow(source, sink, V, capacity):\n",
    "# 네트워크를 따라 source에서 sink로 보낼 수 있는 최대 유량 반환\n",
    "    flow = [[0 for _ in range(V)] for _ in range(V)]\n",
    "    \n",
    "    totalFlow = 0 # 최대 유량\n",
    "    while True: \n",
    "        parent = [-1 for _ in range(V)] # parent[u] : u번 노드의 parent\n",
    "        q = Queue() # 너비 우선 탐색\n",
    "        parent[source] = source; # 출발점의 부모는 자기 자신\n",
    "        q.put(source) \n",
    "        while (not q.empty()) and parent[sink] == -1:\n",
    "        # 큐가 비지 않고, 새로 탐색하는 노드에 대해서\n",
    "            here = q.get() # 현재 노드\n",
    "            for there in range(V): # 모든 노드에 대해서\n",
    "                if capacity[here][there] - flow[here][there] > 0 and parent[there] == -1:\n",
    "                # 잔여 용량이 있고, 현재노드의 자식인 노드에 대해서\n",
    "                    q.put(there) # 다시 큐에 넣어서 탐색\n",
    "                    parent[there] = here # 해당 노드의 부모는 지금 현재 탐색하던 노드\n",
    "        if parent[sink] == -1: break # 증가하는 경로가 없다면 종료\n",
    "        \n",
    "        amount = sys.maxsize \n",
    "        p = sink # 도착지 노드부터 시작해서 다시 탐색\n",
    "        while p != source: \n",
    "            amount = min(amount, capacity[parent[p]][p] - flow[parent[p]][p])\n",
    "            p = parent[p]\n",
    "        # 증가경로에서 얼마나 많은 유량을 보낼 수 있는지 탐색\n",
    "        \n",
    "        p = sink # 도착지 노드부터 시작해서 탐색\n",
    "        while p != source:\n",
    "            flow[parent[p]][p] += amount\n",
    "            flow[p][parent[p]] -= amount\n",
    "            p = parent[p]\n",
    "        # 증가경로에서 보낸 유량 만큼 흐르는 유량을 갱신해줌.\n",
    "        totalFlow += amount # 보내는 유량을 더함\n",
    "    return totalFlow # 답 반환\n",
    "\n",
    "def canWinWith(wins, matches, totalWins):\n",
    "    n, m = len(wins), len(matches) # 선수의 수, 경기의 수\n",
    "    V = 2+m+n # 소스 + 싱크 + 선수의수 + 경기의수\n",
    "    capacity = [[0 for _ in range(V)] for _ in range(V)]\n",
    "    \n",
    "    if max(wins[1:]) >= totalWins: # totalWins 이상으로 이긴 선수가 있다면\n",
    "        return False # False\n",
    "    \n",
    "    for i in range(m): # 모든 경기에 대해서\n",
    "        capacity[0][2+i] = 1 # 소스에서 각 경기로 갈 수 있는 간선 \n",
    "        for j in range(2):\n",
    "            capacity[2+i][2+m+matches[i][j]] = 1 # 각 경기에서 선수로 가는 간선\n",
    "    for i in range(n): # 모든 선수에 대해서\n",
    "        maxWin = totalWins if i == 0 else totalWins-1\n",
    "        # 가능한 최대 승수\n",
    "        capacity[2+m+i][1] = maxWin - wins[i] # 각 선수에서 싱크로 가는 간선\n",
    "    return networkFlow(0, 1, V, capacity) == m\n",
    "    # 소스에서 싱크로 갈 수 있는 최대 용량 == 경기의 수와 같은지 확인\n",
    "\n",
    "def solution(wins, matches):\n",
    "    totalWins = wins[0] # 선수 X의 총 승리횟수\n",
    "    add_win = 0\n",
    "    if canWinWith(wins, matches, totalWins):\n",
    "        return totalWins # 만약 현재 승수만큼으로도 우승이 가능하다면 바로 반환\n",
    "    for i in range(len(matches)):\n",
    "        if 0 in matches[i]: # 선수 X가 포함된 매치에 대해서\n",
    "            add_win += 1 # 선수 X의 승수를 증가시켜서 우승 가능성을 확인\n",
    "            if canWinWith(wins, matches, totalWins+add_win):\n",
    "                return totalWins+add_win\n",
    "    return -1 # 우승이 불가 하다면 -1 반환"
   ]
  },
  {
   "cell_type": "code",
   "execution_count": 4,
   "metadata": {},
   "outputs": [],
   "source": [
    "wins = [3, 3]\n",
    "matches = [(0, 1), (0, 1)]"
   ]
  },
  {
   "cell_type": "code",
   "execution_count": 5,
   "metadata": {},
   "outputs": [
    {
     "data": {
      "text/plain": [
       "5"
      ]
     },
     "execution_count": 5,
     "metadata": {},
     "output_type": "execute_result"
    }
   ],
   "source": [
    "solution(wins, matches)"
   ]
  },
  {
   "cell_type": "code",
   "execution_count": 6,
   "metadata": {},
   "outputs": [],
   "source": [
    "wins = [4, 2, 2]\n",
    "matches = [(1, 2), (1, 2), (1, 2)]"
   ]
  },
  {
   "cell_type": "code",
   "execution_count": 7,
   "metadata": {},
   "outputs": [
    {
     "data": {
      "text/plain": [
       "-1"
      ]
     },
     "execution_count": 7,
     "metadata": {},
     "output_type": "execute_result"
    }
   ],
   "source": [
    "solution(wins, matches)"
   ]
  },
  {
   "cell_type": "code",
   "execution_count": 8,
   "metadata": {},
   "outputs": [],
   "source": [
    "wins = [5, 3, 3, 2]\n",
    "matches = [(0, 1), (1, 2), (2, 3), (1, 3)]"
   ]
  },
  {
   "cell_type": "code",
   "execution_count": 9,
   "metadata": {},
   "outputs": [
    {
     "data": {
      "text/plain": [
       "5"
      ]
     },
     "execution_count": 9,
     "metadata": {},
     "output_type": "execute_result"
    }
   ],
   "source": [
    "solution(wins, matches)"
   ]
  }
 ],
 "metadata": {
  "kernelspec": {
   "display_name": "Python 3",
   "language": "python",
   "name": "python3"
  },
  "language_info": {
   "codemirror_mode": {
    "name": "ipython",
    "version": 3
   },
   "file_extension": ".py",
   "mimetype": "text/x-python",
   "name": "python",
   "nbconvert_exporter": "python",
   "pygments_lexer": "ipython3",
   "version": "3.6.9"
  }
 },
 "nbformat": 4,
 "nbformat_minor": 2
}
