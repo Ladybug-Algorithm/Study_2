{
 "cells": [
  {
   "cell_type": "markdown",
   "metadata": {},
   "source": [
    "TRAPCARD"
   ]
  },
  {
   "cell_type": "code",
   "execution_count": 1,
   "metadata": {},
   "outputs": [
    {
     "data": {
      "text/plain": [
       "3"
      ]
     },
     "execution_count": 1,
     "metadata": {},
     "output_type": "execute_result"
    }
   ],
   "source": [
    "n, m = 3, 3 # 그룹 A, 그룹 B의 각 vertice 개수 \n",
    "adj = [[1, 1, 0], [0, 1, 1], [0, 0, 1]] \n",
    "# adj[i][j] = 그룹 A의 i노드와 그룹 B의 j노드와의 연결 여부\n",
    "aMatch = [] \n",
    "bMatch = []\n",
    "# 각 정점에 매칭된 상대 정점의 번호를 저장\n",
    "visited = []\n",
    "# 너비우선탐색으로 탐색 여부\n",
    "\n",
    "def dfs(a, adj, visited, aMatch, bMatch, m): # 너비우선 탐색\n",
    "    if visited[a]: # 이미 a번째 vertex를 방문했다면 False 리턴\n",
    "        return False\n",
    "    visited[a] = True # a를 방문했음을 표시\n",
    "    for b in range(m): # B그룹에 대해서\n",
    "        if adj[a][b]: # A그룹의 a 노드와 B그룹의 b 노드가 연결이 된다면\n",
    "            if bMatch[b] == -1 or dfs(bMatch[b], adj, visited, aMatch, bMatch, m):\n",
    "                # B그룹의 b가 아직 탐색이 되지 않았거나, 너비 우선 탐색이 진행가능하다면\n",
    "                aMatch[a] = b # A그룹의 a노드는 B그룹의 b노드와 연결되는 것이고,\n",
    "                bMatch[b] = a # B그룹의 b노드는 A그룹의 a노드와 연결되는 것이다.\n",
    "                return True # 그리고 True 반환\n",
    "    return False # 타 그룹 내의 노드를 모두 확인 후에 연결되는 것이 없다면 False 반환\n",
    "\n",
    "def bipartiteMatch(adj, visited, aMatch, bMatch, n, m): # 이분 검색\n",
    "    aMatch = [-1 for _ in range(n)]\n",
    "    bMatch = [-1 for _ in range(m)]\n",
    "    # 처음에는 A,B그룹의 어떤 노드도 연결되어 있지 않다.\n",
    "    size = 0 # 사이즈는 0\n",
    "    \n",
    "    for start in range(n): # 모든 A그룹의 노드에 대해서\n",
    "        visited = [False for _ in range(n)] # 방문 여부는 False로 초기화\n",
    "        if dfs(start, adj, visited, aMatch, bMatch, m): # 만약 A그룹의 start번 노드로 너비우선탐색 가능하다면\n",
    "            size += 1 # 사이즈를 1 증가\n",
    "    return size # size 반환\n",
    "\n",
    "bipartiteMatch(adj, visited, aMatch, bMatch, n, m)"
   ]
  },
  {
   "cell_type": "markdown",
   "metadata": {},
   "source": [
    "[algospot의 TRAPCARD 링크](https://algospot.com/judge/problem/read/TRAPCARD)  \n",
    "  \n",
    "### 문제  \n",
    "막강한 권력을 자랑하는 악당들의 모임인 지옥화염 클럽은 정의의 사도 Z남자들의 침입으로 망가진 기지를 버리고 새 지하 기지에 입주하기로 하였습니다. 이 지하 기지는 화려한 인테리어와 회의실, 홈시어터, 볼링장, 구내 식당 등의 시설을 완비했지만, 빠진 것이 하나 있습니다. 바로 함정이지요. 시대와 장소를 막론하고 악당들의 지하 기지에는 다양한 함정이 설치되어 있어야 하기 때문입니다.  \n",
    "  \n",
    "|(a)|(b)|\n",
    "|:---:|:---:|\n",
    "|![](http://algospot.com/media/judge-attachments/4c0487d9a20a4eddbabb79c4025f75a4/29.png)|![](http://algospot.com/media/judge-attachments/d2a93c8351960c3ce0019aa4fe8c34c2/30.png)|\n",
    "  \n",
    "지옥화염 클럽의 지하 기지는 그림 (a)와 같은 직사각형 형태로, 기지 내부는 H\\*W 개의 구간으로 나뉘어져 있습니다. 각 칸은 복도나 방처럼 뚫려 있거나(흰 칸) 벽이나 기둥으로 막혀 있습니다(검은 칸). 지옥화염 클럽은 클럽 회원들의 통행을 불편하게 하지 않는 선에서 가능한 많은 함정을 설치하려 합니다. 클럽 회원들은 모두 기억력이 좋아 함정의 위치를 쉽게 외울 수 있으며, 한 칸 정도는 가볍게 뛰어넘을 수 있는 신체 능력을 가졌기 때문에 왠만해서는 함정을 피해 다닐 수 있습니다. 그러나 서로 변을 맞댄 두 칸에 모두 함정을 설치할 경우 통행이 불편해지므로 이런 일이 없도록 하고 싶습니다. 그림 (b)는 (a)의 지도에서 함정을 설치할 수 있는 방법을 보여줍니다.  \n",
    "  \n",
    "지하 기지의 지도가 주어질 때 어떻게 배치해야 가장 많은 함정을 설치할 수 있을지 계산하는 프로그램을 작성하세요.    \n",
    "  \n",
    "### 출력  \n",
    "우선 설치할 수 있는 함정의 최대 수를 출력하고, 그 후 함정의 위치를 포함한 지하 기지의 지도를 다시 출력합니다. 함정을 설치할 빈 칸은 . 대신 ^ 로 표시하며, 함정을 설치하는 방법이 여러 개 있다면 그 중 아무 것이나 선택해도 됩니다.  "
   ]
  },
  {
   "cell_type": "markdown",
   "metadata": {},
   "source": [
    "solution의  \n",
    "u_map :  H x W $(1 \\leq H,W \\leq 20)$ 크기의 지하 기지의 지도  \n",
    "이 문자열에서 #는 벽으로 막힌 칸, .는 빈 칸을 나타냅니다.  "
   ]
  },
  {
   "cell_type": "code",
   "execution_count": 2,
   "metadata": {},
   "outputs": [],
   "source": [
    "from pprint import pprint\n",
    "\n",
    "def dfs(a, adj, visited, aMatch, bMatch, m): # 너비우선 탐색\n",
    "    if visited[a]: # 이미 a번째 vertex를 방문했다면 False 리턴\n",
    "        return False\n",
    "    visited[a] = True # a를 방문했음을 표시\n",
    "    for b in range(m): # B그룹에 대해서\n",
    "        if adj[a][b]: # A그룹의 a 노드와 B그룹의 b 노드가 연결이 된다면\n",
    "            if bMatch[b] == -1 or dfs(bMatch[b], adj, visited, aMatch, bMatch, m):\n",
    "                # B그룹의 b가 아직 탐색이 되지 않았거나, 너비 우선 탐색이 진행가능하다면\n",
    "                aMatch[a] = b # A그룹의 a노드는 B그룹의 b노드와 연결되는 것이고,\n",
    "                bMatch[b] = a # B그룹의 b노드는 A그룹의 a노드와 연결되는 것이다.\n",
    "                return True # 그리고 True 반환\n",
    "    return False # 타 그룹 내의 노드를 모두 확인 후에 연결되는 것이 없다면 False 반환\n",
    "\n",
    "def bipartiteMatch(adj, visited, aMatch, bMatch, n, m): # 이분 검색\n",
    "    # 처음에는 A,B그룹의 어떤 노드도 연결되어 있지 않다.\n",
    "    size = 0 # 사이즈는 0\n",
    "    \n",
    "    for start in range(n): # 모든 A그룹의 노드에 대해서\n",
    "        visited = [False for _ in range(n)] # 방문 여부는 False로 초기화\n",
    "        if dfs(start, adj, visited, aMatch, bMatch, m): # 만약 A그룹의 start번 노드로 너비우선탐색 가능하다면\n",
    "            size += 1 # 사이즈를 1 증가\n",
    "    return size # size 반환\n",
    "\n",
    "def inRange(y, x, len_y, len_x):\n",
    "    if 0 <= y < len_y and 0 <= x < len_x:\n",
    "        return True\n",
    "    return False\n",
    "\n",
    "def solution(u_map):\n",
    "    answer = 0\n",
    "    aMatch = [] \n",
    "    bMatch = [] \n",
    "    # 각 정점에 매칭된 상대 정점의 번호를 저장\n",
    "    visited = []\n",
    "    # 너비우선탐색으로 탐색 여부\n",
    "    group_id = [[-1 for _ in range(len(u_map[0]))] for _ in range(len(u_map))]\n",
    "    # group_id[dir][x][y] = dir방향의 대각선을 따라서 인접한 빈 칸 묶음들 중 (y, x)좌표가 속한 묶음의 번호\n",
    "    dx = [ 1, -1, 0, 0]\n",
    "    dy = [ 0, 0, 1,-1]\n",
    "    # 오른쪽, 왼쪽, 아래, 위\n",
    "    # 해당 좌표에 인접한 좌표에 대해서 탐색할 것임.\n",
    "\n",
    "    n = m = 0 # A 그룹, B 그룹 내의 묶음을 0으로 초기화\n",
    "    for y in range(len(u_map)):\n",
    "        for x in range(len(u_map[0])):\n",
    "            if u_map[y][x] == '.':\n",
    "                # 빈칸일 때\n",
    "                if (y+x) % 2 == 0: # y+x가 짝수인 그룹 A\n",
    "                    group_id[y][x] = n\n",
    "                    n += 1\n",
    "                else: # y+x가 홀수인 그룹 B\n",
    "                    group_id[y][x] = m\n",
    "                    m += 1\n",
    "                    \n",
    "    aChosen = [True for _ in range(n)] # A 그룹에서 함정 설치 여부\n",
    "    bChosen = [False for _ in range(m)] # B 그룹에서 함정 설치 여부\n",
    "    # 처음에는 A그룹에만 모두 설치했다고 초기화\n",
    "    aMatch = [-1 for _ in range(n)]\n",
    "    bMatch = [-1 for _ in range(m)]\n",
    "    # A그룹과 B그룹 사이의 해당 인덱스번 묶음과 묶이는 타그룹의 묶음의 인덱스\n",
    "    adj = [[0 for _ in range(m)] for _ in range(n)]\n",
    "    # adj[i][j] = 그룹 A의 i노드와 그룹 B의 j노드와의 연결 여부\n",
    "    \n",
    "    for y in range(len(u_map)):\n",
    "        for x in range(len(u_map[0])):\n",
    "            if (x+y) % 2 == 0 and u_map[y][x] != '#':\n",
    "            # 함정 설치 가능 구간이고, A그룹에 속하는 지역에 대해서\n",
    "                for k in range(4):\n",
    "                # 해당 지역 기준 4방향에 대해서\n",
    "                    cy, cx = y + dy[k], x + dx[k]\n",
    "                    if inRange(cy, cx, len(u_map), len(u_map[0])) and u_map[cy][cx] != '#':\n",
    "                        adj[group_id[y][x]][group_id[cy][cx]] = 1\n",
    "                        # 서로 인접함을 표시\n",
    "\n",
    "    c = bipartiteMatch(adj, visited, aMatch, bMatch, n, m)\n",
    "    # 이분 그래프 구성\n",
    "    \n",
    "    for i in range(m): # 모든 B 그룹에 대해서\n",
    "        if bMatch[i] == -1:\n",
    "            bChosen[i] = True # 매칭되는 A그룹이 없다면 해당 묶음에 함정을 설치한다.\n",
    "            \n",
    "    while True: # 무한 루프\n",
    "        changed = False\n",
    "        for i in range(n):\n",
    "            for j in range(m): \n",
    "                if aChosen[i] and bChosen[j] and adj[i][j]:\n",
    "                # A그룹의 i번 묶음, B그룹의 j번 묶음이 선택되었고, 2개가 인접할 경우\n",
    "                # 즉, 모순되는 상황\n",
    "                    assert(aMatch[i] != -1)\n",
    "                    aChosen[i] = False\n",
    "                    bChosen[aMatch[i]] = True\n",
    "                    # A그룹의 i번 묶음을 배제하고, B그룹의 aMatch[i]번 묶음에 함정을 설치한다.\n",
    "                    changed = True\n",
    "        if not changed:\n",
    "            break\n",
    "    \n",
    "    for y in range(len(u_map)):\n",
    "        for x in range(len(u_map[0])):\n",
    "            if (y+x) % 2 == 0: # y+x가 짝수인 그룹 A\n",
    "                if aChosen[group_id[y][x]] and u_map[y][x] == '.':\n",
    "                    u_map[y][x] = '^' # 함정 설치\n",
    "                    answer += 1 # 함정 개수 포함\n",
    "            else: # y+x가 홀수인 그룹 B\n",
    "                if bChosen[group_id[y][x]] and u_map[y][x] == '.':\n",
    "                    u_map[y][x] = '^' # 함정 설치\n",
    "                    answer += 1 # 함정 개수 포함\n",
    "    pprint(u_map)\n",
    "    return answer\n"
   ]
  },
  {
   "cell_type": "code",
   "execution_count": 3,
   "metadata": {},
   "outputs": [],
   "source": [
    "u_map = [['.','.','.'],\n",
    "         ['#','.','#'],\n",
    "         ['#','.','#'],\n",
    "         ['#','.','#'],\n",
    "         ['.','.','.']]"
   ]
  },
  {
   "cell_type": "code",
   "execution_count": 4,
   "metadata": {
    "scrolled": true
   },
   "outputs": [
    {
     "name": "stdout",
     "output_type": "stream",
     "text": [
      "[['^', '.', '^'],\n",
      " ['#', '^', '#'],\n",
      " ['#', '.', '#'],\n",
      " ['#', '^', '#'],\n",
      " ['^', '.', '^']]\n"
     ]
    },
    {
     "data": {
      "text/plain": [
       "6"
      ]
     },
     "execution_count": 4,
     "metadata": {},
     "output_type": "execute_result"
    }
   ],
   "source": [
    "solution(u_map)"
   ]
  },
  {
   "cell_type": "code",
   "execution_count": 5,
   "metadata": {},
   "outputs": [],
   "source": [
    "u_map = [['#','#','#','.','#','#','#','.','#','#'],\n",
    "         ['.','#','#','.','.','.','.','.','#','.'],\n",
    "         ['.','.','#','.','#','#','#','.','.','.'],\n",
    "         ['.','.','#','#','#','.','.','#','#','.'],\n",
    "         ['.','#','#','#','#','.','.','#','.','#'],\n",
    "         ['.','.','.','.','.','.','.','.','.','.']]"
   ]
  },
  {
   "cell_type": "code",
   "execution_count": 6,
   "metadata": {
    "scrolled": true
   },
   "outputs": [
    {
     "name": "stdout",
     "output_type": "stream",
     "text": [
      "[['#', '#', '#', '^', '#', '#', '#', '^', '#', '#'],\n",
      " ['.', '#', '#', '.', '^', '.', '^', '.', '#', '^'],\n",
      " ['^', '.', '#', '^', '#', '#', '#', '.', '^', '.'],\n",
      " ['.', '^', '#', '#', '#', '^', '.', '#', '#', '^'],\n",
      " ['^', '#', '#', '#', '#', '.', '^', '#', '^', '#'],\n",
      " ['.', '^', '.', '^', '.', '^', '.', '^', '.', '^']]\n"
     ]
    },
    {
     "data": {
      "text/plain": [
       "19"
      ]
     },
     "execution_count": 6,
     "metadata": {},
     "output_type": "execute_result"
    }
   ],
   "source": [
    "solution(u_map)"
   ]
  }
 ],
 "metadata": {
  "kernelspec": {
   "display_name": "Python 3",
   "language": "python",
   "name": "python3"
  },
  "language_info": {
   "codemirror_mode": {
    "name": "ipython",
    "version": 3
   },
   "file_extension": ".py",
   "mimetype": "text/x-python",
   "name": "python",
   "nbconvert_exporter": "python",
   "pygments_lexer": "ipython3",
   "version": "3.6.9"
  }
 },
 "nbformat": 4,
 "nbformat_minor": 2
}
