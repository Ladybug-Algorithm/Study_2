{
 "cells": [
  {
   "cell_type": "markdown",
   "metadata": {},
   "source": [
    "TRAVELPICTURES"
   ]
  },
  {
   "cell_type": "code",
   "execution_count": 1,
   "metadata": {},
   "outputs": [],
   "source": [
    "n, m = 3, 3 # 그룹 A, 그룹 B의 각 vertice 개수 \n",
    "adj = [[1, 1, 0], [0, 1, 1], [0, 0, 1]] \n",
    "# adj[i][j] = 그룹 A의 i노드와 그룹 B의 j노드와의 연결 여부\n",
    "aMatch = [] \n",
    "bMatch = []\n",
    "# 각 정점에 매칭된 상대 정점의 번호를 저장\n",
    "visited = []\n",
    "# 너비우선탐색으로 탐색 여부\n",
    "\n",
    "def dfs(a, adj, visited, aMatch, bMatch, m): # 너비우선 탐색\n",
    "    if visited[a]: # 이미 a번째 vertex를 방문했다면 False 리턴\n",
    "        return False\n",
    "    visited[a] = True # a를 방문했음을 표시\n",
    "    for b in range(m): # B그룹에 대해서\n",
    "        if adj[a][b]: # A그룹의 a 노드와 B그룹의 b 노드가 연결이 된다면\n",
    "            if bMatch[b] == -1 or dfs(bMatch[b], adj, visited, aMatch, bMatch, m):\n",
    "                # B그룹의 b가 아직 탐색이 되지 않았거나, 너비 우선 탐색이 진행가능하다면\n",
    "                aMatch[a] = b # A그룹의 a노드는 B그룹의 b노드와 연결되는 것이고,\n",
    "                bMatch[b] = a # B그룹의 b노드는 A그룹의 a노드와 연결되는 것이다.\n",
    "                return True # 그리고 True 반환\n",
    "    return False # 타 그룹 내의 노드를 모두 확인 후에 연결되는 것이 없다면 False 반환\n",
    "\n",
    "def bipartiteMatch(adj, visited, aMatch, bMatch, n, m): # 이분 검색\n",
    "    aMatch = [-1 for _ in range(n)]\n",
    "    bMatch = [-1 for _ in range(m)]\n",
    "    # 처음에는 A,B그룹의 어떤 노드도 연결되어 있지 않다.\n",
    "    size = 0 # 사이즈는 0\n",
    "    \n",
    "    for start in range(n): # 모든 A그룹의 노드에 대해서\n",
    "        visited = [False for _ in range(n)] # 방문 여부는 False로 초기화\n",
    "        if dfs(start, adj, visited, aMatch, bMatch, m): # 만약 A그룹의 start번 노드로 너비우선탐색 가능하다면\n",
    "            size += 1 # 사이즈를 1 증가\n",
    "    return size # size 반환\n",
    "\n",
    "bipartiteMatch(adj, visited, aMatch, bMatch, n, m)"
   ]
  },
  {
   "cell_type": "markdown",
   "metadata": {},
   "source": [
    "[algospot의 BISHOPS 링크](https://algospot.com/judge/problem/read/BISHOPS)  \n",
    "  \n",
    "### 문제  \n",
    "“N*N의 체스판에 Queen이 서로 공격하지 않도록 놓을 수 있는 방법을 찾아라.”  \n",
    "  \n",
    "위 문제는 유명한 N-Queen 문제이다. 자료구조 시간에 N-Queen 문제를 풀면서 백트래킹을 마스터했다고 생각한 LIBe는 보다 더 어려운 문제를 풀이보기 위해서 문제를 다음과 같이 변경하였다.  \n",
    "  \n",
    "“체스판에 장애물들이 있고, Queen이 장애물을 넘어갈 수 없을 때 최대로 놓을 수 있는 Queen의 개수는 몇 개일까?”  \n",
    "  \n",
    "그러나 세상의 모든 일은 생각대로 되지 않는 법. 코딩 스킬이 부족했던 LIBe는 위 문제를 풀다가 포기하고 결국 문제를 다음과 같이 변경하였다.  \n",
    "  \n",
    "“체스판에 장애물들이 있고, Bishop이 장애물을 넘어갈 수 없을 때 최대로 놓을 수 있는 Bishop의 개수는 몇 개일까?”  \n",
    "  \n",
    "LIBe는 과연 이 문제를 풀 수 있을까?  \n",
    "\n",
    "### 출력  \n",
    "최대로 놓을 수 있는 Bishop의 개수를 출력한다.  "
   ]
  },
  {
   "cell_type": "markdown",
   "metadata": {},
   "source": [
    "solution의  \n",
    "chess_status : 체스의 현재 상태 $(1 \\leq len(chess\\_status) \\leq 8)$  \n",
    ". 은 Bishop을 놓을 수 있는 곳.  \n",
    "\\* 은 장애물이 있는 곳.  "
   ]
  },
  {
   "cell_type": "code",
   "execution_count": null,
   "metadata": {},
   "outputs": [],
   "source": []
  },
  {
   "cell_type": "code",
   "execution_count": 2,
   "metadata": {},
   "outputs": [],
   "source": [
    "def dfs(a, adj, visited, aMatch, bMatch, m): # 너비우선 탐색\n",
    "    if visited[a]: # 이미 a번째 vertex를 방문했다면 False 리턴\n",
    "        return False\n",
    "    visited[a] = True # a를 방문했음을 표시\n",
    "    for b in range(m): # B그룹에 대해서\n",
    "        if adj[a][b]: # A그룹의 a 노드와 B그룹의 b 노드가 연결이 된다면\n",
    "            if bMatch[b] == -1 or dfs(bMatch[b], adj, visited, aMatch, bMatch, m):\n",
    "                # B그룹의 b가 아직 탐색이 되지 않았거나, 너비 우선 탐색이 진행가능하다면\n",
    "                aMatch[a] = b # A그룹의 a노드는 B그룹의 b노드와 연결되는 것이고,\n",
    "                bMatch[b] = a # B그룹의 b노드는 A그룹의 a노드와 연결되는 것이다.\n",
    "                return True # 그리고 True 반환\n",
    "    return False # 타 그룹 내의 노드를 모두 확인 후에 연결되는 것이 없다면 False 반환\n",
    "\n",
    "def bipartiteMatch(adj, visited, aMatch, bMatch, n, m): # 이분 검색\n",
    "    aMatch = [-1 for _ in range(n)]\n",
    "    bMatch = [-1 for _ in range(m)]\n",
    "    # 처음에는 A,B그룹의 어떤 노드도 연결되어 있지 않다.\n",
    "    size = 0 # 사이즈는 0\n",
    "    \n",
    "    for start in range(n): # 모든 A그룹의 노드에 대해서\n",
    "        visited = [False for _ in range(n)] # 방문 여부는 False로 초기화\n",
    "        if dfs(start, adj, visited, aMatch, bMatch, m): # 만약 A그룹의 start번 노드로 너비우선탐색 가능하다면\n",
    "            size += 1 # 사이즈를 1 증가\n",
    "    return size # size 반환\n",
    "\n",
    "def solution(chess_status):\n",
    "    aMatch = [] \n",
    "    bMatch = [] \n",
    "    # 각 정점에 매칭된 상대 정점의 번호를 저장\n",
    "    visited = []\n",
    "    # 너비우선탐색으로 탐색 여부\n",
    "    group_id = [[[-1 for _ in range(len(chess_status))] for _ in range(len(chess_status))] for _ in range(2)]\n",
    "    # group_id[dir][x][y] = dir방향의 대각선을 따라서 인접한 빈 칸 묶음들 중 (y, x)좌표가 속한 묶음의 번호\n",
    "    dx = [-1, 1]\n",
    "    dy = [1, 1]\n",
    "    # 0: 왼쪽 아래, 1: 오른쪽 아래로 내려가는 대각선에 대해서 좌표의 움직임\n",
    "    count = [0, 0]\n",
    "    # 각 direction에 대한 묶음의 id를 저장하기 위해 사용\n",
    "    for direction in range(2):\n",
    "        for y in range(len(chess_status)):\n",
    "            for x in range(len(chess_status)):\n",
    "                if chess_status[y][x] == '.' and group_id[direction][y][x] == -1:\n",
    "                    # 빈칸이고, 아직 해당하는 묶음이 정해지지 않았을 때\n",
    "                    cy, cx = y, x\n",
    "                    while cy >= 0 and cy < len(chess_status) and cx >= 0 and cx < len(chess_status) and chess_status[cy][cx] == '.':\n",
    "                    # 체스판 내의 빈칸에 대해서\n",
    "                        group_id[direction][cy][cx] = count[direction]\n",
    "                        # (cx, cy) 좌표의 direction방향에 대한 묶음의 id를 저장\n",
    "                        cy += dy[direction]\n",
    "                        cx += dx[direction]\n",
    "                        # direction방향 대각선으로 1칸 이동\n",
    "                    # 즉, 묶음에 포함되는 모든 좌표에 대해서 해당하는 묶음의 id 저장\n",
    "                    count[direction] += 1\n",
    "                    # 다음 묶음에 대해서 id를 1 증가시켜서 새로운 묶음에 대해서 진행\n",
    "    \n",
    "    n,m = count[0], count[1]# 각각 왼쪽아래, 오른쪽아래 방향으로의 묶음의 개수\n",
    "    adj = [[0 for _ in range(m)] for _ in range(n)]\n",
    "    # adj[i][j] = 왼쪽아래묶음의 i노드와 오른쪽아래묶음의 j노드와의 연결 여부\n",
    "    for y in range(len(chess_status)):\n",
    "        for x in range(len(chess_status)):\n",
    "            if chess_status[y][x] == '.': # 체스가 빈칸일 경우\n",
    "                adj[group_id[0][y][x]][group_id[1][y][x]] = 1\n",
    "                # 해당 좌표의 오른쪽아래묶음, 왼쪽아래묶음이 연결되었음을 표시\n",
    "    return bipartiteMatch(adj, visited, aMatch, bMatch, n, m)\n",
    "    # 각 묶음을 정점으로 표현해서 두 묶음에 공통 원소가 있을 때 간선으로 연결한 그래프에서\n",
    "    # 최대 비숍의 수를 반환\n",
    "    \n",
    "    "
   ]
  },
  {
   "cell_type": "code",
   "execution_count": 3,
   "metadata": {},
   "outputs": [],
   "source": [
    "chess_status = [['.','.','.','.','.'],\n",
    "                ['.','.','.','.','.'],\n",
    "                ['.','.','.','.','.'],\n",
    "                ['.','.','.','.','.'],\n",
    "                ['.','.','.','.','.']]"
   ]
  },
  {
   "cell_type": "code",
   "execution_count": 4,
   "metadata": {},
   "outputs": [
    {
     "data": {
      "text/plain": [
       "8"
      ]
     },
     "execution_count": 4,
     "metadata": {},
     "output_type": "execute_result"
    }
   ],
   "source": [
    "solution(chess_status)"
   ]
  },
  {
   "cell_type": "code",
   "execution_count": 5,
   "metadata": {},
   "outputs": [],
   "source": [
    "chess_status = [['.','.','*','*','.','*','.','*'],\n",
    "                ['*','*','.','*','*','*','.','*'],\n",
    "                ['*','.','*','*','.','.','.','*'],\n",
    "                ['.','*','.','*','*','.','*','*'],\n",
    "                ['*','.','*','*','.','*','.','*'],\n",
    "                ['.','.','*','*','.','*','.','*'],\n",
    "                ['.','.','.','*','.','*','.','*'],\n",
    "                ['*','*','.','*','.','*','.','*']]"
   ]
  },
  {
   "cell_type": "code",
   "execution_count": 6,
   "metadata": {},
   "outputs": [
    {
     "data": {
      "text/plain": [
       "18"
      ]
     },
     "execution_count": 6,
     "metadata": {},
     "output_type": "execute_result"
    }
   ],
   "source": [
    "solution(chess_status)"
   ]
  },
  {
   "cell_type": "code",
   "execution_count": 7,
   "metadata": {},
   "outputs": [],
   "source": [
    "chess_status = [['*','.','*','.','*','.','*','.'],\n",
    "                ['.','*','.','*','.','*','.','*'],\n",
    "                ['*','.','*','.','*','.','*','.'],\n",
    "                ['.','*','.','*','.','*','.','*'],\n",
    "                ['*','.','*','.','*','.','*','.'],\n",
    "                ['.','*','.','*','.','*','.','*'],\n",
    "                ['*','.','*','.','*','.','*','.'],\n",
    "                ['.','*','.','*','.','*','.','*']]"
   ]
  },
  {
   "cell_type": "code",
   "execution_count": 8,
   "metadata": {},
   "outputs": [
    {
     "data": {
      "text/plain": [
       "7"
      ]
     },
     "execution_count": 8,
     "metadata": {},
     "output_type": "execute_result"
    }
   ],
   "source": [
    "solution(chess_status)"
   ]
  }
 ],
 "metadata": {
  "kernelspec": {
   "display_name": "Python 3",
   "language": "python",
   "name": "python3"
  },
  "language_info": {
   "codemirror_mode": {
    "name": "ipython",
    "version": 3
   },
   "file_extension": ".py",
   "mimetype": "text/x-python",
   "name": "python",
   "nbconvert_exporter": "python",
   "pygments_lexer": "ipython3",
   "version": "3.6.9"
  }
 },
 "nbformat": 4,
 "nbformat_minor": 2
}
