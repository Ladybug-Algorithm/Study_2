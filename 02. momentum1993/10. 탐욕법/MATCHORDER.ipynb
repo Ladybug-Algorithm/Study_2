{
 "cells": [
  {
   "cell_type": "markdown",
   "metadata": {},
   "source": [
    "MATCHORDER"
   ]
  },
  {
   "cell_type": "markdown",
   "metadata": {},
   "source": [
    "[algospot의 MATCHORDER 링크](https://algospot.com/judge/problem/read/MATCHORDER)\n",
    "  \n",
    "### 문제  \n",
    "전세계 최대의 프로그래밍 대회 알고스팟 컵의 결승전이 이틀 앞으로 다가왔습니다. 각 팀은 n명씩의 프로 코더들로 구성되어 있으며, 결승전에서는 각 선수가 한 번씩 출전해 1:1 경기를 벌여 더 많은 승리를 가져가는 팀이 최종적으로 우승하게 됩니다. 각 팀의 감독은 대회 전날, 주최측에 각 선수를 출전시킬 순서를 알려 주어야 합니다.\n",
    "\n",
    "결승전 이틀 전, 한국팀의 유감독은 첩보를 통해 상대 러시아팀의 출전 순서를 알아냈습니다. 이 대회에서는 각 선수의 실력을 레이팅(rating)으로 표현합니다. 문제를 간단히 하기 위해 1:1 승부에서는 항상 레이팅이 더 높은 선수가 승리하고, 레이팅이 같을 경우 우리 선수가 승리한다고 가정합시다.  \n",
    "  \n",
    "|경기|1|2|3|4|5|6|\n",
    "|:---:|:---:|:---:|:---:|:---:|:---:|:---:|\n",
    "|러시아팀|3,000|2,700|2,800|2,200|2,500|1,900|\n",
    "|한국팀|2,800|2,750|2,995|1,800|2,600|2,000|\n",
    "  \n",
    "표와 같이 출전 순서를 정했다고 하면 한국팀은 2번, 3번, 5번, 6번 경기에서 승리해 전체 네 경기를 이기게 됩니다. 그러나 대신 4번 경기와 1번 경기에 나갈 선수를 바꾸면 1번 경기만을 제외하고 모든 경기에 승리할 수 있지요. 상대방 팀 선수들의 순서를 알고 있을 때, 어느 순서대로 선수들을 내보내야 승수를 최대화할 수 있을까요?  \n",
    "     \n",
    "### 출력   \n",
    "한 줄에 한국팀이 얻을 수 있는 최대 승수를 출력합니다.  "
   ]
  },
  {
   "cell_type": "markdown",
   "metadata": {},
   "source": [
    "solution의  \n",
    "N : 각 팀 선수의 수(1≤N≤100)  \n",
    "russia_ratings : N명의 러시아팀 선수의 출전 순서대로 rating을 저장한 리스트  \n",
    "korea_ratings : N명의 한국팀 선수의 출전 순서대로 rating을 저장한 리스트  \n",
    "  "
   ]
  },
  {
   "cell_type": "code",
   "execution_count": 2,
   "metadata": {
    "collapsed": true
   },
   "outputs": [],
   "source": [
    "def solution(N, russia_ratings, korea_ratings):\n",
    "    russia_ratings = sorted(russia_ratings, reverse=True) # 내림차순 정렬\n",
    "    korea_ratings = sorted(korea_ratings, reverse=True) # 내림차순 정렬\n",
    "\n",
    "    k_i = 0 # 한국 팀 rating에 대한 인덱스\n",
    "    answer = 0 # 답\n",
    "    for r_i in range(len(russia_ratings)): # 모든 러시아 팀 선수들의 rating에 대해서\n",
    "        if korea_ratings[k_i] >= russia_ratings[r_i]: \n",
    "            # 만약 한국팀의 현재 인덱스 선수의 rating이 러시아 선수보다 크거나 같다면 \n",
    "            answer += 1 # 답\n",
    "            k_i += 1 # 그리고 한국팀 다음 인덱스로 넘어간다.\n",
    "    return answer"
   ]
  },
  {
   "cell_type": "code",
   "execution_count": 3,
   "metadata": {
    "collapsed": true
   },
   "outputs": [],
   "source": [
    "N = 6\n",
    "russia_ratings = [3000, 2700, 2800, 2200, 2500, 1900]\n",
    "korea_ratings = [2800, 2750, 2995, 1800, 2600, 2000]"
   ]
  },
  {
   "cell_type": "code",
   "execution_count": 4,
   "metadata": {},
   "outputs": [
    {
     "data": {
      "text/plain": [
       "5"
      ]
     },
     "execution_count": 4,
     "metadata": {},
     "output_type": "execute_result"
    }
   ],
   "source": [
    "solution(N, russia_ratings, korea_ratings)"
   ]
  },
  {
   "cell_type": "code",
   "execution_count": 5,
   "metadata": {
    "collapsed": true
   },
   "outputs": [],
   "source": [
    "N = 3\n",
    "russia_ratings = [1,2,3]\n",
    "korea_ratings = [3,2,1]"
   ]
  },
  {
   "cell_type": "code",
   "execution_count": 6,
   "metadata": {},
   "outputs": [
    {
     "data": {
      "text/plain": [
       "3"
      ]
     },
     "execution_count": 6,
     "metadata": {},
     "output_type": "execute_result"
    }
   ],
   "source": [
    "solution(N, russia_ratings, korea_ratings)"
   ]
  },
  {
   "cell_type": "code",
   "execution_count": 7,
   "metadata": {
    "collapsed": true
   },
   "outputs": [],
   "source": [
    "N = 4\n",
    "russia_ratings = [2,3,4,5]\n",
    "korea_ratings = [1,2,3,4]"
   ]
  },
  {
   "cell_type": "code",
   "execution_count": 8,
   "metadata": {},
   "outputs": [
    {
     "data": {
      "text/plain": [
       "3"
      ]
     },
     "execution_count": 8,
     "metadata": {},
     "output_type": "execute_result"
    }
   ],
   "source": [
    "solution(N, russia_ratings, korea_ratings)"
   ]
  }
 ],
 "metadata": {
  "kernelspec": {
   "display_name": "Python 3",
   "language": "python",
   "name": "python3"
  },
  "language_info": {
   "codemirror_mode": {
    "name": "ipython",
    "version": 3
   },
   "file_extension": ".py",
   "mimetype": "text/x-python",
   "name": "python",
   "nbconvert_exporter": "python",
   "pygments_lexer": "ipython3",
   "version": "3.6.3"
  }
 },
 "nbformat": 4,
 "nbformat_minor": 2
}
