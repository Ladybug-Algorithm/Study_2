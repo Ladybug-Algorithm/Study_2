{
 "cells": [
  {
   "cell_type": "markdown",
   "metadata": {},
   "source": [
    "MINASTIRITH"
   ]
  },
  {
   "cell_type": "markdown",
   "metadata": {},
   "source": [
    "[algospot의 MINASTIRITH 링크](https://algospot.com/judge/problem/read/MINASTIRITH)  \n",
    "  \n",
    "### 문제  \n",
    "단 한 번도 함락된 적이 없다는 성채도시 미나스 아노르에는 반지름이 8 킬로미터나 되는 거대한 원형 성벽, 람마스 에코르가 있습니다. 도시 전체를 감싸는 이 거대한 성벽에는 n 개의 초소가 배치되어 있습니다. 각 초소들은 해당 위치를 중심으로 반지름 $r_i$ 의 원 내부를 감시할 수 있는데, 성벽의 구조 때문에 초소는 불규칙하게 배치되어 있고 초소마다 감시할 수 있는 범위도 모두 다릅니다.  \n",
    "  \n",
    "![](http://algospot.com/media/judge-attachments/07add06628a4ca3129affe2b379f6fa6/castlewatch.png)  \n",
    "  \n",
    "위 그림에서 굵은 실선은 성벽, 별은 초소의 위치, 그리고 점선은 각 초소가 감시할 수 있는 영역을 나타냅니다. 최소의 인원으로 성벽의 모든 부분을 감시하기 위해, 일부 초소에만 병사를 배치하려고 합니다. 각 초소의 위치와 감시 범위가 주어질 때, 성벽의 모든 부분을 감시하기 위해 필요한 최소한의 병사 수를 계산하는 프로그램을 작성하세요.  \n",
    "  \n",
    "문제를 간단하게 하기 위해 성벽은 두께가 없는 원이고 초소는 점이라고 가정합니다.    \n",
    "  \n",
    "### 출력   \n",
    "필요한 최소의 병사 위치를 출력합니다. 만약 어떻게 하더라도 성벽의 모든 부분을 감시할 수 없다면 IMPOSSIBLE 을 대신 출력합니다. 입력에 주어지는 초소의 좌표, 혹은 감시 범위가 최대 0.0000001 만큼 변하더라도 답은 변하지 않는다고 가정해도 좋습니다.  "
   ]
  },
  {
   "cell_type": "markdown",
   "metadata": {},
   "source": [
    "solution의  \n",
    "n : 초소의 개수 (1 <= n <= 100)  \n",
    "cp_list : 실수로 각 초소의 위치 $y_i$, $x_i$, 그리고 감시 범위 $r_i$ (0 < $r_i$ <= 16.001)를 갖고 있는 리스트  "
   ]
  },
  {
   "cell_type": "code",
   "execution_count": 16,
   "metadata": {},
   "outputs": [],
   "source": [
    "# 알고리즘 문제 해결 전략1 풀이\n",
    "\n",
    "import math\n",
    "import sys\n",
    "\n",
    "def solveLinear(begin, end, n, parts): # 직선 구간으로 덮는 함수\n",
    "    used = 0\n",
    "    idx = 0\n",
    "    while(begin < end): # 모든 부분을 다 덮을 때까지\n",
    "        maxCover = -1\n",
    "        while(idx < n and parts[idx][0] <= begin):\n",
    "            maxCover = max(maxCover, parts[idx][1]) # 최대 덮인 구간\n",
    "            idx += 1\n",
    "        if maxCover <= begin : # 만약 덮을 수 없을 때\n",
    "            return sys.maxsize\n",
    "        begin = maxCover # 덮인 부분을 잘라낸다.\n",
    "        used += 1\n",
    "    return used\n",
    "\n",
    "def solution(n, cp_list):\n",
    "    answer = sys.maxsize \n",
    "    parts = [] # y좌표, x좌표, 초소경계반지름 저장할 리스트\n",
    "    \n",
    "    # 초소의 경계반지름을 이용해서 활꼴로 바꾸기\n",
    "    pi = 2.0 * math.acos(0) #cos(π/2)=0 -> 따라서 아크코사인(0)=π/2\n",
    "    for y, x, r in cp_list: # 초소들에 대해서\n",
    "        loc = math.fmod(2*pi + math.atan2(y, x), 2*pi)\n",
    "        # tan(loc)=y[i]/x[i] -> arctan(y[i]/x[i])\n",
    "        part = 2.0 * math.asin(r / 2.0 / 8.0)\n",
    "        # sin(θ)=(r[i]/2.0)/8.0 이므로 θ를 구하기 위해선 arcsin\n",
    "        parts.append((loc - part, loc + part))\n",
    "        # loc-part, loc+part는 [0, 2π] 범위 초과할 수 있음\n",
    "    parts.sort() # 시작 구간의 오름차순으로 정렬\n",
    "    \n",
    "    # parts[i]의 범위가 [0, 2π] 범위 초과할 수 있으므로 다음 조건을 확인해야됨\n",
    "    # 0을 덮는 구간이 하나만 포함된다면 최적해\n",
    "    # 두개 이상 포함될 경우\n",
    "    # 1. 두 구간의 중심 사이에 0이 있을 경우 어느 구간을 선택해도 됨\n",
    "    # 2. 두 구간의 중심 사이에 0이 없을 경우 0과 더 가까운 쪽 선택\n",
    "    \n",
    "    for i in range(n): # 모든 초소에 대해서 \n",
    "        if parts[i][0] <= 0 or parts[i][1] >= 2*pi:\n",
    "            # 0을 덮는 부분 빼고 남는 중심각의 범위\n",
    "            begin = math.fmod(parts[i][1], 2*pi)\n",
    "            end = math.fmod(parts[i][0] + 2*pi, 2*pi)\n",
    "            # [begin,end] 선분을 주어진 구간을 사용해서 덮음\n",
    "            answer = min(answer, 1 + solveLinear(begin, end, n, parts))\n",
    "    if answer == sys.maxsize:\n",
    "        return \"IMPOSSIBLE\"\n",
    "    return answer\n",
    "    "
   ]
  },
  {
   "cell_type": "code",
   "execution_count": 17,
   "metadata": {},
   "outputs": [],
   "source": [
    "n = 10\n",
    "cp_list = [(7.02066050, -3.83540431, 4.0),\n",
    "(-7.23257714, -3.41903904, 2.0),\n",
    "(0.00000000, -8.00000000, 8.0),\n",
    "(-8.00000000, -0.00000000, 4.8),\n",
    "(-6.47213595, 4.70228202, 3.2),\n",
    "(-4.70228202, 6.47213595, 4.8),\n",
    "(7.60845213, -2.47213595, 1.6),\n",
    "(-2.47213595, -7.60845213, 8.8),\n",
    "(6.47213595, 4.70228202, 7.6),\n",
    "(-0.00000000, 8.00000000, 4.8)]"
   ]
  },
  {
   "cell_type": "code",
   "execution_count": 18,
   "metadata": {},
   "outputs": [
    {
     "data": {
      "text/plain": [
       "5"
      ]
     },
     "execution_count": 18,
     "metadata": {},
     "output_type": "execute_result"
    }
   ],
   "source": [
    "solution(n, cp_list)"
   ]
  },
  {
   "cell_type": "code",
   "execution_count": 19,
   "metadata": {},
   "outputs": [],
   "source": [
    "n = 4\n",
    "cp_list = [(8.00000000, 0.00000000, 8.00),\n",
    "(0.00000000, -8.00000000, 8.00),\n",
    "(-8.00000000, -0.00000000, 8.00),\n",
    "(1.25147572, 7.90150672, 5.40)]"
   ]
  },
  {
   "cell_type": "code",
   "execution_count": 20,
   "metadata": {},
   "outputs": [
    {
     "data": {
      "text/plain": [
       "4"
      ]
     },
     "execution_count": 20,
     "metadata": {},
     "output_type": "execute_result"
    }
   ],
   "source": [
    "solution(n, cp_list)"
   ]
  },
  {
   "cell_type": "code",
   "execution_count": 21,
   "metadata": {},
   "outputs": [],
   "source": [
    "n = 1\n",
    "cp_list = [(8, 0, 15.99)]"
   ]
  },
  {
   "cell_type": "code",
   "execution_count": 22,
   "metadata": {},
   "outputs": [
    {
     "data": {
      "text/plain": [
       "'IMPOSSIBLE'"
      ]
     },
     "execution_count": 22,
     "metadata": {},
     "output_type": "execute_result"
    }
   ],
   "source": [
    "solution(n, cp_list)"
   ]
  }
 ],
 "metadata": {
  "kernelspec": {
   "display_name": "Python 3",
   "language": "python",
   "name": "python3"
  },
  "language_info": {
   "codemirror_mode": {
    "name": "ipython",
    "version": 3
   },
   "file_extension": ".py",
   "mimetype": "text/x-python",
   "name": "python",
   "nbconvert_exporter": "python",
   "pygments_lexer": "ipython3",
   "version": "3.6.3"
  }
 },
 "nbformat": 4,
 "nbformat_minor": 2
}
