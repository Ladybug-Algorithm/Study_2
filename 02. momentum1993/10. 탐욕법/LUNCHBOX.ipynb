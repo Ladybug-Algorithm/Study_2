{
 "cells": [
  {
   "cell_type": "markdown",
   "metadata": {},
   "source": [
    "LUNCHBOX"
   ]
  },
  {
   "cell_type": "markdown",
   "metadata": {},
   "source": [
    "[algospot의 LUNCHBOX 링크](https://algospot.com/judge/problem/read/LUNCHBOX)\n",
    "  \n",
    "### 문제  \n",
    "After suffering from the deficit in summer camp, Ainu7 decided to supply lunch boxes instead of eating outside for Algospot.com winter camp.  \n",
    "  \n",
    "He contacted the famous packed lunch company \"Doosot\" to prepare $N$ lunch boxes for $N$ participants. Due to the massive amount of order, Doosot was not able to prepare the same menu. Instead, they provided different $N$ lunch boxes. Ainu7 put all the lunch boxes to a refrigerator.  \n",
    "  \n",
    "The lunch time has come, and suddenly Ainu7 noticed that there is only one microwave available. As all lunch boxes are not the same, they need a different amount of time to microwave and eat. Specifically, $i$-th lunch box needs $M_i$ seconds to microwave and $E_i$ seconds to eat.  \n",
    "  \n",
    "Ainu7 needs to schedule microwave usage order to minimize lunch time. Lunch time is defined as the duration from the beginning of microwaving of any lunch box to the end of eating for all participants. Write a computer program that finds minimum lunch time to help Ainu7. Note that substituting lunch while microwave is turned on is totally unnecessary, because the lunch will be cooled down.  \n",
    "   \n",
    "### 출력   \n",
    "print the minimized lunch time in one line. It is guaranteed that the answer is always strictly less than $2^{31}$  "
   ]
  },
  {
   "cell_type": "markdown",
   "metadata": {},
   "source": [
    "solution의  \n",
    "N : 도시락의 수(1 <= N <= 10000)  \n",
    "heating_time : 각 도시락을 데우는 시간  \n",
    "eating_time : 각 도시락을 먹는 시간  "
   ]
  },
  {
   "cell_type": "code",
   "execution_count": 1,
   "metadata": {},
   "outputs": [],
   "source": [
    "def solution(N, heating_time, eating_time):\n",
    "    time = [] # (데우는시간, 먹는 시간)을 저장할 리스트\n",
    "    for i in range(N): # 모든 도시락에 대해서\n",
    "        h_t, e_t = heating_time[i], eating_time[i]\n",
    "        time.append((e_t, h_t)) # (데우는시간, 먹는 시간)을 리스트에 넣는다.\n",
    "    time.sort(reverse=True)\n",
    "    # 그리고 데우는 시간이 많은 순, 먹는 시간이 많은 순으로 리스트를 정렬\n",
    "    \n",
    "    total_time = 0 # 최종 걸리는 시간(답)\n",
    "    min_e_t = pow(2,31) # 답이 2^{31} 보다는 작다고 했으므로 2^31로 초기화함.\n",
    "    # min_e_t는 최소 먹는 시간이므로 최솟값으로 계속 갱신해줄 것임.\n",
    "    \n",
    "    for e_t, h_t in time: # 모든 도시락의 먹는시간, 데우는 시간에 대해서\n",
    "        if total_time == 0: # 만약 처음 시간을 구할 경우\n",
    "            total_time += e_t + h_t # 먹는 시간과 데우는 시간을 더한다.\n",
    "        else:\n",
    "            total_time = min(total_time + h_t + e_t, total_time+h_t-min_e_t+e_t)\n",
    "            # 도시락을 추가하면서 \n",
    "            # (모든 도시락 데우는 시간 + 현재 도시락 먹는 시간)\n",
    "            # (모든 도시락 데우는 시간 + 도시락 중에 최소 먹는 시간)\n",
    "            # 중에 최솟값으로 갱신\n",
    "            # Greedy하게 현재 시점에서 최소시간으로 설정한것.\n",
    "        min_e_t = min(e_t, min_e_t) # 도시락 먹는 시간 중 최소 시간으로 갱신\n",
    "    return total_time"
   ]
  },
  {
   "cell_type": "code",
   "execution_count": 2,
   "metadata": {},
   "outputs": [],
   "source": [
    "N = 3\n",
    "heating_time = [2,2,2] \n",
    "eating_time = [2,2,2]"
   ]
  },
  {
   "cell_type": "code",
   "execution_count": 3,
   "metadata": {},
   "outputs": [
    {
     "data": {
      "text/plain": [
       "8"
      ]
     },
     "execution_count": 3,
     "metadata": {},
     "output_type": "execute_result"
    }
   ],
   "source": [
    "solution(N, heating_time, eating_time)"
   ]
  },
  {
   "cell_type": "code",
   "execution_count": 4,
   "metadata": {},
   "outputs": [],
   "source": [
    "N = 3 \n",
    "heating_time = [1,2,3] \n",
    "eating_time = [1,2,1]"
   ]
  },
  {
   "cell_type": "code",
   "execution_count": 5,
   "metadata": {},
   "outputs": [
    {
     "data": {
      "text/plain": [
       "7"
      ]
     },
     "execution_count": 5,
     "metadata": {},
     "output_type": "execute_result"
    }
   ],
   "source": [
    "solution(N, heating_time, eating_time)"
   ]
  }
 ],
 "metadata": {
  "kernelspec": {
   "display_name": "Python 3",
   "language": "python",
   "name": "python3"
  },
  "language_info": {
   "codemirror_mode": {
    "name": "ipython",
    "version": 3
   },
   "file_extension": ".py",
   "mimetype": "text/x-python",
   "name": "python",
   "nbconvert_exporter": "python",
   "pygments_lexer": "ipython3",
   "version": "3.6.3"
  }
 },
 "nbformat": 4,
 "nbformat_minor": 2
}
