{
 "cells": [
  {
   "cell_type": "markdown",
   "metadata": {},
   "source": [
    "SOLONG"
   ]
  },
  {
   "cell_type": "code",
   "execution_count": 1,
   "metadata": {},
   "outputs": [],
   "source": [
    "# trie 자료구조\n",
    "\n",
    "class TrieNode:\n",
    "    children = [] # 자손 노드\n",
    "    terminal = None # 트라이 구조에서 말단 leaf인지\n",
    "    \n",
    "    def __init__(self): # 트라이 노드 초기화\n",
    "        self.children = [None for _ in range(26)] # A-Z까지에 대한 자손\n",
    "        self.terminal = False  # 말단 노드가 아님\n",
    "    \n",
    "    def toNumber(self, word): # 현재 단어에 대해 확장할 자손 idx 반환\n",
    "        apb = word[0]\n",
    "        if apb.isalpha():\n",
    "            answer = apb.capitalize()\n",
    "            return ord(answer) - ord('A')\n",
    "        else:\n",
    "            return -1\n",
    "    \n",
    "    def insert(self, key=''): # 자손 노드 추가\n",
    "        if key == '': # 말단 노드\n",
    "            self.terminal = True\n",
    "        else: # 말단 노드가 아닐 경우\n",
    "            next_node = self.toNumber(key)\n",
    "            if self.children[next_node] == None:\n",
    "                self.children[next_node] = TrieNode()\n",
    "                # 새 노드 추가\n",
    "            self.children[next_node].insert(key[1:])\n",
    "            # 새 노드에 대해서 다시 재귀로 노드 추가\n",
    "            \n",
    "    def find(self, key=''): # 해당 문자열에 해당하는 노드 찾기\n",
    "        if key == '':\n",
    "            return self\n",
    "        next_node = toNumber(key)\n",
    "        if self.children[next_node] == None: # 해당하는 노드가 없다면 None 반환\n",
    "            return None\n",
    "        return self.children[next_node].find(key[1:]) # 재귀로 해당 노드 탐색\n",
    "                \n",
    "            "
   ]
  },
  {
   "cell_type": "markdown",
   "metadata": {},
   "source": [
    "[algospot의 SOLONG 링크](https://algospot.com/judge/problem/read/SOLONG)  \n",
    "  \n",
    "### 문제  \n",
    "문자 입력이 불편한 핸드폰이나 타블렛 같은 기계에서는 빠른 타이핑을 위해 강력한 자동 완성 기능을 제공합니다. 시리우스 사이버네틱스 주식회사에서 이번에 출시한 돌고래용 타블렛의 자동 완성 알고리즘은 사전에 저장된 N개의 단어들을 이용해 자동완성을 수행합니다. 돌고래가 새 단어를 타이핑하기 시작하면, 자동 완성 시스템은 지금까지 타이핑한 부분으로 시작하는 사전 내 단어 중 가장 출현 빈도가 높은 것을 자동으로 추천합니다. 만약 출현 빈도가 가장 높은 것이 여러 개 있다면 사전순으로(돌고래의 사전 역시 알파벳 순을 따릅니다) 가장 앞에 오는 단어가 추천되지요. 돌고래가 탭 키를 누르면 지금 추천된 단어가 자동으로 입력됩니다.  \n",
    "  \n",
    "예를 들어 사전에 다음 7개의 단어가 들어 있다고 합시다.  \n",
    "  \n",
    "|단어|ALL|AND|FISH|FOR|SO|THANKS|THE|\n",
    "|:---:|:---:|:---:|:---:|:---:|:---:|:---:|:---:|\n",
    "|**출현 빈도**|4|3|8|6|4|9|9|\n",
    "  \n",
    "이 때 문자열 \"SO LONG AND THANKS FOR ALL THE FISH\"를 타이핑한다고 하지요. 돌고래가 S를 누르면 자동완성 시스템은 자동으로 SO 를 추천하고, 여기서 탭 키를 누르면 SO가 입력됩니다. 이와 같은 방식으로 나머지 단어를 입력하는 데는 각 4번(LONG 은 사전에 없으므로 추천되지 않습니다), 3번(AN 과 탭), 2번 (T 와 탭), 3번(FO 와 탭), 2번 (A 와 탭), 3번(THE 모두 입력해야 합니다), 2번 (F 와 탭) 의 키 입력이 필요하지요. 여기에 7번의 공백 문자까지 입력하면 전체 28번 키를 눌러야 합니다.  \n",
    "  \n",
    "단 이 타블렛에는 이미 입력한 단어를 편집하는 기능이 없기 때문에, THANKS를 입력하고 \"S\"를 지워서 \"THANK\"를 만들거나 \"THE\"를 입력하고 \"RE\"를 덧붙여서 \"THERE\"를 입력하는 것은 불가능합니다.  \n",
    "  \n",
    "돌고래들의 지느러미는 타블렛의 입력에 적합하지 않으므로, 가능한 적은 타이핑 수로 모든 문장을 입력하고 싶습니다. 타블렛의 자동완성 알고리즘이 사용하는 단어들과 각 단어들의 출현 빈도가 주어질 때, 주어지는 긴 문자열을 입력하기 위해 필요한 최소 타이핑 수를 계산하는 프로그램을 작성하세요.  \n",
    "  \n",
    "### 출력  \n",
    "한 줄에 모든 단어들을 입력하기 위해 필요한 최소 타자 수를 출력합니다  "
   ]
  },
  {
   "cell_type": "markdown",
   "metadata": {},
   "source": [
    "solution의  \n",
    "dic : (단어, 출현 빈도) 정보를 지니는 단어 사전 $(1 \\leq len(dic) \\leq 10000)$  \n",
    "$(1 \\leq 출현 빈도 \\leq 100000)$  \n",
    "search_str : 검색할 문자열 $(1 \\leq len(search\\_str.split()) \\leq 20000)$  \n",
    "모든 단어는 알파벳 대문자이며, 길이는 최대 10입니다.  "
   ]
  },
  {
   "cell_type": "code",
   "execution_count": 2,
   "metadata": {},
   "outputs": [],
   "source": [
    "# trie 자료구조\n",
    "\n",
    "class TrieNode:\n",
    "    first = None # 현재의 접두사로 찾아낼 수 있는 첫번째 연관 단어\n",
    "    children = [] # 해당 트라이 노드의 자손 노드들\n",
    "    terminal = None # 말단 노드 여부\n",
    "    \n",
    "    def __init__(self):\n",
    "        self.first = None\n",
    "        self.children = [None for _ in range(26)]\n",
    "        self.terminal = False  \n",
    "    \n",
    "    def toNumber(self, apb): # 확장할 알파벳에 대한 적절한 idx 반환\n",
    "        if apb.isalpha():\n",
    "            answer = apb.capitalize()\n",
    "            return ord(answer) - ord('A')\n",
    "        else:\n",
    "            return -1\n",
    "    \n",
    "    def insert(self, key, idx=0): # 해당 단어를 trie에 넣기\n",
    "        if self.first is None and idx != 0:\n",
    "            self.first = key # 노드를 확장하면서 연관되는 단어의 첫번째\n",
    "        if idx == len(key)-1: # 말단 노드\n",
    "            self.terminal = True \n",
    "        else:\n",
    "            next_node = self.toNumber(key[idx])\n",
    "            if self.children[next_node] == None:\n",
    "                self.children[next_node] = TrieNode()\n",
    "            self.children[next_node].insert(key, idx+1)\n",
    "            # 다음 노드에 대해서 재귀적으로 추가\n",
    "    \n",
    "    def get_count(self, key, idx=0): # 해당 단어를 검색하기 위한 typing 수 반환\n",
    "        if idx == len(key): # 모두 탐색 했을 경우 0 반환\n",
    "            return 0\n",
    "        next_node = self.toNumber(key[idx])\n",
    "        if key == self.first: # 만약 현재 상황에서 연관 단어가 떠오른다면\n",
    "            return 1 # tab키를 1번 눌러야 한다.\n",
    "        if self.children[next_node] == None:\n",
    "            return len(key) - idx # 해당 단어가 사전에 없다면 해당 길이만큼 typing\n",
    "        return 1 + self.children[next_node].get_count(key, idx+1)\n",
    "        # 재귀적으로 탐색을 진행한다."
   ]
  },
  {
   "cell_type": "code",
   "execution_count": 3,
   "metadata": {},
   "outputs": [],
   "source": [
    "def solution(dic, search_str):\n",
    "    answer = 0\n",
    "    trie = TrieNode()\n",
    "    dic = sorted(dic, key=lambda word: word[1], reverse=True)\n",
    "    # 단어 사전에 대해서 빈도수의 내림차순으로 정렬한다.\n",
    "    # (물론, 빈도수가 같을 시에는 알파벳순으로 정렬)\n",
    "    for i in dic:\n",
    "        trie.insert(i[0]) # 단어 사전 내의 단어들을 trie에 추가\n",
    "    words = search_str.split()\n",
    "    # 검색할 문자열을 공백 기준으로 나눔\n",
    "    answer += len(words)-1\n",
    "    # 공백의 개수만큼 더함\n",
    "    for i in words:\n",
    "        answer += trie.get_count(i)\n",
    "        # 그리고 trie구조를 통해서 typing횟수를 더해준다.\n",
    "    return answer"
   ]
  },
  {
   "cell_type": "code",
   "execution_count": 4,
   "metadata": {},
   "outputs": [],
   "source": [
    "dic = [('ALL', 4),\n",
    "       ('AND', 3),\n",
    "       ('FISH', 8),\n",
    "       ('FOR', 6),\n",
    "       ('SO', 4),\n",
    "       ('THANKS', 9),\n",
    "       ('THE', 9)]\n",
    "search_str = 'SO LONG AND THANKS FOR ALL THE FISH'"
   ]
  },
  {
   "cell_type": "code",
   "execution_count": 5,
   "metadata": {},
   "outputs": [
    {
     "data": {
      "text/plain": [
       "28"
      ]
     },
     "execution_count": 5,
     "metadata": {},
     "output_type": "execute_result"
    }
   ],
   "source": [
    "solution(dic, search_str)"
   ]
  },
  {
   "cell_type": "code",
   "execution_count": 6,
   "metadata": {},
   "outputs": [],
   "source": [
    "dic = [('ALL', 4),\n",
    "       ('AND', 5),\n",
    "       ('FISH', 3),\n",
    "       ('FOR', 6),\n",
    "       ('SO', 8),\n",
    "       ('THANKS', 1),\n",
    "       ('THE', 2)]\n",
    "search_str = 'SO LONG AND THANKS FOR ALL THE FISH'"
   ]
  },
  {
   "cell_type": "code",
   "execution_count": 7,
   "metadata": {
    "scrolled": true
   },
   "outputs": [
    {
     "data": {
      "text/plain": [
       "29"
      ]
     },
     "execution_count": 7,
     "metadata": {},
     "output_type": "execute_result"
    }
   ],
   "source": [
    "solution(dic, search_str)"
   ]
  }
 ],
 "metadata": {
  "kernelspec": {
   "display_name": "Python 3",
   "language": "python",
   "name": "python3"
  },
  "language_info": {
   "codemirror_mode": {
    "name": "ipython",
    "version": 3
   },
   "file_extension": ".py",
   "mimetype": "text/x-python",
   "name": "python",
   "nbconvert_exporter": "python",
   "pygments_lexer": "ipython3",
   "version": "3.6.9"
  }
 },
 "nbformat": 4,
 "nbformat_minor": 2
}
