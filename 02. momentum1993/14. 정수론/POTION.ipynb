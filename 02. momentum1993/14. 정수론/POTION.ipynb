{
 "cells": [
  {
   "cell_type": "markdown",
   "metadata": {},
   "source": [
    "POTION"
   ]
  },
  {
   "cell_type": "markdown",
   "metadata": {},
   "source": [
    "[algospot의 POTION 링크](https://algospot.com/judge/problem/read/POTION)  \n",
    "  \n",
    "### 문제  \n",
    "마법의 약 수업 시간에 교수님의 설명을 안 듣고 졸던 헤리는 실수로 냄비에 몇 가지 재료의 양을 잘못 넣고 말았습니다. 약의 색깔이 심상치 않게 변하는 것을 눈치챈 해르미온느가 재빨리 레시피의 정확한 양을 알려주어서 약을 전부 망치는 것은 면했습니다. 지금 얼른 재료를 더 넣어서 약을 완성해야 합니다.  \n",
    "  \n",
    "이번 시간에 만드는 마법의 약은 n 종류의 재료를 각 $r_i$ 숟가락씩 넣어서 만들어야 합니다. 모든 재료를 정확히 넣었을 경우 만들어진 마법의 약은 정확히 한 병 분량이 됩니다. 헤리가 이미 냄비에 넣은 각 재료들의 양은 $p_i$ 로 주어집니다. 헤리는 적절히 냄비에 재료를 최소한으로 더 넣어 각 재료의 비율을 정확히 맞추고 싶습니다. 이를 위해 한 병보다 많은 약을 만들어도 상관 없지만, 최소한 한 병은 만들어야 합니다. 헤리는 항상 숟가락 단위로만 재료를 넣을 수 있기 때문에, 반 숟가락의 재료를 더 넣는다거나 하는 일은 불가능합니다.  \n",
    "  \n",
    "넣어야 할 각 재료의 최소량을 계산하는 프로그램을 작성하세요.  \n",
    "  \n",
    "### 출력  \n",
    "한 줄에 n 개의 정수로 각 재료마다 더 넣어야 하는 양을 출력합니다.  "
   ]
  },
  {
   "cell_type": "markdown",
   "metadata": {},
   "source": [
    "solution의   \n",
    "r : 약에 들어가야 하는 각 재료의 양 $r_i$ $(1 \\leq r_i \\leq 1000)$  \n",
    "p : 이미 냄비에 넣은 재료의 양 $p_i$ $(1 \\leq p_i \\leq 1000)$   "
   ]
  },
  {
   "cell_type": "code",
   "execution_count": 1,
   "metadata": {},
   "outputs": [],
   "source": [
    "\n",
    "\n",
    "import math\n",
    "\n",
    "def get_max_proportion(r,p): # 현재 들어간 재료 / 레시피 재료 비율의 최대비율 반환\n",
    "    proportion = 0\n",
    "    for i in range(len(r)):\n",
    "        if proportion < (p[i] / r[i]):\n",
    "            proportion = (p[i] / r[i])\n",
    "    return proportion\n",
    "\n",
    "def get_greatest_common_divisor(p, q): # p와 q의 최대공약수 반환\n",
    "    # 유클리드 알고리즘 : p, q (단, p > q)의 최대 공약수는 q, p-q의 최대 공약수와 동일\n",
    "    # -> 더 나아가서 p, q의 최대 공약수는 q, p % q의 최대 공약수와 동일\n",
    "    if q == 0: # q = 0일때 p가 최대공약수가 된다.\n",
    "        return p\n",
    "    return get_greatest_common_divisor(q, p % q)\n",
    "\n",
    "# Y의 비율만큼의 각 재료가 들어가야한다고 가정 (단, Y >= 1)\n",
    "# g_comm_div는 모든 r_i의 최대공약수(greatest common divisor)\n",
    "# max_prop은 현재 들어간 재료 / 레시피 재료 비율의 최대비율\n",
    "\n",
    "# max_prop < Y = a / g_comm_div\n",
    "# g_comm_div * Y < a\n",
    "\n",
    "def solution(r, p):\n",
    "    answer = []\n",
    "    max_prop = get_max_proportion(r,p)\n",
    "    g_comm_div = r[0]\n",
    "    for i in range(1, len(p)):\n",
    "        g_comm_div = get_greatest_common_divisor(g_comm_div, r[i])\n",
    "        # 레시피의 최대공약수\n",
    "\n",
    "    multiple = math.ceil(g_comm_div * max_prop) # a값이 되는 것\n",
    "    multiple /= g_comm_div # a값을 g_comm_div로 나누면 Y값이 된다.\n",
    "    if multiple < 1:\n",
    "        multiple = 1 # 최소 비율이 1이상이어야한다.\n",
    "    for i in range(len(r)):\n",
    "        answer.append(int((multiple*r[i]) - p[i]))\n",
    "        # 들어가야하는 재료에서 현재 가진 재료를 뺀다.\n",
    "    return answer"
   ]
  },
  {
   "cell_type": "code",
   "execution_count": 2,
   "metadata": {},
   "outputs": [],
   "source": [
    "r = [4, 6, 2, 4]\n",
    "p = [6, 4, 2, 4]"
   ]
  },
  {
   "cell_type": "code",
   "execution_count": 3,
   "metadata": {},
   "outputs": [
    {
     "data": {
      "text/plain": [
       "[0, 5, 1, 2]"
      ]
     },
     "execution_count": 3,
     "metadata": {},
     "output_type": "execute_result"
    }
   ],
   "source": [
    "solution(r, p)"
   ]
  },
  {
   "cell_type": "code",
   "execution_count": 4,
   "metadata": {},
   "outputs": [],
   "source": [
    "r = [4, 6, 2, 4]\n",
    "p = [7, 4, 2, 4]"
   ]
  },
  {
   "cell_type": "code",
   "execution_count": 5,
   "metadata": {},
   "outputs": [
    {
     "data": {
      "text/plain": [
       "[1, 8, 2, 4]"
      ]
     },
     "execution_count": 5,
     "metadata": {},
     "output_type": "execute_result"
    }
   ],
   "source": [
    "solution(r, p)"
   ]
  },
  {
   "cell_type": "code",
   "execution_count": 6,
   "metadata": {},
   "outputs": [],
   "source": [
    "r = [4, 5, 6] \n",
    "p = [1, 2, 3] "
   ]
  },
  {
   "cell_type": "code",
   "execution_count": 7,
   "metadata": {},
   "outputs": [
    {
     "data": {
      "text/plain": [
       "[3, 3, 3]"
      ]
     },
     "execution_count": 7,
     "metadata": {},
     "output_type": "execute_result"
    }
   ],
   "source": [
    "solution(r, p)"
   ]
  }
 ],
 "metadata": {
  "kernelspec": {
   "display_name": "Python 3",
   "language": "python",
   "name": "python3"
  },
  "language_info": {
   "codemirror_mode": {
    "name": "ipython",
    "version": 3
   },
   "file_extension": ".py",
   "mimetype": "text/x-python",
   "name": "python",
   "nbconvert_exporter": "python",
   "pygments_lexer": "ipython3",
   "version": "3.6.9"
  }
 },
 "nbformat": 4,
 "nbformat_minor": 2
}
