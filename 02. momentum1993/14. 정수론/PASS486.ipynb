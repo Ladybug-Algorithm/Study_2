{
 "cells": [
  {
   "cell_type": "markdown",
   "metadata": {},
   "source": [
    "PASS486"
   ]
  },
  {
   "cell_type": "markdown",
   "metadata": {},
   "source": [
    "[algospot의 PASS486 링크](https://algospot.com/judge/problem/read/PASS486)  \n",
    "  \n",
    "### 문제  \n",
    "재훈이는 한 번 담배를 끊겠다고 다짐할 때마다 이메일 계정 비밀번호를 바꾸는 습관이 있습니다. 재훈이는 비밀번호를 항상 \"no-smok\\*\\*X\\*\\*\" 와 같이 정하는데, 여기서 X는 1자리 이상의 자연수입니다. 재훈이에게는 k번째로 금연을 다짐할 때는 항상 정확히 k개의 약수를 갖는 숫자로 X를 선택하는 습관이 있습니다. 예를 들어 재훈이가 12번째로 금연을 다짐했을 때 쓴 비밀번호는 no-smok486 이었습니다. 486 에는 1, 2, 3, 6, 9, .., 243, 486으로 모두 12개의 약수가 있으니까요.  \n",
    "  \n",
    "재훈이는 금연을 다짐하고 비밀번호를 바꾼 뒤 잠들었는데, 아침에 일어나서는 비밀번호가 기억나지 않는다는 사실을 깨달았습니다. 재훈이가 어렴풋이 기억하는 것은 비밀번호가 n개의 약수를 가진다는 사실과, 비밀번호가 아마도 [lo,hi] 범위 내에 있을 거라는 것 뿐입니다 (범위는 양 끝의 수를 포함합니다).  \n",
    "  \n",
    "재훈이가 예상한 범위 내에 비밀번호가 될 수 있는 수가 몇 개나 되는지 계산하는 프로그램을 작성하세요.  \n",
    "  \n",
    "### 출력  \n",
    "해당 범위 내에 비밀번호가 될 수 있는 숫자가 몇 개인지 출력합니다.  "
   ]
  },
  {
   "cell_type": "markdown",
   "metadata": {},
   "source": [
    "solution의   \n",
    "n : 지니는 약수의 총 개수 $(1 \\leq n < 400)$  \n",
    "lo : 최소구간 $(1 \\leq lo \\leq 10000000)$  \n",
    "hi : 최대구간 $(1 \\leq lo \\leq hi \\leq 10000000)$  \n",
    "hi - lo는 항상 1백만 이하    "
   ]
  },
  {
   "cell_type": "code",
   "execution_count": 1,
   "metadata": {},
   "outputs": [],
   "source": [
    "#나의 풀이\n",
    "\n",
    "def get_minFactor(num): # 2 ~ num 까지에 대해서 가지는 약수의 최솟값 반환\n",
    "    minFactor = [i for i in range(num+1)]\n",
    "    minFactor[0] = minFactor[1] = -1 # 0과 1에 대해서는 -1로 초기화\n",
    "    for i in range(2, num+1): # 2 ~ num\n",
    "        if minFactor[i] == i: # 만약 아직 탐색되지 않은 수에 대해서\n",
    "            for j in range(i*i, num+1, i): # i*i부터 i의 배수로 최소 약수 저장\n",
    "                if minFactor[j] == j:\n",
    "                    minFactor[j] = i # j값의 최소 약수는 i\n",
    "    return minFactor\n",
    "                \n",
    "def get_minFactorPower(num, minFactor): # 2 ~ num 까지에 대해서 가지고 있는 최소 약수의 승수 반환\n",
    "    minFactorPower = [1 for _ in range(num+1)]\n",
    "    minFactorPower[0] = minFactorPower[1] = -1 # 0과 1에 대해서는 -1로 초기화\n",
    "    for i in range(2, num+1): # 2 ~ num\n",
    "        if minFactor[i] != i: # 만약 소수가 아니라면\n",
    "            num = int(i / minFactor[i])\n",
    "            while(num % minFactor[i] == 0): # 최소 약수로 나눈 값이 나머지가 없을 때까지\n",
    "                num = int(num / minFactor[i]) # 최소 약수로 나눠주고\n",
    "                minFactorPower[i] += 1 # 승수를 1씩 증가시킨다.\n",
    "    return minFactorPower\n",
    "\n",
    "def get_num_division(num, minFactor, minFactorPower): # 2 ~ num 까지의 값에 대해서 약수의 개수 반환\n",
    "    factors = [1 for _ in range(num+1)]\n",
    "    for i in range(2, num+1):\n",
    "        if minFactor[i] == i: # 소수의 경우\n",
    "            factors[i] = 2 # 약수의 개수는 2\n",
    "        else: # 소수가 아니라면\n",
    "            num = i\n",
    "            while(num != 1):\n",
    "                factors[i] *= (minFactorPower[num] + 1)\n",
    "                # 약수의 승수 + 1 만큼 곱해준다.\n",
    "                num /= pow(minFactor[num], minFactorPower[num])\n",
    "                # 그리고 약수^승수만큼 나눠준다.\n",
    "                num = int(num)\n",
    "            # 20 = 2^2 * 5\n",
    "            # (2의 약수의 승수 2)+1\n",
    "            # (5의 약수의 승수 1)+1\n",
    "            # 3 * 2 = 6\n",
    "            # 20의 약수의 개수는 6개가 된다.\n",
    "    return factors\n",
    "\n",
    "def solution(n, lo, hi):\n",
    "    answer = 0\n",
    "    minFactor = get_minFactor(hi) # i 의 가장 작은 약수\n",
    "    # 소수의 경우 i 값을 지닌다.\n",
    "    minFactorPower = get_minFactorPower(hi, minFactor)\n",
    "    # i값에 대해서 minFactor[i]에 대한 승수\n",
    "    factors = get_num_division(hi, minFactor, minFactorPower)\n",
    "    # i값에 대해 가지는 약수의 개수\n",
    "    for i in range(lo, hi+1):\n",
    "        if factors[i] == n: # 약수를 n개 가지고 있는 수만큼\n",
    "            answer += 1 # 더해준다.\n",
    "    return answer\n",
    "\n",
    "# 에라토스테네스의 체를 이용해서 문제 해결"
   ]
  },
  {
   "cell_type": "code",
   "execution_count": 22,
   "metadata": {},
   "outputs": [],
   "source": [
    "# 교재 풀이\n",
    "\n",
    "def get_minFactor(num): # 2 ~ num 까지에 대해서 가지는 약수의 최솟값 반환\n",
    "    minFactor = [i for i in range(num+1)]\n",
    "    minFactor[0] = minFactor[1] = -1 # 0과 1에 대해서는 -1로 초기화\n",
    "    for i in range(2, num+1): # 2 ~ num\n",
    "        if minFactor[i] == i: # 만약 아직 탐색되지 않은 수에 대해서\n",
    "            for j in range(i*i, num+1, i): # i*i부터 i의 배수로 최소 약수 저장\n",
    "                if minFactor[j] == j:\n",
    "                    minFactor[j] = i # j값의 최소 약수는 i\n",
    "    return minFactor\n",
    "\n",
    "def get_num_division(num, minFactor): # 2 ~ num 까지의 값에 대해서 약수의 개수 반환\n",
    "    minFactorPower = [1 for _ in range(num+1)]\n",
    "    minFactorPower[0] = minFactorPower[1] = -1 # 0과 1에 대해서는 -1로 초기화\n",
    "    factors = [0 for _ in range(num+1)]\n",
    "    \n",
    "    factors[1] = 1\n",
    "    for i in range(2, num+1):\n",
    "        if minFactor[i] == i: # 소수의 경우\n",
    "            minFactorPower[i] = 1 # 최소 약수의 승수는 1\n",
    "            factors[i] = 2 # 약수의 개수는 2\n",
    "        else: # 소수가 아니라면\n",
    "            m = int(i / minFactor[i]) # 최소 약수로 나눔\n",
    "            if minFactor[i] != minFactor[m]: \n",
    "                # 6 = 2 x 3\n",
    "                # 6의 최소약수는 2\n",
    "                # 6 / 2 = 3\n",
    "                # 3 != 2 인 경우\n",
    "                # 6의 최소 약수는 2이고 최소약수의 승수는 1이 된다.\n",
    "                minFactorPower[i] = 1\n",
    "            else:\n",
    "                minFactorPower[i] = minFactorPower[m] + 1\n",
    "            a = minFactorPower[i]\n",
    "            factors[i] = (factors[m] / a) * (a + 1) \n",
    "    return factors\n",
    "\n",
    "def solution(n, lo, hi):\n",
    "    answer = 0\n",
    "    minFactor = get_minFactor(hi) # i 의 가장 작은 약수\n",
    "    # 소수의 경우 i 값을 지닌다.\n",
    "    factors = get_num_division(hi, minFactor)\n",
    "    # i값에 대해 가지는 약수의 개수\n",
    "    for i in range(lo, hi+1):\n",
    "        if factors[i] == n: # 약수를 n개 가지고 있는 수만큼\n",
    "            answer += 1 # 더해준다.\n",
    "    return answer\n",
    "\n",
    "# 에라토스테네스의 체를 이용해서 문제 해결"
   ]
  },
  {
   "cell_type": "code",
   "execution_count": 23,
   "metadata": {},
   "outputs": [],
   "source": [
    "n = 2\n",
    "lo = 2\n",
    "hi = 10"
   ]
  },
  {
   "cell_type": "code",
   "execution_count": 24,
   "metadata": {
    "scrolled": true
   },
   "outputs": [
    {
     "data": {
      "text/plain": [
       "4"
      ]
     },
     "execution_count": 24,
     "metadata": {},
     "output_type": "execute_result"
    }
   ],
   "source": [
    "solution(n, lo, hi)"
   ]
  },
  {
   "cell_type": "code",
   "execution_count": 25,
   "metadata": {},
   "outputs": [],
   "source": [
    "n = 12\n",
    "lo = 486\n",
    "hi = 486"
   ]
  },
  {
   "cell_type": "code",
   "execution_count": 26,
   "metadata": {},
   "outputs": [
    {
     "data": {
      "text/plain": [
       "1"
      ]
     },
     "execution_count": 26,
     "metadata": {},
     "output_type": "execute_result"
    }
   ],
   "source": [
    "solution(n, lo, hi)"
   ]
  },
  {
   "cell_type": "code",
   "execution_count": 27,
   "metadata": {},
   "outputs": [],
   "source": [
    "n = 200\n",
    "lo = 1000000\n",
    "hi = 2000000"
   ]
  },
  {
   "cell_type": "code",
   "execution_count": 28,
   "metadata": {},
   "outputs": [
    {
     "data": {
      "text/plain": [
       "19"
      ]
     },
     "execution_count": 28,
     "metadata": {},
     "output_type": "execute_result"
    }
   ],
   "source": [
    "solution(n, lo, hi)"
   ]
  }
 ],
 "metadata": {
  "kernelspec": {
   "display_name": "Python 3",
   "language": "python",
   "name": "python3"
  },
  "language_info": {
   "codemirror_mode": {
    "name": "ipython",
    "version": 3
   },
   "file_extension": ".py",
   "mimetype": "text/x-python",
   "name": "python",
   "nbconvert_exporter": "python",
   "pygments_lexer": "ipython3",
   "version": "3.6.9"
  }
 },
 "nbformat": 4,
 "nbformat_minor": 2
}
