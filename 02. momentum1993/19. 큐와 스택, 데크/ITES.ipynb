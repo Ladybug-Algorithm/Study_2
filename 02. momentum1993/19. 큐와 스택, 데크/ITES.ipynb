{
 "cells": [
  {
   "cell_type": "markdown",
   "metadata": {},
   "source": [
    "ITES"
   ]
  },
  {
   "cell_type": "markdown",
   "metadata": {},
   "source": [
    "[algospot의 ITES 링크](https://algospot.com/judge/problem/read/ITES)"
   ]
  },
  {
   "cell_type": "markdown",
   "metadata": {},
   "source": [
    "수환이는 외계에서 날아오는 전파를 연구하는 범세계 대규모 프로젝트, ITES@home에 참가하고 있습니다. 외계에서 날아오는 전파는 전처리를 거쳐 각 숫자가 [1,10000] 범위 안에 들어가는 자연수 수열로 주어지는데, 이 전파가 과연 단순한 노이즈인지 아니면 의미 있는 패턴을 가지고 있는 것인지를 파악하고 싶습니다. 수환이는 전파의 부분 수열 중에 합이 K인 것이 유독 많다는 것을 눈치챘습니다. 부분 수열이란 연속된 수열의 일부를 말합니다. 예를 들어 수열 {1,4,2,1,4,3,1,6} 에서 합이 7 인 부분 수열은 모두 5개 있습니다. {1,4,2} , {4,2,1} , {2,1,4}, {4,3}, {1,6} 이 부분 수열들은 서로 겹쳐도 된다는 데 유의합시다.\n",
    "\n",
    "K가 외계인에게 의미 있는 숫자일까요? 수환이의 가설을 확인하기 위해, 길이 N인 신호 기록이 주어질 때 합이 K인 부분 수열이 몇 개나 있는지 계산하는 프로그램을 작성하세요."
   ]
  },
  {
   "cell_type": "markdown",
   "metadata": {},
   "source": [
    "solution함수의  \n",
    "N : 확인할 첫 N개의 신호  \n",
    "K : 합이 K인 부분수열의 수  "
   ]
  },
  {
   "cell_type": "code",
   "execution_count": 1,
   "metadata": {
    "collapsed": true
   },
   "outputs": [],
   "source": [
    "def solution(K, N):\n",
    "    answer = 0 # 답을 저장할 변수\n",
    "    signal = 1983 # 처음 신호인 1983으로 초기화\n",
    "    processed_signals = [] # 신호들을 정제 후 신호들의 합을 확인할 큐\n",
    "    queue_sum = 0 # 큐 안의 신호들의 합을 저장할 변수\n",
    "    queue_idx = 0 # 신호들에 대한 인덱스\n",
    "    while( queue_idx < N ): # N개의 신호들을 모두 확인 할 때까지\n",
    "        if queue_sum < K: \n",
    "        # 만약 신호들의 합이 K보다 작다면\n",
    "            queue_idx += 1 # 신호 인덱스 1 증가\n",
    "            processed_signals.append(signal % 10000 + 1) # 큐에 전처리된 신호를 넣는다.\n",
    "            signal = (signal * 214013 + 2531011) % pow(2, 32) # 다음 신호 전처리\n",
    "            queue_sum += processed_signals[-1] # 그리고 새로 들어간 신호를 더함\n",
    "        else: \n",
    "        # 만약 신호들의 합이 K 이상이라면\n",
    "            queue_sum -= processed_signals[0] # 큐의 합에서 제일 앞의 신호를 뺀다.\n",
    "            processed_signals = processed_signals[1:] # 큐에서 제일 앞의 신호를 뺀다.\n",
    "        answer += 1 if queue_sum == K else 0 # 만약 신호들의 합이 K와 같다면 정답 1 증가\n",
    "    return answer"
   ]
  },
  {
   "cell_type": "code",
   "execution_count": 2,
   "metadata": {},
   "outputs": [
    {
     "data": {
      "text/plain": [
       "1"
      ]
     },
     "execution_count": 2,
     "metadata": {},
     "output_type": "execute_result"
    }
   ],
   "source": [
    "solution(8791, 20)"
   ]
  },
  {
   "cell_type": "code",
   "execution_count": 3,
   "metadata": {},
   "outputs": [
    {
     "data": {
      "text/plain": [
       "4"
      ]
     },
     "execution_count": 3,
     "metadata": {},
     "output_type": "execute_result"
    }
   ],
   "source": [
    "solution(5265, 5000)"
   ]
  },
  {
   "cell_type": "code",
   "execution_count": 4,
   "metadata": {},
   "outputs": [
    {
     "data": {
      "text/plain": [
       "1049"
      ]
     },
     "execution_count": 4,
     "metadata": {},
     "output_type": "execute_result"
    }
   ],
   "source": [
    "solution(3578452, 5000000)"
   ]
  }
 ],
 "metadata": {
  "kernelspec": {
   "display_name": "Python 3",
   "language": "python",
   "name": "python3"
  },
  "language_info": {
   "codemirror_mode": {
    "name": "ipython",
    "version": 3
   },
   "file_extension": ".py",
   "mimetype": "text/x-python",
   "name": "python",
   "nbconvert_exporter": "python",
   "pygments_lexer": "ipython3",
   "version": "3.6.3"
  }
 },
 "nbformat": 4,
 "nbformat_minor": 2
}
