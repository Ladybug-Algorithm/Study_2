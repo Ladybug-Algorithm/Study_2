{
 "cells": [
  {
   "cell_type": "markdown",
   "metadata": {},
   "source": [
    "BRACKETS2"
   ]
  },
  {
   "cell_type": "markdown",
   "metadata": {},
   "source": [
    "[algospot의 BRACKETS2 링크](https://algospot.com/judge/problem/read/BRACKETS2)"
   ]
  },
  {
   "cell_type": "markdown",
   "metadata": {},
   "source": [
    "Best White is a mathematics graduate student at T1 University. Recently, he finished writing a paper and he decided to polish it. As he started to read it from the beginning, he realized that some of the formulas have problems: some of the brackets are mismatched! Since there are so many formulas in his paper, he decided to check their validity with a computer program.  \n",
    "  \n",
    "The following kinds of brackets are included in Best White’s paper.  \n",
    "  \n",
    "- Round brackets are opened by a ( and closed by a ).\n",
    "- Curly brackets are opened by a { and closed by a }.\n",
    "- Square brackets are opened by a [ and closed by a ].  \n",
    "  \n",
    "A formula is said well-matched when the following conditions are met:  \n",
    "  \n",
    "1. Every bracket has a corresponding pair. ( corresponds to ), [ corresponds to ], et cetera.  \n",
    "2. Every bracket pair is opened first, and closed later.  \n",
    "3. No two pairs \"\\*cross\\*\" each other. For example, [(]) is not well-matched.  \n",
    "  \n",
    "Write a program to help Best White by checking if each of his formulas is well-matched. To make the problem easier, everything other than brackets are removed from the formulas."
   ]
  },
  {
   "cell_type": "markdown",
   "metadata": {},
   "source": [
    "solution함수의  \n",
    "brackets : 괄호들로 이루어진 문자열"
   ]
  },
  {
   "cell_type": "code",
   "execution_count": 1,
   "metadata": {
    "collapsed": true
   },
   "outputs": [],
   "source": [
    "def solution(brackets):\n",
    "    stack = [] #리스트를 자료구조인 '스택' 처럼 사용 \n",
    "    for i in brackets: # 괄호들을 처음부터 끝까지 확인 \n",
    "        if i == '{' or i == '(' or i == '[': # 만약 여는 괄호일 때\n",
    "            stack.append(i) # 스택에 쌓는다.\n",
    "        # 이외에 닫는 괄호가 왔을 때는\n",
    "        # 스택의 제일 위에 쌍을 이룰 수 있는 괄호가 있을 경우 스택에서 빼고,\n",
    "        # 그렇지 않다면 스택에 쌓는다.\n",
    "        elif i == '}': \n",
    "            if stack[-1] == '{':\n",
    "                stack = stack[:-1]\n",
    "            else:\n",
    "                stack.append(i)\n",
    "        elif i == ')':\n",
    "            if stack[-1] == '(':\n",
    "                stack = stack[:-1]\n",
    "            else:\n",
    "                stack.append(i)\n",
    "        elif i == ']':\n",
    "            if stack[-1] == '[':\n",
    "                stack = stack[:-1]\n",
    "            else:\n",
    "                stack.append(i)\n",
    "    if stack == []: # 모든 괄호 문자열을 확인한 후 스택이 비었다면 \"YES\" 출력\n",
    "        return \"YES\"\n",
    "    else: # 스택이 비지 않았다면 \"NO\" 출력\n",
    "        return \"NO\""
   ]
  },
  {
   "cell_type": "code",
   "execution_count": 2,
   "metadata": {},
   "outputs": [
    {
     "data": {
      "text/plain": [
       "'YES'"
      ]
     },
     "execution_count": 2,
     "metadata": {},
     "output_type": "execute_result"
    }
   ],
   "source": [
    "solution(\"()()\")"
   ]
  },
  {
   "cell_type": "code",
   "execution_count": 3,
   "metadata": {},
   "outputs": [
    {
     "data": {
      "text/plain": [
       "'NO'"
      ]
     },
     "execution_count": 3,
     "metadata": {},
     "output_type": "execute_result"
    }
   ],
   "source": [
    "solution(\"({[}])\")"
   ]
  },
  {
   "cell_type": "code",
   "execution_count": 4,
   "metadata": {},
   "outputs": [
    {
     "data": {
      "text/plain": [
       "'YES'"
      ]
     },
     "execution_count": 4,
     "metadata": {},
     "output_type": "execute_result"
    }
   ],
   "source": [
    "solution(\"({}[(){}])\")"
   ]
  }
 ],
 "metadata": {
  "kernelspec": {
   "display_name": "Python 3",
   "language": "python",
   "name": "python3"
  },
  "language_info": {
   "codemirror_mode": {
    "name": "ipython",
    "version": 3
   },
   "file_extension": ".py",
   "mimetype": "text/x-python",
   "name": "python",
   "nbconvert_exporter": "python",
   "pygments_lexer": "ipython3",
   "version": "3.6.3"
  }
 },
 "nbformat": 4,
 "nbformat_minor": 2
}
