{
 "cells": [
  {
   "cell_type": "markdown",
   "metadata": {},
   "source": [
    "NERD2"
   ]
  },
  {
   "cell_type": "markdown",
   "metadata": {},
   "source": [
    "[algospot의 NERD2 링크](https://algospot.com/judge/problem/read/NERD2)"
   ]
  },
  {
   "cell_type": "markdown",
   "metadata": {},
   "source": [
    "대 성황이었던 지난 알고스팟 연간 모의고사 이후 프로그래밍 대회의 열기는 날로 뜨거워져 올해는 10만명이 넘는 사람들이 참가 신청을 할 것으로 예상되고 있습니다. 그러나 채점관을 할 자원 봉사자는 예년과 똑같이 5명뿐이라, 이 사람들을 대회에 다 참가시킬 수는 없습니다. 따라서 올해에도 참가 신청을 한 사람 중 진정한 프로그래밍 너드들만을 대회에 참가할 수 있도록 받아 주기로 했습니다.\n",
    "\n",
    "종만의 새로운 이론에 따르면, 어떤 사람의 너드 지수는 다음 두 가지 값에 의해 결정됩니다.\n",
    "\n",
    "- 알고스팟 온라인 채점 시스템에서 푼 문제의 수 p  \n",
    "- 밤 새면서 지금까지 끓여먹은 라면 그릇 수 q  \n",
    "  \n",
    "이 이론에 따르면 어떤 참가 신청자 a 의 문제 수 pa 와 그릇 수 qa 를 다른 참가 신청자 b 의 문제 수 pb 와 그릇 수 qb 에 각각 비교했을 때, pa < pb, qa < qb 라면 참가 신청자 a 는 너드일 가능성이 없습니다. 조직위는 너드일 가능성이 있는 사람들만을 대회에 받아주기로 했습니다.\n",
    "\n",
    "한 사람의 참가 가능 여부는 다른 사람들에 의해 결정되기 때문에, 대회에 참가할 수 있는 사람의 수는 새로운 사람이 참가 신청을 할 때마다 계속 바뀝니다. 예를 들어 다음과 같은 4명의 사람들이 순서대로 참가 신청을 했다고 합시다.\n",
    "\n",
    "|참가자|종만\t|재훈|효승|광규|\n",
    "|---|:---:|---:|:---:|---:|\n",
    "|문제 수\t|72\t|57|\t74|\t64|\n",
    "|라면 그릇 수\t|50\t|67\t|55|\t60|   \n",
    "  \n",
    "종만과 재훈이 순서대로 대회 참가 신청을 하면 대회에 참가할 수 있는 사람의 수는 각각 1, 2 로 늘어나지만, 효승이는 문제 수도 라면 그릇 수도 종만보다 많으므로 효승이 참가 신청을 한 시점에서 종만은 더 이상 대회에 참가할 수 없습니다. 따라서 이 네 명이 참가 신청을 할 때마다 참가 가능자의 수는 1, 2, 2, 3으로 변합니다.\n",
    "\n",
    "이렇게 각 사람이 참가 신청을 할 때마다 대회에 참가할 수 있는 사람들의 수가 어떻게 변하는지 계산하는 프로그램을 작성하세요."
   ]
  },
  {
   "cell_type": "markdown",
   "metadata": {},
   "source": [
    "solution함수의  \n",
    "participants : 참가신청자들의 [문제 수, 라면 그릇 수]를 가지는 리스트  \n",
    "  \n",
    "removeDoinated함수의  \n",
    "x : 해당 참가신청자의 문제 수  \n",
    "y : 해당 참가신청자의 라면 그릇 수  \n",
    "noodlePerProblem : 문제 당 라면 그릇수를 지니고 있는 dictionary 객체  \n",
    "ex) noodlePerProblem[72] = 50 (위의 표의 '종만'의 경우 문제 72개, 그릇 50 개 값을 지닌다.)  \n",
    "  \n",
    "isDominated함수의  \n",
    "x : 해당 참가신청자의 문제 수  \n",
    "y : 해당 참가신청자의 라면 그릇 수  \n",
    "noodlePerProblem : 문제 당 라면 그릇수를 지니고 있는 dictionary 객체    "
   ]
  },
  {
   "cell_type": "code",
   "execution_count": 1,
   "metadata": {
    "collapsed": true
   },
   "outputs": [],
   "source": [
    "# 책 안의 풀이에서는 C++의 Map 컨테이너를 이용하였지만\n",
    "# 파이썬에서는 k, v형식의 비슷한 dictionary로 대체해서 풀었다.\n",
    "\n",
    "def removeDominated(x, y, noodlePerProblem):  \n",
    "    dominated = [] # 새로 추가 할 개체에 지배되는 개체들의 문제 수를 저장\n",
    "    for i in noodlePerProblem.keys(): # 현재시점에서 참가자인 개체들의 문제 수들을 순회\n",
    "        if i < x and noodlePerProblem[i] < y: # 만약 (x,y)에 대해 지배 당한 다면\n",
    "            dominated.append(i) # 지배 당하는 리스트에 추가\n",
    "    for i in dominated:\n",
    "        noodlePerProblem.pop(i)\n",
    "        # 그리고 새로 추가될 개체에 대해 지배되는 개체들의 참여권 박탈\n",
    "        \n",
    "def isDominated(x, y, noodlePerProblem):\n",
    "    for i in noodlePerProblem.keys(): # 현재시점에서 참가자인 개체들의 문제 수들을 순회\n",
    "        if i > x and noodlePerProblem[i] > y:  \n",
    "            return True  # 만약 추가하는 개체가 이미 존재하는 침가자들에게 지배당한다면 True\n",
    "    return False # 아니라면 False\n",
    "    \n",
    "def solution(participants):\n",
    "    answer = 0 # 답\n",
    "    noodlePerProblem = {} # 개체들을 저장할 곳 \n",
    "    for i in participants: # 모든 참가신청자들에 대해서 순회\n",
    "        if not isDominated(i[0], i[1], noodlePerProblem): # 만약 다른 참가자에 지배당하지 않는다면\n",
    "            removeDominated(i[0], i[1], noodlePerProblem) \n",
    "            # 참가자 중에 지금 추가할 참가자에 의해 지배당하는 개체들 참여권 박탈\n",
    "            noodlePerProblem[i[0]] = i[1]\n",
    "            # 그리고 참가자를 추가한다.\n",
    "        answer += len(noodlePerProblem) # 그리고 현 시점의 참가자 수를 더해준다.\n",
    "    return answer"
   ]
  },
  {
   "cell_type": "code",
   "execution_count": 2,
   "metadata": {},
   "outputs": [
    {
     "data": {
      "text/plain": [
       "8"
      ]
     },
     "execution_count": 2,
     "metadata": {},
     "output_type": "execute_result"
    }
   ],
   "source": [
    "solution([[72, 50],\n",
    "[57, 67],\n",
    "[74, 55],\n",
    "[64, 60]])"
   ]
  },
  {
   "cell_type": "code",
   "execution_count": 3,
   "metadata": {
    "scrolled": true
   },
   "outputs": [
    {
     "data": {
      "text/plain": [
       "15"
      ]
     },
     "execution_count": 3,
     "metadata": {},
     "output_type": "execute_result"
    }
   ],
   "source": [
    "solution([[1, 5],[2, 4],[3, 3],[4, 2],[5, 1]])"
   ]
  }
 ],
 "metadata": {
  "kernelspec": {
   "display_name": "Python 3",
   "language": "python",
   "name": "python3"
  },
  "language_info": {
   "codemirror_mode": {
    "name": "ipython",
    "version": 3
   },
   "file_extension": ".py",
   "mimetype": "text/x-python",
   "name": "python",
   "nbconvert_exporter": "python",
   "pygments_lexer": "ipython3",
   "version": "3.6.3"
  }
 },
 "nbformat": 4,
 "nbformat_minor": 2
}
