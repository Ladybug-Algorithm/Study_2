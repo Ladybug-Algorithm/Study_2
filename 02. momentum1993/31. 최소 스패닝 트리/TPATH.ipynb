{
 "cells": [
  {
   "cell_type": "markdown",
   "metadata": {},
   "source": [
    "TPATH"
   ]
  },
  {
   "cell_type": "markdown",
   "metadata": {},
   "source": [
    "[algospot의 TPATH 링크](https://algospot.com/judge/problem/read/TPATH)  \n",
    "  \n",
    "### 문제  \n",
    "![](http://algospot.com/media/judge-attachments/0644ef7d68a0223bf7661c4c80fc9022/interface.php.png)  \n",
    "당신은 철도망을 이용해 한 도시에서 다른 도시까지 여행을 하고 싶다. 철도망은 여러 개의 역들과 그들을 잇는 노선으로 구성되어 있다. 각 구간별로 철도의 운행 속도가 정해져 있다.  \n",
    "  \n",
    "당신은 멀미를 심하기 하는 편이라, 철도가 가속과 감속을 반복하면 매우 괴롭다. 따라서, 가능한한 여행 중에는 항상 비슷한 속도로 여행하고 싶어한다. 철도망이 주어질 때, 여행 구간 중 최대 운행 속도와 최소 운행 속도의 차를 최소화하는 경로를 찾는 프로그램을 작성하라.  \n",
    "  \n",
    "시작 철도역은 항상 0번이고, 도착할 철도역은 항상 N-1번이다.  \n",
    "  \n",
    "### 출력  \n",
    "속도 차이의 최소값을 출력한다.  "
   ]
  },
  {
   "cell_type": "markdown",
   "metadata": {},
   "source": [
    "solution의  \n",
    "station_num : 역의 총 개수 $(1 \\leq station\\_num \\leq 2000)$  \n",
    "speeds : (역1, 역2, 역1과 역2 사이 지날 때 철도운행속도)을 지니는 리스트 $(len(speeds) \\leq 4000)$  \n",
    "  \n",
    "속도는 1000 이하의 음이 아닌 정수이다.  "
   ]
  },
  {
   "cell_type": "code",
   "execution_count": 2,
   "metadata": {},
   "outputs": [],
   "source": [
    "def cal_speed_difference(added, speeds, station_num = 0, max_speed = -1, min_speed = 1000):\n",
    "    answer = 1001\n",
    "    if station_num == len(added) - 1: # 만약 제일 끝 노드에 도달했을 경우(도착했을 때)\n",
    "        return abs(max_speed - min_speed) # 속도 차이 반환\n",
    "    for i in speeds:\n",
    "        # 현재 노드에서 다른 노드로 가는 경로가 있을 때\n",
    "        if i[0] == station_num and added[i[1]] == False:\n",
    "            added[i[1]] = True\n",
    "            answer = min(answer, cal_speed_difference(added, speeds, i[1], max(max_speed, i[2]), min(min_speed, i[2])))\n",
    "            # 속도 차이의 최소값 저장\n",
    "            added[i[1]] = False\n",
    "            \n",
    "        elif i[1] == station_num and added[i[0]] == False:\n",
    "            added[i[0]] = True\n",
    "            answer = min(answer, cal_speed_difference(added, speeds, i[0], max(max_speed, i[2]), min(min_speed, i[2])))\n",
    "            added[i[0]] = False\n",
    "    return answer # 답 반환\n",
    "\n",
    "def solution(station_num, speeds):\n",
    "    added = [False for _ in range(station_num)] # 해당 역에 이미 도달 했는지 여부\n",
    "    added[0] = True # 0번 역부터 시작하므로 0번역은 True\n",
    "    return cal_speed_difference(added, speeds) # 속도 차이의 최소값 반환"
   ]
  },
  {
   "cell_type": "code",
   "execution_count": 3,
   "metadata": {},
   "outputs": [],
   "source": [
    "station_num = 2\n",
    "speeds = [(0,1,100)]"
   ]
  },
  {
   "cell_type": "code",
   "execution_count": 4,
   "metadata": {},
   "outputs": [
    {
     "data": {
      "text/plain": [
       "0"
      ]
     },
     "execution_count": 4,
     "metadata": {},
     "output_type": "execute_result"
    }
   ],
   "source": [
    "solution(station_num, speeds)"
   ]
  },
  {
   "cell_type": "code",
   "execution_count": 5,
   "metadata": {},
   "outputs": [],
   "source": [
    "station_num = 4\n",
    "speeds = [(0,1,127),(1,2,14),(2,3,96)]"
   ]
  },
  {
   "cell_type": "code",
   "execution_count": 6,
   "metadata": {},
   "outputs": [
    {
     "data": {
      "text/plain": [
       "113"
      ]
     },
     "execution_count": 6,
     "metadata": {},
     "output_type": "execute_result"
    }
   ],
   "source": [
    "solution(station_num, speeds)"
   ]
  },
  {
   "cell_type": "code",
   "execution_count": 7,
   "metadata": {},
   "outputs": [],
   "source": [
    "station_num = 4\n",
    "speeds = [(0,1,100),(1,3,99),(0,2,17),(2,3,10)]"
   ]
  },
  {
   "cell_type": "code",
   "execution_count": 8,
   "metadata": {},
   "outputs": [
    {
     "data": {
      "text/plain": [
       "1"
      ]
     },
     "execution_count": 8,
     "metadata": {},
     "output_type": "execute_result"
    }
   ],
   "source": [
    "solution(station_num, speeds)"
   ]
  }
 ],
 "metadata": {
  "kernelspec": {
   "display_name": "Python 3",
   "language": "python",
   "name": "python3"
  },
  "language_info": {
   "codemirror_mode": {
    "name": "ipython",
    "version": 3
   },
   "file_extension": ".py",
   "mimetype": "text/x-python",
   "name": "python",
   "nbconvert_exporter": "python",
   "pygments_lexer": "ipython3",
   "version": "3.6.9"
  }
 },
 "nbformat": 4,
 "nbformat_minor": 2
}
