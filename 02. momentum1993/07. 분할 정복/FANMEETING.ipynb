{
 "cells": [
  {
   "cell_type": "markdown",
   "metadata": {},
   "source": [
    "FANMEETING"
   ]
  },
  {
   "cell_type": "markdown",
   "metadata": {},
   "source": [
    "가장 멤버가 많은 아이돌 그룹으로 기네스 북에 올라 있는 혼성 팝 그룹 하이퍼시니어가 데뷔 10주년 기념 팬 미팅을 개최했습니다. 팬 미팅의 한 순서로, 멤버들과 참가한 팬들이 포옹을 하는 행사를 갖기로 했습니다. 하이퍼시니어의 멤버들은 우선 무대에 일렬로 섭니다. 팬 미팅에 참가한 M명의 팬들은 줄을 서서 맨 오른쪽 멤버에서부터 시작해 한 명씩 왼쪽으로 움직이며 멤버들과 하나씩 포옹을 합니다. 모든 팬들은 동시에 한 명씩 움직입니다. 아래 그림은 행사 과정의 일부를 보여줍니다. a~d는 네 명의 하이퍼시니어 멤버들이고, 0~5는 여섯 명의 팬들입니다."
   ]
  },
  {
   "cell_type": "markdown",
   "metadata": {},
   "source": [
    "![](http://algospot.com/media/judge-attachments/bcbb33d48baf27a4347cf09608aece35/Screenshot%20from%202013-01-14%2022%3A31%3A18.png)"
   ]
  },
  {
   "cell_type": "markdown",
   "metadata": {},
   "source": [
    "하지만 하이퍼시니어의 남성 멤버들이 남성 팬과 포옹하기가 민망하다고 여겨서, 남성 팬과는 포옹 대신 악수를 하기로 했습니다. 줄을 선 멤버들과 팬들의 성별이 각각 주어질 때 팬 미팅이 진행되는 과정에서 하이퍼시니어의 모든 멤버가 동시에 포옹을 하는 일이 몇 번이나 있는지 계산하는 프로그램을 작성하세요."
   ]
  },
  {
   "cell_type": "markdown",
   "metadata": {},
   "source": [
    "[algospot의 FANMEETING 링크](https://algospot.com/judge/problem/read/FANMEETING)"
   ]
  },
  {
   "cell_type": "markdown",
   "metadata": {},
   "source": [
    "solution의  \n",
    "members : 해당 아이돌 그룹의 멤버 성별 리스트  \n",
    "fans : 팬들의 성별 리스트  "
   ]
  },
  {
   "cell_type": "code",
   "execution_count": 1,
   "metadata": {},
   "outputs": [],
   "source": [
    "def solution(members, fans):\n",
    "    answer = 0 # 답의 개수 저장할 변수\n",
    "    answer_list = [0 for _ in range(len(fans) + len(members) - 1)] # 위 그림과 같은 경우의 수들 중에 M,M 쌍이 있을 경우 1, 없을 경우 0\n",
    "    count = [ 0 for _ in range(len(fans) + len(members) - 1)] # 각 상황 별 팬과 멤버의 만남의 수(매칭되는 팬이 없는 멤버가 최소 1명인 경우 배제 위해)\n",
    "    \n",
    "    for i in range(len(members)):\n",
    "        members[i] = 1 if members[i] == 'M' else 0\n",
    "    for i in range(len(fans)):\n",
    "        fans[i] = 1 if fans[i] == 'M' else 0\n",
    "    # 팬과 멤버들의 리스트에서 남자는 1, 여자는 0으로 표시\n",
    "    \n",
    "    index_j = len(fans) - 1 # 인덱스를 줄 때 쓸 것이다.\n",
    "    \n",
    "    # 카라츠바 알고리즘 적용전에\n",
    "    # 먼저 팬들에 대해서는 거꾸로 인덱스를 매기려 한다 ex) a = [1, 2, 3, 4, 5]  =>  a[0] = 5, a[1] = 2, ... , a[4] = 1\n",
    "    for i in range(len(members)):\n",
    "        for j in range(len(fans)):\n",
    "            if members[i]*fans[index_j-j] == 1 and answer_list[i+j] == 0: # 만약 포옹하는 팬과 멤버가 모두 남자일 경우\n",
    "                answer_list[i+j] = 1 # 상황에 대해서 1을 표시해준다.\n",
    "            count[i+j] += 1 # 그리고 각 상황별 팬과 멤버의 만남의 수를 1 증가시킨다.\n",
    "\n",
    "    for i in range(len(count)):\n",
    "        if count[i] == min(len(members), len(fans)) and answer_list[i] == 0: # 만약 멤버들이 팬과 모두 매칭된 상태에서 M,M 쌍이 없을 경우\n",
    "            answer += 1 # 답을 증가시킨다.\n",
    "    return answer"
   ]
  },
  {
   "cell_type": "code",
   "execution_count": 2,
   "metadata": {
    "collapsed": true
   },
   "outputs": [],
   "source": [
    "members = ['F','F','F','F','M']\n",
    "fans = ['F','F','F','F','F','M','M','M','M','F']"
   ]
  },
  {
   "cell_type": "code",
   "execution_count": 3,
   "metadata": {},
   "outputs": [
    {
     "data": {
      "text/plain": [
       "2"
      ]
     },
     "execution_count": 3,
     "metadata": {},
     "output_type": "execute_result"
    }
   ],
   "source": [
    "solution(members, fans)"
   ]
  },
  {
   "cell_type": "markdown",
   "metadata": {},
   "source": [
    "책에서는 재귀함수로 구현했는데 책부분 참고하여 재귀함수로 다시 표현해볼것."
   ]
  }
 ],
 "metadata": {
  "kernelspec": {
   "display_name": "Python 3",
   "language": "python",
   "name": "python3"
  },
  "language_info": {
   "codemirror_mode": {
    "name": "ipython",
    "version": 3
   },
   "file_extension": ".py",
   "mimetype": "text/x-python",
   "name": "python",
   "nbconvert_exporter": "python",
   "pygments_lexer": "ipython3",
   "version": "3.6.3"
  }
 },
 "nbformat": 4,
 "nbformat_minor": 2
}
