{
 "cells": [
  {
   "cell_type": "markdown",
   "metadata": {},
   "source": [
    "FENCE"
   ]
  },
  {
   "cell_type": "markdown",
   "metadata": {},
   "source": [
    "너비가 같은 N개의 나무 판자를 붙여 세운 울타리가 있습니다. 시간이 지남에 따라 판자들이 부러지거나 망가져 높이가 다 달라진 관계로 울타리를 통째로 교체하기로 했습니다. 이 때 버리는 울타리의 일부를 직사각형으로 잘라내 재활용하고 싶습니다. 그림 (b)는 (a)의 울타리에서 잘라낼 수 있는 많은 직사각형 중 가장 넓은 직사각형을 보여줍니다. 울타리를 구성하는 각 판자의 높이가 주어질 때, 잘라낼 수 있는 직사각형의 최대 크기를 계산하는 프로그램을 작성하세요. 단 (c)처럼 직사각형을 비스듬히 잘라낼 수는 없습니다.\n",
    "\n",
    "판자의 너비는 모두 1이라고 가정합니다."
   ]
  },
  {
   "cell_type": "markdown",
   "metadata": {},
   "source": [
    "![](http://algospot.com/media/judge-attachments/506874700c7251881727ee4e70a1d502/fence.png)"
   ]
  },
  {
   "cell_type": "markdown",
   "metadata": {},
   "source": [
    "[algospot의 FENCE 링크](https://algospot.com/judge/problem/read/FENCE)"
   ]
  },
  {
   "cell_type": "markdown",
   "metadata": {},
   "source": [
    "solution의  \n",
    "h : 각 판자의 높이가 포함된 리스트  \n",
    "left : 확인할 판자 중에 가장 왼쪽에 있는 판자의 번호  \n",
    "right : 확인할 판자 중에 가장 오른쪽에 있는 판자의 번호  "
   ]
  },
  {
   "cell_type": "code",
   "execution_count": 9,
   "metadata": {},
   "outputs": [],
   "source": [
    "def solve(h, left, right):\n",
    "    if left == right: return h[left]  # basecase1: 판자가 하나밖에 없을 경우 해당 판자 너비 출력\n",
    "    mid = (left+right) // 2 # divide하기 위해 중간값 얻어옴.\n",
    "    answer = max(solve(h, left, mid), solve(h, mid+1, right)) # 이등분되어 구한 값 중 최대값 갖고옴.\n",
    "    \n",
    "    lo, hi = mid, mid+1 # 만약 경계를 포함한 너비가 최대값일 경우를 확인하기 위해\n",
    "    height = min(lo, hi) # 직사각형의 높이\n",
    "    # 경계를 포함한 직사각형의 너비 확인\n",
    "    while(left < lo or right > hi): #확인하는 판자의 범위가 좌우측 경계를 넘어가지 않을 때까지\n",
    "        if right > hi and (left == lo or h[lo-1] < h[hi+1]) # 우측 판자의 높이가 높을 때\n",
    "            hi += 1\n",
    "            height = min(height, h[hi])\n",
    "        else: # 좌측 판자의 높이가 높을 때\n",
    "            lo -= 1\n",
    "            height = min(height, h[lo])\n",
    "        answer = max(answer, height * (hi-lo+1)) # 확장된 범위에서 최대 직사각형 구한다.\n",
    "    return answer\n",
    "\n",
    "\n",
    "def solution(h):\n",
    "    return solve(h, 0, len(h)-1)"
   ]
  },
  {
   "cell_type": "code",
   "execution_count": 10,
   "metadata": {
    "collapsed": true
   },
   "outputs": [],
   "source": [
    "h = [7, 1, 5, 9, 6, 7, 3]"
   ]
  },
  {
   "cell_type": "code",
   "execution_count": 11,
   "metadata": {
    "scrolled": true
   },
   "outputs": [
    {
     "data": {
      "text/plain": [
       "15"
      ]
     },
     "execution_count": 11,
     "metadata": {},
     "output_type": "execute_result"
    }
   ],
   "source": [
    "solution(h)"
   ]
  }
 ],
 "metadata": {
  "kernelspec": {
   "display_name": "Python 3",
   "language": "python",
   "name": "python3"
  },
  "language_info": {
   "codemirror_mode": {
    "name": "ipython",
    "version": 3
   },
   "file_extension": ".py",
   "mimetype": "text/x-python",
   "name": "python",
   "nbconvert_exporter": "python",
   "pygments_lexer": "ipython3",
   "version": "3.6.3"
  }
 },
 "nbformat": 4,
 "nbformat_minor": 2
}
