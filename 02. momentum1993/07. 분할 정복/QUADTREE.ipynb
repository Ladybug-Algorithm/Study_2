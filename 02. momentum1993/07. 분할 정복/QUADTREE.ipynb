{
 "cells": [
  {
   "cell_type": "markdown",
   "metadata": {},
   "source": [
    "QUADTREE"
   ]
  },
  {
   "cell_type": "markdown",
   "metadata": {},
   "source": [
    "![](http://algospot.com/media/judge-attachments/0cafdb9ffa8ace4fb8315949d25d2fb3/quadtree.png)"
   ]
  },
  {
   "cell_type": "markdown",
   "metadata": {},
   "source": [
    "대량의 좌표 데이터를 메모리 안에 압축해 저장하기 위해 사용하는 여러 기법 중 쿼드 트리(quad tree)란 것이 있습니다. 주어진 공간을 항상 4개로 분할해 재귀적으로 표현하기 때문에 쿼드 트리라는 이름이 붙었는데, 이의 유명한 사용처 중 하나는 검은 색과 흰 색밖에 없는 흑백 그림을 압축해 표현하는 것입니다. 쿼드 트리는 2N × 2N 크기의 흑백 그림을 다음과 같은 과정을 거쳐 문자열로 압축합니다.\n",
    "\n",
    "이 그림의 모든 픽셀이 검은 색일 경우 이 그림의 쿼드 트리 압축 결과는 그림의 크기에 관계없이 b가 됩니다.\n",
    "이 그림의 모든 픽셀이 흰 색일 경우 이 그림의 쿼드 트리 압축 결과는 그림의 크기에 관계없이 w가 됩니다.\n",
    "모든 픽셀이 같은 색이 아니라면, 쿼드 트리는 이 그림을 가로 세로로 각각 2등분해 4개의 조각으로 쪼갠 뒤 각각을 쿼드 트리 압축합니다. 이때 전체 그림의 압축 결과는 x(왼쪽 위 부분의 압축 결과)(오른쪽 위 부분의 압축 결과)(왼쪽 아래 부분의 압축 결과)(오른쪽 아래 부분의 압축 결과)가 됩니다. 예를 들어 그림 (a)의 왼쪽 위 4분면은 xwwwb로 압축됩니다.\n",
    "그림 (a)와 그림 (b)는 16×16 크기의 예제 그림을 쿼드 트리가 어떻게 분할해 압축하는지를 보여줍니다. 이때 전체 그림의 압축 결과는 xxwww bxwxw bbbww xxxww bbbww wwbb가 됩니다.\n",
    "\n",
    "쿼드 트리로 압축된 흑백 그림이 주어졌을 때, 이 그림을 상하로 뒤집은 그림 을 쿼드 트리 압축해서 출력하는 프로그램을 작성하세요."
   ]
  },
  {
   "cell_type": "markdown",
   "metadata": {},
   "source": [
    "[algospot의 QUADTREE 링크](https://algospot.com/judge/problem/read/QUADTREE)"
   ]
  },
  {
   "cell_type": "markdown",
   "metadata": {},
   "source": [
    "solution의  \n",
    "picture : 쿼드 트리 압축 흑백 그림"
   ]
  },
  {
   "cell_type": "code",
   "execution_count": 1,
   "metadata": {},
   "outputs": [],
   "source": [
    "def solution(picture):\n",
    "    answer = '' # 답\n",
    "    upward = '' # 4등분 되었을 때 위쪽에 있는 2개 구역의 코드를 저장할 곳\n",
    "    downward = '' # 4등분 되었을 때 아래쪽에 있는 2개 구역의 코드를 저장할 곳\n",
    "    set_num = 0 # 4등분된 구역 중 압축 완료된 구역의 수\n",
    "    i = 0\n",
    "    while(len(picture) > i and set_num < 4): # 모든 코드를 보거나 4등분된 구역이 압축 되었다면 벗어남\n",
    "        if picture[i] == 'w' or picture[i] == 'b': # 만약 현재 코드가 w나 b일 때\n",
    "            if set_num < 2: # 위쪽의 2개 구역의 코드를 아래쪽으로 보낸다.\n",
    "                downward += picture[i]\n",
    "            else: # 아래쪽의 2개 구역의 코드를 위쪽으로 보낸다.\n",
    "                upward += picture[i]\n",
    "            i += 1\n",
    "        else: # 현재 코드가 x일 경우\n",
    "            i += 1\n",
    "            x = solution(picture[i:]) # 해당 구역에서 또 4등분된 구역에 대해서 재귀\n",
    "            if set_num < 2: # 위쪽의 2개 구역의 코드를 아래쪽으로 보낸다.\n",
    "                downward += 'x' + x\n",
    "            else: # 아래쪽의 2개 구역의 코드를 위쪽으로 보낸다.\n",
    "                upward +=  'x' + x\n",
    "            i += len(x)\n",
    "        set_num += 1\n",
    "    answer += upward + downward # 위 아래 구역을 뒤바꾼 코드\n",
    "    return answer "
   ]
  },
  {
   "cell_type": "code",
   "execution_count": 2,
   "metadata": {
    "scrolled": false
   },
   "outputs": [
    {
     "data": {
      "text/plain": [
       "'xxwbxwwxbbwwbwbxwbwwxwwwxbbwb'"
      ]
     },
     "execution_count": 2,
     "metadata": {},
     "output_type": "execute_result"
    }
   ],
   "source": [
    "solution('xxwwwbxwxwbbbwwxxxwwbbbwwwwbb')"
   ]
  }
 ],
 "metadata": {
  "kernelspec": {
   "display_name": "Python 3",
   "language": "python",
   "name": "python3"
  },
  "language_info": {
   "codemirror_mode": {
    "name": "ipython",
    "version": 3
   },
   "file_extension": ".py",
   "mimetype": "text/x-python",
   "name": "python",
   "nbconvert_exporter": "python",
   "pygments_lexer": "ipython3",
   "version": "3.6.3"
  }
 },
 "nbformat": 4,
 "nbformat_minor": 2
}
