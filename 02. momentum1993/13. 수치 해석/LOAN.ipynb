{
 "cells": [
  {
   "cell_type": "markdown",
   "metadata": {},
   "source": [
    "LOAN"
   ]
  },
  {
   "cell_type": "markdown",
   "metadata": {},
   "source": [
    "[algospot의 LOAN 링크](https://algospot.com/judge/problem/read/LOAN)  \n",
    "  \n",
    "### 문제  \n",
    "집을 떠나 혼자 살게 된 재훈이는 회사 근처의 전세집을 알아보고 있습니다. 전세금은 N원인데, 재훈이는 이것을 연이율 P%로 대출받을 수 있습니다. 재훈이는 M개월 동안 매달 일정액 C원씩을 갚으려고 합니다.  \n",
    "  \n",
    "대출의 잔금은 대출 기간 동안 다음과 같이 변화합니다.  \n",
    "  \n",
    "ᆞ대출의 잔금은 대출 금액 N원에서 시작합니다.  \n",
    "ᆞ한 달이 지날 때마다 대출 잔금이 월 이자 (P/12)% 만큼 불어납니다.  \n",
    "ᆞ이자가 추가된 다음 월 상환액 C를 대출 잔금에서 제합니다.  \n",
    "M개월 걸려 모든 대출 금액을 갚기 위해서는 한 달에 최소 얼마씩을 갚아야 할까요?   \n",
    "  \n",
    "### 출력   \n",
    "한 줄에 한 달마다 상환할 금액 C를 출력합니다.$10^{-7}$ 이하의 절대/상대 오차가 있는 답은 정답으로 인정됩니다.  "
   ]
  },
  {
   "cell_type": "markdown",
   "metadata": {},
   "source": [
    "solution의  \n",
    "N : 대출 잔금 $(1 \\leq N \\leq 100000000)$  \n",
    "M : 대출금을 갚아야 하는 M개월 $(1 \\leq M \\leq 120)$  \n",
    "P : 연이율(%) $(0 < P \\leq 50)$  "
   ]
  },
  {
   "cell_type": "code",
   "execution_count": 1,
   "metadata": {},
   "outputs": [],
   "source": [
    "def repayment_balance(N, M, P, C):\n",
    "    answer = N\n",
    "    for i in range(M):\n",
    "        answer -= C # 상환금 C를 뺀다.\n",
    "        answer *= ((P / 100) / 12) + 1 # (P/12)%만큼의 이자가 붙는다.\n",
    "    # C만큼의 금액을 M개월동안 상환 후 잔금\n",
    "    return answer\n",
    "\n",
    "def solution(N, M, P):\n",
    "    lo = 0 # 갚아야할 금액 최소\n",
    "    hi = N * (((P / 100) / 12) + 1) # 갚아야할 금액 최대\n",
    "    for i in range(100):\n",
    "        C = (lo + hi) / 2 # 이분법\n",
    "        # 만약 월 상환액 C만큼 갚았을 때\n",
    "        if repayment_balance(N, M, P, C) > 0: # 잔액이 생긴다면 \n",
    "            lo = C # 월 상환 최소 금액을 C로 갱신\n",
    "        else: # 잔액이 없다면\n",
    "            hi = C # 월 상환 최대 금액을 C로 갱신\n",
    "    return hi"
   ]
  },
  {
   "cell_type": "code",
   "execution_count": 2,
   "metadata": {},
   "outputs": [],
   "source": [
    "N = 20000000 \n",
    "M = 12\n",
    "P = 6.8"
   ]
  },
  {
   "cell_type": "code",
   "execution_count": 3,
   "metadata": {},
   "outputs": [
    {
     "data": {
      "text/plain": [
       "1718950.7477333837"
      ]
     },
     "execution_count": 3,
     "metadata": {},
     "output_type": "execute_result"
    }
   ],
   "source": [
    "solution(N, M, P)"
   ]
  },
  {
   "cell_type": "code",
   "execution_count": 4,
   "metadata": {},
   "outputs": [],
   "source": [
    "N = 35000000\n",
    "M = 120\n",
    "P = 1.1"
   ]
  },
  {
   "cell_type": "code",
   "execution_count": 5,
   "metadata": {},
   "outputs": [
    {
     "data": {
      "text/plain": [
       "307853.69755095063"
      ]
     },
     "execution_count": 5,
     "metadata": {},
     "output_type": "execute_result"
    }
   ],
   "source": [
    "solution(N, M, P)"
   ]
  },
  {
   "cell_type": "code",
   "execution_count": 6,
   "metadata": {},
   "outputs": [],
   "source": [
    "N = 40000000 \n",
    "M =  36\n",
    "P = 0.5"
   ]
  },
  {
   "cell_type": "code",
   "execution_count": 7,
   "metadata": {},
   "outputs": [
    {
     "data": {
      "text/plain": [
       "1119230.3927733693"
      ]
     },
     "execution_count": 7,
     "metadata": {},
     "output_type": "execute_result"
    }
   ],
   "source": [
    "solution(N, M, P)"
   ]
  },
  {
   "cell_type": "code",
   "execution_count": 8,
   "metadata": {},
   "outputs": [],
   "source": [
    "N = 100\n",
    "M = 120\n",
    "P = 0.1"
   ]
  },
  {
   "cell_type": "code",
   "execution_count": 9,
   "metadata": {},
   "outputs": [
    {
     "data": {
      "text/plain": [
       "0.8374718765604819"
      ]
     },
     "execution_count": 9,
     "metadata": {},
     "output_type": "execute_result"
    }
   ],
   "source": [
    "solution(N, M, P)"
   ]
  }
 ],
 "metadata": {
  "kernelspec": {
   "display_name": "Python 3",
   "language": "python",
   "name": "python3"
  },
  "language_info": {
   "codemirror_mode": {
    "name": "ipython",
    "version": 3
   },
   "file_extension": ".py",
   "mimetype": "text/x-python",
   "name": "python",
   "nbconvert_exporter": "python",
   "pygments_lexer": "ipython3",
   "version": "3.6.9"
  }
 },
 "nbformat": 4,
 "nbformat_minor": 2
}
