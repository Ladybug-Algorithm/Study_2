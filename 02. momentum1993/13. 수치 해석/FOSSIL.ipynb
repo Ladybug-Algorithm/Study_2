{
 "cells": [
  {
   "cell_type": "markdown",
   "metadata": {},
   "source": [
    "FOSSIL"
   ]
  },
  {
   "cell_type": "markdown",
   "metadata": {},
   "source": [
    "[algospot의 FOSSIL 링크](https://algospot.com/judge/problem/read/FOSSIL)  \n",
    "  \n",
    "### 문제  \n",
    "봄마다 비염 환자들을 괴롭히는 꽃가루는 종종 과거의 기후 변화를 추적하는 데 유용하게 사용됩니다. 퇴적층에서 발견되는 꽃가루 화석을 통해 각 지방의 기후가 어땠는지 확인할 수 있기 때문입니다. 아마추어 고생물학자인 후연이는 서로 다른 환경에서 자라는 두 종류의 꽃 A 와 B 에 대해 각각의 꽃가루가 발견된 위치들을 지도상에 다음 그림과 같이 표시해 보았습니다.  \n",
    "![](http://algospot.com/media/judge-attachments/a5b134f99d042cbb8a09ea35ee8cb709/hulls-cv.png)  \n",
    "  \n",
    "이 지도에서는 y 좌표가 증가하는 방향이 북쪽, x 좌표가 증가하는 방향이 동쪽입니다. 후연이는 각 꽃의 서식지를 예측하기 위해, 해당 화석이 발견된 위치들을 감싸는 최소의 볼록 다각형을 위 그림에 표시된 것과 같이 구했습니다. 이 다각형들을 볼록 껍질(convex hull) 이라고 부릅니다.  \n",
    "  \n",
    "후연이는 이 두 개의 볼록 껍질이 서로 겹치는 부분은 과거에 온도 변화가 심했을 것이라는 가설을 세웠습니다. 이 부분이 얼마나 넓은지 확인하기 위해 이 겹치는 부분 중 남북 방향 폭이 가장 넓은 위치를 찾고자 합니다. 예를 들어 위 그림에서는 점선으로 표현된 곳에서 남북 방향의 폭이 가장 넓습니다.  \n",
    "  \n",
    "두 개의 볼록 껍질이 주어질 때 겹치는 부분의 남북 최대 폭을 계산하는 프로그램을 작성하세요.  \n",
    "  \n",
    "### 출력  \n",
    "한 줄에, 두 볼록 껍질이 겹치는 부분의 남북 최대 폭을 출력합니다. 만약 두 볼록 껍질이 겹치지 않을 경우 0 을 출력합니다. 정답과 $10^{-7}$ 이하의 절대/상대 오차를 갖는 답은 정답으로 인정됩니다.  "
   ]
  },
  {
   "cell_type": "markdown",
   "metadata": {},
   "source": [
    "solution의  \n",
    "n_list: 볼록 껍질 1에 속하는 점의 좌표 (x,y)를 지니는 리스트 $(0 \\leq x, y \\leq 100)$  \n",
    "m_list: 볼록 껍질 2에 속하는 점의 좌표 (x,y)를 지니는 리스트 $(0 \\leq x,y \\leq 100)$  "
   ]
  },
  {
   "cell_type": "code",
   "execution_count": 1,
   "metadata": {},
   "outputs": [],
   "source": [
    "def cal_func(first, second): \n",
    "    # y = ax + b 형태의 함수에서 a, b와 x값의 범위를 반환해주는 함수\n",
    "    f_x, f_y = first # (x_1, y_1)\n",
    "    s_x, s_y = second # (x_2, y_2)\n",
    "    if f_x > s_x:\n",
    "        start_x = s_x\n",
    "        end_x = f_x\n",
    "        a = (f_y - s_y) / (f_x - s_x)\n",
    "    else:\n",
    "        start_x = f_x\n",
    "        end_x = s_x\n",
    "        a = (s_y - f_y) / (s_x - f_x)\n",
    "    # a는 기울기\n",
    "    b = f_y - (a * f_x)\n",
    "    # b는 y절편\n",
    "    return (a, b), start_x, end_x \n",
    "\n",
    "def is_overlap(first_func, second_func, x_1, x_2): # 해당 1차 함수 직선이 겹치는지 확인해주는 함수\n",
    "    if x_2 < x_1: # 겹치지 않는 경우 \n",
    "        return -1 # -1 반환\n",
    "    \n",
    "    f_a, f_b = first_func\n",
    "    s_a, s_b = second_func\n",
    "    #f_a * x + f_b = s_a * x + s_b\n",
    "    #(f_a - s_a) * x = s_b - f_b\n",
    "    \n",
    "    location_x = (s_b - f_b) / (f_a - s_a)\n",
    "\n",
    "    if x_1 <= location_x <= x_2: # 겹치는 x가 직선의 x범위에 포함할 때\n",
    "        return location_x # 해당 포개어지는 x좌표 반환\n",
    "    else: # 그렇지 않을 경우\n",
    "        return -1 # -1 반환\n",
    "    \n",
    "def cal_length(n, m, x, flag): # 볼록껍질이 겹치는 부분의 위아래 길이를 반환해주는 함수\n",
    "    if flag: # 볼록껍질 n이 볼록껍질 m보다 밑에 있을 경우\n",
    "        concave, convex = m, n\n",
    "    else: # 볼록껍질 m이 볼록껍질 n보다 밑에 있을 경우\n",
    "        concave, convex = n, m\n",
    "    min_y = 100\n",
    "    max_y = 0\n",
    "    # 볼록껍질이 겹치는 부분을 서로 껍질이 만나는 2점을 기준으로 나눈다면\n",
    "    # 오목함수, 볼록함수의 형태를 띈 윗껍질 아랫껍질로 나누어진다.\n",
    "    for i in concave: # 오목함수(윗껍질)\n",
    "        a, b = i \n",
    "        min_y = min(min_y, a*x+b)\n",
    "        # 윗껍질을 이루는 직선함수들의 값 중 최솟값이 윗껍질을 구성하는 값이 된다.\n",
    "    for j in convex: # 볼록함수(아랫껍질)\n",
    "        a, b = j \n",
    "        max_y = max(max_y, a*x+b)\n",
    "        # 아랫껍질을 이루는 직선함수들의 값 중 최대값이 아랫껍질을 구성하는 값이 된다.\n",
    "    return min_y - max_y # 겹치는 부분의 위아래 길이\n",
    "\n",
    "def is_first_convex(first, second, x): # 첫번째로 주어지는 함수가 윗껍질을 구성하는지\n",
    "    f_a, f_b = first\n",
    "    s_a, s_b = second\n",
    "    if f_a * x + f_b > s_a * x + s_b: # 만약 첫번째 함수가 윗껍질을 구성한다면\n",
    "        return False\n",
    "    else: # 첫번째 함수가 아랫껍질을 구성한다면\n",
    "        return True\n",
    "    \n",
    "def solution(n_list, m_list):\n",
    "    range_x = [] # 볼록껍질 n과 m의 교차점을 저장할 리스트\n",
    "    n_funcs = [] # 볼록껍질 n에서 겹치는 부분을 구성할 직선 함수\n",
    "    m_funcs = [] # 볼록껍질 m에서 겹치는 부분을 구성할 직선 함수\n",
    "\n",
    "    for i in range(len(n_list)):\n",
    "        n_func, start_n, end_n = cal_func(n_list[i-1], n_list[i])\n",
    "        # 볼록껍질 n에서 i-1, i번째 점을 잇는 직선함수\n",
    "        for j in range(len(m_list)):\n",
    "            m_func, start_m, end_m = cal_func(m_list[j-1], m_list[j])\n",
    "            # 볼록껍질 m에서 j-1, j번째 점을 잇는 직선함수\n",
    "            x = is_overlap(n_func, m_func, max(start_n, start_m), min(end_n, end_m))\n",
    "            # 위의 두 직선함수 간에 겹치는 점의 x좌표\n",
    "            if x != -1: # 만약 위의 두 직선함수가 겹친다면\n",
    "                range_x.append(x) # 겹치는 점의 x좌표 저장\n",
    "                n_funcs.append(n_func) \n",
    "                m_funcs.append(m_func)\n",
    "                # 겹치는 직선좌표들 저장\n",
    "    if len(range_x) != 2:\n",
    "        return 0 # 만약 겹치는 부분이 없다면 0 반환\n",
    "    lo = min(range_x)\n",
    "    hi = max(range_x)\n",
    "    flag = is_first_convex(n_funcs[0], m_funcs[0], (lo+hi)/2)\n",
    "    # 볼록껍질 n, m 중에 위에 위치하는 볼록껍질이 무엇인지 확인하려는 플래그\n",
    "    for _ in range(100): \n",
    "        # 겹치는 부분의 x좌표에 대해서 3분법으로 진행\n",
    "        one_thirds = (2*lo + hi) / 3 # 1/3지점\n",
    "        two_thirds = (lo + 2*hi) / 3 # 2/3지점\n",
    "        if cal_length(n_funcs, m_funcs, one_thirds, flag) > cal_length(n_funcs, m_funcs, two_thirds, flag):\n",
    "        # 만약 1/3 지점의 겹치는 부분이 더 길다면\n",
    "            hi = two_thirds\n",
    "        else:\n",
    "        # 만약 2/3 지점의 겹치는 부분이 더 길다면\n",
    "            lo = one_thirds\n",
    "    # 3분법 진행 후 답 반환\n",
    "    return cal_length(n_funcs, m_funcs, (hi+lo)/2, flag)\n",
    "        \n",
    "        \n",
    "    "
   ]
  },
  {
   "cell_type": "code",
   "execution_count": 2,
   "metadata": {},
   "outputs": [],
   "source": [
    "n_list = [(35.74, 35.85), (69.64, 50.00), (73.52, 82.55), (43.50, 92.22), (17.67, 76.18)]\n",
    "m_list = [(16.47, 8.02), (60.98, 14.62), (66.80, 37.74), (45.89, 67.22), (13.04, 55.19)]"
   ]
  },
  {
   "cell_type": "code",
   "execution_count": 3,
   "metadata": {},
   "outputs": [
    {
     "data": {
      "text/plain": [
       "27.652968036529664"
      ]
     },
     "execution_count": 3,
     "metadata": {},
     "output_type": "execute_result"
    }
   ],
   "source": [
    "solution(n_list, m_list)"
   ]
  },
  {
   "cell_type": "code",
   "execution_count": 4,
   "metadata": {},
   "outputs": [],
   "source": [
    "n_list = [(73.84, 11.41), (71.61, 32.72), (39.87, 38.84), (22.41, 17.87)]\n",
    "m_list = [(75.13, 51.64), (47.72, 87.34), (15.97, 64.56)]"
   ]
  },
  {
   "cell_type": "code",
   "execution_count": 5,
   "metadata": {},
   "outputs": [
    {
     "data": {
      "text/plain": [
       "0"
      ]
     },
     "execution_count": 5,
     "metadata": {},
     "output_type": "execute_result"
    }
   ],
   "source": [
    "solution(n_list, m_list)"
   ]
  }
 ],
 "metadata": {
  "kernelspec": {
   "display_name": "Python 3",
   "language": "python",
   "name": "python3"
  },
  "language_info": {
   "codemirror_mode": {
    "name": "ipython",
    "version": 3
   },
   "file_extension": ".py",
   "mimetype": "text/x-python",
   "name": "python",
   "nbconvert_exporter": "python",
   "pygments_lexer": "ipython3",
   "version": "3.6.9"
  }
 },
 "nbformat": 4,
 "nbformat_minor": 2
}
