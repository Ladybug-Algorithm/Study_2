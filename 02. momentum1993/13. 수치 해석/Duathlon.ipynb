{
 "cells": [
  {
   "cell_type": "markdown",
   "metadata": {},
   "source": [
    "Duathlon"
   ]
  },
  {
   "cell_type": "markdown",
   "metadata": {},
   "source": [
    "[Uva online judge Duathlon 링크](https://onlinejudge.org/index.php?option=onlinejudge&page=show_problem&problem=1326)  \n",
    "  \n",
    "### 문제  \n",
    "달리기와 자전거로 총 t(= r+k) 킬로미터를 달리는 철인 2종 경기를 개최합니다. 0번부터 n-1번까지 모두 n명의 참가자가 등록했으며, 각 참가자의 달리기 속도와 자전거 속도가 주어집니다. 그런데 n-1번 참가자가 주최측에 뇌물을 건네며 자신이 승리할 수 있도록 달리기와 자전거 경주의 길이를 조정해 달라고 요청했습니다. 이 참가자가 2등과 가장 큰 차이로 우승하려면 달리기 경주의 길이 r과 자전거 경주의 길이 k을 어떻게 정해야 할까요?  \n",
    "  \n",
    "### 출력  \n",
    "이길 수 있을 경우 경기시간, r, k를 출력하고,  \n",
    "불가능할 경우 -1을 출력한다.  "
   ]
  },
  {
   "cell_type": "markdown",
   "metadata": {},
   "source": [
    "solution의  \n",
    "t : 철인 2종 경기의 총 km 수 $(1 \\leq t \\leq 100)$  \n",
    "n : 철인 2종 경기의 참가자 수 $(1 \\leq n \\leq 20)$  \n",
    "contestants : [달리기 스피드, 자전거 스피드]를 지니는 리스트"
   ]
  },
  {
   "cell_type": "code",
   "execution_count": 1,
   "metadata": {},
   "outputs": [],
   "source": [
    "import sys\n",
    "\n",
    "def calculate_margin(t, contestants, r): # 2등과 cheater간의 도착시간 차이 구하는 함수\n",
    "    cheater_time = (r/contestants[-1][0] + (t-r)/contestants[-1][1]) * 3600 # cheater 도착시간\n",
    "    second_time = sys.maxsize # 다른 경쟁자들의 도착시간\n",
    "    for i in range(len(contestants)-1):\n",
    "        second_time = min(second_time, (r/contestants[i][0] + (t-r)/contestants[i][1])*3600)\n",
    "        # cheater를 제외한 경쟁자들 중에서 가장 빠른 경쟁자의 도착시간\n",
    "    return second_time - cheater_time # 2등과 cheater간의 도착시간 차이\n",
    "\n",
    "def solution(t, n, contestants):\n",
    "    # 달리기 거리 r에 대해서 3분 검색을 진행했다.\n",
    "    lo = 1 # 최소 달리기 거리 \n",
    "    hi = t # 최대 달리기 거리\n",
    "    for i in range(100):\n",
    "        # 거리 r에 대해 3분할함\n",
    "        one_thirds = (2*lo + hi)/3 # 현재 탐색 구간의 1/3 구간\n",
    "        two_thirds = (lo + 2*hi)/3 # 현재 탐색 구간의 2/3 구간\n",
    "        if calculate_margin(t, contestants, one_thirds) > calculate_margin(t, contestants, two_thirds):\n",
    "        # r에 대해서 1/3구간과 2/3구간의 도착시간 차이를 구한 다음\n",
    "        # margin이 적은 쪽의 1/3 구간을 버린다.\n",
    "            hi = two_thirds # 탐색구간의 [2/3, 1] 구간을 버린다.\n",
    "        else:\n",
    "            lo = one_thirds # 탐색구간의 [0, 1/3] 구간을 버린다.\n",
    "    r = (lo + hi) / 2 # 3분 검색 진행 후 마지막에 나온 달리기 거리 r\n",
    "    k = t - r # 사이클 거리 k\n",
    "    time = calculate_margin(t, contestants, r) # 해당 r, k에 대해서 나오는 마진\n",
    "    if time < 0: # 만약 cheater가 이길 수 없는 경우\n",
    "        return \"The cheater cannot win.\"\n",
    "    # 이길 수 있다면 margin, r, k에 대해서 출력\n",
    "    return \"The cheater can win by {} seconds with r = {}km and k = {}km.\".format(int(time), round(r,2), round(k,2))"
   ]
  },
  {
   "cell_type": "code",
   "execution_count": 2,
   "metadata": {},
   "outputs": [],
   "source": [
    "t = 100\n",
    "n = 3\n",
    "contestants = [[10.0, 40.0],\n",
    "               [20.0, 30.0],\n",
    "               [15.0, 35.0]]"
   ]
  },
  {
   "cell_type": "code",
   "execution_count": 3,
   "metadata": {},
   "outputs": [
    {
     "data": {
      "text/plain": [
       "'The cheater can win by 612 seconds with r = 14.29km and k = 85.71km.'"
      ]
     },
     "execution_count": 3,
     "metadata": {},
     "output_type": "execute_result"
    }
   ],
   "source": [
    "solution(t, n, contestants)"
   ]
  },
  {
   "cell_type": "code",
   "execution_count": 4,
   "metadata": {},
   "outputs": [],
   "source": [
    "t = 100\n",
    "n = 3\n",
    "contestants = [[10.0, 40.0],\n",
    "               [20.0, 30.0],\n",
    "               [15.0, 25.0]]"
   ]
  },
  {
   "cell_type": "code",
   "execution_count": 5,
   "metadata": {},
   "outputs": [
    {
     "data": {
      "text/plain": [
       "'The cheater cannot win.'"
      ]
     },
     "execution_count": 5,
     "metadata": {},
     "output_type": "execute_result"
    }
   ],
   "source": [
    "solution(t, n, contestants)"
   ]
  }
 ],
 "metadata": {
  "kernelspec": {
   "display_name": "Python 3",
   "language": "python",
   "name": "python3"
  },
  "language_info": {
   "codemirror_mode": {
    "name": "ipython",
    "version": 3
   },
   "file_extension": ".py",
   "mimetype": "text/x-python",
   "name": "python",
   "nbconvert_exporter": "python",
   "pygments_lexer": "ipython3",
   "version": "3.6.9"
  }
 },
 "nbformat": 4,
 "nbformat_minor": 2
}
