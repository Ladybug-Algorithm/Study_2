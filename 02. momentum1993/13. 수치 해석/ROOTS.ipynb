{
 "cells": [
  {
   "cell_type": "markdown",
   "metadata": {},
   "source": [
    "ROOTS"
   ]
  },
  {
   "cell_type": "markdown",
   "metadata": {},
   "source": [
    "[algospot의 ROOTS 링크](https://algospot.com/judge/problem/read/ROOTS)  \n",
    "  \n",
    "### 문제  \n",
    "실수 근만을 갖는 $ax^2 + bx + c = 0$과 같은 형태의 단변수 다항 방정식이 주어질 때, 이들의 근을 계산하는 프로그램을 작성하세요.\n",
    "\n",
    "다항식의 모든 해의 절대값은 10 이하라고 가정해도 좋습니다.  \n",
    "  \n",
    "### 출력   \n",
    "n개의 실수로 오름차순으로 정렬된 방정식의 해를 출력합니다. 방정식의 해는 모두 다르다고 가정해도 좋습니다. $10^{-8}$ 이하의 상대/절대 오차가 있는 답은 정답으로 처리됩니다.  "
   ]
  },
  {
   "cell_type": "markdown",
   "metadata": {},
   "source": [
    "solution의  \n",
    "방정식의 차수 ($2 \\leq n \\leq 5$) n이라고 할 때    \n",
    "coefficient : n+1개의 실수로 방정식의 계수가 고차항부터 나열된 리스트  "
   ]
  },
  {
   "cell_type": "code",
   "execution_count": 1,
   "metadata": {},
   "outputs": [],
   "source": [
    "import math\n",
    "\n",
    "def differentiate(coefficient): # 고차방정식을 미분한 다음의 차수를 반환해줌\n",
    "    differentiated = []\n",
    "    order = len(coefficient)-1\n",
    "    for i in coefficient[:-1]:\n",
    "        differentiated.append(i*order) # 미분 후 계수 계산해서 넣음\n",
    "        order -= 1\n",
    "    return differentiated\n",
    "\n",
    "\n",
    "def solveNaive(coefficient): # 2차 이하의 방정식을 풀어주는 함수\n",
    "    answers = []\n",
    "    if len(coefficient) == 2: # 1차 방정식 \n",
    "        # ax + b = 0  ax = -b  x = -b/a \n",
    "        answers.append(-coefficient[1] / coefficient[0])\n",
    "    elif len(coefficient) == 3: # 2차 방정식\n",
    "        # ax^2 + bx + c = 0 \n",
    "        # 2차방정식의 근의 공식\n",
    "        # x =  -b ± √(b^2 - 4ac) / 2a\n",
    "        # if b' == b/2 -> x =  -b' ± √(b'^2 - ac) / 2\n",
    "        x1 = (-coefficient[1]/2 - math.sqrt(pow(coefficient[1]/2, 2) - (coefficient[0]*coefficient[2]))) / coefficient[0]\n",
    "        x2 = (-coefficient[1]/2 + math.sqrt(pow(coefficient[1]/2, 2) - (coefficient[0]*coefficient[2]))) / coefficient[0]\n",
    "        answers += [x1, x2]\n",
    "    return answers\n",
    "\n",
    "def evaluate(coefficient, x): #  f(x)값을 반환해줌\n",
    "    answer = 0\n",
    "    order = len(coefficient) - 1\n",
    "    for i in coefficient:\n",
    "        answer += i * pow(x, order) # 계수 * x^차수\n",
    "        order -= 1\n",
    "    return answer\n",
    "\n",
    "def solution(coefficient):\n",
    "    if len(coefficient) <= 3: # base case : 2차 이하의 방정식의 경우 바로 답 반환\n",
    "        return sorted(solveNaive(coefficient))\n",
    "    \n",
    "    answers = []\n",
    "    \n",
    "    differentiated = differentiate(coefficient) # 현재 방정식을 미분 ( n-1차 방정식으로.. )\n",
    "    sols = solution(differentiated) # 미분한 방정식을 재귀로 푼다.\n",
    "    \n",
    "    # 문제에서 모든해의 절대값이 10 이하라고 했으므로 [-10. 10]의 범위를 잡는다.\n",
    "    sols.insert(0,-10-1) # -10\n",
    "    sols.append(10+1) # 10\n",
    "    \n",
    "    for i in range(len(sols)-1): # 그래프 상에서 f(x)=0이 나오는 x에 대해서\n",
    "        x1 = sols[i]\n",
    "        x2 = sols[i+1]\n",
    "        y1 = evaluate(coefficient, x1) # y1 = f(x1)\n",
    "        y2 = evaluate(coefficient, x2) # y2 = f(x2)\n",
    "        \n",
    "        if y1*y2 > 0: continue\n",
    "        # 만약 함수값이 모두 음수이거나 모두 양수일 경우\n",
    "        if y1 > y2 : # 만약 low값이 high값보다 클 경우\n",
    "        # 이분법을 시작할 때 low < high값이라는 가정\n",
    "            x1, x2 = x2, x1\n",
    "            y1, y2 = y2, y1\n",
    "            # 서로 바꿔줌\n",
    "        \n",
    "        # 즉, low < 0 <= high의 상태로 유지\n",
    "        \n",
    "        for j in range(100): # 100번의 이분법을 통해 근사값을 구하는 과정\n",
    "            mx = (x1 + x2) / 2 # mid값\n",
    "            my = evaluate(coefficient, mx) # mid값에 대한 함수값\n",
    "            if y1*my > 0 : # 만약 중간값이 음수라면\n",
    "                y1, x1 = my, mx # 중간값을 low값으로 재지정 \n",
    "            else: # 중간값이 양수라면\n",
    "                y2, x2 = my, mx # 중간값을 high값으로 재지정\n",
    "                \n",
    "        answers.append((x1+x2)/2) # 이분법을 통해 나온 근사값 \n",
    "    answers.sort() # 오름차순으로 정렬\n",
    "    return answers # 근사값 반환"
   ]
  },
  {
   "cell_type": "code",
   "execution_count": 2,
   "metadata": {},
   "outputs": [],
   "source": [
    "coefficient = [1.00, -6.00, 11.00, -6.00]"
   ]
  },
  {
   "cell_type": "code",
   "execution_count": 3,
   "metadata": {},
   "outputs": [],
   "source": [
    "solution(coefficient)"
   ]
  },
  {
   "cell_type": "code",
   "execution_count": 4,
   "metadata": {},
   "outputs": [],
   "source": [
    "coefficient = [1.00, -12.50, 31.50]"
   ]
  },
  {
   "cell_type": "code",
   "execution_count": 5,
   "metadata": {},
   "outputs": [],
   "source": [
    "solution(coefficient)"
   ]
  }
 ],
 "metadata": {
  "kernelspec": {
   "display_name": "Python 3",
   "language": "python",
   "name": "python3"
  },
  "language_info": {
   "codemirror_mode": {
    "name": "ipython",
    "version": 3
   },
   "file_extension": ".py",
   "mimetype": "text/x-python",
   "name": "python",
   "nbconvert_exporter": "python",
   "pygments_lexer": "ipython3",
   "version": "3.6.9"
  }
 },
 "nbformat": 4,
 "nbformat_minor": 2
}
