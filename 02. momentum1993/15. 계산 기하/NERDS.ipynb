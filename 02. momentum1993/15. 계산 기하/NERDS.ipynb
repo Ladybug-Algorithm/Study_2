{
 "cells": [
  {
   "cell_type": "markdown",
   "metadata": {},
   "source": [
    "NERDS"
   ]
  },
  {
   "cell_type": "markdown",
   "metadata": {},
   "source": [
    "[algospot의 NERDS 링크](https://algospot.com/judge/problem/read/NERDS)  \n",
    "  \n",
    "### 문제  \n",
    "Algospot.com's annual programming contest is drawing near, and there are overwhelming number of registrations (10,000+!). We have only 5 judges, so we cannot handle this number of teams. Therefore, we decided to admit only the \"true nerds\" to the contest.  \n",
    "  \n",
    "JongMan came up with a theory that whether a person's nerdiness is dependent on a linear combination of two factors: their shoe size and their typing speed per minute. In his theory, the nerd score  \n",
    "  \n",
    "**F = A * (shoe size) + B * (typing speed per minute)**  \n",
    "  \n",
    "will be able to determine whether the guy is a nerd or not. The higher the score, the nerdier the guy is. We intend to set a threshold T; we will only admit people with scores equal to or above T.  \n",
    "  \n",
    "However, will this theory work? To find it out, we grabbed the data from some people we personally know. We know their shoe size and typing speeds, and we know whether each of them is a nerd or not. Will there be a set of parameters A, B and T which can successfully separate nerds from the others? Write a program to confirm this.\n",
    "  \n",
    "Please note that A, B and T can be arbitrary real numbers.  \n",
    "  \n",
    "### 출력  \n",
    "The line must contain \"THEORY HOLDS\" if there are one or more set of parameters which satisfies the given data. \"THEORY IS INVALID\" should be printed in the other case. See the sample output for details.  "
   ]
  },
  {
   "cell_type": "markdown",
   "metadata": {},
   "source": [
    "solution의  \n",
    "  \n",
    "nerds_info : 직사각형의 꼭지점의 좌표 [Nerd여부, 신발사이즈, 타이핑 속도]로 이루어진 리스트  \n",
    "  \n",
    "주어지는 정보의 수는 3이상 5000이하이다.\n",
    "Nerd여부 -> 0: 너드가 아니다. 1: 너드이다.  \n",
    "$(0 \\leq 신발사이즈, 타이핑 속도 \\leq 10000)$    \n",
    "  "
   ]
  },
  {
   "cell_type": "code",
   "execution_count": 1,
   "metadata": {},
   "outputs": [],
   "source": [
    "import math\n",
    "\n",
    "def add(a,b): # 벡터의 합\n",
    "    a_x, a_y = a\n",
    "    b_x, b_y = b\n",
    "    return (round(a_x+b_x,7), round(a_y+b_y,7))\n",
    "\n",
    "def sub(a,b): # 벡터 뺄셈\n",
    "    a_x, a_y = a\n",
    "    b_x, b_y = b\n",
    "    return (round(a_x-b_x,7), round(a_y-b_y,7))\n",
    "\n",
    "def norm(a): # 벡터의 길이 구하기\n",
    "    a_x, a_y = a\n",
    "    return round(math.sqrt(pow(a_x,2)+pow(a_y,2)), 7)\n",
    "    \n",
    "def cross(a,b): # 벡터 외적\n",
    "    a_x, a_y = a\n",
    "    b_x, b_y = b\n",
    "    return round((a_x*b_y) - (a_y*b_x),7)\n",
    "\n",
    "def mul(multiple, a): # 상수를 벡터에 곱하기\n",
    "    a_x, a_y = a\n",
    "    return (round(multiple*a_x,7), round(multiple*a_y,7))\n",
    "\n",
    "def min_vec(vertice): # 가장 왼쪽 아래에 위치한 점을 반환\n",
    "    # y = -x + a 선을 기준으로 가장 아래에 위치하는 점이 작은 점.\n",
    "    # x + y = a -> x,y의 합이 가장 작은 점이 작은 벡터\n",
    "    x, y = vertice[0]\n",
    "    for i in vertice[1:]:\n",
    "        i_x, i_y = i\n",
    "        if x+y == i_x+i_y:\n",
    "            if x > i_x:\n",
    "                x = i_x\n",
    "                y = i_y\n",
    "        elif x+y > i_x+i_y:\n",
    "            x = i_x\n",
    "            y = i_y\n",
    "    return x, y\n",
    "\n",
    "def segmentIntersects(a, b, c, d): # 두 선분이 접촉 or 교차하는지 여부 반환\n",
    "    # 직선 ab 와 직선 cd에 대해서\n",
    "    ab = cross(sub(b,a), sub(c,a)) * cross(sub(b,a), sub(d,a))\n",
    "    # (ba, ac의 외적) * (ba, ad의 외적)\n",
    "    cd = cross(sub(d,c), sub(a,c)) * cross(sub(d,c), sub(b,c))\n",
    "    #(dc, ca의 외적) * (dc, cb의 외적)\n",
    "    \n",
    "    # 한쪽의 외적과 다른 한쪽의 외적값이 부호가 다를 것이다.\n",
    "    # (+, -), (-, +), (0, 0), (0, +), (0, -) , (+, 0), (-, 0)\n",
    "    # 그래서 (2개의 외적을 곱한 값 <=0 )일 경우 두 선분이 접촉 or 교차한다.\n",
    "    if ab == 0 and cd == 0:\n",
    "        if b < a:\n",
    "            a,b = b,a\n",
    "        if d < c:\n",
    "            c,d = d,c\n",
    "            return not(b < c or d < a);\n",
    "    return ab <= 0 and cd <= 0\n",
    "\n",
    "def isInside(q, poly): # 점 q가 다각형 poly내부에 존재하는지 여부 반환\n",
    "    crosses = 0 # 점 q를 q의 y좌표를 기준으로 반직선을 그었을 때 다각형의 경계와 만나는 횟수\n",
    "    q_x, q_y = q # 점 q의 좌표\n",
    "    for i in range(len(poly)):\n",
    "        p_i_x, p_i_y = poly[i] # 다각형에서의 한 꼭짓점 좌표\n",
    "        j = (i+1) % len(poly)\n",
    "        p_j_x, p_j_y = poly[j] # 인접한 꼭짓점의 좌표\n",
    "        if (p_i_y > q_y) != (p_j_y > q_y): # p[i], p[j]가 반직선을 세로로 가르지를 때\n",
    "            atX = (p_j_x - p_i_x) * (q_y - p_i_y) / (p_j_y - p_i_y) + p_i_x\n",
    "            # 가로지르는 x좌표\n",
    "            if q_x < atX: # q보다 오른쪽에서 가로지를 때\n",
    "                crosses += 1 # 만나는 횟수 증가\n",
    "    return (crosses % 2 > 0) # 만나는 횟수가 홀수일 때 poly내부에 점 q가 존재하는 것이다.\n",
    "\n",
    "def giftWrap(vertice):\n",
    "    # 꼭짓점들에 대해서 연결해서 다각형을 만들 때 가장 외부에서 다각형을 구성하는 꼭짓점 반환\n",
    "    polygon = []\n",
    "    min_point = min_vec(vertice) # 가장 왼쪽하단에 있는 꼭짓점\n",
    "    polygon.append(min_point)\n",
    "    while True:\n",
    "        std_point = polygon[-1] # 기준점\n",
    "        next_point = vertice[0] # 기준점에서 이어나갈 다음 꼭짓점\n",
    "        for i in range(1, len(vertice)): \n",
    "            cross_val = cross(sub(next_point, std_point), sub(vertice[i], std_point))\n",
    "            # 기존의 구성된 직선에 새로운 꼭짓점을 포함해서 외적을 구한다.\n",
    "            # >0일 경우 : 현재까지 구한 다음 꼭짓점보다 외부에 있는 꼭짓점\n",
    "            # =0일 경우 : 현재까지 예상된 다음 꼭짓점과 평행 선상\n",
    "            dist = norm(sub(next_point, std_point)) - norm(sub(vertice[i], std_point))\n",
    "            # 기준꼭짓점에서의 거리\n",
    "            if cross_val > 0 or (cross_val == 0 and dist < 0):\n",
    "                next_point = vertice[i]\n",
    "                # 다음 꼭짓점을 갱신\n",
    "        if next_point == min_point:\n",
    "        # 만약 다음꼭짓점이 처음 시작한 최소 꼭짓점과 같을 경우\n",
    "        # = 다각형 구성이 완성되었을 때\n",
    "            break\n",
    "        polygon.append(next_point)\n",
    "    return polygon\n",
    "\n",
    "def polygonIntersects(p1, p2): # 해당 다각형 p1과 p2의 겹치는 부분이 있는지 여부 반환\n",
    "    if isInside(p1[0], p2) or isInside(p2[0], p1):\n",
    "    # p1 ⊂ p2 이거나 p2 ⊂ p1일경우 참\n",
    "        return True\n",
    "    for i in range(len(p1)):\n",
    "        for j in range(len(p2)):\n",
    "            if segmentIntersects(p1[i], p1[(i+1)%len(p1)], p2[j], p2[(j+1)%len(p2)]):\n",
    "            # p1의 구성하는 선분, p2 구성하는 선분끼리 교차할 경우 참\n",
    "                return True\n",
    "    return False # 그 외에는 거짓\n",
    "\n",
    "def solution(nerds_info):\n",
    "    # 신발 사이즈, 타이핑 속도를 각각 x,y 좌표로 가정한다.\n",
    "    # 그래서 좌표평면상에 각각 구성하는 점을 이은 다각형을 만들경우\n",
    "    # 교차할 경우 nerd인지 아닌지 여부를 판별할 수 없다.\n",
    "    # 교차하지 않을 경우 nerd여부를 판별할 수 있다.\n",
    "    \n",
    "    p_nerd = [] # nerd를 구성하는 다각형\n",
    "    p_n_nerd = [] # not-nerd를 구성하는 다각형\n",
    "    for i in nerds_info:\n",
    "        if i[0] == 1: # nerd 일 때\n",
    "            p_nerd.append((i[1], i[2]))\n",
    "        else: # nerd가 아닐 때\n",
    "            p_n_nerd.append((i[1], i[2]))\n",
    "            \n",
    "    poly_nerd = giftWrap(p_nerd) # nerd 다각형\n",
    "    poly_n_nerd = giftWrap(p_n_nerd) # not-nerd 다각형\n",
    "    if polygonIntersects(poly_nerd, poly_n_nerd): # 2개의 다각형이 교차할 경우\n",
    "        return \"THEORY IS INVALID\" # nerd 여부 판별 불가\n",
    "    return \"THEORY HOLDS\" # 교차하지 않는다면 nerd여부를 판별할 수 있다.\n",
    "\n"
   ]
  },
  {
   "cell_type": "code",
   "execution_count": 2,
   "metadata": {},
   "outputs": [],
   "source": [
    "nerds_info = [(1, 2, 3), \n",
    "              (1, 3, 4),\n",
    "              (1, 4, 5),\n",
    "              (1, 2, 5),\n",
    "              (0, 4, 1),\n",
    "              (0, 5, 5),\n",
    "              (0, 3, 3),\n",
    "              (0, 4, 4)]"
   ]
  },
  {
   "cell_type": "code",
   "execution_count": 3,
   "metadata": {
    "scrolled": true
   },
   "outputs": [
    {
     "data": {
      "text/plain": [
       "'THEORY HOLDS'"
      ]
     },
     "execution_count": 3,
     "metadata": {},
     "output_type": "execute_result"
    }
   ],
   "source": [
    "solution(nerds_info)"
   ]
  },
  {
   "cell_type": "code",
   "execution_count": 4,
   "metadata": {},
   "outputs": [],
   "source": [
    "nerds_info = [(1, 1, 5),\n",
    "              (1, 5, 1),\n",
    "              (1, 1, 1),\n",
    "              (0, 2, 2),\n",
    "              (0, 4, 1),\n",
    "              (0, 1, 4)]"
   ]
  },
  {
   "cell_type": "code",
   "execution_count": 5,
   "metadata": {},
   "outputs": [
    {
     "data": {
      "text/plain": [
       "'THEORY IS INVALID'"
      ]
     },
     "execution_count": 5,
     "metadata": {},
     "output_type": "execute_result"
    }
   ],
   "source": [
    "solution(nerds_info)"
   ]
  },
  {
   "cell_type": "code",
   "execution_count": 6,
   "metadata": {},
   "outputs": [],
   "source": [
    "nerds_info = [(1, 10, 10),\n",
    "              (0, 10, 10),\n",
    "              (1, 5, 15),\n",
    "              (1, 5, 5),\n",
    "              (0, 15, 15),\n",
    "              (0, 15, 5)]"
   ]
  },
  {
   "cell_type": "code",
   "execution_count": 7,
   "metadata": {},
   "outputs": [
    {
     "data": {
      "text/plain": [
       "'THEORY IS INVALID'"
      ]
     },
     "execution_count": 7,
     "metadata": {},
     "output_type": "execute_result"
    }
   ],
   "source": [
    "solution(nerds_info)"
   ]
  }
 ],
 "metadata": {
  "kernelspec": {
   "display_name": "Python 3",
   "language": "python",
   "name": "python3"
  },
  "language_info": {
   "codemirror_mode": {
    "name": "ipython",
    "version": 3
   },
   "file_extension": ".py",
   "mimetype": "text/x-python",
   "name": "python",
   "nbconvert_exporter": "python",
   "pygments_lexer": "ipython3",
   "version": "3.6.9"
  }
 },
 "nbformat": 4,
 "nbformat_minor": 2
}
