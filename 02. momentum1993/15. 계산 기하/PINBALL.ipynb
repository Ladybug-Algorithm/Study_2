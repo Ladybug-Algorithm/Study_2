{
 "cells": [
  {
   "cell_type": "markdown",
   "metadata": {},
   "source": [
    "PINBALL\n"
   ]
  },
  {
   "cell_type": "markdown",
   "metadata": {},
   "source": [
    "[algospot의 PINBALL 링크](https://algospot.com/judge/problem/read/PINBALL)  \n",
    "  \n",
    "### 문제  \n",
    "![](http://algospot.com/media/judge-attachments/5e54d3c58d9353ea54cb2cb4c567a35f/pinball1.png)  \n",
    "동혁이는 새로 나온 핀볼 게임을 하고 있습니다. 이 핀볼 게임은 아주 큰 게임판에 여러 개의 장애물을 놓고, 밖에서 공을 던져 가장 많은 장애물을 맞추는 것을 목표로 합니다. 공과 장애물은 완전한 원형이며, 공은 장애물에 부딪히면 항상 입사각과 반사각이 같도록 정반사됩니다. 장애물은 게임판에 고정되어 있기 때문에 움직이지 않습니다. 위 그림은 예제 게임판에서 동혁이가 던진 공이 장애물들에 순서대로 부딪히는 과정을 보여줍니다.  \n",
    "  \n",
    "장애물들의 위치와 크기가 주어지고, 공의 위치와 방향이 주어질 때 공이 부딪히는 장애물들의 번호를 계산하는 프로그램을 작성하세요. 공은 반지름 1인 원이며, 항상 직선으로 움직인다고 가정합니다.  \n",
    "  \n",
    "### 출력  \n",
    "한 줄에 공이 닿는 순서대로 각 장애물의 번호를 출력합니다. 만약 공이 장애물에 100번 넘게 부딪힐 경우 첫 100번 부딪히는 장애물의 번호만을 출력합니다.  \n",
    "  \n",
    "주어진 입력에서 장애물의 크기나 위치가 $10^{-7}$ 만큼 변하더라도 답은 변하지 않는다고 가정해도 좋습니다.  "
   ]
  },
  {
   "cell_type": "markdown",
   "metadata": {},
   "source": [
    "solution의  \n",
    "  \n",
    "ball_info : [x, y, dx, dy]로 이루어진 공에 대한 정보를 가지는 리스트  \n",
    "공은 현재 (x,y) 에서 (x+dx, y+dy)를 향해 일직선으로 굴러가고 있습니다  \n",
    "$(0 \\leq x, y \\leq 100), (-10 \\leq dx,dy \\leq 10)$  \n",
    "  \n",
    "obstacles : [$x_i, y_i, r_i$]로 이루어진 장애물들에 대한 정보를 가지는 리스트  \n",
    "i번 장애물은 $(x_i, y_i)$을 중심으로 한 반지름 $r_i$인 원 형태 (단 장애물은 50개 이하)  \n",
    "$(0 \\leq x_i, y_i, r_i \\leq 100)$  \n",
    "  \n",
    "장애물은 게임판 밖에 걸쳐 있을 수도 있습니다. 두 장애물 사이의 거리가 2 이하인 경우는 없습니다. 시작 위치에서 공은 장애물과 겹쳐 있거나 닿아 있지 않습니다.  \n",
    "  \n",
    "공은 게임판의 벽에 닿는 순간 게임판에서 떨어진다고 가정합니다. 입력에 공이 게임판의 벽과 장애물에 동시에 닿는 경우는 주어지지 않습니다.  "
   ]
  },
  {
   "cell_type": "code",
   "execution_count": 1,
   "metadata": {},
   "outputs": [],
   "source": [
    "import math\n",
    "import sys\n",
    "\n",
    "# 단위시간 t에 대하여 현재 공 좌표 p\n",
    "# p = t * (x, y) + (dx, dy) = (x + t*dx , y + t*dy) = (p_x, p_y)\n",
    "\n",
    "# 원점이 (x_i, y_i)이고 반지름이 r_i인 장애물 함수\n",
    "# (x - x_i)^2 + (y - y_i)^2 = (r_i+1)^2\n",
    "\n",
    "# 아래의 식을 만족하는 공의 좌표 p = (p_x, p_y)가 장애물과 만나는 지점이다.\n",
    "# (p_x - x_i)^2 + (p_y - y_i)^2 = (r_i+1)^2\n",
    "\n",
    "# 그래서 해당 식을 풀어서 진행하면\n",
    "# (x + t*dx - x_i)^2 + (y + t*dy - y_i)^2 = (r_i+1)^2\n",
    "\n",
    "# t^2*dx^2 + x^2 + x_i^2 + 2(t*x*dx - t*dx*x_i - x*x_i) \n",
    "# + t^2*dy^2 + y^2 + y_i^2 + 2(t*y*dy - t*dy*y_i - y*y_i)\n",
    "# = (r_i)^2 + 2*r_i + 1\n",
    "\n",
    "# (dx^2+dy^2)*t^2 + (2*x*dx - 2*dx*x_i + 2*y*dy - 2*dy*y_i)t \n",
    "# + (x^2 + y^2 + x_i^2 + y_i^2 - 2*x*x_i - 2*y*y_i - (r_i)^2 - 2*r_i - 1) = 0\n",
    "\n",
    "# a = dx^2+dy^2\n",
    "# b = 2*x*dx - 2*dx*x_i + 2*y*dy - 2*dy*y_i\n",
    "# c = x^2 + y^2 + x_i^2 + y_i^2 - 2*x*x_i - 2*y*y_i - (r_i)^2 - 2*r_i - 1\n",
    "\n",
    "# 이와 같은 t에 대한 방정식이 나온다.\n",
    "# at^2 + bt + c = 0\n",
    "\n",
    "# t = - (b/2) ± √((b/2)^2 - (a*c)) / a\n",
    "\n",
    "def get_crash(ball_info, obstacles):\n",
    "    x,y,dx,dy = ball_info\n",
    "    a = pow(dx, 2) + pow(dy, 2)\n",
    "    \n",
    "    idx = -1\n",
    "    t = sys.maxsize\n",
    "    for i in range(len(obstacles)):\n",
    "        x_i, y_i, r_i = obstacles[i]\n",
    "        # 장애물의 r_i를 그대로 쓰지 않고, 공의 반지름 1을 더해서 쓴다.\n",
    "        b = (2*dx*x) - (2*dx*x_i) + (2*dy*y) - (2*dy*y_i)\n",
    "        c = pow(x,2) + pow(y,2) + pow(x_i,2) + pow(y_i,2) - (2*x*x_i) - (2*y*y_i) - pow(r_i,2) - (2*r_i) - 1\n",
    "        if pow(b/2 , 2) - (a*c) < 0:\n",
    "            continue\n",
    "            \n",
    "        t_1 = (-(b/2)+math.sqrt(pow((b/2),2) - (a*c)))/a\n",
    "        t_2 = (-(b/2)-math.sqrt(pow((b/2),2) - (a*c)))/a\n",
    "        t_1 = round(t_1, 7)\n",
    "        t_2 = round(t_2, 7)\n",
    "        # t에 대한 해\n",
    "        \n",
    "        if t_1 > 0 or t_2 > 0:\n",
    "            before = t\n",
    "            if t_1 < 0:\n",
    "                t = min(t, t_2)\n",
    "            elif t_2 < 0:\n",
    "                t = min(t, t_1)\n",
    "            else:\n",
    "                t = min(t, t_1, t_2)\n",
    "            if before != t:\n",
    "                idx = i\n",
    "                # 만약 t가 갱신되었다면 index도 갱신\n",
    "        \n",
    "    if idx != -1: # index가 갱신되었다면 (= 즉, 어떠한 장애물과 만났다면)\n",
    "        ball_info[0] = x+(t*dx) # 장애물과의 접점 x좌표\n",
    "        ball_info[1] = y+(t*dy) # 장애물과의 접점 y좌표\n",
    "        \n",
    "        length_a = math.sqrt(pow(-dx, 2) + pow(-dy, 2)) # 현재 공의 움직임에 대한 벡터 a\n",
    "        \n",
    "        # 현재 장애물의 중점에서 공의 중점까지 벡터 b\n",
    "        b_dx, b_dy = ball_info[0] - obstacles[idx][0], ball_info[1] - obstacles[idx][1] \n",
    "        # 단위시간 당 (b_dx, b_dy)를 이동하는 벡터이다.\n",
    "        length_b = obstacles[idx][2] + 1 # 벡터b의 길이 = 장애물의 반지름 + 1\n",
    "        \n",
    "        # (-dx * b_dx) + (-dy * b_dy) == length_a * length_b * cos_val\n",
    "        cos_val = ((-dx * b_dx) + (-dy * b_dy)) / (length_a * length_b)\n",
    "\n",
    "        # length * cos_val == math.sqrt(t^2 * b_dx^2 + t^2 * b_dy^2) \n",
    "        multiple = length_a * cos_val / length_b # 장애물과의 접점을 기준으로 반사시킬 기준이 되는 벡터 b'의 길이\n",
    "        vec_standard_x = multiple * b_dx # b'의 단위시간당 이동하는 x좌표\n",
    "        vec_standard_y = multiple * b_dy # b'의 단위시간당 이동하는 y좌표\n",
    "        \n",
    "        # -a + 2 (a + b') -> 장애물 접점을 기준으로 반사되는 벡터가 된다. \n",
    "        ball_info[2] = round((-dx) + (2 * (dx + vec_standard_x)), 7) \n",
    "        ball_info[3] = round((-dy) + (2 * (dy + vec_standard_y)), 7)\n",
    "    return idx\n",
    "    \n",
    "def solution(ball_info, obstacles):\n",
    "    answer = []\n",
    "    for _ in range(100): # 100번까지 만나는 장애물을 출력\n",
    "        output = get_crash(ball_info, obstacles)\n",
    "        if output == -1: # 만약 더 이상 만나는 장애물이 없을 경우\n",
    "            break # 루프를 나간다.\n",
    "        answer.append(output) \n",
    "    return answer"
   ]
  },
  {
   "cell_type": "code",
   "execution_count": 2,
   "metadata": {},
   "outputs": [],
   "source": [
    "ball_info = [5, 5, 1, 1]\n",
    "obstacles = [[22, 40, 12],\n",
    "             [61, 26, 20],\n",
    "             [19, 78, 21],\n",
    "             [51, 86, 7],\n",
    "             [84, 57, 15]]"
   ]
  },
  {
   "cell_type": "code",
   "execution_count": 3,
   "metadata": {
    "scrolled": true
   },
   "outputs": [
    {
     "data": {
      "text/plain": [
       "[0, 1, 2, 1, 2, 0, 3, 4]"
      ]
     },
     "execution_count": 3,
     "metadata": {},
     "output_type": "execute_result"
    }
   ],
   "source": [
    "solution(ball_info, obstacles)"
   ]
  }
 ],
 "metadata": {
  "kernelspec": {
   "display_name": "Python 3",
   "language": "python",
   "name": "python3"
  },
  "language_info": {
   "codemirror_mode": {
    "name": "ipython",
    "version": 3
   },
   "file_extension": ".py",
   "mimetype": "text/x-python",
   "name": "python",
   "nbconvert_exporter": "python",
   "pygments_lexer": "ipython3",
   "version": "3.6.9"
  }
 },
 "nbformat": 4,
 "nbformat_minor": 2
}
