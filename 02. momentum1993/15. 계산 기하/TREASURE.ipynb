{
 "cells": [
  {
   "cell_type": "markdown",
   "metadata": {},
   "source": [
    "TREASURE"
   ]
  },
  {
   "cell_type": "markdown",
   "metadata": {},
   "source": [
    "[algospot의 TREASURE 링크](https://algospot.com/judge/problem/read/TREASURE)  \n",
    "  \n",
    "### 문제  \n",
    "위대한 해적 가이브러시 포피우드가 위대한 보물 투피스를 숨겨뒀다는 보물섬을 오랜 고난을 거쳐 찾아냈습니다. 가이브러시는 이 보물섬 어디엔가 투피스를 묻어뒀다고 알려지고 있는데, 그 위치가 어디인지는 모릅니다. 섬을 다 뒤집어 엎기 직전, 지도에는 여백이 부족해 적지 않았던 보물의 위치가 적힌 쪽지를 발견했습니다. 이 쪽지에는 보물이 묻혀 있는 곳이 적혀 있는데, 설명이 길고 장황한 데다 군데 군데 지워져 정확히 알아보기 쉽지 않았습니다. 쪽지를 열심히 연구한 결과, 보물이 묻혀 있는 곳의 범위를 어느 정도 좁힐 수 있었습니다.  \n",
    "![](http://algospot.com/media/judge-attachments/1d2e9fedb622ddb6765f33d3c0e37461/treasure2.png)  \n",
    "섬의 지도가 위 그림과 같이 N개의 점을 갖는 다각형으로 주어질 때, 보물이 묻혀 있을 수 있는 곳은 두 점 ($x_1,y_1$)과 ($x_2,y_2$) 를 서로 대칭인 꼭지점으로 갖고, 네 변이 모두 x축 혹은 y축에 평행한 직사각형 내부입니다. 우리는 이 직사각형 내에 포함된 육지를 전부 조사하고 싶습니다. 우리가 조사해야 할 부분의 넓이를 계산하는 프로그램을 작성하세요.  \n",
    "  \n",
    "### 출력  \n",
    "한 줄에 조사해야 할 육지의 넓이를 출력합니다. $10^{-7}$ 이하의 절대/상대 오차를 갖는 답은 정답으로 인정됩니다.  "
   ]
  },
  {
   "cell_type": "markdown",
   "metadata": {},
   "source": [
    "solution의  \n",
    "  \n",
    "scope_info : 직사각형의 꼭지점의 좌표 [$x_1, y_1, x_2, y_2$]로 이루어진 리스트\n",
    "$(0 \\leq x_1 < x_2 \\leq 100), (0 \\leq y_1 < y_2 \\leq 100)$  \n",
    "  \n",
    "polygon_vertice : 다각형의 각 꼭짓점 좌표 [$X_i, Y_i$]에 대한 정보를 가지는 리스트\n",
    "$(0 \\leq X_i, Y_i \\leq 100)$ \n",
    "  \n",
    "꼭짓점의 개수는 3이상, 100개 이하이어야 하며, 꼭지점은 시계 반대 방향으로 주어지며, 마지막 점은 첫 번째 점과 연결되어 있습니다.  \n",
    "주어진 섬의 면적이 0이거나, 섬의 경계선이 자기 자신과 교차하거나 겹치는 경우는 없습니다.  "
   ]
  },
  {
   "cell_type": "code",
   "execution_count": 1,
   "metadata": {},
   "outputs": [],
   "source": [
    "import math\n",
    "\n",
    "def add(a,b): # 벡터의 합\n",
    "    a_x, a_y = a\n",
    "    b_x, b_y = b\n",
    "    return (round(a_x+b_x,7), round(a_y+b_y,7))\n",
    "\n",
    "def sub(a,b): # 벡터 뺄셈\n",
    "    a_x, a_y = a\n",
    "    b_x, b_y = b\n",
    "    return (round(a_x-b_x,7), round(a_y-b_y,7))\n",
    "\n",
    "def cross(a,b): # 벡터 외적\n",
    "    a_x, a_y = a\n",
    "    b_x, b_y = b\n",
    "    return round((a_x*b_y) - (a_y*b_x),7)\n",
    "\n",
    "def mul(multiple, a): # 상수를 벡터에 곱하기\n",
    "    a_x, a_y = a\n",
    "    return (round(multiple*a_x,7), round(multiple*a_y,7))\n",
    "\n",
    "def get_intersection(a,b,c,d): # 교점 반환\n",
    "    vec_ba = sub(b,a)\n",
    "    vec_ca = sub(c,a)\n",
    "    vec_dc = sub(d,c)\n",
    "    det = cross(vec_ba, vec_dc)\n",
    "    if round(math. fabs(det), 7) < 0 : return None\n",
    "    answer = add(a, mul(cross(vec_ca, vec_dc)/det, sub(b,a)))\n",
    "    # \n",
    "    return answer\n",
    "\n",
    "def vertice_include(p, a, b): # ccw\n",
    "    # polygon의 각 꼭지점이 직선 ba기준의 반평면에 포함 되는지 반환\n",
    "    # > 0 : 포함 , 0 : 직선 ba 선상에 있음, < 0 :  포함 X\n",
    "    polygon_vertice = []\n",
    "    is_include = []\n",
    "\n",
    "    for v in p:\n",
    "        # a와 b의 꼭지점은 반시계방향으로 넣어야함\n",
    "        vec_a = sub(b,a)\n",
    "        vec_b = sub(v,a)\n",
    "        # vec(p-a)와 vec(b-a)사이의 외적\n",
    "        if cross(vec_a, vec_b) >= 0: \n",
    "            is_include.append(True)\n",
    "        else:\n",
    "            is_include.append(False)\n",
    "    \n",
    "    for i in range(len(p)):\n",
    "        if is_include[i]: \n",
    "            polygon_vertice.append(p[i]) # 범위안에 들어가는 꼭짓점\n",
    "        j = (i+1)%len(p)\n",
    "        if is_include[i] != is_include[j]: # 만약 교점이 있을 경우\n",
    "            intersect = get_intersection(p[i], p[j],a, b) \n",
    "            if intersect is not None:\n",
    "                polygon_vertice.append(intersect) # 교점 또한 저장\n",
    "    return polygon_vertice\n",
    "\n",
    "#vertice_include는 Sutherland–Hodgman algorithm을 이용했으며, polygon clipping에 쓰인다.\n",
    "\n",
    "def solution(scope_info, polygon_vertice):\n",
    "    scope_location = []\n",
    "    scope_location.append([scope_info[0],scope_info[1]])\n",
    "    scope_location.append([scope_info[2],scope_info[1]])\n",
    "    scope_location.append([scope_info[2],scope_info[3]])\n",
    "    scope_location.append([scope_info[0],scope_info[3]])\n",
    "    # 우리가 확인해야하는 직사각형 범위의 좌표를 반시계방향으로 저장함\n",
    "    \n",
    "    vertice = polygon_vertice\n",
    "    for i in range(len(scope_location)):\n",
    "        vertice = vertice_include(vertice, scope_location[i-1], scope_location[i])\n",
    "        # 범위의 각 직선을 기준으로 특정 반평면에 꼭짓점 포함 여부를 통해서 꼭짓점을 구한다. \n",
    "        \n",
    "    answer = 0\n",
    "    for i in range(len(vertice)):\n",
    "        answer += cross(vertice[i-1], vertice[i])\n",
    "    answer /= 2\n",
    "    answer = math.fabs(round(answer,7))\n",
    "    # 인접한 벡터끼리의 외적값에 1/2을 곱한 값의 절댓값은 \n",
    "    # 해당 꼭지점으로 이루어지는 단순 다각형의 너비가 된다.\n",
    "    return answer\n",
    "    \n",
    "    "
   ]
  },
  {
   "cell_type": "code",
   "execution_count": 2,
   "metadata": {},
   "outputs": [],
   "source": [
    "scope_info = [26, 34, 76, 72]\n",
    "polygon_vertice = [(41, 52),\n",
    "                   (50, 71),\n",
    "                   (42, 87),\n",
    "                   (26, 84),\n",
    "                   (16, 58),\n",
    "                   (33, 33),\n",
    "                   (51, 23),\n",
    "                   (64, 32),\n",
    "                   (73, 17),\n",
    "                   (86, 14),\n",
    "                   (91, 38),\n",
    "                   (92, 68),\n",
    "                   (82, 79),\n",
    "                   (68, 45),\n",
    "                   (61, 58)]"
   ]
  },
  {
   "cell_type": "code",
   "execution_count": 3,
   "metadata": {},
   "outputs": [
    {
     "data": {
      "text/plain": [
       "1343.094874"
      ]
     },
     "execution_count": 3,
     "metadata": {},
     "output_type": "execute_result"
    }
   ],
   "source": [
    "solution(scope_info, polygon_vertice)"
   ]
  },
  {
   "cell_type": "code",
   "execution_count": 4,
   "metadata": {},
   "outputs": [],
   "source": [
    "scope_info = [50, 20, 70, 80]\n",
    "polygon_vertice = [(86, 50), \n",
    "                   (30, 10),\n",
    "                   (90, 50),\n",
    "                   (30, 90)]"
   ]
  },
  {
   "cell_type": "code",
   "execution_count": 5,
   "metadata": {},
   "outputs": [
    {
     "data": {
      "text/plain": [
       "57.142859"
      ]
     },
     "execution_count": 5,
     "metadata": {},
     "output_type": "execute_result"
    }
   ],
   "source": [
    "solution(scope_info, polygon_vertice)"
   ]
  }
 ],
 "metadata": {
  "kernelspec": {
   "display_name": "Python 3",
   "language": "python",
   "name": "python3"
  },
  "language_info": {
   "codemirror_mode": {
    "name": "ipython",
    "version": 3
   },
   "file_extension": ".py",
   "mimetype": "text/x-python",
   "name": "python",
   "nbconvert_exporter": "python",
   "pygments_lexer": "ipython3",
   "version": "3.6.9"
  }
 },
 "nbformat": 4,
 "nbformat_minor": 2
}
