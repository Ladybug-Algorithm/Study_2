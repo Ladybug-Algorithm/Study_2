{
 "cells": [
  {
   "cell_type": "markdown",
   "metadata": {},
   "source": [
    "RUNNINGMEDIAN"
   ]
  },
  {
   "cell_type": "markdown",
   "metadata": {},
   "source": [
    "[algospot의 RUNNINGMEDIAN 링크](https://algospot.com/judge/problem/read/RUNNINGMEDIAN)"
   ]
  },
  {
   "cell_type": "markdown",
   "metadata": {},
   "source": [
    "한 수열의 중간값(median)은 이 수열을 정렬했을 때 가운데 오는 값입니다. 예를 들어 {3,1,5,4,2}를 정렬했을 때 가운데 오는 값은 3이지요. 수열의 길이가 짝수일 때는 가운데 있는 두 값 중 보다 작은 것을 수열의 중간값이라고 정의하도록 합시다.  \n",
    "  \n",
    "한 수열의 중간값은 수열에 새로운 수가 추가될 때마다 바뀔 수 있습니다. 텅 빈 수열에서 시작해서 각 수가 추가될 때마다 중간값을 계산하는 프로그램을 작성하세요. 예를 들어 3, 1, 5, 4, 2 순서대로 숫자가 추가될 경우 수열의 중간값은 3, 1, 3, 3, 3 순서로 변화합니다.  \n",
    "  \n",
    "#### 입력 생성\n",
    "입력의 크기가 큰 관계로, 이 문제에서는 수열을 입력받는 대신 다음과 같은 식을 통해 프로그램 내에서 직접 생성합니다.  \n",
    "  \n",
    "A[0] = 1983  \n",
    "A[i] = (A[i-1] * a + b) % 20090711  \n",
    "a와 b는 입력에 주어지는 상수입니다. 이 문제의 해법은 입력을 생성하는 방식과는 아무 상관이 없습니다.  \n",
    "\n",
    "#### 출력  \n",
    "각 테스트 케이스마다 한 줄에 N개의 중간값의 합을 20090711로 나눈 나머지를 출력합니다.  "
   ]
  },
  {
   "cell_type": "markdown",
   "metadata": {},
   "source": [
    "solution함수의  \n",
    "N : 수열의 길이(1 <= N <= 200,000)  \n",
    "a, b : 수열 생성하는데 필요한 2개의 정수  "
   ]
  },
  {
   "cell_type": "code",
   "execution_count": 1,
   "metadata": {
    "collapsed": true
   },
   "outputs": [],
   "source": [
    "from queue import PriorityQueue as pq # 파이썬 내장 모듈의 PriorityQueue 사용\n",
    "\n",
    "def solution(N, a, b):\n",
    "    answer = 1983 # 처음의 중간값 1983\n",
    "    # 입력값들을 오름차순으로 정렬하여, 앞의 반은 max_q 뒤의 반은 min_q에 넣는다.\n",
    "    # 즉, max_q의 값들은 무조건 min_q의 값들보다 작아야 한다!!!\n",
    "    max_q = pq() # 큰 값을 우선순위로 하는 priority queue\n",
    "    min_q = pq() # 작은 값을 우선순위로 하는 priority queue\n",
    "    inp = 1983 # 처음 입력값\n",
    "    max_q.put(-1983)\n",
    "    # PriorityQueue는 작은 값에 대한 우선순위를 가지기 때문에\n",
    "    # 큰 값에 대해 우선순위 주기 위해 음수로 변환하여 넣었다.\n",
    "    \n",
    "    for i in range(1,N):\n",
    "        inp = ((inp * a) + b) % 20090711 # 입력 조건에 따른 입력 난수 생성\n",
    "        \n",
    "        if max_q.qsize() == min_q.qsize(): # 만약 최대큐와 최소큐의 크기가 같다면 \n",
    "            max_q.put(-inp) # 최대큐에 넣는다.\n",
    "        else: # 크기가 다르다면(최대큐의 크기 = 최소큐의 크기 + 1일 때)\n",
    "            min_q.put(inp) # 최소큐에 넣는다.\n",
    "        \n",
    "        if not max_q.empty() and not min_q.empty() and -max_q.queue[0] > min_q.queue[0]:\n",
    "        # 최대큐와 최소큐가 비어있지 않지만, 우선순위 값이 max_q > min_q일 때\n",
    "            to_min = -max_q.get()\n",
    "            to_max = -min_q.get()\n",
    "            max_q.put(to_max)\n",
    "            min_q.put(to_min)\n",
    "        # 큐에 잘못들어간 것이므로 서로 바꿔서 다시 넣는다.\n",
    "        answer += -max_q.queue[0] # 그리고 max_q의 최댓값(median값)을 더한다.\n",
    "        answer %= 20090711 # 그리고 출력조건에 따라 나머지를 구한다.\n",
    "    return answer"
   ]
  },
  {
   "cell_type": "code",
   "execution_count": 2,
   "metadata": {},
   "outputs": [
    {
     "data": {
      "text/plain": [
       "19830"
      ]
     },
     "execution_count": 2,
     "metadata": {},
     "output_type": "execute_result"
    }
   ],
   "source": [
    "solution(10, 1, 0)"
   ]
  },
  {
   "cell_type": "code",
   "execution_count": 3,
   "metadata": {},
   "outputs": [
    {
     "data": {
      "text/plain": [
       "19850"
      ]
     },
     "execution_count": 3,
     "metadata": {},
     "output_type": "execute_result"
    }
   ],
   "source": [
    "solution(10, 1, 1)"
   ]
  },
  {
   "cell_type": "code",
   "execution_count": 4,
   "metadata": {},
   "outputs": [
    {
     "data": {
      "text/plain": [
       "2448920"
      ]
     },
     "execution_count": 4,
     "metadata": {},
     "output_type": "execute_result"
    }
   ],
   "source": [
    "solution(10000, 1273, 4936)"
   ]
  }
 ],
 "metadata": {
  "kernelspec": {
   "display_name": "Python 3",
   "language": "python",
   "name": "python3"
  },
  "language_info": {
   "codemirror_mode": {
    "name": "ipython",
    "version": 3
   },
   "file_extension": ".py",
   "mimetype": "text/x-python",
   "name": "python",
   "nbconvert_exporter": "python",
   "pygments_lexer": "ipython3",
   "version": "3.6.3"
  }
 },
 "nbformat": 4,
 "nbformat_minor": 2
}
