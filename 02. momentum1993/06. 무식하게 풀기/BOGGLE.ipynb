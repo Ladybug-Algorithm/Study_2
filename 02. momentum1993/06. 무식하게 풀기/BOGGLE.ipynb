{
 "cells": [
  {
   "cell_type": "markdown",
   "metadata": {},
   "source": [
    "BOGGLE"
   ]
  },
  {
   "cell_type": "markdown",
   "metadata": {},
   "source": [
    "[algospot의 BOGGLE testcase 링크](https://algospot.com/judge/problem/read/BOGGLE)  \n",
    "  \n",
    "solution의  \n",
    "testcases : 테스트케이스들을 가지는 이중 리스트 타입  \n",
    "words : 해당 테스트케이스에 있는지 없는지 확인할 단어들의 리스트  "
   ]
  },
  {
   "cell_type": "markdown",
   "metadata": {},
   "source": [
    "- 재귀 호출과 부분 문제\n",
    "    - 문제(problem) : 항상 수행해야할 __작업__과 작업을 적용한 __자료__의 조합  \n",
    "        ex) __정렬__작업을 __{16, 7, 9, 1, 31}__이라는 자료를 가지고 해보시오.\n",
    "    - 부분문제(subproblem) : 문제를 구성하는 조각들. 문제의 일부"
   ]
  },
  {
   "cell_type": "code",
   "execution_count": 11,
   "metadata": {},
   "outputs": [],
   "source": [
    "def hasWord(y,x,word, case):\n",
    "    answer = False\n",
    "    if y < 0 and y >= 5 and x < 0 and x >= 5: # base case 1 : 좌표를 벗어날 경우 False\n",
    "        return False\n",
    "    elif case[y][x] != word[0]: # base case 2 : 해당 (y,x)에 있는 글자와 단어 첫째 글자 다를 경우 False\n",
    "        return False\n",
    "    elif len(word) == 1: # base case 3 : 해당 좌표의 글자와 첫째 글자가 같을 경우 True\n",
    "        return True\n",
    "\n",
    "    # 해당 테스트케이스에서 갈수 있는 8가지 방법을 brute-force방식으로 재귀를 사용하여 품\n",
    "    if y+1 < 5 and case[y+1][x] == word[1]:\n",
    "        answer = hasWord(y+1, x, word[1:], case) if answer == False else answer\n",
    "    if y-1 >= 0 and case[y-1][x] == word[1]:\n",
    "        answer = hasWord(y-1, x, word[1:], case) if answer == False else answer\n",
    "    if x-1 >= 0 and case[y][x-1] == word[1]:\n",
    "        answer = hasWord(y, x-1, word[1:], case) if answer == False else answer\n",
    "    if x+1 < 5 and case[y][x+1] == word[1]:\n",
    "        answer = hasWord(y, x+1, word[1:], case) if answer == False else answer\n",
    "    if y-1>=0 and x-1>=0 and case[y-1][x-1] == word[1]:\n",
    "        answer = hasWord(y-1, x-1, word[1:], case) if answer == False else answer\n",
    "    if y-1>=0 and x+1<5 and case[y-1][x+1] == word[1]:\n",
    "        answer = hasWord(y-1, x+1, word[1:], case) if answer == False else answer\n",
    "    if y+1<5 and x-1>=0 and case[y+1][x-1] == word[1]:\n",
    "        answer = hasWord(y+1, x-1, word[1:], case) if answer == False else answer\n",
    "    if y+1<5 and x+1<5 and case[y+1][x+1] == word[1]:\n",
    "        answer = hasWord(y+1, x+1, word[1:], case) if answer == False else answer\n",
    "    return answer\n",
    "            \n",
    "    \n",
    "def solution(testcases, words):\n",
    "    for case in testcases: # 테스트케이스\n",
    "        for word in words: # 확인할 단어\n",
    "            if word == '': # 단어가 비었을 때 다음 턴으로 넘어감\n",
    "                continue\n",
    "            answer = False\n",
    "            for y in range(5):\n",
    "                for x in range(5):\n",
    "                    if hasWord(y,x,word, case): # 만약 단어가 있을 때\n",
    "                        print(word, ' ', 'YES')\n",
    "                        answer = True\n",
    "                        break\n",
    "                if answer: # 단어가 있을 경우 for문 탈출\n",
    "                    break\n",
    "            if not answer: # 단어가 없을 경우\n",
    "                print(word, ' ', 'NO')\n",
    "                    \n",
    "                        "
   ]
  },
  {
   "cell_type": "code",
   "execution_count": 12,
   "metadata": {
    "scrolled": false
   },
   "outputs": [
    {
     "name": "stdout",
     "output_type": "stream",
     "text": [
      "PRETTY   YES\n",
      "GIRL   YES\n",
      "REPEAT   YES\n",
      "KARA   NO\n",
      "PANDORA   NO\n",
      "GIAZAPX   YES\n"
     ]
    }
   ],
   "source": [
    "solution([['URLPM','XPRET','GIAET','XTNZY','XOQRS']], ['PRETTY','GIRL','REPEAT','KARA','PANDORA','GIAZAPX'])"
   ]
  }
 ],
 "metadata": {
  "kernelspec": {
   "display_name": "Python 3",
   "language": "python",
   "name": "python3"
  },
  "language_info": {
   "codemirror_mode": {
    "name": "ipython",
    "version": 3
   },
   "file_extension": ".py",
   "mimetype": "text/x-python",
   "name": "python",
   "nbconvert_exporter": "python",
   "pygments_lexer": "ipython3",
   "version": "3.6.3"
  }
 },
 "nbformat": 4,
 "nbformat_minor": 2
}
