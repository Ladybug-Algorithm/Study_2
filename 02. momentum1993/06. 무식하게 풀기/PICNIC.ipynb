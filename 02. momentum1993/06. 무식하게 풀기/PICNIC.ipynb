{
 "cells": [
  {
   "cell_type": "markdown",
   "metadata": {},
   "source": [
    "PICNIC"
   ]
  },
  {
   "cell_type": "markdown",
   "metadata": {},
   "source": [
    "[algospot의 PICNIC testcase 링크](https://algospot.com/judge/problem/read/PICNIC)  \n",
    " \n",
    "  \n",
    "solution의   \n",
    "n : 학생 수  \n",
    "pairs : 친구 관계를 가지는 학생 쌍들을 가지는 리스트  "
   ]
  },
  {
   "cell_type": "code",
   "execution_count": 3,
   "metadata": {},
   "outputs": [],
   "source": [
    "from copy import deepcopy\n",
    "answerlist = []\n",
    "\n",
    "def numOfPairPossible(students, pairs, picked_list = []):\n",
    "    answer = 0\n",
    "    if students == []: # 모든 쌍이 매치 되었을 때\n",
    "        if picked_list in answerlist: # 만약 중복된 값이라면 더하지 않음\n",
    "            return 0\n",
    "        answerlist.append(picked_list)\n",
    "        return 1\n",
    "    elif pairs == []: # 모든 쌍을 확인 했고 매칭 완료 되지 않았을 경우\n",
    "        return 0\n",
    "    \n",
    "    if picked_list in answerlist: # 이전의 중복된 값을 갖고 왔다면 초기화\n",
    "        picked_list = []\n",
    "    \n",
    "    temp_pairs = deepcopy(pairs)\n",
    "    temp_students = deepcopy(students)\n",
    "    temp_students2 = deepcopy(students)\n",
    "    temp_picked_list = deepcopy(picked_list)\n",
    "    \n",
    "    a, b = pairs[0]\n",
    "    temp_pairs.remove(temp_pairs[0])\n",
    "    if a in temp_students and b in temp_students and a not in picked_list and b not in picked_list:\n",
    "    # 아직 매칭되지않은 학생들에 대해서\n",
    "        temp_students.remove(a)\n",
    "        temp_students.remove(b)\n",
    "        picked_list += sorted([a,b]) # 중복여부 확인 위해 기억하는 리스트\n",
    "        answer += numOfPairPossible(temp_students, temp_pairs, deepcopy(picked_list))\n",
    "        # 현재 보고있는 pair 쌍에 대해 매칭을 추가\n",
    "    answer += numOfPairPossible(temp_students2, temp_pairs, temp_picked_list)\n",
    "    # 현재 보고있는 pair쌍 무시하고 다음 pair로 넘어감.\n",
    "    return answer\n",
    "\n",
    "def solution(n, pairs):\n",
    "    students = [i for i in range(n)]\n",
    "    print(numOfPairPossible(students, pairs))\n",
    "    print(answerlist)\n"
   ]
  },
  {
   "cell_type": "code",
   "execution_count": 4,
   "metadata": {
    "scrolled": true
   },
   "outputs": [
    {
     "name": "stdout",
     "output_type": "stream",
     "text": [
      "3\n",
      "[[0, 1, 2, 3], [1, 2, 0, 3], [0, 2, 1, 3]]\n"
     ]
    }
   ],
   "source": [
    "solution(4,[(0, 1), (1, 2), (2, 3), (3, 0), (0, 2), (1, 3)])"
   ]
  }
 ],
 "metadata": {
  "kernelspec": {
   "display_name": "Python 3",
   "language": "python",
   "name": "python3"
  },
  "language_info": {
   "codemirror_mode": {
    "name": "ipython",
    "version": 3
   },
   "file_extension": ".py",
   "mimetype": "text/x-python",
   "name": "python",
   "nbconvert_exporter": "python",
   "pygments_lexer": "ipython3",
   "version": "3.6.3"
  }
 },
 "nbformat": 4,
 "nbformat_minor": 2
}
