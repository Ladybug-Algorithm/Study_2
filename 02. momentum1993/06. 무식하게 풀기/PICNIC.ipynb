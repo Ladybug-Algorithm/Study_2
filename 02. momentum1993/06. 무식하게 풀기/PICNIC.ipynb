{
 "cells": [
  {
   "cell_type": "markdown",
   "metadata": {},
   "source": [
    "PICNIC"
   ]
  },
  {
   "cell_type": "markdown",
   "metadata": {},
   "source": [
    "[algospot의 PICNIC testcase 링크](https://algospot.com/judge/problem/read/PICNIC)  \n",
    " \n",
    "  \n",
    "solution의   \n",
    "n : 학생 수  \n",
    "pairs : 친구 관계를 가지는 학생 쌍들을 가지는 리스트  "
   ]
  },
  {
   "cell_type": "code",
   "execution_count": 3,
   "metadata": {
    "collapsed": true
   },
   "outputs": [],
   "source": [
    "from copy import deepcopy\n",
    "answerlist = []\n",
    "\n",
    "def numOfPairPossible(students, pairs, picked_list = []):\n",
    "    answer = 0\n",
    "    if students == []: # 모든 쌍이 매치 되었을 때\n",
    "        if picked_list in answerlist: # 만약 중복된 값이라면 더하지 않음\n",
    "            return 0\n",
    "        answerlist.append(picked_list)\n",
    "        return 1\n",
    "    elif pairs == []: # 모든 쌍을 확인 했고 매칭 완료 되지 않았을 경우\n",
    "        return 0\n",
    "    \n",
    "    if picked_list in answerlist: # 이전의 중복된 값을 갖고 왔다면 초기화\n",
    "        picked_list = []\n",
    "    \n",
    "    temp_pairs = deepcopy(pairs)\n",
    "    temp_students = deepcopy(students)\n",
    "    temp_students2 = deepcopy(students)\n",
    "    temp_picked_list = deepcopy(picked_list)\n",
    "    \n",
    "    a, b = pairs[0]\n",
    "    temp_pairs.remove(temp_pairs[0])\n",
    "    if a in temp_students and b in temp_students and a not in picked_list and b not in picked_list:\n",
    "    # 아직 매칭되지않은 학생들에 대해서\n",
    "        temp_students.remove(a)\n",
    "        temp_students.remove(b)\n",
    "        picked_list += sorted([a,b]) # 중복여부 확인 위해 기억하는 리스트\n",
    "        answer += numOfPairPossible(temp_students, temp_pairs, deepcopy(picked_list))\n",
    "        # 현재 보고있는 pair 쌍에 대해 매칭을 추가\n",
    "    answer += numOfPairPossible(temp_students2, temp_pairs, temp_picked_list)\n",
    "    # 현재 보고있는 pair쌍 무시하고 다음 pair로 넘어감.\n",
    "    return answer\n",
    "\n",
    "def solution(n, pairs):\n",
    "    students = [i for i in range(n)]\n",
    "    print(numOfPairPossible(students, pairs))\n",
    "    print(answerlist)\n"
   ]
  },
  {
   "cell_type": "code",
   "execution_count": 4,
   "metadata": {
    "scrolled": true
   },
   "outputs": [
    {
     "name": "stdout",
     "output_type": "stream",
     "text": [
      "3\n",
      "[[0, 1, 2, 3], [1, 2, 0, 3], [0, 2, 1, 3]]\n"
     ]
    }
   ],
   "source": [
    "solution(4,[(0, 1), (1, 2), (2, 3), (3, 0), (0, 2), (1, 3)])"
   ]
  },
  {
   "cell_type": "markdown",
   "metadata": {},
   "source": [
    "numOfPairPossible의\n",
    "n : 학생수  \n",
    "taken : 짝지어진 학생인지 판별할 리스트  \n",
    "areFriends : 서로 친구인 학생을 판별할 matrix  \n",
    "  \n",
    "solution의   \n",
    "n : 학생 수  \n",
    "pairs : 친구 관계를 가지는 학생 쌍들을 가지는 리스트  "
   ]
  },
  {
   "cell_type": "code",
   "execution_count": 20,
   "metadata": {},
   "outputs": [],
   "source": [
    "from copy import deepcopy\n",
    "\n",
    "def numOfPairPossible(n, taken, areFriends):\n",
    "    answer = 0\n",
    "    firstFree = -1 # 낮은 숫자부터 해서 처음으로 짝지어지지않은 수의 인덱스\n",
    "    takenNum = deepcopy(taken)\n",
    "    for i in range(n):\n",
    "        if not takenNum[i]: # 짝지어 지지 않았을 경우\n",
    "            firstFree = i # 짝을 지을 기준으로 둔다.\n",
    "            break\n",
    "    \n",
    "    if firstFree == -1: return 1 # basecase : 모든 학생이 짝지어졌을 경우\n",
    "    \n",
    "    for i in range(1+firstFree, n): # 기준으로 잡은 수보다 1을 더하여 짝지을수 확인\n",
    "        if not takenNum[i] and areFriends[firstFree][i]: # 짝 지을 수 있는 경우\n",
    "            takenNum[i] = takenNum[firstFree] = True # 짝지어졌다고 표시\n",
    "            answer += numOfPairPossible(n, takenNum, areFriends)# 짝지은 상태에서 남은수로 재귀\n",
    "            takenNum[i] = takenNum[firstFree] = False # for문 돌기 위해 원상태로 복구\n",
    "    return answer\n",
    "\n",
    "def solution(n, pairs):\n",
    "    areFriends = [[False for _ in range(n)] for _ in range(n)] # 친구 사이 확인할 Matrix\n",
    "    for a,b in pairs:\n",
    "        areFriends[a][b] = areFriends[b][a] = True # 친구사이임을 표시\n",
    "    taken = [False for _ in range(n)] # 아직 짝지어지지않은 학생\n",
    "    return numOfPairPossible(n, taken, areFriends)"
   ]
  },
  {
   "cell_type": "code",
   "execution_count": 21,
   "metadata": {},
   "outputs": [
    {
     "data": {
      "text/plain": [
       "3"
      ]
     },
     "execution_count": 21,
     "metadata": {},
     "output_type": "execute_result"
    }
   ],
   "source": [
    "solution(4,[(0, 1), (1, 2), (2, 3), (3, 0), (0, 2), (1, 3)])"
   ]
  }
 ],
 "metadata": {
  "kernelspec": {
   "display_name": "Python 3",
   "language": "python",
   "name": "python3"
  },
  "language_info": {
   "codemirror_mode": {
    "name": "ipython",
    "version": 3
   },
   "file_extension": ".py",
   "mimetype": "text/x-python",
   "name": "python",
   "nbconvert_exporter": "python",
   "pygments_lexer": "ipython3",
   "version": "3.6.3"
  }
 },
 "nbformat": 4,
 "nbformat_minor": 2
}
