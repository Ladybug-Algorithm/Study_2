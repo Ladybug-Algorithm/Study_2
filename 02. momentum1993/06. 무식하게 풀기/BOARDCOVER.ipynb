{
 "cells": [
  {
   "cell_type": "markdown",
   "metadata": {},
   "source": [
    "BOARDCOVER"
   ]
  },
  {
   "cell_type": "markdown",
   "metadata": {},
   "source": [
    "![](http://algospot.com/media/judge-attachments/2b7bfee35cbec2f4e799bb011ac18f69/03.png)"
   ]
  },
  {
   "cell_type": "markdown",
   "metadata": {},
   "source": [
    "[algospot의 BOARDCOVER testcase 링크](https://algospot.com/judge/problem/read/BOARDCOVER)  \n",
    "  \n",
    "solution의   \n",
    "map_arr : 맵이 그려진 이중 리스트  \n",
    "condition : 흰 칸이 블록으로 꽉 채워질 수 있는 조건을 만족하는지 여부  "
   ]
  },
  {
   "cell_type": "code",
   "execution_count": 34,
   "metadata": {},
   "outputs": [],
   "source": [
    "from copy import deepcopy\n",
    "from collections import Counter\n",
    "\n",
    "def solution(map_arr, condition = False):\n",
    "    answer = 0\n",
    "    if not condition: # 제일 처음에 일단 블록으로 꽉 채울 수 있는지 여부 판별\n",
    "        string = ''\n",
    "        for i in map_arr:\n",
    "            string += i\n",
    "        c = Counter(string)\n",
    "        if c['.'] % 3 != 0: # 만약 빈칸의 개수가 3의배수가 아닐경우 어떻게 와도 불가능\n",
    "            return 0 # 그래서 0을 반환\n",
    "    condition = True # 제일 처음에 확인 후에는 확인하지 않도록 설정\n",
    "    coverType = [[(0,0),(1,0),(0,1)],[(0,0),(0,1),(1,1)],[(0,0),(1,0),(1,1)],[(0,0),(1,0),(1,-1)]] # 특정 좌표에 대해 블록을 채울 수 있는 방법의 경우의 수\n",
    "    all_matched = True # 빈 칸 모두 채워 졌는지 여부 확인\n",
    "    did = False # 빈칸 중 가장 가까운 왼쪽 상단 좌표를 기준으로 블록이 채워졌는지 확인(이것을 안해주면 중복이 생긴다.)\n",
    "    for num in range(len(map_arr)*len(map_arr[0])):\n",
    "        y = num // len(map_arr[0])\n",
    "        x = num % len(map_arr[0])\n",
    "        if map_arr[y][x] == '.': # 빈 칸일 때\n",
    "            if all_matched: # 빈 칸이 존재하기 때문에 모두 채워졌는지 여부에 False\n",
    "                all_matched = False\n",
    "            for typ in coverType: # 블록을 채울 수 있는 방법\n",
    "                pruned = False\n",
    "                map_arr_copy = deepcopy(map_arr)\n",
    "                for plus_y,plus_x in typ: # 빈 칸 채우기\n",
    "                    if y+plus_y >= 0 and y+plus_y < len(map_arr) and x+plus_x >= 0 and x+plus_x < len(map_arr[0]) and map_arr_copy[y+plus_y][x+plus_x] == '.':\n",
    "                        map_arr_copy[y+plus_y] = map_arr_copy[y+plus_y][:x+plus_x] + '#' + map_arr_copy[y+plus_y][x+plus_x+1:]\n",
    "                    else:\n",
    "                        pruned = True\n",
    "                        break\n",
    "                if not pruned: # 빈칸을 블록으로 잘 채워졌을 경우\n",
    "                    did = True\n",
    "                    answer += solution(map_arr_copy, condition)\n",
    "        if did: break # 블록이 제대로 채워졌으면 중복을 피하기 위해 for문 중단시킨다.\n",
    "    if all_matched: # 만약 빈 칸이 모두 채워졌을 때\n",
    "        answer = 1 # 값을 1 증가시킨다.\n",
    "    return answer"
   ]
  },
  {
   "cell_type": "code",
   "execution_count": 33,
   "metadata": {
    "scrolled": true
   },
   "outputs": [
    {
     "data": {
      "text/plain": [
       "1514"
      ]
     },
     "execution_count": 33,
     "metadata": {},
     "output_type": "execute_result"
    }
   ],
   "source": [
    "# map_arr = ['#.....#','#.....#','##...##'] \n",
    "# map_arr = ['#.....#' ,'#.....#', '##..###']\n",
    "map_arr = ['##########','#........#','#........#','#........#','#........#','#........#','#........#','##########']\n",
    "solution(map_arr)"
   ]
  }
 ],
 "metadata": {
  "kernelspec": {
   "display_name": "Python 3",
   "language": "python",
   "name": "python3"
  },
  "language_info": {
   "codemirror_mode": {
    "name": "ipython",
    "version": 3
   },
   "file_extension": ".py",
   "mimetype": "text/x-python",
   "name": "python",
   "nbconvert_exporter": "python",
   "pygments_lexer": "ipython3",
   "version": "3.6.3"
  }
 },
 "nbformat": 4,
 "nbformat_minor": 2
}
