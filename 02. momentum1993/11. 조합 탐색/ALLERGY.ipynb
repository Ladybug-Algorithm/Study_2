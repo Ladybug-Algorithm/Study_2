{
 "cells": [
  {
   "cell_type": "markdown",
   "metadata": {},
   "source": [
    "ALLERGY"
   ]
  },
  {
   "cell_type": "markdown",
   "metadata": {},
   "source": [
    "[algospot의 ALLERGY 링크](https://algospot.com/judge/problem/read/ALLERGY)  \n",
    "  \n",
    "### 문제  \n",
    "집들이에 n 명의 친구를 초대하려고 합니다. 할 줄 아는 m 가지의 음식 중 무엇을 대접해야 할까를 고민하는데, 친구들은 각각 알러지 때문에 못 먹는 음식들이 있어서 아무 음식이나 해서는 안 됩니다. 만들 줄 아는 음식의 목록과, 해당 음식을 못 먹는 친구들의 목록이 다음과 같은 형태로 주어진다고 합시다.  \n",
    "  \n",
    "|친구|갈비찜|피자|잡채|떡볶이|탕수육|닭강정|\n",
    "|:---:|:---:|:---:|:---:|:---:|:---:|:---:|\n",
    "|**채린**|x|o|o|o|x|x|\n",
    "|**봄**|x|x|x|x|o|o|\n",
    "|**다라**|o|x|o|x|o|x|\n",
    "|**민지**|o|o|x|x|x|o|\n",
    "  \n",
    "각 친구가 먹을 수 있는 음식이 최소한 하나씩은 있도록 하려면 최소 몇 가지의 음식을 해야 할까요? 위 경우라면 다 같이 먹을 수 있는 음식이 없기 때문에 결국 두 가지 이상 음식을 해야 합니다. 피자와 탕수육, 혹은 잡채와 닭강정처럼 두 개 이상의 음식을 선택해야만 모두가 음식을 먹을 수 있지요. 친구들의 정보가 주어질 때 최소한 만들어야 하는 요리의 가지수를 계산하는 프로그램을 작성하세요.  \n",
    "  \n",
    "### 출력   \n",
    "한 줄에 만들어야 할 최소의 음식 수를 출력합니다.  "
   ]
  },
  {
   "cell_type": "markdown",
   "metadata": {},
   "source": [
    "solution의  \n",
    "n : 친구의 수 (1 <= n <= 50)  \n",
    "m : 음식의 수 (1 <= m <= 50)  \n",
    "friends : n명의 친구 이름 리스트 (10자 이하의 알파벳 소문자로 구성)  \n",
    "foods : m가지의 음식에 대한 정보 (해당 음식을 먹을 수 있는 친구의 수와 각 친구의 이름)  "
   ]
  },
  {
   "cell_type": "code",
   "execution_count": 1,
   "metadata": {},
   "outputs": [],
   "source": [
    "def solution(n, m, friends, foods, food_flag = None):\n",
    "    if food_flag is None: # 처음에 음식에 대한 플래그 초기화\n",
    "        food_flag = [False for _ in range(m)]\n",
    "        foods.sort(reverse=True) # 커버할 수 있는 사람이 많은 음식순으로 정렬\n",
    "    \n",
    "    if len(friends) == 0: # 만약 남은 친구가 없을 때 (기저 사례)\n",
    "        return 0 # 0 리턴\n",
    "    answer = m+1 # 답을 저장할 변수 (음식의 수+1로 초기화)\n",
    "    max_val = 0 # 현재 남은 음식 중에 커버할 수 있는 최대 사람 수\n",
    "    \n",
    "    for i in range(m): # 모든 음식에 대해서\n",
    "        if food_flag[i]: # 만약 이미 먹은 음식이라면\n",
    "            continue # 지나친다.\n",
    "        elif max_val == 0:\n",
    "            max_val = foods[i][0] \n",
    "            #max_val만큼의 사람을 커버할 수 있는 음식에 대해서만 진행할 것임\n",
    "        \n",
    "        if max_val > foods[i][0]: \n",
    "        # 만약 음식의 커버할 수 있는 사람이 줄어들면 break \n",
    "            break\n",
    "        \n",
    "        removed = [] # 음식으로 커버된 사람에 대해서 다시 복구 시키기 위해\n",
    "        for j in range(1, max_val+1):\n",
    "            if foods[i][j] in friends:\n",
    "                friends.remove(foods[i][j]) # 해당 음식으로 커버되는 사람 제거\n",
    "                removed.append(foods[i][j])\n",
    "        \n",
    "        food_flag[i] = True # 현재의 음식에 대해 이미 탐색되었음을 표시\n",
    "        if removed != []: # 커버되는 사람이 있을 경우\n",
    "            answer = min(answer, 1 + solution(n, m, friends, foods, food_flag))\n",
    "            # 현재의 값과 재귀로 현재 음식에 대해서 탐색할 경우 중에서 최소값을 저장\n",
    "            friends += removed # 현재의 음식에 대해서 없어졌던 친구들을 복구한다.\n",
    "\n",
    "        food_flag[i] = False # 현재의 음식에 대해 탐색되었던 플래그를 되돌림\n",
    "        \n",
    "    if answer == m+1: # 만약 아무런 갱신된 값이 없다면\n",
    "        return 0 # 0을 반환\n",
    "\n",
    "    return answer # 답 반환\n",
    "        \n",
    "        "
   ]
  },
  {
   "cell_type": "code",
   "execution_count": 2,
   "metadata": {},
   "outputs": [],
   "source": [
    "n = 4\n",
    "m = 6\n",
    "friends = [\"cl\", \"bom\", \"dara\", \"minzy\"]\n",
    "foods = [[2, \"dara\", \"minzy\"],\n",
    "[2, \"cl\", \"minzy\"],\n",
    "[2, \"cl\", \"dara\"],\n",
    "[1, \"cl\"],\n",
    "[2, \"bom\", \"dara\"],\n",
    "[2, \"bom\", \"minzy\"]]"
   ]
  },
  {
   "cell_type": "code",
   "execution_count": 3,
   "metadata": {
    "scrolled": true
   },
   "outputs": [
    {
     "data": {
      "text/plain": [
       "2"
      ]
     },
     "execution_count": 3,
     "metadata": {},
     "output_type": "execute_result"
    }
   ],
   "source": [
    "solution(n, m, friends, foods)"
   ]
  },
  {
   "cell_type": "code",
   "execution_count": 4,
   "metadata": {},
   "outputs": [],
   "source": [
    "n = 10\n",
    "m = 7\n",
    "friends = [\"a\", \"b\", \"c\", \"d\", \"e\", \"f\", \"g\", \"h\", \"i\", \"j\"]\n",
    "foods = [[6, \"a\", \"c\", \"d\", \"h\", \"i\", \"j\"],\n",
    "[3, \"a\", \"d\", \"i\"],\n",
    "[7, \"a\", \"c\", \"f\", \"g\", \"h\", \"i\", \"j\"],\n",
    "[3, \"b\", \"d\", \"g\"],\n",
    "[5, \"b\", \"c\", \"f\", \"h\", \"i\"],\n",
    "[4, \"b\", \"e\", \"g\", \"j\"],\n",
    "[5, \"b\",\"c\",\"g\",\"h\",\"i\"]]"
   ]
  },
  {
   "cell_type": "code",
   "execution_count": 5,
   "metadata": {},
   "outputs": [
    {
     "data": {
      "text/plain": [
       "3"
      ]
     },
     "execution_count": 5,
     "metadata": {},
     "output_type": "execute_result"
    }
   ],
   "source": [
    "solution(n, m, friends, foods)"
   ]
  }
 ],
 "metadata": {
  "kernelspec": {
   "display_name": "Python 3",
   "language": "python",
   "name": "python3"
  },
  "language_info": {
   "codemirror_mode": {
    "name": "ipython",
    "version": 3
   },
   "file_extension": ".py",
   "mimetype": "text/x-python",
   "name": "python",
   "nbconvert_exporter": "python",
   "pygments_lexer": "ipython3",
   "version": "3.6.3"
  }
 },
 "nbformat": 4,
 "nbformat_minor": 2
}
