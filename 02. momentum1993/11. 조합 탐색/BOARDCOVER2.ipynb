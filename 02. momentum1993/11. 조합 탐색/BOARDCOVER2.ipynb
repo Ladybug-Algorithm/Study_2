{
 "cells": [
  {
   "cell_type": "markdown",
   "metadata": {},
   "source": [
    "BOARDCOVER2"
   ]
  },
  {
   "cell_type": "markdown",
   "metadata": {},
   "source": [
    "[algospot의 BOARDCOVER2 링크](https://algospot.com/judge/problem/read/BOARDCOVER2)  \n",
    "  \n",
    "### 문제  \n",
    "H×W 크기의 게임판과 한 가지 모양의 블록이 여러 개 있습니다. 게임판에 가능한 많은 블록을 올려놓고 싶은데, 게임판은 검은 칸과 흰 칸으로 구성된 격자 모양을 하고 있으며 이 중에서 흰 칸에만 블록을 올려놓을 수 있습니다. 이때 블록들은 자유롭게 회전해서 놓을 수 있지만, 서로 겹치거나, 격자에 어긋나게 덮거나, 검은 칸을 덮거나, 게임판 밖으로 나가서는 안 됩니다.  \n",
    "  \n",
    "![](http://algospot.com/media/judge-attachments/556e7cbd2262a90832a95e0106df50bd/boardcover2.png)  \n",
    "  \n",
    "위 그림은 예제 게임판과 L 자 모양의 블록으로 이 게임판을 덮는 방법을 보여줍니다. 게임판에는 15개의 흰 칸이 있고, 한 블록은 네 칸을 차지하기 때문에 그림과 같이 최대 세 개의 블록을 올려놓을 수 있지요. 게임판과 블록의 모양이 주어질 때 최대 몇 개의 블록을 올려놓을 수 있는지 판단하는 프로그램을 작성하세요.  \n",
    "  \n",
    "### 출력   \n",
    "게임판에 놓을 수 있는 최대의 블록 수를 출력합니다.  "
   ]
  },
  {
   "cell_type": "markdown",
   "metadata": {},
   "source": [
    "solution의  \n",
    "H, W : 보드의 높이.너비  \n",
    "R, C : 격자의 높이.너비  \n",
    "board : 보드의 상태 나타내는 이중 리스트  \n",
    "frag : 보드의 격자 나타내는 이중 리스트  \n",
    "(1 <= 너비.높이 <= 10)  "
   ]
  },
  {
   "cell_type": "code",
   "execution_count": 1,
   "metadata": {},
   "outputs": [],
   "source": [
    "from copy import deepcopy\n",
    "\n",
    "def preprocessing(R, C, frag): # 전처리하는 모듈\n",
    "    frags = set() # 격자의 상대 좌표 저장할 set 객체\n",
    "    f1 = []\n",
    "    f2 = []\n",
    "    f3 = []\n",
    "    f4 = []\n",
    "    # 총 4가지의 격자 놓는 방법이 존재한다.\n",
    "    y = -1\n",
    "    x = -1\n",
    "    # 기준 좌표 y,x\n",
    "    num_block = 0 # 격자가 가지는 블록의 크기(수)\n",
    "    for r in range(R): \n",
    "        for c in range(C):\n",
    "            if frag[r][c] == '#':\n",
    "                num_block += 1\n",
    "                if y == - 1 and x == -1: # 제일 처음 발견된 격자의 부분을 기준으로 삼는다.\n",
    "                    y = r\n",
    "                    x = c\n",
    "                f1.append((r-y, c-x)) # 0도\n",
    "                f2.append((-(r-y), -(c-x))) # 180도\n",
    "                f3.append((c-x, -(r-y))) # 90도\n",
    "                f4.append((-(c-x), (r-y))) # 270도\n",
    "                # 격자를 돌려놓은 각도에 따라 절대 위치 좌표를 저장\n",
    "\n",
    "    frags.add(tuple(f1))\n",
    "    frags.add(tuple(f2))\n",
    "    frags.add(tuple(f3))\n",
    "    frags.add(tuple(f4))\n",
    "    # 절대 좌표를 저장\n",
    "    frags = list(frags) # 리스트화 한다.\n",
    "    return frags, num_block # 격자의 절대좌표, 격자가 가지는 블록의 개수\n",
    "    \n",
    "def calculate(max_val, H, W, board, fragments, total_sharp, num_block, init_y = 0, init_x = 0):\n",
    "    # 최대 채울 수 있는 격자를 구하는 모듈\n",
    "    # max_val : 현재까지의 최대 격자 수\n",
    "    # total_sharp : 여태까지 이미 확인한 블록 수 + 확인하지 않은 블록 중에 #인 블록의 수\n",
    "    # num_block : 격자를 구성하는 블록의 수\n",
    "    # init_y, init_x : 현재 블록의 (y,x)위치까지는 모두 확인한 상태라는 뜻\n",
    "    \n",
    "    if init_y == H-1 and init_x == W-1: # 만약 모든 블록의 좌표를 확인했을 때\n",
    "        return 0 # 0 반환\n",
    "    if ((H*W - total_sharp) // num_block) < max_val: # pruning(가지치기)\n",
    "        # 만약 현재 추가할 수 있는 최대 블록수 < 현재 최대값 이라면 가지치기 시행\n",
    "        return 0 # 0 반환\n",
    "    \n",
    "    answer = 0 # 답을 저장할 변수\n",
    "    \n",
    "    for h in range(init_y, H): # 이미 지나친 행은 지나지 않는다.\n",
    "        for w in range(W):\n",
    "            if init_y == h and init_x >= w: # 만약 이미 본 부분이라면\n",
    "                continue # 넘어간다.\n",
    "            if board[h][w] == '.': # 현재 보는 보드의 블록이 비어있다면\n",
    "                total_sharp += 1 # 확인한 블록 수 증가\n",
    "                for f in fragments: # 격자들에 대해서\n",
    "                    blocking = True \n",
    "                    new_board = deepcopy(board) # 보드 deepcopy\n",
    "                    for y,x in f: \n",
    "                        if  h+y >= H or h+y < 0 or w+x >= W or w+x < 0: # 격자를 넣어서 보드를 벗어날 경우\n",
    "                            blocking = False\n",
    "                            break\n",
    "                        if new_board[h+y][w+x] == '#': # 만약 격자가 보드 안에 들어가지 못하는 경우\n",
    "                            blocking = False\n",
    "                            break \n",
    "                        new_board[h+y][w+x] = '#' # 위의 2가지 경우가 아니라면 격자를 채움\n",
    "                        \n",
    "                    if blocking: # 만약 격자를 문제없이 보드위에 넣었다면\n",
    "                        answer = max(answer, 1+calculate(answer, H, W, new_board, fragments, total_sharp+num_block-1, num_block ,h, w))\n",
    "                        # 보드에 넣을 수 있는 최대 격자 수를 저장\n",
    "                if answer != 0: # 현재 좌표에서 격자가 들어갔을 경우에\n",
    "                    answer = max(answer, calculate(answer, H, W, board, fragments, total_sharp, num_block,h, w))\n",
    "                    # 현재 좌표에서 격자를 안 넣었을 경우와 비교해서 최대값을 저장\n",
    "                    return answer # 답을 반환\n",
    "    return answer # 답을 반환\n",
    "                    \n",
    "                        \n",
    "    \n",
    "def solution(H, W, R, C, board, frag):\n",
    "    answer = 0 # 답\n",
    "    total_sharp = 0 # 현재 보드에서 #의 개수\n",
    "    for i in range(H):\n",
    "        for j in range(W):\n",
    "            if board[i][j] == '#':\n",
    "                total_sharp += 1\n",
    "    fragments, num_block = preprocessing(R, C, frag) # 격자에 대해서 전처리\n",
    "    answer = calculate(0, H, W, board, fragments, total_sharp, num_block)\n",
    "    # 보드에 넣을 수 있는 최대 격자 수 반환\n",
    "    return answer # 답 반환"
   ]
  },
  {
   "cell_type": "code",
   "execution_count": 2,
   "metadata": {},
   "outputs": [],
   "source": [
    "H = 4\n",
    "W = 7\n",
    "R = 2\n",
    "C = 3\n",
    "board = [[\"#\",\"#\",\".\",\"#\",\"#\",\".\",\".\"],\n",
    "         [\"#\",\".\",\".\",\".\",\".\",\".\",\".\"],\n",
    "         [\"#\",\".\",\".\",\".\",\".\",\"#\",\"#\"],\n",
    "         [\"#\",\".\",\".\",\"#\",\"#\",\"#\",\"#\"]]\n",
    "frag = [[\"#\",\"#\",\"#\"],[\"#\",\".\",\".\"]]"
   ]
  },
  {
   "cell_type": "code",
   "execution_count": 3,
   "metadata": {},
   "outputs": [
    {
     "data": {
      "text/plain": [
       "3"
      ]
     },
     "execution_count": 3,
     "metadata": {},
     "output_type": "execute_result"
    }
   ],
   "source": [
    "solution(H, W, R, C, board, frag)"
   ]
  },
  {
   "cell_type": "code",
   "execution_count": 4,
   "metadata": {},
   "outputs": [],
   "source": [
    "H = 5\n",
    "W = 10\n",
    "R = 3\n",
    "C = 3\n",
    "board = [[\".\",\".\",\".\",\".\",\".\",\".\",\".\",\".\",\".\",\".\"],\n",
    "         [\".\",\".\",\".\",\".\",\".\",\".\",\".\",\".\",\".\",\".\"],\n",
    "         [\".\",\".\",\".\",\".\",\".\",\".\",\".\",\".\",\".\",\".\"],\n",
    "         [\".\",\".\",\".\",\".\",\".\",\".\",\".\",\".\",\".\",\".\"],\n",
    "         [\".\",\".\",\".\",\".\",\".\",\".\",\".\",\".\",\".\",\".\"]]\n",
    "frag = [[\".\",\"#\",\".\"],[\"#\",\"#\",\"#\"],[\".\",\".\",\"#\"]]"
   ]
  },
  {
   "cell_type": "code",
   "execution_count": 5,
   "metadata": {
    "scrolled": true
   },
   "outputs": [
    {
     "data": {
      "text/plain": [
       "8"
      ]
     },
     "execution_count": 5,
     "metadata": {},
     "output_type": "execute_result"
    }
   ],
   "source": [
    "solution(H, W, R, C, board, frag)"
   ]
  }
 ],
 "metadata": {
  "kernelspec": {
   "display_name": "Python 3",
   "language": "python",
   "name": "python3"
  },
  "language_info": {
   "codemirror_mode": {
    "name": "ipython",
    "version": 3
   },
   "file_extension": ".py",
   "mimetype": "text/x-python",
   "name": "python",
   "nbconvert_exporter": "python",
   "pygments_lexer": "ipython3",
   "version": "3.6.3"
  }
 },
 "nbformat": 4,
 "nbformat_minor": 2
}
