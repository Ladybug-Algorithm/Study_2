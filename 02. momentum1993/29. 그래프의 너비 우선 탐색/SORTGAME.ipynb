{
 "cells": [
  {
   "cell_type": "markdown",
   "metadata": {},
   "source": [
    "SORTGAME"
   ]
  },
  {
   "cell_type": "markdown",
   "metadata": {},
   "source": [
    "[algospot의 SORTGAME 링크](https://algospot.com/judge/problem/read/SORTGAME)"
   ]
  },
  {
   "cell_type": "markdown",
   "metadata": {},
   "source": [
    "문제\n",
    "중복이 없는 정수 수열이 주어진다. 이 때, 우리는 이 수열의 임의의 구간을 선택해서 해당 구간을 뒤집을 수 있다. 이 뒤집기 연산을 통해 전체 수열을 정렬하고 싶다. 그런데, 같은 수열도 두 가지 이상의 방식으로 정렬할 수 있다. 예를 들어 3 4 1 2 는, 3 4 와 1 2 를 각각 뒤집어 4 3 2 1 을 만든 뒤, 전체를 뒤집어 정렬할 수도 있지만, 4 1 2 를 먼저 뒤집고, 3 2 1 을 다시 뒤집으면 두 번만의 연산으로 정렬할 수도 있다.\n",
    "\n",
    "정렬을 위해 뒤집기 연산을 최소 몇 번 해야 하는지를 계산하는 프로그램을 작성하라."
   ]
  },
  {
   "cell_type": "markdown",
   "metadata": {},
   "source": [
    "solution 함수의  \n",
    "arr : 각 수열의 원소들을 지니는 배열"
   ]
  },
  {
   "cell_type": "code",
   "execution_count": 1,
   "metadata": {
    "collapsed": true
   },
   "outputs": [],
   "source": [
    "from queue import Queue # 너비우선탐색 순서 스케쥴링 큐\n",
    "import math # 팩토리얼 쓰기 위해\n",
    "\n",
    "def solution(arr):\n",
    "    start = 0 # 각 배열에 대해 지정할 인덱스 번호\n",
    "    dic = {} # 인덱스를 키로 하고, 정렬 처리된 배열을 value로 하는 dictionary \n",
    "    arr_sort = sorted(arr) # 주어진 배열을 오름차순으로 정렬한 배열\n",
    "    q = Queue() # 너비우선탐색 순서 스케쥴링 큐\n",
    "    distance = [ -1 for _ in range(math.factorial(len(arr)))] \n",
    "    # 루트 배열(오름차순정렬된 배열)과의 거리(= 정렬 횟수) 저장할 리스트\n",
    "    \n",
    "    dic[start] = arr_sort # 루트 배열을 인덱스 0을 가지는 배열로 저장\n",
    "    distance[start] = 0 #  루트 배열의 거리는 0\n",
    "    q.put(start) # 큐에 push\n",
    "    \n",
    "    while not q.empty(): # 큐가 비지 않는 동안 계속 루프를 돈다.\n",
    "        here = q.get() # 스케쥴링 큐에서 pop시킨다. (FIFO)\n",
    "        arr_sort = dic[here] # 정렬 처리된 배열\n",
    "#         print(\"here : {0}, arr : {1}\".format(here, arr_sort))\n",
    "        if arr_sort == arr: return distance[here]\n",
    "        # 정렬 처리된 배열이 우리가 구하려는 배열 이라면 해당 배열의 거리 반환\n",
    "        for i in range(len(arr_sort)-2): \n",
    "            for j in range(i+2, len(arr_sort)+1):\n",
    "        # 배열의 i 번째 항목에서 j번째 항목의 순서를 뒤집어 정렬한다.\n",
    "                reverse_sort = arr_sort[:i] + list(reversed(arr_sort[i:j])) + arr_sort[j:]\n",
    "                if reverse_sort not in dic.values():\n",
    "                # 만약 위의 조건으로 정렬된 배열이 새로 추가되는 배열이라면\n",
    "                    start += 1 # 인덱스 증가\n",
    "                    dic[start] = reverse_sort # 새로운 인덱스에 대해서 해당 배열 저장\n",
    "                    distance[start] = distance[here] + 1 # 이전의 부모 배열의 거리에 + 1\n",
    "                    q.put(start) # 그리고 스케쥴링 큐에 푸시한다.\n",
    "    return -1\n",
    "    # -1이 리턴되는 경우는 없다. -1이 리턴된다면 위의 코드가 틀린 것."
   ]
  },
  {
   "cell_type": "code",
   "execution_count": 2,
   "metadata": {
    "collapsed": true
   },
   "outputs": [],
   "source": [
    "arr = [1,2,3,4,8,7,6,5]"
   ]
  },
  {
   "cell_type": "code",
   "execution_count": 3,
   "metadata": {},
   "outputs": [
    {
     "data": {
      "text/plain": [
       "1"
      ]
     },
     "execution_count": 3,
     "metadata": {},
     "output_type": "execute_result"
    }
   ],
   "source": [
    "solution(arr)"
   ]
  },
  {
   "cell_type": "code",
   "execution_count": 4,
   "metadata": {
    "collapsed": true
   },
   "outputs": [],
   "source": [
    "arr = [3,4,1,2]"
   ]
  },
  {
   "cell_type": "code",
   "execution_count": 5,
   "metadata": {},
   "outputs": [
    {
     "data": {
      "text/plain": [
       "2"
      ]
     },
     "execution_count": 5,
     "metadata": {},
     "output_type": "execute_result"
    }
   ],
   "source": [
    "solution(arr)"
   ]
  },
  {
   "cell_type": "code",
   "execution_count": 6,
   "metadata": {
    "collapsed": true
   },
   "outputs": [],
   "source": [
    "arr = [0,1,2]"
   ]
  },
  {
   "cell_type": "code",
   "execution_count": 7,
   "metadata": {},
   "outputs": [
    {
     "data": {
      "text/plain": [
       "0"
      ]
     },
     "execution_count": 7,
     "metadata": {},
     "output_type": "execute_result"
    }
   ],
   "source": [
    "solution(arr)"
   ]
  }
 ],
 "metadata": {
  "kernelspec": {
   "display_name": "Python 3",
   "language": "python",
   "name": "python3"
  },
  "language_info": {
   "codemirror_mode": {
    "name": "ipython",
    "version": 3
   },
   "file_extension": ".py",
   "mimetype": "text/x-python",
   "name": "python",
   "nbconvert_exporter": "python",
   "pygments_lexer": "ipython3",
   "version": "3.6.3"
  }
 },
 "nbformat": 4,
 "nbformat_minor": 2
}
