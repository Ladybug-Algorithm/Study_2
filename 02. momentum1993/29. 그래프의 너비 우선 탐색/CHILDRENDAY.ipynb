{
 "cells": [
  {
   "cell_type": "markdown",
   "metadata": {},
   "source": [
    "CHILDRENDAY"
   ]
  },
  {
   "cell_type": "markdown",
   "metadata": {},
   "source": [
    "[algospot의 CHILDRENDAY 링크](https://algospot.com/judge/problem/read/CHILDRENDAY)"
   ]
  },
  {
   "cell_type": "markdown",
   "metadata": {},
   "source": [
    "### 문제  \n",
    "어린이집을 경영하는 원석이는 어린이날을 맞아 어린이집에 다니는 N 명의 아이들에게 장난감을 나눠 주기로 마음먹었습니다. 모든 아이들에게 같은 수의 장난감을 주려고 했지만, 그 중 M(0 <= M < N)명의 욕심쟁이 어린이들은 모두 같은 개수의 장난감을 받으면 삐져 버립니다. 따라서 이 욕심쟁이 어린이들에게는 남들보다 장난감을 한 개씩 더 주기로 했습니다. 종교적인 이유로 인해, 아이들에게 나누어 주는 장난감의 총 수 C는 십진수로 썼을 때 특정 숫자만으로 구성되어야 합니다.  \n",
    "  \n",
    "예산이 빠듯한 관계로 장난감을 가능한 적게 사려고 합니다. 위와 같은 조건을 만족하는 최소의 C를 계산하는 프로그램을 작성하세요. 단 모든 어린이가 최소 한 개는 장난감을 받아야 합니다.  \n",
    "  \n",
    "### 출력  \n",
    "필요한 최소 장난감의 수를 출력합니다. 만약 모든 조건을 만족하는 장난감의 개수를 찾을 수 없을 경우, IMPOSSIBLE을 출력합니다.  "
   ]
  },
  {
   "cell_type": "markdown",
   "metadata": {},
   "source": [
    "solution 함수의  \n",
    "d : C에 사용할 수 있는 자릿수 목록  \n",
    "n : 어린이 집을 다니는 n명의 아이들 수  \n",
    "m : 욕심쟁이 어린이들의 수  "
   ]
  },
  {
   "cell_type": "code",
   "execution_count": 1,
   "metadata": {
    "collapsed": true
   },
   "outputs": [],
   "source": [
    "from queue import Queue # 사용할 큐 import\n",
    "\n",
    "def append(here, edge, mod): # 현재 있는 node(현재의 나머지값)에서 갈 다음 node 반환\n",
    "    there = here * 10 + edge \n",
    "    # 현재의 나머지 값 * 10 + 다음에 올 숫자값\n",
    "    # 위의 값이 가능한 이유는 실제 값 % mod = (나누고 남은 나머지값 + 새로들어오는 값) % mod 이기 때문\n",
    "    if there >= mod : return mod + there % mod \n",
    "    # 만약 다음 값이 mod보다 크다면 mod+there을 나눈 나머지값 반환\n",
    "    return there % mod # 그렇지 않다면 바로 mod를 나눈 나머지값 반환\n",
    "    \n",
    "def solution(d, n, m): \n",
    "    digit = [] # 사용할 수 있는 자릿수 목록\n",
    "    for i in str(d): # 숫자 하나하나씩 리스트에 추가\n",
    "        digit.append(int(i))\n",
    "    digit.sort() # 그리고 오름차순으로 정렬\n",
    "    \n",
    "    parents = [-1 for _ in range(pow(2,n))] # 해당 index번 노드의 부모 노드 저장\n",
    "    choices = [-1 for _ in range(pow(2,n))] # parents[index]에서 연결된 간선 번호\n",
    "    q = Queue() # 스케쥴링 큐\n",
    "    \n",
    "    parents[0] = 0 # 루트의 부모는 루트\n",
    "    q.put(0); # 0번 노드 큐에 push\n",
    "    \n",
    "    while not q.empty(): # 큐가 빌 때까지 계속함\n",
    "        here = q.get() # 큐에서 pop\n",
    "        for i in digit: # 넣을 수 있는 번호 반복\n",
    "            there = append(here, i, n) # 다음 노드 반환\n",
    "            if parents[there] == -1: # 만약 다음 노드가 처음 발견된 것이라면\n",
    "                parents[there] = here # 현재 노드를 다음 노드의 부모로 저장\n",
    "                choices[there] = i # 현재 노드에서 다음 노드로 연결될 간선 저장\n",
    "                q.put(there) # 그리고 다음 노드를 큐에 push\n",
    "    \n",
    "    if parents[n+m] == -1: # 모든 그래프를 확인 했음에도 원하는 값이 안나오면\n",
    "        return \"IMPOSSIBLE\" # \"IMPOSSIBLE\" 반환\n",
    "    \n",
    "    ret = 0 # 답을 저장할 변수\n",
    "    mul = 1 # 숫자 저장 전에 10씩 곱해줘서 현재 수 앞에 다음 수가 오도록 함\n",
    "    here = n+m # 현재 노드는 n+m이며, 루트가 나올 때까지 거꾸로 올라갈 것이다.\n",
    "    while parents[here] != here: # 루트가 나올 때까지 반복\n",
    "        ret += choices[here] * mul # 올라가면서 나오는 값들을 앞에 저장\n",
    "        mul *= 10 \n",
    "        here = parents[here] # 그리고 현재 노드의 부모노드로 올라간다.\n",
    "    return ret # 답 반환"
   ]
  },
  {
   "cell_type": "code",
   "execution_count": 2,
   "metadata": {},
   "outputs": [
    {
     "data": {
      "text/plain": [
       "111111"
      ]
     },
     "execution_count": 2,
     "metadata": {},
     "output_type": "execute_result"
    }
   ],
   "source": [
    "solution(1, 7, 0)"
   ]
  },
  {
   "cell_type": "code",
   "execution_count": 3,
   "metadata": {},
   "outputs": [
    {
     "data": {
      "text/plain": [
       "11"
      ]
     },
     "execution_count": 3,
     "metadata": {},
     "output_type": "execute_result"
    }
   ],
   "source": [
    "solution(1, 10, 1)"
   ]
  },
  {
   "cell_type": "code",
   "execution_count": 4,
   "metadata": {},
   "outputs": [
    {
     "data": {
      "text/plain": [
       "'IMPOSSIBLE'"
      ]
     },
     "execution_count": 4,
     "metadata": {},
     "output_type": "execute_result"
    }
   ],
   "source": [
    "solution(0, 7, 3)"
   ]
  },
  {
   "cell_type": "code",
   "execution_count": 5,
   "metadata": {},
   "outputs": [
    {
     "data": {
      "text/plain": [
       "35"
      ]
     },
     "execution_count": 5,
     "metadata": {},
     "output_type": "execute_result"
    }
   ],
   "source": [
    "solution(35, 9, 8)"
   ]
  }
 ],
 "metadata": {
  "kernelspec": {
   "display_name": "Python 3",
   "language": "python",
   "name": "python3"
  },
  "language_info": {
   "codemirror_mode": {
    "name": "ipython",
    "version": 3
   },
   "file_extension": ".py",
   "mimetype": "text/x-python",
   "name": "python",
   "nbconvert_exporter": "python",
   "pygments_lexer": "ipython3",
   "version": "3.6.3"
  }
 },
 "nbformat": 4,
 "nbformat_minor": 2
}
