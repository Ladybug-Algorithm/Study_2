{
 "cells": [
  {
   "cell_type": "markdown",
   "metadata": {},
   "source": [
    "HANOI4"
   ]
  },
  {
   "cell_type": "markdown",
   "metadata": {},
   "source": [
    "HANOI4B의 문제는 없고 비슷한 문제인 HANOI4가 존재합니다.  \n",
    "[algospot의 HANOI4 링크](https://algospot.com/judge/problem/read/HANOI4)"
   ]
  },
  {
   "cell_type": "markdown",
   "metadata": {},
   "source": [
    "### 문제  \n",
    "![](http://algospot.com/media/judge-attachments/8cb6ad23fcf3eb42d978d8da99e9ace3/Hanoi.jpg)  \n",
    "하노이의 탑은 세 개의 기둥에 꽂혀 있는 N개의 원반을 가지고 하는 게임입니다. N개의 원반은 크기가 모두 다르며, 게임의 시작 때는 그림과 같이 맨 왼쪽의 기둥에 모두 크기 순서대로 꽂혀 있습니다. 게임의 목적은 모든 원반을 맨 오른쪽 기둥으로 옮기는 것입니다.  \n",
    "  \n",
    "원반을 움직일 때는 다음과 같은 규칙을 따라야 합니다.  \n",
    "  \n",
    "한 번에 한 개의 원반만을 움직일 수 있습니다. 원반을 기둥이 아닌 다른 곳에 내려놓거나, 원반을 하나 들고 있으면서 다른 원반을 움직일 수는 없습니다.  \n",
    "작은 원반 위에 큰 원반을 올려놓아서는 안 됩니다.  \n",
    "세 개의 기둥이 있을 때 하노이의 탑 문제에는 간단한 해법이 있음은 잘 알려진 사실입니다. 그러면 기둥이 네 개가 있으면 어떨까요? 네 개의 기둥에 원반들이 자유롭게 배치되어 있을 때, 모든 원반을 오른쪽 기둥으로 옮겨 놓기 위해 필요한 최소한의 움직임 수를 계산하는 프로그램을 작성하세요.\n",
    "\n",
    "  \n",
    "  \n",
    "### 출력  \n",
    "각 테스트 케이스마다 모든 원반을 맨 오른쪽 기둥으로 옮겨 놓기 위한 최소 움직임의 수를 출력합니다. 항상 모든 원반을 맨 오른쪽 기둥으로 옮겨 놓을 수 있다고 가정해도 좋습니다.    "
   ]
  },
  {
   "cell_type": "markdown",
   "metadata": {},
   "source": [
    "getting 함수의  \n",
    "state : 현재 원반 배열 상태\n",
    "index : 원반의 index (0 ~ n-1)\n",
    "\n",
    "setting 함수의  \n",
    "state : 현재 원반 배열 상태\n",
    "index : 원반의 index (0 ~ n-1)\n",
    "value : 기둥의 index\n",
    "\n",
    "solution 함수의  \n",
    "n : 원반의 총 수  \n",
    "info : 각 기둥별 원반의 정보 리스트"
   ]
  },
  {
   "cell_type": "code",
   "execution_count": 1,
   "metadata": {
    "collapsed": true
   },
   "outputs": [],
   "source": [
    "from queue import Queue\n",
    "\n",
    "# 각 state는 비트 마스크를 이용해서, 각 원반 별로 기둥의 정보를 주도록 한다.\n",
    "# 0번 기둥 -> 00, 1번 기둥 -> 01, 2번 기둥 -> 10, 3번 기둥 -> 11\n",
    "# 그렇게 원반 인덱스 역순으로 포함되는 기둥에 대한 정보를 붙여준다.\n",
    "# ex) n = 3일 경우,    1번 원반 -> 2번 기둥,  2번 원반 -> 3번 기둥,  3번 원반 -> 1번 기둥\n",
    "#     011011 의 값이 나오며 이를 10진수로 변환하면 27이 된다. \n",
    "\n",
    "MAX_DISCS = 12\n",
    "c = [0 for _ in range(1<<(MAX_DISCS * 2))]\n",
    "\n",
    "def getting(state, index):\n",
    "    # 현재의 state에서 index번 원반을 지니는 기둥의 번호 반환\n",
    "    return (state >> (index * 2)) & 3\n",
    "\n",
    "def setting(state, index, value):\n",
    "    # 현재의 state에서 index번 원반을 value 기둥으로 옮긴 상태 세팅\n",
    "    return (state & ~(3 << (index * 2))) | (value << (index * 2))\n",
    "\n",
    "def sgn(x): # bidirectional으로 양방향으로 너비우선 탐색을 진행하기 때문에 방향을 반환\n",
    "    if not x:\n",
    "        return 0\n",
    "    elif x > 0:\n",
    "        return 1\n",
    "    return -1\n",
    "\n",
    "def incr(x): # 방향에 따라 값을 더할건지 뺄건지 확인, 결국 절댓값을 1 증가시킨다.\n",
    "    if x<0:\n",
    "        return x-1\n",
    "    return x+1\n",
    "\n",
    "def bidirectional_bfs(discs, begin, end):\n",
    "    if begin == end: return 0 # 만약 모두 맨 마지막 기둥으로 옮겨져 있을 때 0 반환\n",
    "    q = Queue() # 상태를 집어넣을 큐 생성\n",
    "    c = [0 for _ in range(1<<(MAX_DISCS * 2))] # 최대 원반 수 12개에 대해서 모두 상태를 집어 넣을 수 있도록(각 원반당 2비트 소요) 크기에 맞게 리스트 생성\n",
    "    # 해당 리스트에는 상태에 따라 어떠한 방향으로 접근해나갈 것인지에 대한 정보를 가진다.\n",
    "    q.put(begin) # 현 상태를 큐에 넣는다.\n",
    "    c[begin] = 1 # 정방향으로 진행\n",
    "    q.put(end) # 마지막 상태를 큐에 넣는다.\n",
    "    c[end] = -1 # 역방향으로 진행\n",
    "    while not q.empty(): # 큐가 빌때까지 계속 반복\n",
    "        here = q.get() # 현재 상태 큐에서 반환\n",
    "        top = [-1,-1,-1,-1] # 각 기둥별로 가장 위에 있는 원반의 인덱스 저장할 리스트\n",
    "        for i in range(discs-1, -1, -1): # 각 원반에 대해 역순으로 접근\n",
    "            top[getting(here, i)] = i # 현 상태에서 i번 원반을 지니는 기둥 번호 반환\n",
    "        for i in range(4): # 각 기둥에 대해서\n",
    "            if top[i] != -1: # 만약 i번 기둥에 원반이 1개 이상 있다면,\n",
    "                for j in range(4):\n",
    "                    if i != j and (top[j] == -1 or top[j] > top[i]): # i를 제외한 기둥들 중에 i보다 더 높은 인덱스 원반을 지니는 기둥 j에 대해서\n",
    "                        there = setting(here, top[i], j) # i 기둥의 상위에 있는 원반을 기둥 j로 옮긴 상태를 반환\n",
    "                        if c[there] == 0: # 만약 그 상태가 0이라면\n",
    "                            c[there] = incr(c[here]) # 옮기기 전의 상태의 접근방향을 따른다.\n",
    "                            q.put(there) # 그리고 바뀐 상태를 큐에 다시 넣는다.\n",
    "                        elif sgn(c[there]) != sgn(c[here]): # 상태가 0이 아니고, 양 상태의 접근 방향이 다를 경우\n",
    "                            return abs(c[there]) + abs(c[here]) - 1 \n",
    "                        # 이는 정답이므로 여태까지 상태를 바꾼 횟수들을 합하여 반환한다.\n",
    "    return -1\n",
    "    \n",
    "def solution(n, info):\n",
    "    begin = 0 # 시작 상태\n",
    "    end = 0 # 끝 상태\n",
    "    num = [0 for _ in range(n)] # 각 원반별 포함되어있는 기둥의 인덱스를 저장할 리스트\n",
    "    for i in range(len(info)):\n",
    "        for j in info[i]:\n",
    "            num[j-1] = i # 각 원반에 대해서 포함되어 있는 기둥을 저장한다.\n",
    "\n",
    "    for i in range(len(num)-1, -1, -1): # 그리고 저장된 기둥 값에 대해서 \n",
    "        begin *= 4\n",
    "        end *= 4\n",
    "        begin += num[i] # 각 기둥에 대한 값을 더해준다.\n",
    "        end += 3 # 마지막 상태는 모두 3번 기둥에 자리 잡아야하기 때문에 3을 더해준다.\n",
    "    return bidirectional_bfs(n, begin, end) # 그리고 최소 이동 횟수 반환"
   ]
  },
  {
   "cell_type": "code",
   "execution_count": 2,
   "metadata": {
    "collapsed": true
   },
   "outputs": [],
   "source": [
    "n = 5\n",
    "info = [[1], [3], [5,4], [2]]"
   ]
  },
  {
   "cell_type": "code",
   "execution_count": 3,
   "metadata": {
    "collapsed": true
   },
   "outputs": [],
   "source": [
    "n = 3\n",
    "info = [[2], [], [3,1], []]"
   ]
  },
  {
   "cell_type": "code",
   "execution_count": 4,
   "metadata": {},
   "outputs": [
    {
     "data": {
      "text/plain": [
       "4"
      ]
     },
     "execution_count": 4,
     "metadata": {},
     "output_type": "execute_result"
    }
   ],
   "source": [
    "solution(n, info)"
   ]
  },
  {
   "cell_type": "code",
   "execution_count": 5,
   "metadata": {},
   "outputs": [
    {
     "data": {
      "text/plain": [
       "16777216"
      ]
     },
     "execution_count": 5,
     "metadata": {},
     "output_type": "execute_result"
    }
   ],
   "source": [
    "1 << 24"
   ]
  },
  {
   "cell_type": "code",
   "execution_count": null,
   "metadata": {
    "collapsed": true
   },
   "outputs": [],
   "source": []
  }
 ],
 "metadata": {
  "kernelspec": {
   "display_name": "Python 3",
   "language": "python",
   "name": "python3"
  },
  "language_info": {
   "codemirror_mode": {
    "name": "ipython",
    "version": 3
   },
   "file_extension": ".py",
   "mimetype": "text/x-python",
   "name": "python",
   "nbconvert_exporter": "python",
   "pygments_lexer": "ipython3",
   "version": "3.6.3"
  }
 },
 "nbformat": 4,
 "nbformat_minor": 2
}
