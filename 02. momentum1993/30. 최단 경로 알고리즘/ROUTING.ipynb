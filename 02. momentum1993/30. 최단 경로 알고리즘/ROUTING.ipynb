{
 "cells": [
  {
   "cell_type": "markdown",
   "metadata": {},
   "source": [
    "ROUTING"
   ]
  },
  {
   "cell_type": "markdown",
   "metadata": {},
   "source": [
    "[algospot의 ROUTING 링크](https://algospot.com/judge/problem/read/ROUTING)"
   ]
  },
  {
   "cell_type": "markdown",
   "metadata": {},
   "source": [
    "### 문제  \n",
    "![](http://algospot.com/media/judge-attachments/97b28a9bc67d610b59be1fc7e9a39841/delivery7.png)  \n",
    "위 그림은 여러 개의 컴퓨터들과 각 컴퓨터들을 잇는 회선을 나타냅니다. 각 회선들은 각각 품질이 다르며, 각 회선을 지날 때마다 신호에 있던 노이즈가 증폭될 수 있습니다. 각 회선에 쓰여 있는 글자는 해당 회선을 지날 때 노이즈가 몇 배 증폭되는가를 보여줍니다. 특정 컴퓨터에서 다른 컴퓨터로 메시지를 보내고 싶습니다. 이 때 노이즈의 증폭을 최소화하는 프로그램을 작성하세요.  \n",
    "  \n",
    "시작 컴퓨터는 항상 0 번, 끝 컴퓨터는 항상 N-1번이라고 가정하며, 이와 같은 경로는 언제나 존재한다고 가정합니다.    \n",
    "  \n",
    "### 출력  \n",
    "노이즈가 최소화되는 경로에서 노이즈는 몇 배로 증폭되는지를 소숫점 밑 열 자리까지 출력합니다. 10^-7 이상의 상대/절대 오차가 허용됩니다.  "
   ]
  },
  {
   "cell_type": "markdown",
   "metadata": {},
   "source": [
    "solution 함수의  \n",
    "N : 컴퓨터 대수  \n",
    "noises : [컴퓨터1, 컴퓨터2, 컴퓨터1과 2 사이의 노이즈 증폭률]을 가지는 리스트"
   ]
  },
  {
   "cell_type": "code",
   "execution_count": 4,
   "metadata": {},
   "outputs": [],
   "source": [
    "from queue import PriorityQueue # 우선순위 큐\n",
    "import sys # 정수 최대값 얻기 위해\n",
    "\n",
    "def solution(N, noises): \n",
    "    min_noise = [sys.maxsize for _ in range(N)] # 각 index번 컴퓨터까지의 최소 노이즈\n",
    "    q = PriorityQueue() # 우선순위 큐\n",
    "    ad = [[-1 for _ in range(N)] for _ in range(N)] # 각각 증폭률을 지니는 인접행렬\n",
    "    for i in noises:\n",
    "        ad[i[0]][i[1]] = i[2] # 인접행렬 세팅\n",
    "    start = 0 # 시작 컴퓨터 번호\n",
    "    end = 0 # 끝 컴퓨터 번호\n",
    "    noise = 1 # 노이즈 증폭률\n",
    "    q.put((noise,end)) # 큐에 0번 컴퓨터와 노이즈 1을 넣는다.\n",
    "    min_noise[end] = noise # 그리고 0번 컴퓨터의 최소 노이즈 1\n",
    "    while not q.empty(): # 큐가 빌 때까지 반복\n",
    "        noise, start = q.get() # 노이즈와 시작하는 컴퓨터 번호 저장\n",
    "        for i in range(len(ad[start])): # 시작하는 컴퓨터와 연결된 다른 컴퓨터에 대해\n",
    "            if ad[start][i] == -1: # 연결 되지 않았다면 넘어감\n",
    "                continue\n",
    "            end = i # 연결된 컴퓨터의 번호\n",
    "            noise = ad[start][end] # 시작 컴퓨터와 연결된 컴퓨터 사이의 노이즈\n",
    "            if min_noise[start] * noise < min_noise[end]: \n",
    "                # 만약 0번부터 연결된 컴퓨터 까지의 노이즈가 현재 저장된 최소 노이즈 보다 작다면\n",
    "                min_noise[end] = min_noise[start] * noise # 최소 노이즈 갱신해준다.\n",
    "            q.put((noise, end)) # 노이즈와 해당 컴퓨터 번호에 대해서 저장해준다.\n",
    "    return min_noise[-1] # 그리고 0번 ~ N-1번 컴퓨터까지의 최소 노이즈 반환\n"
   ]
  },
  {
   "cell_type": "code",
   "execution_count": 5,
   "metadata": {
    "collapsed": true
   },
   "outputs": [],
   "source": [
    "N = 7\n",
    "noises = [[0, 1, 1.3],\n",
    "[0, 2, 1.1],\n",
    "[0, 3, 1.24],\n",
    "[3, 4, 1.17],\n",
    "[3, 5, 1.24],\n",
    "[3, 1, 2],\n",
    "[1, 2, 1.31],\n",
    "[1, 2, 1.26],\n",
    "[1, 4, 1.11],\n",
    "[1, 5, 1.37],\n",
    "[5, 4, 1.24],\n",
    "[4, 6, 1.77],\n",
    "[5, 6, 1.11],\n",
    "[2, 6, 1.2]]\n"
   ]
  },
  {
   "cell_type": "code",
   "execution_count": 6,
   "metadata": {},
   "outputs": [
    {
     "data": {
      "text/plain": [
       "1.32"
      ]
     },
     "execution_count": 6,
     "metadata": {},
     "output_type": "execute_result"
    }
   ],
   "source": [
    "solution(N, noises)"
   ]
  }
 ],
 "metadata": {
  "kernelspec": {
   "display_name": "Python 3",
   "language": "python",
   "name": "python3"
  },
  "language_info": {
   "codemirror_mode": {
    "name": "ipython",
    "version": 3
   },
   "file_extension": ".py",
   "mimetype": "text/x-python",
   "name": "python",
   "nbconvert_exporter": "python",
   "pygments_lexer": "ipython3",
   "version": "3.6.3"
  }
 },
 "nbformat": 4,
 "nbformat_minor": 2
}
