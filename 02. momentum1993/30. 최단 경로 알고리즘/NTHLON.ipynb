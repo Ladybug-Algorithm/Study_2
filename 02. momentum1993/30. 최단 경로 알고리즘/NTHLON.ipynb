{
 "cells": [
  {
   "cell_type": "markdown",
   "metadata": {},
   "source": [
    "NTHLON"
   ]
  },
  {
   "cell_type": "markdown",
   "metadata": {},
   "source": [
    "[algospot의 NTHLON 링크](https://algospot.com/judge/problem/read/NTHLON)"
   ]
  },
  {
   "cell_type": "markdown",
   "metadata": {},
   "source": [
    "### 문제   \n",
    "두 나라 A국과 B국은 항상 사이가 좋지 않은데, 국민들 간에 쌓인 감정을 털어버리기 위해 양국의 대표 선수들이 한 명씩 나와 친선 스포츠 경기를 하기로 했다. 채택된 종목은 철인 N종 경기이다. 철인 N종 경기의 코스는 여러 구간들로 구성되는데, 각 선수는 각 구간에서 정해진 종목을 이용해 결승점으로 이동해야 한다. 예를 들어, 어떤 철인 N종 경기의 코스는 수영 1500km, 마라톤 42.195km, 크로스컨트리 60km, 기어가기 1km 으로 구성될 수 있다.  \n",
    "  \n",
    "당신은 국제 철인 N종 경기 협회장으로서, 이 경기에 사용될 종목들과 그 순서를 정하는 역할을 하게 되었다. 두 나라 국민 사이 감정의 앙금을 쌓이지 않게 하기 위해, 가능한 한 두 대표 선수가 비기도록 종목들을 고르고 싶다. 다행히, 당신은 협회장이기 때문에 두 선수가 각 종목에 걸릴 시간을 비교적 정확히 예상할 수 있다. 당신의 예상이 정확하다고 할 때, 두 선수가 비기도록 코스를 설계할 수 있을까? 또한, 비기는 코스 중 걸리는 시간이 가장 짧은 코스는 무엇일까?  \n",
    "\n",
    "|종목명|A국 선수의 예상 기록|\tB국 선수의 예상 기록|\n",
    "|:-----:|:-----:|:----:|\n",
    "|63빌딩 계단 오르기|17분|15분|\n",
    "|남산 스키타고 내려오기|217분|217분|\n",
    "|슬리퍼 신고 42.195km 마라톤|134분|135분|\n",
    "|1500m 앞구르기|31분|37분|\n",
    "|2000m 깽깽이 뛰기|10분|11분|\n",
    "  \n",
    "이와 같이 5개의 종목이 있다고 하자. 그러면, 남산 스키타고 내려오기로 코스를 정하면 양국 선수가 비긴다는 것을 쉽게 알 수 있다. 그러나 그보다 더 좋은 방법이 있다. 63빌딩 계단 오르기 이후 2000m 깽깽이 뛰기를 두번 하도록 코스를 정하면 양국 선수 모두 37분으로 비기기 때문이다.\n",
    "\n",
    "이와 같은 최적의 코스를 찾는 프로그램을 작성하라.\n",
    "\n",
    "**단, 한 종목을 두 번 이상 코스에 추가할 수도 있다.**  \n",
    "\n",
    "### 입력  \n",
    "각 두 개의 숫자로 구성된 리스트이며, 해당 종목을 완주하는데 두 선수가 걸리는 시간이 정수로 주어진다. 걸리는 시간은 분 단위이며, 항상 1 과 200 사이의 정수이다.  \n",
    "  \n",
    "### 출력  \n",
    "각 테스트 케이스마다 한 줄로, 최적 코스의 완주 시간을 출력한다. 만약 두 선수가 비기는 코스를 만들 수 없다면, 'IMPOSSIBLE' 을 출력한다. (따옴표 제외)  "
   ]
  },
  {
   "cell_type": "markdown",
   "metadata": {},
   "source": [
    "solution 함수의  \n",
    "time_per_sport : 각 스포츠 별로 [A국 선수가 걸리는 시간, B국 걸리는 시간]을 가지는 리스트  "
   ]
  },
  {
   "cell_type": "code",
   "execution_count": 1,
   "metadata": {
    "collapsed": true
   },
   "outputs": [],
   "source": [
    "from queue import PriorityQueue # 우선순휘 큐\n",
    "import sys # 정수의 최댓값 쓰기 위해\n",
    "\n",
    "def solution(time_per_sport):\n",
    "    num = len(time_per_sport) # 종목의 수\n",
    "    min_time = [sys.maxsize for _ in range(num)] \n",
    "    # 각 종목이 마지막으로 구성되어있는 코스들 중 걸리는 시간의 최솟값\n",
    "    \n",
    "    adjacent_A = [-1 for _ in range(num)] # A에 대한 각 종목별 걸리는 시간\n",
    "    adjacent_B = [-1 for _ in range(num)] # B에 대한 각 종목별 걸리는 시간\n",
    "    \n",
    "    q = PriorityQueue() # 우선순위 큐 (걸리는 시간의 평균을 기준으로 우선순위 줄것임)\n",
    "    \n",
    "    for i in range(num): \n",
    "        adjacent_A[i] = time_per_sport[i][0]\n",
    "        adjacent_B[i] = time_per_sport[i][1]\n",
    "        # 각 종목별 걸리는 시간 세팅\n",
    "    \n",
    "    time_A = 0 # A주자가 현재 코스까지 걸리는 시간\n",
    "    time_B = 0 # B주자가 현재 코스까지 걸리는 시간\n",
    "    mean = 0 # A주자와 B주자가 현재 코스까지 걸리는 시간의 평균값\n",
    "\n",
    "    q.put((mean, time_A, time_B)) # 큐에 위의 정보를 push한다.\n",
    "    \n",
    "    while not q.empty(): # 큐가 빌때까지 반복\n",
    "        mean, time_A, time_B = q.get() # 평균, A주자 시간, B주자시간 큐에서 pop\n",
    "        \n",
    "        for i in range(num): # 현재 코스에 다른 종목을 추가\n",
    "            new_time_A = time_A + adjacent_A[i] # 종목 추가 시 A가 걸리는 시간\n",
    "            new_time_B = time_B + adjacent_B[i] # 종목 추가 시 B가 걸리는 시간\n",
    "            mean = (new_time_A + new_time_B) / 2 # A,B주자 걸리는 시간의 평균\n",
    "            \n",
    "            if new_time_A < min_time[i] and new_time_B < min_time[i] and abs(new_time_A - new_time_B) < 200:\n",
    "            # 현재 계산까지 비길 수 있는 시간의 최소값보다 A주자와 B주자의 걸리는 시간이 작고,\n",
    "            # 각 종목별 최대 200분 까지 걸리므로, A와 B 주자의 시간차이가 200분 보다 적을 때\n",
    "                q.put((mean, new_time_A, new_time_B)) # 해당 평균, A주자 시간, B주자 시간을 큐에 push\n",
    "                if new_time_A == new_time_B: # 만약 A주자와 B주자가 비길 경우\n",
    "                    min_time[i] = new_time_A # 최솟값 갱신\n",
    "    \n",
    "    if min(min_time) == sys.maxsize : return \"IMPOSSIBLE\"\n",
    "    # 만약 갱신된 최솟값이 없을 경우 \"IMPOSSIBLE\" 반환\n",
    "    return min(min_time) # 양 주자가 비기는 최소시간 반환"
   ]
  },
  {
   "cell_type": "code",
   "execution_count": 2,
   "metadata": {},
   "outputs": [],
   "source": [
    "time_per_sport=[[1, 2],                \n",
    " [3, 4],\n",
    " [5, 6],\n",
    " [7, 8],\n",
    " [7, 3]]"
   ]
  },
  {
   "cell_type": "code",
   "execution_count": 3,
   "metadata": {},
   "outputs": [
    {
     "data": {
      "text/plain": [
       "11"
      ]
     },
     "execution_count": 3,
     "metadata": {},
     "output_type": "execute_result"
    }
   ],
   "source": [
    "solution(time_per_sport)"
   ]
  },
  {
   "cell_type": "code",
   "execution_count": 4,
   "metadata": {
    "collapsed": true
   },
   "outputs": [],
   "source": [
    "time_per_sport = [[1, 100],[21, 20],[10, 1]]"
   ]
  },
  {
   "cell_type": "code",
   "execution_count": 5,
   "metadata": {},
   "outputs": [
    {
     "data": {
      "text/plain": [
       "111"
      ]
     },
     "execution_count": 5,
     "metadata": {},
     "output_type": "execute_result"
    }
   ],
   "source": [
    "solution(time_per_sport)"
   ]
  },
  {
   "cell_type": "code",
   "execution_count": 6,
   "metadata": {
    "collapsed": true
   },
   "outputs": [],
   "source": [
    "time_per_sport = [[10, 81],[63, 71],[16, 51]]"
   ]
  },
  {
   "cell_type": "code",
   "execution_count": 7,
   "metadata": {},
   "outputs": [
    {
     "data": {
      "text/plain": [
       "'IMPOSSIBLE'"
      ]
     },
     "execution_count": 7,
     "metadata": {},
     "output_type": "execute_result"
    }
   ],
   "source": [
    "solution(time_per_sport)"
   ]
  }
 ],
 "metadata": {
  "kernelspec": {
   "display_name": "Python 3",
   "language": "python",
   "name": "python3"
  },
  "language_info": {
   "codemirror_mode": {
    "name": "ipython",
    "version": 3
   },
   "file_extension": ".py",
   "mimetype": "text/x-python",
   "name": "python",
   "nbconvert_exporter": "python",
   "pygments_lexer": "ipython3",
   "version": "3.6.3"
  }
 },
 "nbformat": 4,
 "nbformat_minor": 2
}
