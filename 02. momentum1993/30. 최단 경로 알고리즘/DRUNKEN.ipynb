{
 "cells": [
  {
   "cell_type": "markdown",
   "metadata": {},
   "source": [
    "DRUNKEN"
   ]
  },
  {
   "cell_type": "markdown",
   "metadata": {},
   "source": [
    "[algospot의 DRUNKEN 링크](https://algospot.com/judge/problem/read/DRUNKEN)"
   ]
  },
  {
   "cell_type": "markdown",
   "metadata": {},
   "source": [
    "### 문제   \n",
    "As the holiday season approaches, the number of incidents caused by Driving While Intoxicated (known as DWI) increases rapidly. To prevent this, the city of Seoul has proclaimed a war against drunken driving. Every day, the city will pick a spot at random, and inspect all the drivers passing by.  \n",
    "![](http://algospot.com/media/judge-attachments/36a320ccba6e74fd847e44f8961c2667/figure.png)  \n",
    "In this problem, the downtown of Seoul is modeled as a set of V locations and E bidirectional roads connecting them as in the above figure. Each road is marked with the time required to travel along the road. Each location is marked with the expected delay in case the inspection takes place at this location.\n",
    "\n",
    "While the inspection is all good for everybody’s safety, this may cause unwanted delays in travel. Hyoseung is right now at location A, and he is late for his appointment with his friends at location B. Help him by finding a path which has the smallest expected time, or he must buy the dinner.\n",
    "\n",
    "The expected time of a path is defined as follows:    \n",
    "**[Expected time] = [Travel time along the edges] + [Delay caused by inspection]**  \n",
    "  \n",
    "As Hyoseung does not know where the inspection is taking place, we will calculate the worst expected time by assuming the inspection is done at the location which will cause the largest delay.\n",
    "\n",
    "However, we can assume that the we will not be delayed by any inspections done at the staring or ending location.\n",
    "\n",
    "For example, see the path marked with thicker lines. It will take 3 + 6 + 2 = 11 minutes to travel along the roads. Since we assume inspections at starting and ending places will not affect us, we will only consider two locations. As we don’t know which of the two places will be inspected, we will play it safe and assume the worst case - we will be inspected at the first place to get 6 minutes of delay. Therefore, the expected time of this path is 17. Write a program to calculate the smallest expected time from place A to B.  \n",
    "  \n",
    "  \n",
    "### 출력  \n",
    "print a single integer which is the smallest worst time to go from A to B.  "
   ]
  },
  {
   "cell_type": "markdown",
   "metadata": {},
   "source": [
    "solution 함수의  \n",
    "V : 장소의 수  \n",
    "E : 장소간의 경로(edge)의 수  \n",
    "check_time : 각 장소에 대해서 음주 단속 시간  \n",
    "moving_time : [시작 장소, 종착 장소, 시간]와 같은 각 경로의 이동시간을 지니는 리스트   \n",
    "path : [시작위치, 목표위치]를 가지는 리스트   "
   ]
  },
  {
   "cell_type": "code",
   "execution_count": 1,
   "metadata": {
    "collapsed": true
   },
   "outputs": [],
   "source": [
    "from queue import Queue # 큐 이용\n",
    "import sys # int의 최솟값, 최댓값 사용\n",
    "\n",
    "def solution(V, E, check_time, moving_time, path):\n",
    "    sorted_check_time = sorted(check_time) # delay가 작은 경로부터 찾기위해 정렬\n",
    "    \n",
    "    ad = [[sys.maxsize for _ in range(V)] for _ in range(V)] # 인접행렬\n",
    "    W = [[sys.maxsize for _ in range(V)] for _ in range(V)] # delay를 포함한 경로간 최솟값\n",
    "    for i in moving_time: \n",
    "        ad[i[0]-1][i[1]-1] = i[2]\n",
    "        ad[i[1]-1][i[0]-1] = i[2]\n",
    "        W[i[0]-1][i[1]-1] = i[2]\n",
    "        W[i[1]-1][i[0]-1] = i[2]\n",
    "        # 각 경로에 대해서 걸리는 시간 세팅\n",
    "    for i in range(V): # 자기 자신에 대해서 걸리는 시간은 0으로 세팅\n",
    "        ad[i][i] = 0\n",
    "        W[i][i] = 0\n",
    "        \n",
    "    for k in range(V):\n",
    "        w = check_time.index(sorted_check_time[k]) # delay가 적게 걸리는 위치부터 경유\n",
    "        for i in range(V):\n",
    "            for j in range(V):\n",
    "                ad[i][j] = min(ad[i][j], ad[i][w] + ad[w][j])\n",
    "                # 현재 가진 경로 시간과 장소 w를 경유하는 경로 시간의 최솟값 \n",
    "                W[i][j] = min(ad[i][w] + ad[w][j] + check_time[w], W[i][j])\n",
    "                # 현재의 딜레이 포함한 최소 시간과 w를 경유하여 딜레이를 포함한 시간의 최솟값\n",
    "    return W[path[0]-1][path[1]-1] # 원하는 경로의 최악의 값 중 가장 작은 값 반환"
   ]
  },
  {
   "cell_type": "code",
   "execution_count": 2,
   "metadata": {
    "collapsed": true
   },
   "outputs": [],
   "source": [
    "V = 8\n",
    "E = 12\n",
    "check_time = [8, 6, 5, 8, 3, 5, 8, 4]\n",
    "moving_time = [[1,6,9],[1,2,3],[2,8,3],[6,8,5],[6,7,3],[8,7,3],[6,5,5],[4,5,7],[3,4,4],[3,5,2],[2,3,6],[7,5,1]]\n",
    "path = [1, 5]"
   ]
  },
  {
   "cell_type": "code",
   "execution_count": 3,
   "metadata": {
    "scrolled": false
   },
   "outputs": [
    {
     "data": {
      "text/plain": [
       "17"
      ]
     },
     "execution_count": 3,
     "metadata": {},
     "output_type": "execute_result"
    }
   ],
   "source": [
    "solution(V, E, check_time, moving_time, path)"
   ]
  },
  {
   "cell_type": "code",
   "execution_count": 4,
   "metadata": {
    "collapsed": true
   },
   "outputs": [],
   "source": [
    "V = 8\n",
    "E = 12\n",
    "check_time = [8, 6, 5, 8, 3, 5, 8, 4]\n",
    "moving_time = [[1,6,9],[1,2,3],[2,8,3],[6,8,5],[6,7,3],[8,7,3],[6,5,5],[4,5,7],[3,4,4],[3,5,2],[2,3,6],[7,5,1]]\n",
    "path = [6, 3]"
   ]
  },
  {
   "cell_type": "code",
   "execution_count": 5,
   "metadata": {
    "scrolled": false
   },
   "outputs": [
    {
     "data": {
      "text/plain": [
       "10"
      ]
     },
     "execution_count": 5,
     "metadata": {},
     "output_type": "execute_result"
    }
   ],
   "source": [
    "solution(V, E, check_time, moving_time, path)"
   ]
  }
 ],
 "metadata": {
  "kernelspec": {
   "display_name": "Python 3",
   "language": "python",
   "name": "python3"
  },
  "language_info": {
   "codemirror_mode": {
    "name": "ipython",
    "version": 3
   },
   "file_extension": ".py",
   "mimetype": "text/x-python",
   "name": "python",
   "nbconvert_exporter": "python",
   "pygments_lexer": "ipython3",
   "version": "3.6.3"
  }
 },
 "nbformat": 4,
 "nbformat_minor": 2
}
