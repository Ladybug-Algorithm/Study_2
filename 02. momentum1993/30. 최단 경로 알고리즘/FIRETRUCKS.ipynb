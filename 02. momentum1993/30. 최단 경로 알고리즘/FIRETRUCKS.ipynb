{
 "cells": [
  {
   "cell_type": "markdown",
   "metadata": {},
   "source": [
    "FIRETRUCKS"
   ]
  },
  {
   "cell_type": "markdown",
   "metadata": {},
   "source": [
    "[algospot의 FIRETRUCKS 링크](https://algospot.com/judge/problem/read/FIRETRUCKS)"
   ]
  },
  {
   "cell_type": "markdown",
   "metadata": {},
   "source": [
    "### 문제  \n",
    "한겨울 날씨가 추워지면 각종 난방 기구 때문에 화재가 발생하기 쉽습니다. 어느 추운 겨울날 서울 시내 n개의 지역에 동시에 화재가 발생했습니다. 피해를 최소화하기 위해 가능한 한 빠르게 소방차를 파견해야 합니다. 서울 시내에는 m개의 소방서가 있습니다. 화재 장소에서 가장 가까운 소방서에서 소방차를 보낸다고 할 때, 각 화재 장소에 소방차가 도달하기까지 걸리는 시간의 합을 계산하는 프로그램을 작성하세요. 각 소방서에는 소방차가 충분히 많습니다.  \n",
    "  \n",
    "이 문제에서 서울 시내는 1부터 V까지 번호 붙여진 V개의 장소들과 이들을 연결하는 E개의 양방향 도로로 구성됩니다. 모든 도로에 대해 도로가 연결하는 두 장소의 번호와 각 도로별 통행 소요 시간이 주어집니다.  \n",
    "![](https://algospot.com/media/judge-attachments/6b8e03be0c11199d7c39e153f553181a/fire_trucks.png)  \n",
    "예제 지도를 봅시다. 사각형으로 표시된 지점들은 소방서를, 음영으로 칠해진 지점들은 불이 난 지점을 나타냅니다. 2번과 5번 장소에서는 6번 소방서가 가장 가깝고, 3번 장소에서는 4번 소방서가 가장 가깝습니다. 이때, 각 장소에 소방차가 도착하기까지 걸리는 시간은 2번 장소에 8분, 5번 장소에 4분, 3번 장소에 4분으로 총 합은 16분이 됩니다.\n",
    "  \n",
    "### 출력  \n",
    "각 화재 장소에 소방차가 도착하기까지 걸리는 시간의 합을 분 단위로 출력합니다.  "
   ]
  },
  {
   "cell_type": "markdown",
   "metadata": {},
   "source": [
    "solution 함수의  \n",
    "V : 장소의 수  \n",
    "edge_list : [장소1, 장소2, 시간] 각 장소 사이의 시간  \n",
    "fire : 화재 장소의 리스트  \n",
    "fire_station : 소방서의 리스트  "
   ]
  },
  {
   "cell_type": "code",
   "execution_count": 45,
   "metadata": {
    "collapsed": true
   },
   "outputs": [],
   "source": [
    "# Dijkstra 알고리즘을 통해 풀어나감\n",
    "# 일단 처음 시작점을 임의로 새로 만들어서\n",
    "# 소방서까지의 가중치 0의 경로를 만들어놓는다.\n",
    "# 그러면 결국 구하는 최솟값은 각 소방서에서의 최소 시간 값이 나올 것이다.\n",
    "\n",
    "from queue import PriorityQueue # 우선순위 큐\n",
    "import sys # 정수의 최댓값\n",
    "\n",
    "def solution(V, edge_list, fire, fire_station):\n",
    "    adjacent = [[-1 for _ in range(V+1)] for _ in range(V+2)]\n",
    "    # 각 장소에 따른 인접행렬\n",
    "    for i in edge_list:\n",
    "        adjacent[i[0]][i[1]] = i[2]\n",
    "        adjacent[i[1]][i[0]] = i[2]\n",
    "        # 어떠한 장소에서 다른 장소로 갈 때의 시간을 저장\n",
    "    for i in fire_station: # 임의로 만든 시작점에서 소방서까지 \n",
    "        adjacent[V+1][i] = 0 # 0 시간이 걸리는 경로를 만든다.\n",
    "        \n",
    "    min_time = [sys.maxsize for _ in range(V+1)] \n",
    "    # 각 소방서에서 해당 장소까지의 최소 시간을 저장할 리스트\n",
    "    q = PriorityQueue() # 다익스트라 알고리즘 진행할 우선순위 큐\n",
    "    \n",
    "    spot = V+1 # 처음 시작은 임의로 만든 시작점을 둔다.\n",
    "    weight = 0 # 물론 걸리는 시간도 0으로 둔다.\n",
    "    \n",
    "    q.put((weight, spot)) # 그리고 (시간, 장소번호) 를 튜플에 넣는다.\n",
    "    \n",
    "    while not q.empty(): # 큐가 빌 때까지 반복\n",
    "        weight, spot = q.get() # 큐에서 pop\n",
    "        \n",
    "        for i in range(len(adjacent[spot])): # 경로가 있는\n",
    "            if adjacent[spot][i] != -1:\n",
    "                new_weight = weight + adjacent[spot][i]\n",
    "                adjacent[spot][i] = -1\n",
    "                q.put((new_weight, i))\n",
    "                if new_weight < min_time[i]:\n",
    "                    min_time[i] = new_weight\n",
    "            \n",
    "    answer = 0\n",
    "    for i in fire:\n",
    "        answer += min_time[i]\n",
    "    return min_time"
   ]
  },
  {
   "cell_type": "code",
   "execution_count": 46,
   "metadata": {},
   "outputs": [
    {
     "data": {
      "text/plain": [
       "[9223372036854775807, 9, 8, 4, 0, 4, 0, 3, 5]"
      ]
     },
     "execution_count": 46,
     "metadata": {},
     "output_type": "execute_result"
    }
   ],
   "source": [
    "solution(8,\n",
    "[[1,2,3],\n",
    "[1,6,9],\n",
    "[2,3,6],\n",
    "[3,4,4],\n",
    "[3,5,2],\n",
    "[4,5,7],\n",
    "[6,5,5],\n",
    "[8,6,5],\n",
    "[6,7,3],\n",
    "[8,7,3],\n",
    "[7,5,1],\n",
    "[2,8,3]],\n",
    "[2,3,5],\n",
    "[4,6])"
   ]
  }
 ],
 "metadata": {
  "kernelspec": {
   "display_name": "Python 3",
   "language": "python",
   "name": "python3"
  },
  "language_info": {
   "codemirror_mode": {
    "name": "ipython",
    "version": 3
   },
   "file_extension": ".py",
   "mimetype": "text/x-python",
   "name": "python",
   "nbconvert_exporter": "python",
   "pygments_lexer": "ipython3",
   "version": "3.6.3"
  }
 },
 "nbformat": 4,
 "nbformat_minor": 2
}
