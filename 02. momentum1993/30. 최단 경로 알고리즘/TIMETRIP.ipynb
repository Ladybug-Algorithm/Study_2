{
 "cells": [
  {
   "cell_type": "markdown",
   "metadata": {},
   "source": [
    "TIMETRIP"
   ]
  },
  {
   "cell_type": "markdown",
   "metadata": {},
   "source": [
    "[algospot의 TIMETRIP 링크](https://algospot.com/judge/problem/read/TIMETRIP)"
   ]
  },
  {
   "cell_type": "markdown",
   "metadata": {},
   "source": [
    "### 문제   \n",
    "서기 4096년, 시공간을 넘어 은하계들을 서로 연결하는 웜홀들의 존재가 발견되었습니다. 웜홀은 빛의 속도로도 수백만 년이 걸릴 만큼 떨어져 있는 두 은하계 사이를 순식간에 이동할 수 있도록 해 줍니다. 그것보다 더 놀라운 것은 웜홀은 시간 여행을 가능하게 해 준다는 것입니다. 어떤 웜홀을 통과하면 과거로 가기도 하고, 어떤 웜홀을 통과하면 미래로 가기도 하지요.\n",
    "\n",
    "인류의 개념과 지성의 보고 안드로메다 은하의 과거와 미래 모습을 조사하려고 합니다. 조사단은 현재의 지구에서 출발해, 웜홀들을 거쳐 과거나 미래의 안드로메다 은하로 갑니다. 조사단이 얼마나 과거로 갈 수 있는지, 그리고 얼마나 미래로 갈 수 있는지를 계산하는 프로그램을 작성하세요.\n",
    "\n",
    "은하계들은 서로 너무 멀리 떨어져 있기 때문에, 웜홀을 통하지 않고 이동하는 것은 불가능합니다. 또한 조사단의 우주선에는 단거리 워프 기능이 있기 때문에, 같은 은하계 안에 있는 웜홀들 간을 이동하는 데는 시간이 걸리지 않습니다.  \n",
    "\n",
    "모든 웜홀은 한 방향으로만 통과할 수 있다.\n",
    "  \n",
    "### 출력  \n",
    "조사단이 웜홀을 통해 안드로메다 은하에 갈 방법이 없을 경우에는 UNREACHABLE을 출력합니다. 그 외의 경우, 안드로메다에 도착할 수 있는 가장 빠른 시간과 가장 늦은 시간이 현재와 몇 년 차이나는지 출력합니다. 무한히 과거로 갈 수 있는 경우나 무한히 미래로 갈 수 있는 경우 INFINITY를 대신 출력합니다. 자세한 것은 예제 입출력을 참조하세요.  "
   ]
  },
  {
   "cell_type": "markdown",
   "metadata": {},
   "source": [
    "solution 함수의  \n",
    "V : 인류에게 알려진 은하계의 수 (2 <= V <= 100)  \n",
    "W : 인류에게 알려진 웜홀의 수 W(0 <= W <= 1000)  \n",
    "moving_time : [웜홀의 시작 은하계 번호, 종착 은하계 번호, 시간]와 같은 각 웜홀의 이동시간을 지니는 리스트  \n",
    "  \n",
    "**지구가 위치하는 은하계는 0번, 안드로메다 은하계는 1번이다.**  "
   ]
  },
  {
   "cell_type": "code",
   "execution_count": 1,
   "metadata": {
    "collapsed": true
   },
   "outputs": [],
   "source": [
    "from queue import Queue # 큐 이용\n",
    "import sys # int의 최솟값, 최댓값 사용\n",
    "\n",
    "def solution(V, W, moving_time):\n",
    "    min_value = [sys.maxsize for _ in range(V)] # 각 은하계 걸리는 최소 시간\n",
    "    max_value = [-sys.maxsize for _ in range(V)] # 각 은하계 걸리는 최대 시간\n",
    "    \n",
    "    answer = [None, None] # 정답\n",
    "    ad = [[[] for _ in range(V)] for _ in range(V)] # 인접행렬\n",
    "    path_to = [0 for _ in range(V)] # 각 은하계로 향하는 웜홀 개수\n",
    "    \n",
    "    for i in moving_time : # 웜홀 경로와 시간\n",
    "        ad[i[0]][i[1]].append(i[2]) # 웜홀 경로 및 시간 저장\n",
    "        path_to[i[1]] += 1 # 각 은하계에 대한 웜홀 추가\n",
    "        \n",
    "    for i in range(len(path_to)):\n",
    "        path_to[i] *= 3\n",
    "        # 웜홀들이 이어져서 싸이클이 생길경우 3번째로 싸이클을 돌 때,\n",
    "        # 이 싸이클이 음수 싸이클인지, 양수 싸이클인지 판별한다.\n",
    "        \n",
    "    if path_to[0] == 0: # 시작하는 은하계에 대해서\n",
    "        path_to[0] = 1 # 경로를 1개 설정해놓는다.\n",
    "    \n",
    "    q = Queue() # 웜홀 경로를 따라다닐 큐\n",
    "    year = 0 # 웜홀을 지나다니면서 현재 년도\n",
    "    start = 0 # 현재 은하계 위치\n",
    "    q.put((year, start)) # 큐에 push\n",
    "    num_path = [0 for _ in range(V)] # 큐를 통해서 해당 은하계를 통과한 횟수\n",
    "    \n",
    "    while not q.empty(): # 큐가 비지 않을동안 계속 반복\n",
    "        year, start = q.get() # 큐에서 pop\n",
    "        num_path[start] += 1 # 해당 은하계 통과 횟수 추가\n",
    "        if num_path[start] > path_to[start]: # 만약 3번째 싸이클을 돌경우\n",
    "            if min_value[start] > year: # 이전의 값보다 작을 때\n",
    "                if ad[start][1] != []:\n",
    "                    answer[0] = \"-INFINITY\" # 이는 음의 싸이클\n",
    "                continue \n",
    "            if max_value[start] < year: # 이전의 값보다 클 때\n",
    "                if ad[start][1] != []:\n",
    "                    answer[1] = \"INFINITY\" # 이는 양의 싸이클\n",
    "                continue\n",
    "                \n",
    "        min_value[start] = min(min_value[start], year) # 최소 year 저장\n",
    "        max_value[start] = max(max_value[start], year) # 최대 year 저장\n",
    "        \n",
    "        for i in range(len(ad[start])):\n",
    "            if ad[start][i] != []: # 현재 은하계에 대해서\n",
    "                for j in ad[start][i]:\n",
    "                    if path_to[i] >= num_path[i]: # 싸이클을 계속 돌 경우 방지\n",
    "                        q.put((j+year, i)) # 웜홀을 통해 다음 은하계로 이동\n",
    "    \n",
    "    if answer[0] != \"-INFINITY\": # 만약 음의 싸이클이 없을 경우\n",
    "        answer[0] = min_value[1] # 최솟값\n",
    "    if answer[1] != \"INFINITY\": # 망약 양의 싸이클이 없을 경우\n",
    "        answer[1] = max_value[1] # 최댓값\n",
    "    if min_value[1] == sys.maxsize and max_value[1] == -sys.maxsize:\n",
    "    # 은하계를 돌며, 안드로메다로 갈 수 있는 방법이 없을 경우\n",
    "        return \"UNREACHABLE\"\n",
    "    return answer    "
   ]
  },
  {
   "cell_type": "code",
   "execution_count": 2,
   "metadata": {
    "collapsed": true
   },
   "outputs": [],
   "source": [
    "V = 2\n",
    "W = 2\n",
    "moving_time = [[0, 1, 1],[0, 1, 3]]"
   ]
  },
  {
   "cell_type": "code",
   "execution_count": 3,
   "metadata": {},
   "outputs": [
    {
     "data": {
      "text/plain": [
       "[1, 3]"
      ]
     },
     "execution_count": 3,
     "metadata": {},
     "output_type": "execute_result"
    }
   ],
   "source": [
    "solution(V, W, moving_time)"
   ]
  },
  {
   "cell_type": "code",
   "execution_count": 4,
   "metadata": {
    "collapsed": true
   },
   "outputs": [],
   "source": [
    "V = 4\n",
    "W = 4\n",
    "moving_time = [[0, 2, -7],\n",
    "[0, 3, -4],\n",
    "[3, 2, 9],\n",
    "[2, 1, 3]]"
   ]
  },
  {
   "cell_type": "code",
   "execution_count": 5,
   "metadata": {},
   "outputs": [
    {
     "data": {
      "text/plain": [
       "[-4, 8]"
      ]
     },
     "execution_count": 5,
     "metadata": {},
     "output_type": "execute_result"
    }
   ],
   "source": [
    "solution(V, W, moving_time)"
   ]
  },
  {
   "cell_type": "code",
   "execution_count": 6,
   "metadata": {
    "collapsed": true
   },
   "outputs": [],
   "source": [
    "V = 4\n",
    "W = 3\n",
    "moving_time = [[0, 2, 0],[2, 2, 1],[2, 1, 0]]"
   ]
  },
  {
   "cell_type": "code",
   "execution_count": 7,
   "metadata": {},
   "outputs": [
    {
     "data": {
      "text/plain": [
       "[0, 'INFINITY']"
      ]
     },
     "execution_count": 7,
     "metadata": {},
     "output_type": "execute_result"
    }
   ],
   "source": [
    "solution(V, W, moving_time)"
   ]
  },
  {
   "cell_type": "code",
   "execution_count": 8,
   "metadata": {
    "collapsed": true
   },
   "outputs": [],
   "source": [
    "V = 3\n",
    "W = 0\n",
    "moving_time = []"
   ]
  },
  {
   "cell_type": "code",
   "execution_count": 9,
   "metadata": {
    "scrolled": false
   },
   "outputs": [
    {
     "data": {
      "text/plain": [
       "'UNREACHABLE'"
      ]
     },
     "execution_count": 9,
     "metadata": {},
     "output_type": "execute_result"
    }
   ],
   "source": [
    "solution(V, W, moving_time)"
   ]
  },
  {
   "cell_type": "code",
   "execution_count": 10,
   "metadata": {
    "collapsed": true
   },
   "outputs": [],
   "source": [
    "V = 4\n",
    "W = 4\n",
    "moving_time = [[0,1,1],[0,2,100],[2,3,1],[3,2,1]]"
   ]
  },
  {
   "cell_type": "code",
   "execution_count": 11,
   "metadata": {
    "scrolled": true
   },
   "outputs": [
    {
     "data": {
      "text/plain": [
       "[1, 1]"
      ]
     },
     "execution_count": 11,
     "metadata": {},
     "output_type": "execute_result"
    }
   ],
   "source": [
    "solution(V, W, moving_time)"
   ]
  },
  {
   "cell_type": "code",
   "execution_count": 12,
   "metadata": {
    "collapsed": true
   },
   "outputs": [],
   "source": [
    "V = 4\n",
    "W = 4\n",
    "moving_time = [[0,1,1],[0,2,100],[2,3,-1],[3,2,-1]]"
   ]
  },
  {
   "cell_type": "code",
   "execution_count": 13,
   "metadata": {
    "scrolled": false
   },
   "outputs": [
    {
     "data": {
      "text/plain": [
       "[1, 1]"
      ]
     },
     "execution_count": 13,
     "metadata": {},
     "output_type": "execute_result"
    }
   ],
   "source": [
    "solution(V, W, moving_time)"
   ]
  },
  {
   "cell_type": "code",
   "execution_count": 14,
   "metadata": {
    "collapsed": true
   },
   "outputs": [],
   "source": [
    "V = 4\n",
    "W = 5\n",
    "moving_time = [[0,1,1],[0,2,100],[2,3,-1],[3,2,-1],[2, 3, 1000]]"
   ]
  },
  {
   "cell_type": "code",
   "execution_count": 15,
   "metadata": {
    "scrolled": false
   },
   "outputs": [
    {
     "data": {
      "text/plain": [
       "[1, 1]"
      ]
     },
     "execution_count": 15,
     "metadata": {},
     "output_type": "execute_result"
    }
   ],
   "source": [
    "solution(V, W, moving_time)"
   ]
  }
 ],
 "metadata": {
  "kernelspec": {
   "display_name": "Python 3",
   "language": "python",
   "name": "python3"
  },
  "language_info": {
   "codemirror_mode": {
    "name": "ipython",
    "version": 3
   },
   "file_extension": ".py",
   "mimetype": "text/x-python",
   "name": "python",
   "nbconvert_exporter": "python",
   "pygments_lexer": "ipython3",
   "version": "3.6.3"
  }
 },
 "nbformat": 4,
 "nbformat_minor": 2
}
