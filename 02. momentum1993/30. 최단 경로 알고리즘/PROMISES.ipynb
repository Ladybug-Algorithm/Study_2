{
 "cells": [
  {
   "cell_type": "markdown",
   "metadata": {},
   "source": [
    "PROMISES"
   ]
  },
  {
   "cell_type": "markdown",
   "metadata": {},
   "source": [
    "[algospot의 PROMISES 링크](https://algospot.com/judge/problem/read/PROMISES)"
   ]
  },
  {
   "cell_type": "markdown",
   "metadata": {},
   "source": [
    "### 문제   \n",
    "경제가 침체기에 빠졌을 때 정치인들이 흔히 내거는 공약으로 대규모 토목 공사를 통한 경기 부양책이 있습니다. 이번에 집권당에서는 향후 N 년간 1년에 하나씩 전국의 주요 도시들을 잇는 대형 고속도로를 건설하겠다는 공약을 내걸었습니다. 재야 경제 연구가인 의권이는 이들의 공약을 훑어보다가 이들이 아무 생각 없이 공약을 내걸었다는 결정적인 증거를 발견했습니다. 이들 중 일부 고속도로는 건설하는 의미가 거의 없다는 것입니다.\n",
    "\n",
    "어떤 고속도로를 새로 건설할 당위성이 있기 위해서는 기존에 고속도로를 통해 오갈 수 없던 두 도시가 새로 연결되거나, 두 도시를 오가는 데 걸리는 시간이 단축되어야 합니다. 의권이는 공약 중 일부 고속도로는 이 두 조건중 아무 것도 만족하지 못한다는 사실을 알아냈습니다.  \n",
    "![](http://algospot.com/media/judge-attachments/a2d94c1833ee5e532d74b0824251c067/promises.png)  \n",
    "위 그림과 같이 4개의 도시 a, b, c, d가 있는데, 이 중 a와 b, a와 d는 굵은 실선으로 표시된 고속도로들로 연결되어 있다고 합시다. 각 선에 표시된 숫자는 두 도시를 오가는 데 걸리는 시간을 나타냅니다. 이 때 a와 c사이에 새 고속도로를 건설한다고 합시다. c는 다른 도시와 고속도로를 통해서 왕복할 방법이 없었으므로, 이 고속도로는 의미가 있습니다. 그런데 그 다음 해에 b와 c를 잇는 고속도로를 건설한다고 합시다. 이 고속도로가 없더라도 a를 경유하면 b와 c 사이를 6시간만에 움직일 수 있으므로, 편도 6시간이 걸리는 이 고속도로는 아무런 의미가 없습니다.\n",
    "\n",
    "기존에 존재하는 고속도로들의 정보와 앞으로 N 년간 건설하기로 예정된 고속도로들의 정보가 주어질 때, 새로 건설하기로 한 고속도로들 중 몇 개가 건설할 의미가 없는지 계산하는 프로그램을 작성하세요.  \n",
    "  \n",
    "모든 도로는 양방향 통행이 가능하며, 각 경우의 통행 시간은 동일하다.  \n",
    "  \n",
    "  \n",
    "### 출력  \n",
    "한 줄에 N 개의 고속도로를 순서대로 건설했을 때 건설할 의미가 없는 고속도로의 수를 출력합니다.  "
   ]
  },
  {
   "cell_type": "markdown",
   "metadata": {},
   "source": [
    "solution 함수의  \n",
    "V : 도시의 수 \n",
    "exist : [도시1, 도시2, 도시1과 2 간의 고속도로 시간] 을 지니는 이미 존재하는 고속도로들의 리스트    \n",
    "construct : [도시1, 도시2, 도시1과 2 간의 고속도로 시간] 을 지니고 있는 새로 지을 고속도로의 리스트  "
   ]
  },
  {
   "cell_type": "code",
   "execution_count": 1,
   "metadata": {},
   "outputs": [],
   "source": [
    "import sys # int의 최댓값 사용\n",
    "\n",
    "def solution(V, exist, construct):\n",
    "    answer = 0 # 답을 저장할 변수\n",
    "    ad = [[sys.maxsize for _ in range(V)] for _ in range(V)] # 최적 경로 저장할 인접행렬\n",
    "\n",
    "    for i in exist: \n",
    "        ad[i[0]][i[1]] = ad[i[1]][i[0]] = i[2]\n",
    "        # 현재 있는 고속도로 경로에 대해서 인접행렬 세팅\n",
    "\n",
    "    for k in range(V):\n",
    "        ad[k][k] = 0 # 자신의 노드에서 자신으로 가는 경로는 모두 0으로 세팅\n",
    "        for i in range(V):\n",
    "            for j in range(V):\n",
    "                ad[i][j] = ad[j][i] = min(ad[i][k] + ad[k][j], ad[i][j])\n",
    "                # 현재 있는 고속도로에서 경로간의 최적의 시간 세팅\n",
    "                \n",
    "    for i in construct: # 새로 지을 고속도로들에 대해서 반복\n",
    "#         print(ad[i[0]][i[1]], i[2])\n",
    "        if ad[i[0]][i[1]] <= i[2]: # 만약 새로 지을 고속도로 건설이 의미 없다면\n",
    "            answer += 1 # 답 추가\n",
    "        else : # 고속도로 건설이 의미 있다면 (경로간 시간이 단축된다면)\n",
    "            ad[i[0]][i[1]] = ad[i[1]][i[0]] = i[2] # 경로 시간 저장\n",
    "            for j in range(V):\n",
    "                for k in range(V):\n",
    "                    ad[j][k] = ad[k][j] = min(ad[j][k], ad[j][i[0]] + ad[i[0]][i[1]] + ad[i[1]][k], ad[j][i[1]] + ad[i[1]][i[0]] + ad[i[0]][k])\n",
    "                # 바뀐 최적의 경로에 대해서 다른 경로들 다시 최적화 해준다.\n",
    "    return answer # 그리고 답 반환\n",
    "                "
   ]
  },
  {
   "cell_type": "code",
   "execution_count": 2,
   "metadata": {
    "collapsed": true
   },
   "outputs": [],
   "source": [
    "V = 4\n",
    "exist = [[0, 1, 4],[0, 3, 1]]\n",
    "construct = [[0, 2, 2],[1, 2, 6]]"
   ]
  },
  {
   "cell_type": "code",
   "execution_count": 3,
   "metadata": {},
   "outputs": [
    {
     "name": "stdout",
     "output_type": "stream",
     "text": [
      "9223372036854775807 2\n",
      "6 6\n"
     ]
    },
    {
     "data": {
      "text/plain": [
       "1"
      ]
     },
     "execution_count": 3,
     "metadata": {},
     "output_type": "execute_result"
    }
   ],
   "source": [
    "solution(V, exist, construct)"
   ]
  },
  {
   "cell_type": "code",
   "execution_count": 4,
   "metadata": {
    "collapsed": true
   },
   "outputs": [],
   "source": [
    "V = 4\n",
    "exist = [[0, 1, 4],[0, 3, 1]]\n",
    "construct = [[1, 2, 6],[0, 2, 2]]"
   ]
  },
  {
   "cell_type": "code",
   "execution_count": 5,
   "metadata": {},
   "outputs": [
    {
     "name": "stdout",
     "output_type": "stream",
     "text": [
      "9223372036854775807 6\n",
      "10 2\n"
     ]
    },
    {
     "data": {
      "text/plain": [
       "0"
      ]
     },
     "execution_count": 5,
     "metadata": {},
     "output_type": "execute_result"
    }
   ],
   "source": [
    "solution(V, exist, construct)"
   ]
  }
 ],
 "metadata": {
  "kernelspec": {
   "display_name": "Python 3",
   "language": "python",
   "name": "python3"
  },
  "language_info": {
   "codemirror_mode": {
    "name": "ipython",
    "version": 3
   },
   "file_extension": ".py",
   "mimetype": "text/x-python",
   "name": "python",
   "nbconvert_exporter": "python",
   "pygments_lexer": "ipython3",
   "version": "3.6.3"
  }
 },
 "nbformat": 4,
 "nbformat_minor": 2
}
